{
 "cells": [
  {
   "cell_type": "markdown",
   "metadata": {
    "toc": true
   },
   "source": [
    "<h1>Содержание<span class=\"tocSkip\"></span></h1>\n",
    "<div class=\"toc\"><ul class=\"toc-item\"><li><span><a href=\"#Введение\" data-toc-modified-id=\"Введение-1\"><span class=\"toc-item-num\">1&nbsp;&nbsp;</span>Введение</a></span></li><li><span><a href=\"#Загрузка-данных\" data-toc-modified-id=\"Загрузка-данных-2\"><span class=\"toc-item-num\">2&nbsp;&nbsp;</span>Загрузка данных</a></span><ul class=\"toc-item\"><li><span><a href=\"#Загрузка-данных\" data-toc-modified-id=\"Загрузка-данных-2.1\"><span class=\"toc-item-num\">2.1&nbsp;&nbsp;</span>Загрузка данных</a></span></li><li><span><a href=\"#Изучение-общей-информации\" data-toc-modified-id=\"Изучение-общей-информации-2.2\"><span class=\"toc-item-num\">2.2&nbsp;&nbsp;</span>Изучение общей информации</a></span></li><li><span><a href=\"#Анализ-длины-комментария\" data-toc-modified-id=\"Анализ-длины-комментария-2.3\"><span class=\"toc-item-num\">2.3&nbsp;&nbsp;</span>Анализ длины комментария</a></span></li></ul></li><li><span><a href=\"#Подготовка-данных\" data-toc-modified-id=\"Подготовка-данных-3\"><span class=\"toc-item-num\">3&nbsp;&nbsp;</span>Подготовка данных</a></span><ul class=\"toc-item\"><li><span><a href=\"#Удаление-неинформативных-признаков\" data-toc-modified-id=\"Удаление-неинформативных-признаков-3.1\"><span class=\"toc-item-num\">3.1&nbsp;&nbsp;</span>Удаление неинформативных признаков</a></span></li><li><span><a href=\"#Оптимизация-типов-данных\" data-toc-modified-id=\"Оптимизация-типов-данных-3.2\"><span class=\"toc-item-num\">3.2&nbsp;&nbsp;</span>Оптимизация типов данных</a></span></li><li><span><a href=\"#Очистка-текста-+-лемматизация\" data-toc-modified-id=\"Очистка-текста-+-лемматизация-3.3\"><span class=\"toc-item-num\">3.3&nbsp;&nbsp;</span>Очистка текста + лемматизация</a></span></li><li><span><a href=\"#Мешок-слов-по-классам\" data-toc-modified-id=\"Мешок-слов-по-классам-3.4\"><span class=\"toc-item-num\">3.4&nbsp;&nbsp;</span>Мешок слов по классам</a></span></li></ul></li><li><span><a href=\"#Обучение\" data-toc-modified-id=\"Обучение-4\"><span class=\"toc-item-num\">4&nbsp;&nbsp;</span>Обучение</a></span><ul class=\"toc-item\"><li><span><a href=\"#Подготовка-данных\" data-toc-modified-id=\"Подготовка-данных-4.1\"><span class=\"toc-item-num\">4.1&nbsp;&nbsp;</span>Подготовка данных</a></span></li><li><span><a href=\"#Обучение-моделей\" data-toc-modified-id=\"Обучение-моделей-4.2\"><span class=\"toc-item-num\">4.2&nbsp;&nbsp;</span>Обучение моделей</a></span><ul class=\"toc-item\"><li><span><a href=\"#LogisticRegression\" data-toc-modified-id=\"LogisticRegression-4.2.1\"><span class=\"toc-item-num\">4.2.1&nbsp;&nbsp;</span>LogisticRegression</a></span></li><li><span><a href=\"#DecisionTreeClassifier\" data-toc-modified-id=\"DecisionTreeClassifier-4.2.2\"><span class=\"toc-item-num\">4.2.2&nbsp;&nbsp;</span>DecisionTreeClassifier</a></span></li><li><span><a href=\"#RandomForestClassifier\" data-toc-modified-id=\"RandomForestClassifier-4.2.3\"><span class=\"toc-item-num\">4.2.3&nbsp;&nbsp;</span>RandomForestClassifier</a></span></li></ul></li><li><span><a href=\"#Тестирование\" data-toc-modified-id=\"Тестирование-4.3\"><span class=\"toc-item-num\">4.3&nbsp;&nbsp;</span>Тестирование</a></span></li></ul></li><li><span><a href=\"#Общий-вывод\" data-toc-modified-id=\"Общий-вывод-5\"><span class=\"toc-item-num\">5&nbsp;&nbsp;</span>Общий вывод</a></span></li><li><span><a href=\"#Чек-лист-проверки\" data-toc-modified-id=\"Чек-лист-проверки-6\"><span class=\"toc-item-num\">6&nbsp;&nbsp;</span>Чек-лист проверки</a></span></li></ul></div>"
   ]
  },
  {
   "cell_type": "markdown",
   "metadata": {},
   "source": [
    "**Название проекта: Классификация текстов с использованием TF-IDF для интернет-магазина «Викишоп»**"
   ]
  },
  {
   "cell_type": "markdown",
   "metadata": {},
   "source": [
    "---\n",
    "## Введение\n",
    "\n",
    "\n",
    "**Описание проекта**\n",
    "\n",
    "Интернет-магазин «Викишоп» запускает новый сервис. Теперь пользователи могут редактировать и дополнять описания товаров, как в вики-сообществах. То есть клиенты предлагают свои правки и комментируют изменения других. Магазину нужен инструмент, который будет искать токсичные комментарии и отправлять их на модерацию. \n",
    "\n",
    "Обучите модель классифицировать комментарии на позитивные и негативные. В вашем распоряжении набор данных с разметкой о токсичности правок.\n",
    "\n",
    "Постройте модель со значением метрики качества *F1* не меньше 0.75.\n",
    "\n",
    "---\n",
    "**Задачи исследования:**\n",
    "\n",
    "* провести загрузку и подготовку данных\n",
    "* обучить несколько разных моделей\n",
    "* сделать общий вывод, дать рекомендации\n",
    "\n",
    "---\n",
    "**Цели исследования:**\n",
    "\n",
    "* построить модель, которая сможет классифицировать комментарии на позитивные и негативные (критерий: *F1* >= 0.75)\n",
    "\n",
    "---\n",
    "**Данные для анализа** находятся в файле *toxic_comments.csv*\n",
    "\n",
    "**Описание данных**\n",
    "\n",
    "* *text* - текст комментария\n",
    "* *toxic* - целевой признак\n",
    "\n",
    "---\n",
    "**Этапы работы над проектом**\n",
    "\n",
    "*Шаг 1.* Загрузка данных\n",
    "\n",
    "* загрузка данных\n",
    "* изучение общей информации\n",
    "* анализ длины комментария\n",
    "\n",
    "*Шаг 2.* Подготовка данных\n",
    "\n",
    "* удаление неинформативных признаков\n",
    "* оптимизация типов данных\n",
    "* очистка текста + лемматизация\n",
    "* мешок слов по классам\n",
    "\n",
    "*Шаг 3.* Обучение\n",
    "\n",
    "* подготовка данных\n",
    "* обучение моделей\n",
    "* тестирование лучшей модели\n",
    "\n",
    "*Шаг 4.* Общий вывод  "
   ]
  },
  {
   "cell_type": "code",
   "execution_count": 43,
   "metadata": {},
   "outputs": [
    {
     "name": "stderr",
     "output_type": "stream",
     "text": [
      "[nltk_data] Downloading package wordnet to /home/jovyan/nltk_data...\n",
      "[nltk_data]   Package wordnet is already up-to-date!\n",
      "[nltk_data] Downloading package punkt to /home/jovyan/nltk_data...\n",
      "[nltk_data]   Package punkt is already up-to-date!\n",
      "[nltk_data] Downloading package omw-1.4 to /home/jovyan/nltk_data...\n",
      "[nltk_data]   Package omw-1.4 is already up-to-date!\n",
      "[nltk_data] Downloading package averaged_perceptron_tagger to\n",
      "[nltk_data]     /home/jovyan/nltk_data...\n",
      "[nltk_data]   Package averaged_perceptron_tagger is already up-to-\n",
      "[nltk_data]       date!\n",
      "[nltk_data] Downloading package stopwords to /home/jovyan/nltk_data...\n",
      "[nltk_data]   Package stopwords is already up-to-date!\n"
     ]
    }
   ],
   "source": [
    "import os\n",
    "import pandas as pd\n",
    "import numpy as np\n",
    "import re\n",
    "import string\n",
    "import requests\n",
    "import time\n",
    "import matplotlib.pyplot as plt\n",
    "import seaborn as sns\n",
    "\n",
    "import warnings\n",
    "warnings.filterwarnings('ignore')\n",
    "\n",
    "import nltk\n",
    "nltk.download('wordnet')\n",
    "nltk.download('punkt')\n",
    "nltk.download('omw-1.4')\n",
    "nltk.download('averaged_perceptron_tagger')\n",
    "nltk.download('stopwords')\n",
    "\n",
    "from nltk import word_tokenize, sent_tokenize, FreqDist\n",
    "from nltk.stem import WordNetLemmatizer\n",
    "from nltk.corpus import wordnet\n",
    "from nltk.corpus import stopwords as nltk_stopwords\n",
    "\n",
    "from sklearn.feature_extraction.text import TfidfVectorizer, CountVectorizer\n",
    "from collections import defaultdict, Counter\n",
    "from pymystem3 import Mystem\n",
    "from tqdm.notebook import tqdm\n",
    "\n",
    "from sklearn.metrics import f1_score\n",
    "from sklearn.model_selection import train_test_split\n",
    "\n",
    "from sklearn.tree import DecisionTreeClassifier\n",
    "from sklearn.ensemble import RandomForestClassifier\n",
    "from sklearn.linear_model import LogisticRegression"
   ]
  },
  {
   "cell_type": "code",
   "execution_count": 44,
   "metadata": {},
   "outputs": [],
   "source": [
    "# системные настройки\n",
    "pd.set_option('display.max_columns', None)\n",
    "pd.set_option('display.max_colwidth', None)"
   ]
  },
  {
   "cell_type": "markdown",
   "metadata": {},
   "source": [
    "## Загрузка данных"
   ]
  },
  {
   "cell_type": "markdown",
   "metadata": {},
   "source": [
    "### Загрузка данных"
   ]
  },
  {
   "cell_type": "markdown",
   "metadata": {},
   "source": [
    "Считаем CSV-файл с данными с помощью библиотеки pandas и сохраним его в датафрейм data:"
   ]
  },
  {
   "cell_type": "code",
   "execution_count": 45,
   "metadata": {},
   "outputs": [],
   "source": [
    "pth1 = '/datasets/toxic_comments.csv'\n",
    "pth2 = 'https://code.s3.yandex.net/datasets/toxic_comments.csv'\n",
    "\n",
    "if os.path.exists(pth1):\n",
    "    data = pd.read_csv(pth1)\n",
    "elif os.path.exists(pth2):\n",
    "    data = pd.read_csv(pth2)\n",
    "else:\n",
    "    print('Файл не найден')"
   ]
  },
  {
   "cell_type": "markdown",
   "metadata": {},
   "source": [
    "###  Изучение общей информации"
   ]
  },
  {
   "cell_type": "markdown",
   "metadata": {},
   "source": [
    "* **общая информация о датафрейме**"
   ]
  },
  {
   "cell_type": "code",
   "execution_count": 46,
   "metadata": {},
   "outputs": [
    {
     "data": {
      "text/html": [
       "<div>\n",
       "<style scoped>\n",
       "    .dataframe tbody tr th:only-of-type {\n",
       "        vertical-align: middle;\n",
       "    }\n",
       "\n",
       "    .dataframe tbody tr th {\n",
       "        vertical-align: top;\n",
       "    }\n",
       "\n",
       "    .dataframe thead th {\n",
       "        text-align: right;\n",
       "    }\n",
       "</style>\n",
       "<table border=\"1\" class=\"dataframe\">\n",
       "  <thead>\n",
       "    <tr style=\"text-align: right;\">\n",
       "      <th></th>\n",
       "      <th>Unnamed: 0</th>\n",
       "      <th>text</th>\n",
       "      <th>toxic</th>\n",
       "    </tr>\n",
       "  </thead>\n",
       "  <tbody>\n",
       "    <tr>\n",
       "      <th>0</th>\n",
       "      <td>0</td>\n",
       "      <td>Explanation\\nWhy the edits made under my username Hardcore Metallica Fan were reverted? They weren't vandalisms, just closure on some GAs after I voted at New York Dolls FAC. And please don't remove the template from the talk page since I'm retired now.89.205.38.27</td>\n",
       "      <td>0</td>\n",
       "    </tr>\n",
       "    <tr>\n",
       "      <th>1</th>\n",
       "      <td>1</td>\n",
       "      <td>D'aww! He matches this background colour I'm seemingly stuck with. Thanks.  (talk) 21:51, January 11, 2016 (UTC)</td>\n",
       "      <td>0</td>\n",
       "    </tr>\n",
       "    <tr>\n",
       "      <th>2</th>\n",
       "      <td>2</td>\n",
       "      <td>Hey man, I'm really not trying to edit war. It's just that this guy is constantly removing relevant information and talking to me through edits instead of my talk page. He seems to care more about the formatting than the actual info.</td>\n",
       "      <td>0</td>\n",
       "    </tr>\n",
       "    <tr>\n",
       "      <th>3</th>\n",
       "      <td>3</td>\n",
       "      <td>\"\\nMore\\nI can't make any real suggestions on improvement - I wondered if the section statistics should be later on, or a subsection of \"\"types of accidents\"\"  -I think the references may need tidying so that they are all in the exact same format ie date format etc. I can do that later on, if no-one else does first - if you have any preferences for formatting style on references or want to do it yourself please let me know.\\n\\nThere appears to be a backlog on articles for review so I guess there may be a delay until a reviewer turns up. It's listed in the relevant form eg Wikipedia:Good_article_nominations#Transport  \"</td>\n",
       "      <td>0</td>\n",
       "    </tr>\n",
       "    <tr>\n",
       "      <th>4</th>\n",
       "      <td>4</td>\n",
       "      <td>You, sir, are my hero. Any chance you remember what page that's on?</td>\n",
       "      <td>0</td>\n",
       "    </tr>\n",
       "  </tbody>\n",
       "</table>\n",
       "</div>"
      ],
      "text/plain": [
       "   Unnamed: 0  \\\n",
       "0           0   \n",
       "1           1   \n",
       "2           2   \n",
       "3           3   \n",
       "4           4   \n",
       "\n",
       "                                                                                                                                                                                                                                                                                                                                                                                                                                                                                                                                                                                                                                                 text  \\\n",
       "0                                                                                                                                                                                                                                                                                                                                                                           Explanation\\nWhy the edits made under my username Hardcore Metallica Fan were reverted? They weren't vandalisms, just closure on some GAs after I voted at New York Dolls FAC. And please don't remove the template from the talk page since I'm retired now.89.205.38.27   \n",
       "1                                                                                                                                                                                                                                                                                                                                                                                                                                                                                                                                    D'aww! He matches this background colour I'm seemingly stuck with. Thanks.  (talk) 21:51, January 11, 2016 (UTC)   \n",
       "2                                                                                                                                                                                                                                                                                                                                                                                                           Hey man, I'm really not trying to edit war. It's just that this guy is constantly removing relevant information and talking to me through edits instead of my talk page. He seems to care more about the formatting than the actual info.   \n",
       "3  \"\\nMore\\nI can't make any real suggestions on improvement - I wondered if the section statistics should be later on, or a subsection of \"\"types of accidents\"\"  -I think the references may need tidying so that they are all in the exact same format ie date format etc. I can do that later on, if no-one else does first - if you have any preferences for formatting style on references or want to do it yourself please let me know.\\n\\nThere appears to be a backlog on articles for review so I guess there may be a delay until a reviewer turns up. It's listed in the relevant form eg Wikipedia:Good_article_nominations#Transport  \"   \n",
       "4                                                                                                                                                                                                                                                                                                                                                                                                                                                                                                                                                                                 You, sir, are my hero. Any chance you remember what page that's on?   \n",
       "\n",
       "   toxic  \n",
       "0      0  \n",
       "1      0  \n",
       "2      0  \n",
       "3      0  \n",
       "4      0  "
      ]
     },
     "metadata": {},
     "output_type": "display_data"
    },
    {
     "name": "stdout",
     "output_type": "stream",
     "text": [
      "-----------------------------------------------------------------------------------------------------------------------\n",
      "<class 'pandas.core.frame.DataFrame'>\n",
      "RangeIndex: 159292 entries, 0 to 159291\n",
      "Data columns (total 3 columns):\n",
      " #   Column      Non-Null Count   Dtype \n",
      "---  ------      --------------   ----- \n",
      " 0   Unnamed: 0  159292 non-null  int64 \n",
      " 1   text        159292 non-null  object\n",
      " 2   toxic       159292 non-null  int64 \n",
      "dtypes: int64(2), object(1)\n",
      "memory usage: 3.6+ MB\n"
     ]
    },
    {
     "data": {
      "text/plain": [
       "None"
      ]
     },
     "metadata": {},
     "output_type": "display_data"
    },
    {
     "name": "stdout",
     "output_type": "stream",
     "text": [
      "-----------------------------------------------------------------------------------------------------------------------\n",
      "Количество дубликатов: 0\n",
      "-----------------------------------------------------------------------------------------------------------------------\n",
      "Наименования столбцов: Index(['Unnamed: 0', 'text', 'toxic'], dtype='object')\n"
     ]
    }
   ],
   "source": [
    "display(data.head())\n",
    "print('-----------------------------------------------------------------------------------------------------------------------')\n",
    "display(data.info())\n",
    "print('-----------------------------------------------------------------------------------------------------------------------')\n",
    "print(f'Количество дубликатов: {data.duplicated().sum()}')\n",
    "print('-----------------------------------------------------------------------------------------------------------------------')\n",
    "print('Наименования столбцов:', data.columns)"
   ]
  },
  {
   "cell_type": "markdown",
   "metadata": {},
   "source": [
    "---\n",
    "В датафрейме data содержится: 159 292 строк / 3 столбца.  \n",
    "Каждая строка = комментарий, каждый столбец = признак, который содержит информацию о комментарии.  \n",
    "\n",
    "* *'Unnamed: 0'*: не содержит ценной для обучения информации (копирует индексы) / не будет использован в дальнейшем анализе  \n",
    "(удалим на следующем этапе)\n",
    "* *'text'*: содержит исходный текст комментария, не целевой / будет использован в обучении и предсказании  \n",
    "* *'toxic'*: содержит данные по классификации текстов /целевой\n",
    "\n",
    "Наименование столбцов 'text', toxic' - корректные, дубликатов и пропусков нет."
   ]
  },
  {
   "cell_type": "markdown",
   "metadata": {},
   "source": [
    "* **анализ целевого признака 'toxic'**"
   ]
  },
  {
   "cell_type": "code",
   "execution_count": 47,
   "metadata": {},
   "outputs": [
    {
     "data": {
      "text/plain": [
       "array([0, 1])"
      ]
     },
     "execution_count": 47,
     "metadata": {},
     "output_type": "execute_result"
    }
   ],
   "source": [
    "# найдем уникальные значения признака 'toxic'\n",
    "data['toxic'].unique()"
   ]
  },
  {
   "cell_type": "code",
   "execution_count": 48,
   "metadata": {},
   "outputs": [
    {
     "data": {
      "text/plain": [
       "0    143106\n",
       "1     16186\n",
       "Name: toxic, dtype: int64"
      ]
     },
     "execution_count": 48,
     "metadata": {},
     "output_type": "execute_result"
    }
   ],
   "source": [
    "data['toxic'].value_counts()"
   ]
  },
  {
   "cell_type": "code",
   "execution_count": 49,
   "metadata": {},
   "outputs": [],
   "source": [
    "# анализ баланса классов целевой переменной 'toxic'\n",
    "#data['toxic'].hist();"
   ]
  },
  {
   "cell_type": "code",
   "execution_count": 50,
   "metadata": {},
   "outputs": [
    {
     "data": {
      "image/png": "[encoded data removed]",
      "text/plain": [
       "<Figure size 432x288 with 1 Axes>"
      ]
     },
     "metadata": {
      "needs_background": "light"
     },
     "output_type": "display_data"
    }
   ],
   "source": [
    "# анализ баланса классов целевой переменной 'toxic'\n",
    "data.groupby('toxic')['toxic'].count().plot(kind='bar')\n",
    "plt.title('Баланс классов целевой переменной toxic', fontsize=15)\n",
    "plt.xticks(rotation=0)\n",
    "plt.xlabel('toxic', fontsize=12)\n",
    "plt.ylabel('количество', fontsize=12);"
   ]
  },
  {
   "cell_type": "markdown",
   "metadata": {},
   "source": [
    "---\n",
    "Признак *'toxic'* содержит уникальные значения '0' и '1', при этом имеет тип данных int64 >> оптимизируем до uint8.\n",
    "\n",
    "Также отметим дисбаланс классов целевого признака - наблюдаем существенный перевес в пользу класса '0' >> учтем это на этапе разделения датасета на выборки - необходимо отбалансировать обучающую выборку."
   ]
  },
  {
   "cell_type": "markdown",
   "metadata": {},
   "source": [
    "* **анализ признака 'text'**"
   ]
  },
  {
   "cell_type": "code",
   "execution_count": 51,
   "metadata": {},
   "outputs": [
    {
     "data": {
      "text/plain": [
       "0                                                                                                                                                                                                                                                                                                                                                                                  Explanation\\nWhy the edits made under my username Hardcore Metallica Fan were reverted? They weren't vandalisms, just closure on some GAs after I voted at New York Dolls FAC. And please don't remove the template from the talk page since I'm retired now.89.205.38.27\n",
       "1                                                                                                                                                                                                                                                                                                                                                                                                                                                                                                                                           D'aww! He matches this background colour I'm seemingly stuck with. Thanks.  (talk) 21:51, January 11, 2016 (UTC)\n",
       "2                                                                                                                                                                                                                                                                                                                                                                                                                  Hey man, I'm really not trying to edit war. It's just that this guy is constantly removing relevant information and talking to me through edits instead of my talk page. He seems to care more about the formatting than the actual info.\n",
       "3         \"\\nMore\\nI can't make any real suggestions on improvement - I wondered if the section statistics should be later on, or a subsection of \"\"types of accidents\"\"  -I think the references may need tidying so that they are all in the exact same format ie date format etc. I can do that later on, if no-one else does first - if you have any preferences for formatting style on references or want to do it yourself please let me know.\\n\\nThere appears to be a backlog on articles for review so I guess there may be a delay until a reviewer turns up. It's listed in the relevant form eg Wikipedia:Good_article_nominations#Transport  \"\n",
       "4                                                                                                                                                                                                                                                                                                                                                                                                                                                                                                                                                                                        You, sir, are my hero. Any chance you remember what page that's on?\n",
       "                                                                                                                                                                                                                                                                                                                                 ...                                                                                                                                                                                                                                                                                                                        \n",
       "159287                                                                                                                                                                                                                                                                                                                                             \":::::And for the second time of asking, when your view completely contradicts the coverage in reliable sources, why should anyone care what you feel? You can't even give a consistent argument - is the opening only supposed to mention significant aspects, or the \"\"most significant\"\" ones?   \\n\\n\"\n",
       "159288                                                                                                                                                                                                                                                                                                                                                                                                                                                                                                                                                 You should be ashamed of yourself \\n\\nThat is a horrible thing you put on my talk page.  128.61.19.93\n",
       "159289                                                                                                                                                                                                                                                                                                                                                                                                                                                                                                                                                                   Spitzer \\n\\nUmm, theres no actual article for prostitution ring.  - Crunch Captain.\n",
       "159290                                                                                                                                                                                                                                                                                                                                                                                                                                                                                                                                  And it looks like it was actually you who put on the speedy to have the first version deleted now that I look at it.\n",
       "159291                                                                                                                                                                                                                                                                                                                                                                                                                                                        \"\\nAnd ... I really don't think you understand.  I came here and my idea was bad right away.  What kind of community goes \"\"you have bad ideas\"\" go away, instead of helping rewrite them.   \"\n",
       "Name: text, Length: 159292, dtype: object"
      ]
     },
     "execution_count": 51,
     "metadata": {},
     "output_type": "execute_result"
    }
   ],
   "source": [
    "data['text']"
   ]
  },
  {
   "cell_type": "markdown",
   "metadata": {},
   "source": [
    "---\n",
    "Отметим, что комментарии на английском языке, также в данных присутствуют разделители строки, заглавные символы (очистку от ненужных символов, а также все преобразования с текстом произведем на следующем этапе)."
   ]
  },
  {
   "cell_type": "markdown",
   "metadata": {},
   "source": [
    "### Анализ длины комментария"
   ]
  },
  {
   "cell_type": "code",
   "execution_count": 52,
   "metadata": {},
   "outputs": [],
   "source": [
    "data_len = data.copy()"
   ]
  },
  {
   "cell_type": "code",
   "execution_count": 53,
   "metadata": {},
   "outputs": [],
   "source": [
    "# добавим столбец 'length' для расчета длины комментариев\n",
    "data_len['length'] = data_len['text'].apply(len)"
   ]
  },
  {
   "cell_type": "code",
   "execution_count": 54,
   "metadata": {},
   "outputs": [
    {
     "data": {
      "text/html": [
       "<div>\n",
       "<style scoped>\n",
       "    .dataframe tbody tr th:only-of-type {\n",
       "        vertical-align: middle;\n",
       "    }\n",
       "\n",
       "    .dataframe tbody tr th {\n",
       "        vertical-align: top;\n",
       "    }\n",
       "\n",
       "    .dataframe thead th {\n",
       "        text-align: right;\n",
       "    }\n",
       "</style>\n",
       "<table border=\"1\" class=\"dataframe\">\n",
       "  <thead>\n",
       "    <tr style=\"text-align: right;\">\n",
       "      <th></th>\n",
       "      <th>Unnamed: 0</th>\n",
       "      <th>text</th>\n",
       "      <th>toxic</th>\n",
       "      <th>length</th>\n",
       "    </tr>\n",
       "  </thead>\n",
       "  <tbody>\n",
       "    <tr>\n",
       "      <th>0</th>\n",
       "      <td>0</td>\n",
       "      <td>Explanation\\nWhy the edits made under my username Hardcore Metallica Fan were reverted? They weren't vandalisms, just closure on some GAs after I voted at New York Dolls FAC. And please don't remove the template from the talk page since I'm retired now.89.205.38.27</td>\n",
       "      <td>0</td>\n",
       "      <td>264</td>\n",
       "    </tr>\n",
       "    <tr>\n",
       "      <th>1</th>\n",
       "      <td>1</td>\n",
       "      <td>D'aww! He matches this background colour I'm seemingly stuck with. Thanks.  (talk) 21:51, January 11, 2016 (UTC)</td>\n",
       "      <td>0</td>\n",
       "      <td>112</td>\n",
       "    </tr>\n",
       "    <tr>\n",
       "      <th>2</th>\n",
       "      <td>2</td>\n",
       "      <td>Hey man, I'm really not trying to edit war. It's just that this guy is constantly removing relevant information and talking to me through edits instead of my talk page. He seems to care more about the formatting than the actual info.</td>\n",
       "      <td>0</td>\n",
       "      <td>233</td>\n",
       "    </tr>\n",
       "    <tr>\n",
       "      <th>3</th>\n",
       "      <td>3</td>\n",
       "      <td>\"\\nMore\\nI can't make any real suggestions on improvement - I wondered if the section statistics should be later on, or a subsection of \"\"types of accidents\"\"  -I think the references may need tidying so that they are all in the exact same format ie date format etc. I can do that later on, if no-one else does first - if you have any preferences for formatting style on references or want to do it yourself please let me know.\\n\\nThere appears to be a backlog on articles for review so I guess there may be a delay until a reviewer turns up. It's listed in the relevant form eg Wikipedia:Good_article_nominations#Transport  \"</td>\n",
       "      <td>0</td>\n",
       "      <td>622</td>\n",
       "    </tr>\n",
       "    <tr>\n",
       "      <th>4</th>\n",
       "      <td>4</td>\n",
       "      <td>You, sir, are my hero. Any chance you remember what page that's on?</td>\n",
       "      <td>0</td>\n",
       "      <td>67</td>\n",
       "    </tr>\n",
       "  </tbody>\n",
       "</table>\n",
       "</div>"
      ],
      "text/plain": [
       "   Unnamed: 0  \\\n",
       "0           0   \n",
       "1           1   \n",
       "2           2   \n",
       "3           3   \n",
       "4           4   \n",
       "\n",
       "                                                                                                                                                                                                                                                                                                                                                                                                                                                                                                                                                                                                                                                 text  \\\n",
       "0                                                                                                                                                                                                                                                                                                                                                                           Explanation\\nWhy the edits made under my username Hardcore Metallica Fan were reverted? They weren't vandalisms, just closure on some GAs after I voted at New York Dolls FAC. And please don't remove the template from the talk page since I'm retired now.89.205.38.27   \n",
       "1                                                                                                                                                                                                                                                                                                                                                                                                                                                                                                                                    D'aww! He matches this background colour I'm seemingly stuck with. Thanks.  (talk) 21:51, January 11, 2016 (UTC)   \n",
       "2                                                                                                                                                                                                                                                                                                                                                                                                           Hey man, I'm really not trying to edit war. It's just that this guy is constantly removing relevant information and talking to me through edits instead of my talk page. He seems to care more about the formatting than the actual info.   \n",
       "3  \"\\nMore\\nI can't make any real suggestions on improvement - I wondered if the section statistics should be later on, or a subsection of \"\"types of accidents\"\"  -I think the references may need tidying so that they are all in the exact same format ie date format etc. I can do that later on, if no-one else does first - if you have any preferences for formatting style on references or want to do it yourself please let me know.\\n\\nThere appears to be a backlog on articles for review so I guess there may be a delay until a reviewer turns up. It's listed in the relevant form eg Wikipedia:Good_article_nominations#Transport  \"   \n",
       "4                                                                                                                                                                                                                                                                                                                                                                                                                                                                                                                                                                                 You, sir, are my hero. Any chance you remember what page that's on?   \n",
       "\n",
       "   toxic  length  \n",
       "0      0     264  \n",
       "1      0     112  \n",
       "2      0     233  \n",
       "3      0     622  \n",
       "4      0      67  "
      ]
     },
     "execution_count": 54,
     "metadata": {},
     "output_type": "execute_result"
    }
   ],
   "source": [
    "data_len.head()"
   ]
  },
  {
   "cell_type": "markdown",
   "metadata": {},
   "source": [
    "* **Поиск аномальных комментариев**\n",
    "\n",
    "Рассматрим самые длинные и самые короткие комментарии."
   ]
  },
  {
   "cell_type": "code",
   "execution_count": 55,
   "metadata": {},
   "outputs": [
    {
     "data": {
      "text/plain": [
       "count    159292.000000\n",
       "mean        393.691303\n",
       "std         590.111825\n",
       "min           5.000000\n",
       "25%          95.000000\n",
       "50%         205.000000\n",
       "75%         435.000000\n",
       "max        5000.000000\n",
       "Name: length, dtype: float64"
      ]
     },
     "execution_count": 55,
     "metadata": {},
     "output_type": "execute_result"
    }
   ],
   "source": [
    "data_len['length'].describe()"
   ]
  },
  {
   "cell_type": "markdown",
   "metadata": {},
   "source": [
    "Отметим, что самые длинные комментарии состоят из 5000 символов, самые короткие - из 5.  \n",
    "Найдем их абсолютное количество, а также процент, который они составляют от всего датафрейма.\n",
    "\n",
    "5000 - слишком круглое число чтобы быть случайностью - скорее всего, это физические ограничения окна ввода и базы данных."
   ]
  },
  {
   "cell_type": "code",
   "execution_count": 56,
   "metadata": {},
   "outputs": [],
   "source": [
    "data_len_max = data_len.query('length == 5000')\n",
    "data_len_max_pct = round(len(data_len_max)/len(data_len)*100,2)\n",
    "\n",
    "data_len_min = data_len.query('length == 5')\n",
    "data_len_min_pct = round(len(data_len_min)/len(data_len)*100,2)"
   ]
  },
  {
   "cell_type": "code",
   "execution_count": 57,
   "metadata": {},
   "outputs": [
    {
     "name": "stdout",
     "output_type": "stream",
     "text": [
      "Всего 42 комментария с количеством символов 5000 / 0.03 % от всего датафрейма\n",
      "Всего 1 комментарий с количеством символов 5 / 0.0 % от всего датафрейма\n"
     ]
    }
   ],
   "source": [
    "print(f'Всего {len(data_len_max)} комментария с количеством символов 5000 / {data_len_max_pct} % от всего датафрейма')\n",
    "print(f'Всего {len(data_len_min)} комментарий с количеством символов 5 / {data_len_min_pct} % от всего датафрейма')"
   ]
  },
  {
   "cell_type": "markdown",
   "metadata": {},
   "source": [
    "Рассматрим более подробно самые длинные комментарии. "
   ]
  },
  {
   "cell_type": "code",
   "execution_count": 58,
   "metadata": {},
   "outputs": [
    {
     "data": {
      "text/html": [
       "<div>\n",
       "<style scoped>\n",
       "    .dataframe tbody tr th:only-of-type {\n",
       "        vertical-align: middle;\n",
       "    }\n",
       "\n",
       "    .dataframe tbody tr th {\n",
       "        vertical-align: top;\n",
       "    }\n",
       "\n",
       "    .dataframe thead th {\n",
       "        text-align: right;\n",
       "    }\n",
       "</style>\n",
       "<table border=\"1\" class=\"dataframe\">\n",
       "  <thead>\n",
       "    <tr style=\"text-align: right;\">\n",
       "      <th></th>\n",
       "      <th>Unnamed: 0</th>\n",
       "      <th>text</th>\n",
       "      <th>toxic</th>\n",
       "      <th>length</th>\n",
       "    </tr>\n",
       "  </thead>\n",
       "  <tbody>\n",
       "    <tr>\n",
       "      <th>4167</th>\n",
       "      <td>4167</td>\n",
       "      <td>ii CAN STILL POST WITH THIS COMPUTER...I SAID BLOCK ME, COME THE FUCK DOWN HERE AND ARREST ME...SAN DIEGO CALIFORNIA, CHULA VISTA, FUCKING GET YOUR INFORMATION RIGHT FAGGOT SHITHEAD!!i CAN STILL POST WITH THIS COMPUTER...I SAID BLOCK ME, COME THE FUCK DOWN HERE AND ARREST ME...SAN DIEGO CALIFORNIA, CHULA VISTA, FUCKING GET YOUR INFORMATION RIGHT FAGGOT SHITHEAD!!i CAN STILL POST WITH THIS COMPUTER...I SAID BLOCK ME, COME THE FUCK DOWN HERE AND ARREST ME...SAN DIEGO CALIFORNIA, CHULA VISTA, FUCKING GET YOUR INFORMATION RIGHT FAGGOT SHITHEAD!!i CAN STILL POST WITH THIS COMPUTER...I SAID BLOCK ME, COME THE FUCK DOWN HERE AND ARREST ME...SAN DIEGO CALIFORNIA, CHULA VISTA, FUCKING GET YOUR INFORMATION RIGHT FAGGOT SHITHEAD!!i CAN STILL POST WITH THIS COMPUTER...I SAID BLOCK ME, COME THE FUCK DOWN HERE AND ARREST ME...SAN DIEGO CALIFORNIA, CHULA VISTA, FUCKING GET YOUR INFORMATION RIGHT FAGGOT SHITHEAD!!i CAN STILL POST WITH THIS COMPUTER...I SAID BLOCK ME, COME THE FUCK DOWN HERE AND ARREST ME...SAN DIEGO CALIFORNIA, CHULA VISTA, FUCKING GET YOUR INFORMATION RIGHT FAGGOT SHITHEAD!!i CAN STILL POST WITH THIS COMPUTER...I SAID BLOCK ME, COME THE FUCK DOWN HERE AND ARREST ME...SAN DIEGO CALIFORNIA, CHULA VISTA, FUCKING GET YOUR INFORMATION RIGHT FAGGOT SHITHEAD!!i CAN STILL POST WITH THIS COMPUTER...I SAID BLOCK ME, COME THE FUCK DOWN HERE AND ARREST ME...SAN DIEGO CALIFORNIA, CHULA VISTA, FUCKING GET YOUR INFORMATION RIGHT FAGGOT SHITHEAD!!i CAN STILL POST WITH THIS COMPUTER...I SAID BLOCK ME, COME THE FUCK DOWN HERE AND ARREST ME...SAN DIEGO CALIFORNIA, CHULA VISTA, FUCKING GET YOUR INFORMATION RIGHT FAGGOT SHITHEAD!!i CAN STILL POST WITH THIS COMPUTER...I SAID BLOCK ME, COME THE FUCK DOWN HERE AND ARREST ME...SAN DIEGO CALIFORNIA, CHULA VISTA, FUCKING GET YOUR INFORMATION RIGHT FAGGOT SHITHEAD!!i CAN STILL POST WITH THIS COMPUTER...I SAID BLOCK ME, COME THE FUCK DOWN HERE AND ARREST ME...SAN DIEGO CALIFORNIA, CHULA VISTA, FUCKING GET YOUR INFORMATION RIGHT FAGGOT SHITHEAD!!i CAN STILL POST WITH THIS COMPUTER...I SAID BLOCK ME, COME THE FUCK DOWN HERE AND ARREST ME...SAN DIEGO CALIFORNIA, CHULA VISTA, FUCKING GET YOUR INFORMATION RIGHT FAGGOT SHITHEAD!!i CAN STILL POST WITH THIS COMPUTER...I SAID BLOCK ME, COME THE FUCK DOWN HERE AND ARREST ME...SAN DIEGO CALIFORNIA, CHULA VISTA, FUCKING GET YOUR INFORMATION RIGHT FAGGOT SHITHEAD!!i CAN STILL POST WITH THIS COMPUTER...I SAID BLOCK ME, COME THE FUCK DOWN HERE AND ARREST ME...SAN DIEGO CALIFORNIA, CHULA VISTA, FUCKING GET YOUR INFORMATION RIGHT FAGGOT SHITHEAD!!i CAN STILL POST WITH THIS COMPUTER...I SAID BLOCK ME, COME THE FUCK DOWN HERE AND ARREST ME...SAN DIEGO CALIFORNIA, CHULA VISTA, FUCKING GET YOUR INFORMATION RIGHT FAGGOT SHITHEAD!!i CAN STILL POST WITH THIS COMPUTER...I SAID BLOCK ME, COME THE FUCK DOWN HERE AND ARREST ME...SAN DIEGO CALIFORNIA, CHULA VISTA, FUCKING GET YOUR INFORMATION RIGHT FAGGOT SHITHEAD!!i CAN STILL POST WITH THIS COMPUTER...I SAID BLOCK ME, COME THE FUCK DOWN HERE AND ARREST ME...SAN DIEGO CALIFORNIA, CHULA VISTA, FUCKING GET YOUR INFORMATION RIGHT FAGGOT SHITHEAD!!i CAN STILL POST WITH THIS COMPUTER...I SAID BLOCK ME, COME THE FUCK DOWN HERE AND ARREST ME...SAN DIEGO CALIFORNIA, CHULA VISTA, FUCKING GET YOUR INFORMATION RIGHT FAGGOT SHITHEAD!!i CAN STILL POST WITH THIS COMPUTER...I SAID BLOCK ME, COME THE FUCK DOWN HERE AND ARREST ME...SAN DIEGO CALIFORNIA, CHULA VISTA, FUCKING GET YOUR INFORMATION RIGHT FAGGOT SHITHEAD!!i CAN STILL POST WITH THIS COMPUTER...I SAID BLOCK ME, COME THE FUCK DOWN HERE AND ARREST ME...SAN DIEGO CALIFORNIA, CHULA VISTA, FUCKING GET YOUR INFORMATION RIGHT FAGGOT SHITHEAD!!i CAN STILL POST WITH THIS COMPUTER...I SAID BLOCK ME, COME THE FUCK DOWN HERE AND ARREST ME...SAN DIEGO CALIFORNIA, CHULA VISTA, FUCKING GET YOUR INFORMATION RIGHT FAGGOT SHITHEAD!!i CAN STILL POST WITH THIS COMPUTER...I SAID BLOCK ME, COME THE FUCK DOWN HERE AND ARREST ME...SAN DIEGO CALIFORNIA, CHULA VISTA, FUCKING GET YOUR INFORMATION RIGHT FAGGOT SHITHEAD!!i CAN STILL POST WITH THIS COMPUTER...I SAID BLOCK ME, COME THE FUCK DOWN HERE AND ARREST ME...SAN DIEGO CALIFORNIA, CHULA VISTA, FUCKING GET YOUR INFORMATION RIGHT FAGGOT SHITHEAD!!i CAN STILL POST WITH THIS COMPUTER...I SAID BLOCK ME, COME THE FUCK DOWN HERE AND ARREST ME...SAN DIEGO CALIFORNIA, CHULA VISTA, FUCKING GET YOUR INFORMATION RIGHT FAGGOT SHITHEAD!!i CAN STILL POST WITH THIS COMPUTER...I SAID BLOCK ME, COME THE FUCK DOWN HERE AND ARREST ME...SAN DIEGO CALIFORNIA, CHULA VISTA, FUCKING GET YOUR INFORMATION RIGHT FAGGOT SHITHEAD!!i CAN STILL POST WITH THIS COMPUTER...I SAID BLOCK ME, COME THE FUCK DOWN HERE AND ARREST ME...SAN DIEGO CALIFORNIA, CHULA VISTA, FUCKING GET YOUR INFORMATION RIGHT FAGGOT SHITHEAD!!i CAN STILL POST WITH THIS COMPUTER...I SAID BLOCK ME, COME THE FUCK DOWN HERE AND ARREST ME...SAN DIEGO CALIFORNIA, CHULA VISTA, FUCKING GET YOUR INFORMATION RIGHT FAGGOT SHITHEAD!!i CAN STILL POST WITH THIS COMPUTER...I SAID BLOCK ME, COME THE FUCK DOWN HERE AND AR</td>\n",
       "      <td>1</td>\n",
       "      <td>5000</td>\n",
       "    </tr>\n",
       "    <tr>\n",
       "      <th>6190</th>\n",
       "      <td>6194</td>\n",
       "      <td>SECURITYFUCK HOMELAND SECURITYFUCK HOMELAND SECURITYFUCK HOMELAND SECURITYFUCK HOMELAND SECURITYFUCK HOMELAND SECURITYFUCK HOMELAND SECURITYFUCK HOMELAND SECURITYFUCK HOMELAND SECURITYFUCK HOMELAND SECURITYFUCK HOMELAND SECURITYFUCK HOMELAND SECURITYFUCK HOMELAND SECURITYFUCK HOMELAND SECURITYFUCK HOMELAND SECURITYFUCK HOMELAND SECURITYFUCK HOMELAND SECURITYFUCK HOMELAND SECURITYFUCK HOMELAND SECURITYFUCK HOMELAND SECURITYFUCK HOMELAND SECURITYFUCK HOMELAND SECURITYFUCK HOMELAND SECURITYFUCK HOMELAND SECURITYFUCK HOMELAND SECURITYFUCK HOMELAND SECURITYFUCK HOMELAND SECURITYFUCK HOMELAND SECURITYFUCK HOMELAND SECURITYFUCK HOMELAND SECURITYFUCK HOMELAND SECURITYFUCK HOMELAND SECURITYFUCK HOMELAND SECURITYFUCK HOMELAND SECURITYFUCK HOMELAND SECURITYFUCK HOMELAND SECURITYFUCK HOMELAND SECURITYFUCK HOMELAND SECURITYFUCK HOMELAND SECURITYFUCK HOMELAND SECURITYFUCK HOMELAND SECURITYFUCK HOMELAND SECURITYFUCK HOMELAND SECURITYFUCK HOMELAND SECURITYFUCK HOMELAND SECURITYFUCK HOMELAND SECURITYFUCK HOMELAND SECURITYFUCK HOMELAND SECURITYFUCK HOMELAND SECURITYFUCK HOMELAND SECURITYFUCK HOMELAND SECURITYFUCK HOMELAND SECURITYFUCK HOMELAND SECURITYFUCK HOMELAND SECURITYFUCK HOMELAND SECURITYFUCK HOMELAND SECURITYFUCK HOMELAND SECURITYFUCK HOMELAND SECURITYFUCK HOMELAND SECURITYFUCK HOMELAND SECURITYFUCK HOMELAND SECURITYFUCK HOMELAND SECURITYFUCK HOMELAND SECURITYFUCK HOMELAND SECURITYFUCK HOMELAND SECURITYFUCK HOMELAND SECURITYFUCK HOMELAND SECURITYFUCK HOMELAND SECURITYFUCK HOMELAND SECURITYFUCK HOMELAND SECURITYFUCK HOMELAND SECURITYFUCK HOMELAND SECURITYFUCK HOMELAND SECURITYFUCK HOMELAND SECURITYFUCK HOMELAND SECURITYFUCK HOMELAND SECURITYFUCK HOMELAND SECURITYFUCK HOMELAND SECURITYFUCK HOMELAND SECURITYFUCK HOMELAND SECURITYFUCK HOMELAND SECURITYFUCK HOMELAND SECURITYFUCK HOMELAND SECURITYFUCK HOMELAND SECURITYFUCK HOMELAND SECURITYFUCK HOMELAND SECURITYFUCK HOMELAND SECURITYFUCK HOMELAND SECURITYFUCK HOMELAND SECURITYFUCK HOMELAND SECURITYFUCK HOMELAND SECURITYFUCK HOMELAND SECURITYFUCK HOMELAND SECURITYFUCK HOMELAND SECURITYFUCK HOMELAND SECURITYFUCK HOMELAND SECURITYFUCK HOMELAND SECURITYFUCK HOMELAND SECURITYFUCK HOMELAND SECURITYFUCK HOMELAND SECURITYFUCK HOMELAND SECURITYFUCK HOMELAND SECURITYFUCK HOMELAND SECURITYFUCK HOMELAND SECURITYFUCK HOMELAND SECURITYFUCK HOMELAND SECURITYFUCK HOMELAND SECURITYFUCK HOMELAND SECURITYFUCK HOMELAND SECURITYFUCK HOMELAND SECURITYFUCK HOMELAND SECURITYFUCK HOMELAND SECURITYFUCK HOMELAND SECURITYFUCK HOMELAND SECURITYFUCK HOMELAND SECURITYFUCK HOMELAND SECURITYFUCK HOMELAND SECURITYFUCK HOMELAND SECURITYFUCK HOMELAND SECURITYFUCK HOMELAND SECURITYFUCK HOMELAND SECURITYFUCK HOMELAND SECURITYFUCK HOMELAND SECURITYFUCK HOMELAND SECURITYFUCK HOMELAND SECURITYFUCK HOMELAND SECURITYFUCK HOMELAND SECURITYFUCK HOMELAND SECURITYFUCK HOMELAND SECURITYFUCK HOMELAND SECURITYFUCK HOMELAND SECURITYFUCK HOMELAND SECURITYFUCK HOMELAND SECURITYFUCK HOMELAND SECURITYFUCK HOMELAND SECURITYFUCK HOMELAND SECURITYFUCK HOMELAND SECURITYFUCK HOMELAND SECURITYFUCK HOMELAND SECURITYFUCK HOMELAND SECURITYFUCK HOMELAND SECURITYFUCK HOMELAND SECURITYFUCK HOMELAND SECURITYFUCK HOMELAND SECURITYFUCK HOMELAND SECURITYFUCK HOMELAND SECURITYFUCK HOMELAND SECURITYFUCK HOMELAND SECURITYFUCK HOMELAND SECURITYFUCK HOMELAND SECURITYFUCK HOMELAND SECURITYFUCK HOMELAND SECURITYFUCK HOMELAND SECURITYFUCK HOMELAND SECURITYFUCK HOMELAND SECURITYFUCK HOMELAND SECURITYFUCK HOMELAND SECURITYFUCK HOMELAND SECURITYFUCK HOMELAND SECURITYFUCK HOMELAND SECURITYFUCK HOMELAND SECURITYFUCK HOMELAND SECURITYFUCK HOMELAND SECURITYFUCK HOMELAND SECURITYFUCK HOMELAND SECURITYFUCK HOMELAND SECURITYFUCK HOMELAND SECURITYFUCK HOMELAND SECURITYFUCK HOMELAND SECURITYFUCK HOMELAND SECURITYFUCK HOMELAND SECURITYFUCK HOMELAND SECURITYFUCK HOMELAND SECURITYFUCK HOMELAND SECURITYFUCK HOMELAND SECURITYFUCK HOMELAND SECURITYFUCK HOMELAND SECURITYFUCK HOMELAND SECURITYFUCK HOMELAND SECURITYFUCK HOMELAND SECURITYFUCK HOMELAND SECURITYFUCK HOMELAND SECURITYFUCK HOMELAND SECURITYFUCK HOMELAND SECURITYFUCK HOMELAND SECURITYFUCK HOMELAND SECURITYFUCK HOMELAND SECURITYFUCK HOMELAND SECURITYFUCK HOMELAND SECURITYFUCK HOMELAND SECURITYFUCK HOMELAND SECURITYFUCK HOMELAND SECURITYFUCK HOMELAND SECURITYFUCK HOMELAND SECURITYFUCK HOMELAND SECURITYFUCK HOMELAND SECURITYFUCK HOMELAND SECURITYFUCK HOMELAND SECURITYFUCK HOMELAND SECURITYFUCK HOMELAND SECURITYFUCK HOMELAND SECURITYFUCK HOMELAND SECURITYFUCK HOMELAND SECURITYFUCK HOMELAND SECURITYFUCK HOMELAND SECURITYFUCK HOMELAND SECURITYFUCK HOMELAND SECURITYFUCK HOMELAND SECURITYFUCK HOMELAND SECURITYFUCK HOMELAND SECURITYFUCK HOMELAND SECURITYFUCK HOMELAND SECURITYFUCK HOMELAND SECURITYFUCK HOMELAND SECURITYFUCK HOMELAND SECURITYFUCK HOMELAND SECURITYFUCK HOMELAND SECURITYFUCK HOMELAND SECURITYFUCK HOMELAND SECURITYFUCK HOMELAND SECURITYFUCK HOMELAND SECURITYFUCK HOMELAND SECURITYFUCK HOMELAND SECURITYFUCK HOMELAND SECURITYFUCK HOMELAND SECURITYFUCK HOMELAND SECURITYFUCK HOMELAND SECURITYFUCK HOMELAND SECURI</td>\n",
       "      <td>1</td>\n",
       "      <td>5000</td>\n",
       "    </tr>\n",
       "    <tr>\n",
       "      <th>8685</th>\n",
       "      <td>8697</td>\n",
       "      <td>BALLS BALLS BALLS BALLS BALLS BALLS BALLS BALLS BALLS BALLS BALLS BALLS BALLS BALLS BALLS BALLS BALLS BALLS BALLS BALLS BALLS BALLS BALLS BALLS BALLS BALLS BALLS BALLS BALLS BALLS BALLS BALLS BALLS BALLS BALLS BALLS BALLS BALLS BALLS BALLS BALLS BALLS BALLS BALLS BALLS BALLS BALLS BALLS BALLS BALLS BALLS BALLS BALLS BALLS BALLS BALLS BALLS BALLS BALLS BALLS BALLS BALLS BALLS BALLS BALLS BALLS BALLS BALLS BALLS BALLS BALLS BALLS BALLS BALLS BALLS BALLS BALLS BALLS BALLS BALLS BALLS BALLS BALLS BALLS BALLS BALLS BALLS BALLS BALLS BALLS BALLS BALLS BALLS BALLS BALLS BALLS BALLS BALLS BALLS BALLS BALLS BALLS BALLS BALLS BALLS BALLS BALLS BALLS BALLS BALLS BALLS BALLS BALLS BALLS BALLS BALLS BALLS BALLS BALLS BALLS BALLS BALLS BALLS BALLS BALLS BALLS BALLS BALLS BALLS BALLS BALLS BALLS BALLS BALLS BALLS BALLS BALLS BALLS BALLS BALLS BALLS BALLS BALLS BALLS BALLS BALLS BALLS BALLS BALLS BALLS BALLS BALLS BALLS BALLS BALLS BALLS BALLS BALLS BALLS BALLS BALLS BALLS BALLS BALLS BALLS BALLS BALLS BALLS BALLS BALLS BALLS BALLS BALLS BALLS BALLS BALLS BALLS BALLS BALLS BALLS BALLS BALLS BALLS BALLS BALLS BALLS BALLS BALLS BALLS BALLS BALLS BALLS BALLS BALLS BALLS BALLS BALLS BALLS BALLS BALLS BALLS BALLS BALLS BALLS BALLS BALLS BALLS BALLS BALLS BALLS BALLS BALLS BALLS BALLS BALLS BALLS BALLS BALLS BALLS BALLS BALLS BALLS BALLS BALLS BALLS BALLS BALLS BALLS BALLS BALLS BALLS BALLS BALLS BALLS BALLS BALLS BALLS BALLS BALLS BALLS BALLS BALLS BALLS BALLS BALLS BALLS BALLS BALLS BALLS BALLS BALLS BALLS BALLS BALLS BALLS BALLS BALLS BALLS BALLS BALLS BALLS BALLS BALLS BALLS BALLS BALLS BALLS BALLS BALLS BALLS BALLS BALLS BALLS BALLS BALLS BALLS BALLS BALLS BALLS BALLS BALLS BALLS BALLS BALLS BALLS BALLS BALLS BALLS BALLS BALLS BALLS BALLS BALLS BALLS BALLS BALLS BALLS BALLS BALLS BALLS BALLS BALLS BALLS BALLS BALLS BALLS BALLS BALLS BALLS BALLS BALLS BALLS BALLS BALLS BALLS BALLS BALLS BALLS BALLS BALLS BALLS BALLS BALLS BALLS BALLS BALLS BALLS BALLS BALLS BALLS BALLS BALLS BALLS BALLS BALLS BALLS BALLS BALLS BALLS BALLS BALLS BALLS BALLS BALLS BALLS BALLS BALLS BALLS BALLS BALLS BALLS BALLS BALLS BALLS BALLS BALLS BALLS BALLS BALLS BALLS BALLS BALLS BALLS BALLS BALLS BALLS BALLS BALLS BALLS BALLS BALLS BALLS BALLS BALLS BALLS BALLS BALLS BALLS BALLS BALLS BALLS BALLS BALLS BALLS BALLS BALLS BALLS BALLS BALLS BALLS BALLS BALLS BALLS BALLS BALLS BALLS BALLS BALLS BALLS BALLS BALLS BALLS BALLS BALLS BALLS BALLS BALLS BALLS BALLS BALLS BALLS BALLS BALLS BALLS BALLS BALLS BALLS BALLS BALLS BALLS BALLS BALLS BALLS BALLS BALLS BALLS BALLS BALLS BALLS BALLS BALLS BALLS BALLS BALLS BALLS BALLS BALLS BALLS BALLS BALLS BALLS BALLS BALLS BALLS BALLS BALLS BALLS BALLS BALLS BALLS BALLS BALLS BALLS BALLS BALLS BALLS BALLS BALLS BALLS BALLS BALLS BALLS BALLS BALLS BALLS BALLS BALLS BALLS BALLS BALLS BALLS BALLS BALLS BALLS BALLS BALLS BALLS BALLS BALLS BALLS BALLS BALLS BALLS BALLS BALLS BALLS BALLS BALLS BALLS BALLS BALLS BALLS BALLS BALLS BALLS BALLS BALLS BALLS BALLS BALLS BALLS BALLS BALLS BALLS BALLS BALLS BALLS BALLS BALLS BALLS BALLS BALLS BALLS BALLS BALLS BALLS BALLS BALLS BALLS BALLS BALLS BALLS BALLS BALLS BALLS BALLS BALLS BALLS BALLS BALLS BALLS BALLS BALLS BALLS BALLS BALLS BALLS BALLS BALLS BALLS BALLS BALLS BALLS BALLS BALLS BALLS BALLS BALLS BALLS BALLS BALLS BALLS BALLS BALLS BALLS BALLS BALLS BALLS BALLS BALLS BALLS BALLS BALLS BALLS BALLS BALLS BALLS BALLS BALLS BALLS BALLS BALLS BALLS BALLS BALLS BALLS BALLS BALLS BALLS BALLS BALLS BALLS BALLS BALLS BALLS BALLS BALLS BALLS BALLS BALLS BALLS BALLS BALLS BALLS BALLS BALLS BALLS BALLS BALLS BALLS BALLS BALLS BALLS BALLS BALLS BALLS BALLS BALLS BALLS BALLS BALLS BALLS BALLS BALLS BALLS BALLS BALLS BALLS BALLS BALLS BALLS BALLS BALLS BALLS BALLS BALLS BALLS BALLS BALLS BALLS BALLS BALLS BALLS BALLS BALLS BALLS BALLS BALLS BALLS BALLS BALLS BALLS BALLS BALLS BALLS BALLS BALLS BALLS BALLS BALLS BALLS BALLS BALLS BALLS BALLS BALLS BALLS BALLS BALLS BALLS BALLS BALLS BALLS BALLS BALLS BALLS BALLS BALLS BALLS BALLS BALLS BALLS BALLS BALLS BALLS BALLS BALLS BALLS BALLS BALLS BALLS BALLS BALLS BALLS BALLS BALLS BALLS BALLS BALLS BALLS BALLS BALLS BALLS BALLS BALLS BALLS BALLS BALLS BALLS BALLS BALLS BALLS BALLS BALLS BALLS BALLS BALLS BALLS BALLS BALLS BALLS BALLS BALLS BALLS BALLS BALLS BALLS BALLS BALLS BALLS BALLS BALLS BALLS BALLS BALLS BALLS BALLS BALLS BALLS BALLS BALLS BALLS BALLS BALLS BALLS BALLS BALLS BALLS BALLS BALLS BALLS BALLS BALLS BALLS BALLS BALLS BALLS BALLS BALLS BALLS BALLS BALLS BALLS BALLS BALLS BALLS BALLS BALLS BALLS BALLS BALLS BALLS BALLS BALLS BALLS BALLS BALLS BALLS BALLS BALLS BALLS BALLS BALLS BALLS BALLS BALLS BALLS BALLS BALLS BALLS BALLS BALLS BALLS BALLS BALLS BALLS BALLS BALLS BALLS BALLS BALLS BALLS BALLS BALLS BALLS BALLS BALLS BALLS BALLS BALLS BALLS BALLS BALLS BALLS BALLS BALLS BALLS BALLS BALLS BALLS BALLS BALLS BALLS BALLS BALLS BALLS BALLS BALLS BALLS BALLS BALLS BALLS BALLS BALLS BALLS BALLS BALLS BALLS BALLS BALLS BALLS BALLS BALLS BA</td>\n",
       "      <td>1</td>\n",
       "      <td>5000</td>\n",
       "    </tr>\n",
       "    <tr>\n",
       "      <th>9651</th>\n",
       "      <td>9664</td>\n",
       "      <td>FUCK YOU, YOU ATHEIST CUNT! FUCK YOU, YOU ATHEIST CUNT! FUCK YOU, YOU ATHEIST CUNT! FUCK YOU, YOU ATHEIST CUNT! FUCK YOU, YOU ATHEIST CUNT! FUCK YOU, YOU ATHEIST CUNT! FUCK YOU, YOU ATHEIST CUNT! FUCK YOU, YOU ATHEIST CUNT! FUCK YOU, YOU ATHEIST CUNT! FUCK YOU, YOU ATHEIST CUNT! FUCK YOU, YOU ATHEIST CUNT! FUCK YOU, YOU ATHEIST CUNT! FUCK YOU, YOU ATHEIST CUNT! FUCK YOU, YOU ATHEIST CUNT! FUCK YOU, YOU ATHEIST CUNT! FUCK YOU, YOU ATHEIST CUNT! FUCK YOU, YOU ATHEIST CUNT! FUCK YOU, YOU ATHEIST CUNT! FUCK YOU, YOU ATHEIST CUNT! FUCK YOU, YOU ATHEIST CUNT! FUCK YOU, YOU ATHEIST CUNT! FUCK YOU, YOU ATHEIST CUNT! FUCK YOU, YOU ATHEIST CUNT! FUCK YOU, YOU ATHEIST CUNT! FUCK YOU, YOU ATHEIST CUNT! FUCK YOU, YOU ATHEIST CUNT! FUCK YOU, YOU ATHEIST CUNT! FUCK YOU, YOU ATHEIST CUNT! FUCK YOU, YOU ATHEIST CUNT! FUCK YOU, YOU ATHEIST CUNT! FUCK YOU, YOU ATHEIST CUNT! FUCK YOU, YOU ATHEIST CUNT! FUCK YOU, YOU ATHEIST CUNT! FUCK YOU, YOU ATHEIST CUNT! FUCK YOU, YOU ATHEIST CUNT! FUCK YOU, YOU ATHEIST CUNT! FUCK YOU, YOU ATHEIST CUNT! FUCK YOU, YOU ATHEIST CUNT! FUCK YOU, YOU ATHEIST CUNT! FUCK YOU, YOU ATHEIST CUNT! FUCK YOU, YOU ATHEIST CUNT! FUCK YOU, YOU ATHEIST CUNT! FUCK YOU, YOU ATHEIST CUNT! FUCK YOU, YOU ATHEIST CUNT! FUCK YOU, YOU ATHEIST CUNT! FUCK YOU, YOU ATHEIST CUNT! FUCK YOU, YOU ATHEIST CUNT! FUCK YOU, YOU ATHEIST CUNT! FUCK YOU, YOU ATHEIST CUNT! FUCK YOU, YOU ATHEIST CUNT! FUCK YOU, YOU ATHEIST CUNT! FUCK YOU, YOU ATHEIST CUNT! FUCK YOU, YOU ATHEIST CUNT! FUCK YOU, YOU ATHEIST CUNT! FUCK YOU, YOU ATHEIST CUNT! FUCK YOU, YOU ATHEIST CUNT! FUCK YOU, YOU ATHEIST CUNT! FUCK YOU, YOU ATHEIST CUNT! FUCK YOU, YOU ATHEIST CUNT! FUCK YOU, YOU ATHEIST CUNT! FUCK YOU, YOU ATHEIST CUNT! FUCK YOU, YOU ATHEIST CUNT! FUCK YOU, YOU ATHEIST CUNT! FUCK YOU, YOU ATHEIST CUNT! FUCK YOU, YOU ATHEIST CUNT! FUCK YOU, YOU ATHEIST CUNT! FUCK YOU, YOU ATHEIST CUNT! FUCK YOU, YOU ATHEIST CUNT! FUCK YOU, YOU ATHEIST CUNT! FUCK YOU, YOU ATHEIST CUNT! FUCK YOU, YOU ATHEIST CUNT! FUCK YOU, YOU ATHEIST CUNT! FUCK YOU, YOU ATHEIST CUNT! FUCK YOU, YOU ATHEIST CUNT! FUCK YOU, YOU ATHEIST CUNT! FUCK YOU, YOU ATHEIST CUNT! FUCK YOU, YOU ATHEIST CUNT! FUCK YOU, YOU ATHEIST CUNT! FUCK YOU, YOU ATHEIST CUNT! FUCK YOU, YOU ATHEIST CUNT! FUCK YOU, YOU ATHEIST CUNT! FUCK YOU, YOU ATHEIST CUNT! FUCK YOU, YOU ATHEIST CUNT! FUCK YOU, YOU ATHEIST CUNT! FUCK YOU, YOU ATHEIST CUNT! FUCK YOU, YOU ATHEIST CUNT! FUCK YOU, YOU ATHEIST CUNT! FUCK YOU, YOU ATHEIST CUNT! FUCK YOU, YOU ATHEIST CUNT! FUCK YOU, YOU ATHEIST CUNT! FUCK YOU, YOU ATHEIST CUNT! FUCK YOU, YOU ATHEIST CUNT! FUCK YOU, YOU ATHEIST CUNT! FUCK YOU, YOU ATHEIST CUNT! FUCK YOU, YOU ATHEIST CUNT! FUCK YOU, YOU ATHEIST CUNT! FUCK YOU, YOU ATHEIST CUNT! FUCK YOU, YOU ATHEIST CUNT! FUCK YOU, YOU ATHEIST CUNT! FUCK YOU, YOU ATHEIST CUNT! FUCK YOU, YOU ATHEIST CUNT! FUCK YOU, YOU ATHEIST CUNT! FUCK YOU, YOU ATHEIST CUNT! FUCK YOU, YOU ATHEIST CUNT! FUCK YOU, YOU ATHEIST CUNT! FUCK YOU, YOU ATHEIST CUNT! FUCK YOU, YOU ATHEIST CUNT! FUCK YOU, YOU ATHEIST CUNT! FUCK YOU, YOU ATHEIST CUNT! FUCK YOU, YOU ATHEIST CUNT! FUCK YOU, YOU ATHEIST CUNT! FUCK YOU, YOU ATHEIST CUNT! FUCK YOU, YOU ATHEIST CUNT! FUCK YOU, YOU ATHEIST CUNT! FUCK YOU, YOU ATHEIST CUNT! FUCK YOU, YOU ATHEIST CUNT! FUCK YOU, YOU ATHEIST CUNT! FUCK YOU, YOU ATHEIST CUNT! FUCK YOU, YOU ATHEIST CUNT! FUCK YOU, YOU ATHEIST CUNT! FUCK YOU, YOU ATHEIST CUNT! FUCK YOU, YOU ATHEIST CUNT! FUCK YOU, YOU ATHEIST CUNT! FUCK YOU, YOU ATHEIST CUNT! FUCK YOU, YOU ATHEIST CUNT! FUCK YOU, YOU ATHEIST CUNT! FUCK YOU, YOU ATHEIST CUNT! FUCK YOU, YOU ATHEIST CUNT! FUCK YOU, YOU ATHEIST CUNT! FUCK YOU, YOU ATHEIST CUNT! FUCK YOU, YOU ATHEIST CUNT! FUCK YOU, YOU ATHEIST CUNT! FUCK YOU, YOU ATHEIST CUNT! FUCK YOU, YOU ATHEIST CUNT! FUCK YOU, YOU ATHEIST CUNT! FUCK YOU, YOU ATHEIST CUNT! FUCK YOU, YOU ATHEIST CUNT! FUCK YOU, YOU ATHEIST CUNT! FUCK YOU, YOU ATHEIST CUNT! FUCK YOU, YOU ATHEIST CUNT! FUCK YOU, YOU ATHEIST CUNT! FUCK YOU, YOU ATHEIST CUNT! FUCK YOU, YOU ATHEIST CUNT! FUCK YOU, YOU ATHEIST CUNT! FUCK YOU, YOU ATHEIST CUNT! FUCK YOU, YOU ATHEIST CUNT! FUCK YOU, YOU ATHEIST CUNT! FUCK YOU, YOU ATHEIST CUNT! FUCK YOU, YOU ATHEIST CUNT! FUCK YOU, YOU ATHEIST CUNT! FUCK YOU, YOU ATHEIST CUNT! FUCK YOU, YOU ATHEIST CUNT! FUCK YOU, YOU ATHEIST CUNT! FUCK YOU, YOU ATHEIST CUNT! FUCK YOU, YOU ATHEIST CUNT! FUCK YOU, YOU ATHEIST CUNT! FUCK YOU, YOU ATHEIST CUNT! FUCK YOU, YOU ATHEIST CUNT! FUCK YOU, YOU ATHEIST CUNT! FUCK YOU, YOU ATHEIST CUNT! FUCK YOU, YOU ATHEIST CUNT! FUCK YOU, YOU ATHEIST CUNT! FUCK YOU, YOU ATHEIST CUNT! FUCK YOU, YOU ATHEIST CUNT! FUCK YOU, YOU ATHEIST CUNT! FUCK YOU, YOU ATHEIST CUNT! FUCK YOU, YOU ATHEIST CUNT! FUCK YOU, YOU ATHEIST CUNT! FUCK YOU, YOU ATHEIST CUNT! FUCK YOU, YOU ATHEIST CUNT! FUCK YOU, YOU ATHEIST CUNT! FUCK YOU, YOU ATHEIST CUNT! FUCK YOU, YOU ATHEIST CUNT! FUCK YOU, YOU ATHEIST CUNT! FUCK YOU, YOU ATHEIST CUNT! FUCK YOU, YOU ATHEIST CUNT! FUCK YOU, YOU ATHEIST CUNT! FUCK YOU, YOU ATHEIST CUNT! FUCK YOU, YOU AT</td>\n",
       "      <td>1</td>\n",
       "      <td>5000</td>\n",
       "    </tr>\n",
       "    <tr>\n",
       "      <th>10746</th>\n",
       "      <td>10759</td>\n",
       "      <td>TOMMY2010 IS A NIGGER TOMMY2010 IS A NIGGER TOMMY2010 IS A NIGGER TOMMY2010 IS A NIGGER TOMMY2010 IS A NIGGER TOMMY2010 IS A NIGGER TOMMY2010 IS A NIGGER TOMMY2010 IS A NIGGER TOMMY2010 IS A NIGGER TOMMY2010 IS A NIGGER TOMMY2010 IS A NIGGER TOMMY2010 IS A NIGGER TOMMY2010 IS A NIGGER TOMMY2010 IS A NIGGER TOMMY2010 IS A NIGGER TOMMY2010 IS A NIGGER TOMMY2010 IS A NIGGER TOMMY2010 IS A NIGGER TOMMY2010 IS A NIGGER TOMMY2010 IS A NIGGER TOMMY2010 IS A NIGGER TOMMY2010 IS A NIGGER TOMMY2010 IS A NIGGER TOMMY2010 IS A NIGGER TOMMY2010 IS A NIGGER TOMMY2010 IS A NIGGER TOMMY2010 IS A NIGGER TOMMY2010 IS A NIGGER TOMMY2010 IS A NIGGER TOMMY2010 IS A NIGGER TOMMY2010 IS A NIGGER TOMMY2010 IS A NIGGER TOMMY2010 IS A NIGGER TOMMY2010 IS A NIGGER TOMMY2010 IS A NIGGER TOMMY2010 IS A NIGGER TOMMY2010 IS A NIGGER TOMMY2010 IS A NIGGER TOMMY2010 IS A NIGGER TOMMY2010 IS A NIGGER TOMMY2010 IS A NIGGER TOMMY2010 IS A NIGGER TOMMY2010 IS A NIGGER TOMMY2010 IS A NIGGER TOMMY2010 IS A NIGGER TOMMY2010 IS A NIGGER TOMMY2010 IS A NIGGER TOMMY2010 IS A NIGGER TOMMY2010 IS A NIGGER TOMMY2010 IS A NIGGER TOMMY2010 IS A NIGGER TOMMY2010 IS A NIGGER TOMMY2010 IS A NIGGER TOMMY2010 IS A NIGGER TOMMY2010 IS A NIGGER TOMMY2010 IS A NIGGER TOMMY2010 IS A NIGGER TOMMY2010 IS A NIGGER TOMMY2010 IS A NIGGER TOMMY2010 IS A NIGGER TOMMY2010 IS A NIGGER TOMMY2010 IS A NIGGER TOMMY2010 IS A NIGGER TOMMY2010 IS A NIGGER TOMMY2010 IS A NIGGER TOMMY2010 IS A NIGGER TOMMY2010 IS A NIGGER TOMMY2010 IS A NIGGER TOMMY2010 IS A NIGGER TOMMY2010 IS A NIGGER TOMMY2010 IS A NIGGER TOMMY2010 IS A NIGGER TOMMY2010 IS A NIGGER TOMMY2010 IS A NIGGER TOMMY2010 IS A NIGGER TOMMY2010 IS A NIGGER TOMMY2010 IS A NIGGER TOMMY2010 IS A NIGGER TOMMY2010 IS A NIGGER TOMMY2010 IS A NIGGER TOMMY2010 IS A NIGGER TOMMY2010 IS A NIGGER TOMMY2010 IS A NIGGER TOMMY2010 IS A NIGGER TOMMY2010 IS A NIGGER TOMMY2010 IS A NIGGER TOMMY2010 IS A NIGGER TOMMY2010 IS A NIGGER TOMMY2010 IS A NIGGER TOMMY2010 IS A NIGGER TOMMY2010 IS A NIGGER TOMMY2010 IS A NIGGER TOMMY2010 IS A NIGGER TOMMY2010 IS A NIGGER TOMMY2010 IS A NIGGER TOMMY2010 IS A NIGGER TOMMY2010 IS A NIGGER TOMMY2010 IS A NIGGER TOMMY2010 IS A NIGGER TOMMY2010 IS A NIGGER TOMMY2010 IS A NIGGER TOMMY2010 IS A NIGGER TOMMY2010 IS A NIGGER TOMMY2010 IS A NIGGER TOMMY2010 IS A NIGGER TOMMY2010 IS A NIGGER TOMMY2010 IS A NIGGER TOMMY2010 IS A NIGGER TOMMY2010 IS A NIGGER TOMMY2010 IS A NIGGER TOMMY2010 IS A NIGGER TOMMY2010 IS A NIGGER TOMMY2010 IS A NIGGER TOMMY2010 IS A NIGGER TOMMY2010 IS A NIGGER TOMMY2010 IS A NIGGER TOMMY2010 IS A NIGGER TOMMY2010 IS A NIGGER TOMMY2010 IS A NIGGER TOMMY2010 IS A NIGGER TOMMY2010 IS A NIGGER TOMMY2010 IS A NIGGER TOMMY2010 IS A NIGGER TOMMY2010 IS A NIGGER TOMMY2010 IS A NIGGER TOMMY2010 IS A NIGGER TOMMY2010 IS A NIGGER TOMMY2010 IS A NIGGER TOMMY2010 IS A NIGGER TOMMY2010 IS A NIGGER TOMMY2010 IS A NIGGER TOMMY2010 IS A NIGGER TOMMY2010 IS A NIGGER TOMMY2010 IS A NIGGER TOMMY2010 IS A NIGGER TOMMY2010 IS A NIGGER TOMMY2010 IS A NIGGER TOMMY2010 IS A NIGGER TOMMY2010 IS A NIGGER TOMMY2010 IS A NIGGER TOMMY2010 IS A NIGGER TOMMY2010 IS A NIGGER TOMMY2010 IS A NIGGER TOMMY2010 IS A NIGGER TOMMY2010 IS A NIGGER TOMMY2010 IS A NIGGER TOMMY2010 IS A NIGGER TOMMY2010 IS A NIGGER TOMMY2010 IS A NIGGER TOMMY2010 IS A NIGGER TOMMY2010 IS A NIGGER TOMMY2010 IS A NIGGER TOMMY2010 IS A NIGGER TOMMY2010 IS A NIGGER TOMMY2010 IS A NIGGER TOMMY2010 IS A NIGGER TOMMY2010 IS A NIGGER TOMMY2010 IS A NIGGER TOMMY2010 IS A NIGGER TOMMY2010 IS A NIGGER TOMMY2010 IS A NIGGER TOMMY2010 IS A NIGGER TOMMY2010 IS A NIGGER TOMMY2010 IS A NIGGER TOMMY2010 IS A NIGGER TOMMY2010 IS A NIGGER TOMMY2010 IS A NIGGER TOMMY2010 IS A NIGGER TOMMY2010 IS A NIGGER TOMMY2010 IS A NIGGER TOMMY2010 IS A NIGGER TOMMY2010 IS A NIGGER TOMMY2010 IS A NIGGER TOMMY2010 IS A NIGGER TOMMY2010 IS A NIGGER TOMMY2010 IS A NIGGER TOMMY2010 IS A NIGGER TOMMY2010 IS A NIGGER TOMMY2010 IS A NIGGER TOMMY2010 IS A NIGGER TOMMY2010 IS A NIGGER TOMMY2010 IS A NIGGER TOMMY2010 IS A NIGGER TOMMY2010 IS A NIGGER TOMMY2010 IS A NIGGER TOMMY2010 IS A NIGGER TOMMY2010 IS A NIGGER TOMMY2010 IS A NIGGER TOMMY2010 IS A NIGGER TOMMY2010 IS A NIGGER TOMMY2010 IS A NIGGER TOMMY2010 IS A NIGGER TOMMY2010 IS A NIGGER TOMMY2010 IS A NIGGER TOMMY2010 IS A NIGGER TOMMY2010 IS A NIGGER TOMMY2010 IS A NIGGER TOMMY2010 IS A NIGGER TOMMY2010 IS A NIGGER TOMMY2010 IS A NIGGER TOMMY2010 IS A NIGGER TOMMY2010 IS A NIGGER TOMMY2010 IS A NIGGER TOMMY2010 IS A NIGGER TOMMY2010 IS A NIGGER TOMMY2010 IS A NIGGER TOMMY2010 IS A NIGGER TOMMY2010 IS A NIGGER TOMMY2010 IS A NIGGER TOMMY2010 IS A NIGGER TOMMY2010 IS A NIGGER TOMMY2010 IS A NIGGER TOMMY2010 IS A NIGGER TOMMY2010 IS A NIGGER TOMMY2010 IS A NIGGER TOMMY2010 IS A NIGGER TOMMY2010 IS A NIGGER TOMMY2010 IS A NIGGER TOMMY2010 IS A NIGGER TOMMY2010 IS A NIGGER TOMMY2010 IS A NIGGER TOMMY2010 IS A NIGGER TOMMY2010 IS A NIGGER TOMMY2010 IS A NIGGER TOMMY2010 IS A NIGGER TOMMY2010 IS A NIGGER TOMMY2010 IS A NIGGER TOMMY2</td>\n",
       "      <td>1</td>\n",
       "      <td>5000</td>\n",
       "    </tr>\n",
       "    <tr>\n",
       "      <th>12869</th>\n",
       "      <td>12884</td>\n",
       "      <td>I OWN THIS PAGE YOU FOOLS!! YOU SHOULD FEAR ME!!!!!!!! I AM THE GOD OF CHOCOBOS, I WANT MY CHEESE, GEORGE BUSH SHOULD GO TO HELL!!!!!!!!! I AM THE GOD OF CHOCOBOS, I WANT MY CHEESE, GEORGE BUSH SHOULD GO TO HELL!!!!!!!!! I AM THE GOD OF CHOCOBOS, I WANT MY CHEESE, GEORGE BUSH SHOULD GO TO HELL!!!!!!!!! I AM THE GOD OF CHOCOBOS, I WANT MY CHEESE, GEORGE BUSH SHOULD GO TO HELL!!!!!!!!! I AM THE GOD OF CHOCOBOS, I WANT MY CHEESE, GEORGE BUSH SHOULD GO TO HELL!!!!!!!!! I AM THE GOD OF CHOCOBOS, I WANT MY CHEESE, GEORGE BUSH SHOULD GO TO HELL!!!!!!!!! I AM THE GOD OF CHOCOBOS, I WANT MY CHEESE, GEORGE BUSH SHOULD GO TO HELL!!!!!!!!! I AM THE GOD OF CHOCOBOS, I WANT MY CHEESE, GEORGE BUSH SHOULD GO TO HELL!!!!!!!!! I AM THE GOD OF CHOCOBOS, I WANT MY CHEESE, GEORGE BUSH SHOULD GO TO HELL!!!!!!!!! I AM THE GOD OF CHOCOBOS, I WANT MY CHEESE, GEORGE BUSH SHOULD GO TO HELL!!!!!!!!! I AM THE GOD OF CHOCOBOS, I WANT MY CHEESE, GEORGE BUSH SHOULD GO TO HELL!!!!!!!!! I AM THE GOD OF CHOCOBOS, I WANT MY CHEESE, GEORGE BUSH SHOULD GO TO HELL!!!!!!!!! I AM THE GOD OF CHOCOBOS, I WANT MY CHEESE, GEORGE BUSH SHOULD GO TO HELL!!!!!!!!! I AM THE GOD OF CHOCOBOS, I WANT MY CHEESE, GEORGE BUSH SHOULD GO TO HELL!!!!!!!!! I AM THE GOD OF CHOCOBOS, I WANT MY CHEESE, GEORGE BUSH SHOULD GO TO HELL!!!!!!!!! I AM THE GOD OF CHOCOBOS, I WANT MY CHEESE, GEORGE BUSH SHOULD GO TO HELL!!!!!!!!! I AM THE GOD OF CHOCOBOS, I WANT MY CHEESE, GEORGE BUSH SHOULD GO TO HELL!!!!!!!!! I AM THE GOD OF CHOCOBOS, I WANT MY CHEESE, GEORGE BUSH SHOULD GO TO HELL!!!!!!!!! I AM THE GOD OF CHOCOBOS, I WANT MY CHEESE, GEORGE BUSH SHOULD GO TO HELL!!!!!!!!! I AM THE GOD OF CHOCOBOS, I WANT MY CHEESE, GEORGE BUSH SHOULD GO TO HELL!!!!!!!!! I AM THE GOD OF CHOCOBOS, I WANT MY CHEESE, GEORGE BUSH SHOULD GO TO HELL!!!!!!!!! I AM THE GOD OF CHOCOBOS, I WANT MY CHEESE, GEORGE BUSH SHOULD GO TO HELL!!!!!!!!! I AM THE GOD OF CHOCOBOS, I WANT MY CHEESE, GEORGE BUSH SHOULD GO TO HELL!!!!!!!!! I AM THE GOD OF CHOCOBOS, I WANT MY CHEESE, GEORGE BUSH SHOULD GO TO HELL!!!!!!!!! I AM THE GOD OF CHOCOBOS, I WANT MY CHEESE, GEORGE BUSH SHOULD GO TO HELL!!!!!!!!! I AM THE GOD OF CHOCOBOS, I WANT MY CHEESE, GEORGE BUSH SHOULD GO TO HELL!!!!!!!!! I AM THE GOD OF CHOCOBOS, I WANT MY CHEESE, GEORGE BUSH SHOULD GO TO HELL!!!!!!!!! I AM THE GOD OF CHOCOBOS, I WANT MY CHEESE, GEORGE BUSH SHOULD GO TO HELL!!!!!!!!! I AM THE GOD OF CHOCOBOS, I WANT MY CHEESE, GEORGE BUSH SHOULD GO TO HELL!!!!!!!!! I AM THE GOD OF CHOCOBOS, I WANT MY CHEESE, GEORGE BUSH SHOULD GO TO HELL!!!!!!!!! I AM THE GOD OF CHOCOBOS, I WANT MY CHEESE, GEORGE BUSH SHOULD GO TO HELL!!!!!!!!! I AM THE GOD OF CHOCOBOS, I WANT MY CHEESE, GEORGE BUSH SHOULD GO TO HELL!!!!!!!!! I AM THE GOD OF CHOCOBOS, I WANT MY CHEESE, GEORGE BUSH SHOULD GO TO HELL!!!!!!!!! I AM THE GOD OF CHOCOBOS, I WANT MY CHEESE, GEORGE BUSH SHOULD GO TO HELL!!!!!!!!! I AM THE GOD OF CHOCOBOS, I WANT MY CHEESE, GEORGE BUSH SHOULD GO TO HELL!!!!!!!!! I AM THE GOD OF CHOCOBOS, I WANT MY CHEESE, GEORGE BUSH SHOULD GO TO HELL!!!!!!!!! I AM THE GOD OF CHOCOBOS, I WANT MY CHEESE, GEORGE BUSH SHOULD GO TO HELL!!!!!!!!! I AM THE GOD OF CHOCOBOS, I WANT MY CHEESE, GEORGE BUSH SHOULD GO TO HELL!!!!!!!!! I AM THE GOD OF CHOCOBOS, I WANT MY CHEESE, GEORGE BUSH SHOULD GO TO HELL!!!!!!!!! I AM THE GOD OF CHOCOBOS, I WANT MY CHEESE, GEORGE BUSH SHOULD GO TO HELL!!!!!!!!! I AM THE GOD OF CHOCOBOS, I WANT MY CHEESE, GEORGE BUSH SHOULD GO TO HELL!!!!!!!!! I AM THE GOD OF CHOCOBOS, I WANT MY CHEESE, GEORGE BUSH SHOULD GO TO HELL!!!!!!!!! I AM THE GOD OF CHOCOBOS, I WANT MY CHEESE, GEORGE BUSH SHOULD GO TO HELL!!!!!!!!! I AM THE GOD OF CHOCOBOS, I WANT MY CHEESE, GEORGE BUSH SHOULD GO TO HELL!!!!!!!!! I AM THE GOD OF CHOCOBOS, I WANT MY CHEESE, GEORGE BUSH SHOULD GO TO HELL!!!!!!!!! I AM THE GOD OF CHOCOBOS, I WANT MY CHEESE, GEORGE BUSH SHOULD GO TO HELL!!!!!!!!! I AM THE GOD OF CHOCOBOS, I WANT MY CHEESE, GEORGE BUSH SHOULD GO TO HELL!!!!!!!!! I AM THE GOD OF CHOCOBOS, I WANT MY CHEESE, GEORGE BUSH SHOULD GO TO HELL!!!!!!!!! I AM THE GOD OF CHOCOBOS, I WANT MY CHEESE, GEORGE BUSH SHOULD GO TO HELL!!!!!!!!! I AM THE GOD OF CHOCOBOS, I WANT MY CHEESE, GEORGE BUSH SHOULD GO TO HELL!!!!!!!!! I AM THE GOD OF CHOCOBOS, I WANT MY CHEESE, GEORGE BUSH SHOULD GO TO HELL!!!!!!!!! I AM THE GOD OF CHOCOBOS, I WANT MY CHEESE, GEORGE BUSH SHOULD GO TO HELL!!!!!!!!! I AM THE GOD OF CHOCOBOS, I WANT MY CHEESE, GEORGE BUSH SHOULD GO TO HELL!!!!!!!!! I AM THE GOD OF CHOCOBOS, I WANT MY CHEESE, GEORGE BUSH SHOULD GO TO HELL!!!!!!!!! I AM THE GOD OF CHOCOBOS, I WANT MY CHEESE, GEORGE BUSH SHOULD GO TO HELL!!!!!!!!! I AM THE GOD OF CHOCOBOS, I WANT MY CHEESE, GEORGE BUSH SHOULD GO TO HELL!!!!!!!!! I AM THE GOD OF CHOCOBOS, I WANT MY CHEESE, GEORGE BUSH SHOULD GO TO HELL!!!!!!!!! I AM THE GOD OF CHOCOBOS, I WANT MY CHEESE, GEORGE BUSH SHOULD GO TO HELL!!!!!!!!! I AM THE GOD OF CHOCOBOS, I WANT MY CHEESE, GEORGE BUSH SHOULD GO TO HELL!!!!!!!!! I AM THE GOD OF CHOCOBOS, I WANT MY CHEESE, GEOR</td>\n",
       "      <td>1</td>\n",
       "      <td>5000</td>\n",
       "    </tr>\n",
       "    <tr>\n",
       "      <th>16612</th>\n",
       "      <td>16629</td>\n",
       "      <td>'''Hi Wikipedia!!Hi Wikipedia!!Hi Wikipedia!!Hi Wikipedia!!Hi Wikipedia!!Hi Wikipedia!!Hi Wikipedia!!Hi Wikipedia!!Hi Wikipedia!!Hi Wikipedia!!Hi Wikipedia!!Hi Wikipedia!!Hi Wikipedia!!Hi Wikipedia!!Hi Wikipedia!!Hi Wikipedia!!Hi Wikipedia!!Hi Wikipedia!!Hi Wikipedia!!Hi Wikipedia!!Hi Wikipedia!!Hi Wikipedia!!Hi Wikipedia!!Hi Wikipedia!!Hi Wikipedia!!Hi Wikipedia!!Hi Wikipedia!!Hi Wikipedia!!Hi Wikipedia!!Hi Wikipedia!!Hi Wikipedia!!Hi Wikipedia!!Hi Wikipedia!!Hi Wikipedia!!Hi Wikipedia!!Hi Wikipedia!!Hi Wikipedia!!Hi Wikipedia!!Hi Wikipedia!!Hi Wikipedia!!Hi Wikipedia!!Hi Wikipedia!!Hi Wikipedia!!Hi Wikipedia!!Hi Wikipedia!!Hi Wikipedia!!Hi Wikipedia!!Hi Wikipedia!!Hi Wikipedia!!Hi Wikipedia!!Hi Wikipedia!!Hi Wikipedia!!Hi Wikipedia!!Hi Wikipedia!!Hi Wikipedia!!Hi Wikipedia!!Hi Wikipedia!!Hi Wikipedia!!Hi Wikipedia!!Hi Wikipedia!!Hi Wikipedia!!Hi Wikipedia!!Hi Wikipedia!!Hi Wikipedia!!Hi Wikipedia!!Hi Wikipedia!!Hi Wikipedia!!Hi Wikipedia!!Hi Wikipedia!!Hi Wikipedia!!Hi Wikipedia!!Hi Wikipedia!!Hi Wikipedia!!Hi Wikipedia!!Hi Wikipedia!!Hi Wikipedia!!Hi Wikipedia!!Hi Wikipedia!!Hi Wikipedia!!Hi Wikipedia!!Hi Wikipedia!!Hi Wikipedia!!Hi Wikipedia!!Hi Wikipedia!!Hi Wikipedia!!Hi Wikipedia!!Hi Wikipedia!!Hi Wikipedia!!Hi Wikipedia!!Hi Wikipedia!!Hi Wikipedia!!Hi Wikipedia!!Hi Wikipedia!!Hi Wikipedia!!Hi Wikipedia!!Hi Wikipedia!!Hi Wikipedia!!Hi Wikipedia!!Hi Wikipedia!!Hi Wikipedia!!Hi Wikipedia!!Hi Wikipedia!!Hi Wikipedia!!Hi Wikipedia!!Hi Wikipedia!!Hi Wikipedia!!Hi Wikipedia!!Hi Wikipedia!!Hi Wikipedia!!Hi Wikipedia!!Hi Wikipedia!!Hi Wikipedia!!Hi Wikipedia!!Hi Wikipedia!!Hi Wikipedia!!Hi Wikipedia!!Hi Wikipedia!!Hi Wikipedia!!Hi Wikipedia!!Hi Wikipedia!!Hi Wikipedia!!Hi Wikipedia!!Hi Wikipedia!!Hi Wikipedia!!Hi Wikipedia!!Hi Wikipedia!!Hi Wikipedia!!Hi Wikipedia!!Hi Wikipedia!!Hi Wikipedia!!Hi Wikipedia!!Hi Wikipedia!!Hi Wikipedia!!Hi Wikipedia!!Hi Wikipedia!!Hi Wikipedia!!Hi Wikipedia!!Hi Wikipedia!!Hi Wikipedia!!Hi Wikipedia!!Hi Wikipedia!!Hi Wikipedia!!Hi Wikipedia!!Hi Wikipedia!!Hi Wikipedia!!Hi Wikipedia!!Hi Wikipedia!!Hi Wikipedia!!Hi Wikipedia!!Hi Wikipedia!!Hi Wikipedia!!Hi Wikipedia!!Hi Wikipedia!!Hi Wikipedia!!Hi Wikipedia!!Hi Wikipedia!!Hi Wikipedia!!Hi Wikipedia!!Hi Wikipedia!!Hi Wikipedia!!Hi Wikipedia!!Hi Wikipedia!!Hi Wikipedia!!Hi Wikipedia!!Hi Wikipedia!!Hi Wikipedia!!Hi Wikipedia!!Hi Wikipedia!!Hi Wikipedia!!Hi Wikipedia!!Hi Wikipedia!!Hi Wikipedia!!Hi Wikipedia!!Hi Wikipedia!!Hi Wikipedia!!Hi Wikipedia!!Hi Wikipedia!!Hi Wikipedia!!Hi Wikipedia!!Hi Wikipedia!!Hi Wikipedia!!Hi Wikipedia!!Hi Wikipedia!!Hi Wikipedia!!Hi Wikipedia!!Hi Wikipedia!!Hi Wikipedia!!Hi Wikipedia!!Hi Wikipedia!!Hi Wikipedia!!Hi Wikipedia!!Hi Wikipedia!!Hi Wikipedia!!Hi Wikipedia!!Hi Wikipedia!!Hi Wikipedia!!Hi Wikipedia!!Hi Wikipedia!!Hi Wikipedia!!Hi Wikipedia!!Hi Wikipedia!!Hi Wikipedia!!Hi Wikipedia!!Hi Wikipedia!!Hi Wikipedia!!Hi Wikipedia!!Hi Wikipedia!!Hi Wikipedia!!Hi Wikipedia!!Hi Wikipedia!!Hi Wikipedia!!Hi Wikipedia!!Hi Wikipedia!!Hi Wikipedia!!Hi Wikipedia!!Hi Wikipedia!!Hi Wikipedia!!Hi Wikipedia!!Hi Wikipedia!!Hi Wikipedia!!Hi Wikipedia!!Hi Wikipedia!!Hi Wikipedia!!Hi Wikipedia!!Hi Wikipedia!!Hi Wikipedia!!Hi Wikipedia!!Hi Wikipedia!!Hi Wikipedia!!Hi Wikipedia!!Hi Wikipedia!!Hi Wikipedia!!Hi Wikipedia!!Hi Wikipedia!!Hi Wikipedia!!Hi Wikipedia!!Hi Wikipedia!!Hi Wikipedia!!Hi Wikipedia!!Hi Wikipedia!!Hi Wikipedia!!Hi Wikipedia!!Hi Wikipedia!!Hi Wikipedia!!Hi Wikipedia!!Hi Wikipedia!!Hi Wikipedia!!Hi Wikipedia!!Hi Wikipedia!!Hi Wikipedia!!Hi Wikipedia!!Hi Wikipedia!!Hi Wikipedia!!Hi Wikipedia!!Hi Wikipedia!!Hi Wikipedia!!Hi Wikipedia!!Hi Wikipedia!!Hi Wikipedia!!Hi Wikipedia!!Hi Wikipedia!!Hi Wikipedia!!Hi Wikipedia!!Hi Wikipedia!!Hi Wikipedia!!Hi Wikipedia!!Hi Wikipedia!!Hi Wikipedia!!Hi Wikipedia!!Hi Wikipedia!!Hi Wikipedia!!Hi Wikipedia!!Hi Wikipedia!!Hi Wikipedia!!Hi Wikipedia!!Hi Wikipedia!!Hi Wikipedia!!Hi Wikipedia!!Hi Wikipedia!!Hi Wikipedia!!Hi Wikipedia!!Hi Wikipedia!!Hi Wikipedia!!Hi Wikipedia!!Hi Wikipedia!!Hi Wikipedia!!Hi Wikipedia!!Hi Wikipedia!!Hi Wikipedia!!Hi Wikipedia!!Hi Wikipedia!!Hi Wikipedia!!Hi Wikipedia!!Hi Wikipedia!!Hi Wikipedia!!Hi Wikipedia!!Hi Wikipedia!!Hi Wikipedia!!Hi Wikipedia!!Hi Wikipedia!!Hi Wikipedia!!Hi Wikipedia!!Hi Wikipedia!!Hi Wikipedia!!Hi Wikipedia!!Hi Wikipedia!!Hi Wikipedia!!Hi Wikipedia!!Hi Wikipedia!!Hi Wikipedia!!Hi Wikipedia!!Hi Wikipedia!!Hi Wikipedia!!Hi Wikipedia!!Hi Wikipedia!!Hi Wikipedia!!Hi Wikipedia!!Hi Wikipedia!!Hi Wikipedia!!Hi Wikipedia!!Hi Wikipedia!!Hi Wikipedia!!Hi Wikipedia!!Hi Wikipedia!!Hi Wikipedia!!Hi Wikipedia!!Hi Wikipedia!!Hi Wikipedia!!Hi Wikipedia!!Hi Wikipedia!!Hi Wikipedia!!Hi Wikipedia!!Hi Wikipedia!!Hi Wikipedia!!Hi Wikipedia!!Hi Wikipedia!!Hi Wikipedia!!Hi Wikipedia!!Hi Wikipedia!!Hi Wikipedia!!Hi Wikipedia!!Hi Wikipedia!!Hi Wikipedia!!Hi Wikipedia!!Hi Wikipedia!!Hi Wikipedia!!Hi Wikipedia!!Hi Wikipedia!!Hi Wikipedia!!Hi Wikipedia!!Hi Wikipedia!!Hi Wikipedia!!Hi Wikipedia!!Hi Wikipedia!!Hi Wikipedia!!Hi Wikipedia!!Hi Wikipedia!</td>\n",
       "      <td>0</td>\n",
       "      <td>5000</td>\n",
       "    </tr>\n",
       "    <tr>\n",
       "      <th>18151</th>\n",
       "      <td>18168</td>\n",
       "      <td>Hey guys I love chicken rice=)Hey guys I love chicken rice=)Hey guys I love chicken rice=)Hey guys I love chicken rice=)Hey guys I love chicken rice=)Hey guys I love chicken rice=)Hey guys I love chicken rice=)Hey guys I love chicken rice=)Hey guys I love chicken rice=)Hey guys I love chicken rice=)Hey guys I love chicken rice=)Hey guys I love chicken rice=)Hey guys I love chicken rice=)Hey guys I love chicken rice=)Hey guys I love chicken rice=)Hey guys I love chicken rice=)Hey guys I love chicken rice=)Hey guys I love chicken rice=)Hey guys I love chicken rice=)Hey guys I love chicken rice=)Hey guys I love chicken rice=)Hey guys I love chicken rice=)Hey guys I love chicken rice=)Hey guys I love chicken rice=)Hey guys I love chicken rice=)Hey guys I love chicken rice=)Hey guys I love chicken rice=)Hey guys I love chicken rice=)Hey guys I love chicken rice=)Hey guys I love chicken rice=)Hey guys I love chicken rice=)Hey guys I love chicken rice=)Hey guys I love chicken rice=)Hey guys I love chicken rice=)Hey guys I love chicken rice=)Hey guys I love chicken rice=)Hey guys I love chicken rice=)Hey guys I love chicken rice=)Hey guys I love chicken rice=)Hey guys I love chicken rice=)Hey guys I love chicken rice=)Hey guys I love chicken rice=)Hey guys I love chicken rice=)Hey guys I love chicken rice=)Hey guys I love chicken rice=)Hey guys I love chicken rice=)Hey guys I love chicken rice=)Hey guys I love chicken rice=)Hey guys I love chicken rice=)Hey guys I love chicken rice=)Hey guys I love chicken rice=)Hey guys I love chicken rice=)Hey guys I love chicken rice=)Hey guys I love chicken rice=)Hey guys I love chicken rice=)Hey guys I love chicken rice=)Hey guys I love chicken rice=)Hey guys I love chicken rice=)Hey guys I love chicken rice=)Hey guys I love chicken rice=)Hey guys I love chicken rice=)Hey guys I love chicken rice=)Hey guys I love chicken rice=)Hey guys I love chicken rice=)Hey guys I love chicken rice=)Hey guys I love chicken rice=)Hey guys I love chicken rice=)Hey guys I love chicken rice=)Hey guys I love chicken rice=)Hey guys I love chicken rice=)Hey guys I love chicken rice=)Hey guys I love chicken rice=)Hey guys I love chicken rice=)Hey guys I love chicken rice=)Hey guys I love chicken rice=)Hey guys I love chicken rice=)Hey guys I love chicken rice=)Hey guys I love chicken rice=)Hey guys I love chicken rice=)Hey guys I love chicken rice=)Hey guys I love chicken rice=)Hey guys I love chicken rice=)Hey guys I love chicken rice=)Hey guys I love chicken rice=)Hey guys I love chicken rice=)Hey guys I love chicken rice=)Hey guys I love chicken rice=)Hey guys I love chicken rice=)Hey guys I love chicken rice=)Hey guys I love chicken rice=)Hey guys I love chicken rice=)Hey guys I love chicken rice=)Hey guys I love chicken rice=)Hey guys I love chicken rice=)Hey guys I love chicken rice=)Hey guys I love chicken rice=)Hey guys I love chicken rice=)Hey guys I love chicken rice=)Hey guys I love chicken rice=)Hey guys I love chicken rice=)Hey guys I love chicken rice=)Hey guys I love chicken rice=)Hey guys I love chicken rice=)Hey guys I love chicken rice=)Hey guys I love chicken rice=)Hey guys I love chicken rice=)Hey guys I love chicken rice=)Hey guys I love chicken rice=)Hey guys I love chicken rice=)Hey guys I love chicken rice=)Hey guys I love chicken rice=)Hey guys I love chicken rice=)Hey guys I love chicken rice=)Hey guys I love chicken rice=)Hey guys I love chicken rice=)Hey guys I love chicken rice=)Hey guys I love chicken rice=)Hey guys I love chicken rice=)Hey guys I love chicken rice=)Hey guys I love chicken rice=)Hey guys I love chicken rice=)Hey guys I love chicken rice=)Hey guys I love chicken rice=)Hey guys I love chicken rice=)Hey guys I love chicken rice=)Hey guys I love chicken rice=)Hey guys I love chicken rice=)Hey guys I love chicken rice=)Hey guys I love chicken rice=)Hey guys I love chicken rice=)Hey guys I love chicken rice=)Hey guys I love chicken rice=)Hey guys I love chicken rice=)Hey guys I love chicken rice=)Hey guys I love chicken rice=)Hey guys I love chicken rice=)Hey guys I love chicken rice=)Hey guys I love chicken rice=)Hey guys I love chicken rice=)Hey guys I love chicken rice=)Hey guys I love chicken rice=)Hey guys I love chicken rice=)Hey guys I love chicken rice=)Hey guys I love chicken rice=)Hey guys I love chicken rice=)Hey guys I love chicken rice=)Hey guys I love chicken rice=)Hey guys I love chicken rice=)Hey guys I love chicken rice=)Hey guys I love chicken rice=)Hey guys I love chicken rice=)Hey guys I love chicken rice=)Hey guys I love chicken rice=)Hey guys I love chicken rice=)Hey guys I love chicken rice=)Hey guys I love chicken rice=)Hey guys I love chicken rice=)Hey guys I love chicken rice=)Hey guys I love chicken rice=)Hey guys I love chicken rice=)Hey guys I love chicken rice=)Hey guys I love chicken rice=)Hey guys I love chicken rice=)Hey guys I love chicken rice=)Hey guys I love chicken rice=)Hey guys I love chicken rice=)Hey guys I love chic</td>\n",
       "      <td>0</td>\n",
       "      <td>5000</td>\n",
       "    </tr>\n",
       "    <tr>\n",
       "      <th>22334</th>\n",
       "      <td>22354</td>\n",
       "      <td>I fuck niggas! I fuck niggas! I fuck niggas! I fuck niggas! I fuck niggas! I fuck niggas! I fuck niggas! I fuck niggas! I fuck niggas! I fuck niggas! I fuck niggas! I fuck niggas! I fuck niggas! I fuck niggas! I fuck niggas! I fuck niggas! I fuck niggas! I fuck niggas! I fuck niggas! I fuck niggas! I fuck niggas! I fuck niggas! I fuck niggas! I fuck niggas! I fuck niggas! I fuck niggas! I fuck niggas! I fuck niggas! I fuck niggas! I fuck niggas! I fuck niggas! I fuck niggas! I fuck niggas! I fuck niggas! I fuck niggas! I fuck niggas! I fuck niggas! I fuck niggas! I fuck niggas! I fuck niggas! I fuck niggas! I fuck niggas! I fuck niggas! I fuck niggas! I fuck niggas! I fuck niggas! I fuck niggas! I fuck niggas! I fuck niggas! I fuck niggas! I fuck niggas! I fuck niggas! I fuck niggas! I fuck niggas! I fuck niggas! I fuck niggas! I fuck niggas! I fuck niggas! I fuck niggas! I fuck niggas! I fuck niggas! I fuck niggas! I fuck niggas! I fuck niggas! I fuck niggas! I fuck niggas! I fuck niggas! I fuck niggas! I fuck niggas! I fuck niggas! I fuck niggas! I fuck niggas! I fuck niggas! I fuck niggas! I fuck niggas! I fuck niggas! I fuck niggas! I fuck niggas! I fuck niggas! I fuck niggas! I fuck niggas! I fuck niggas! I fuck niggas! I fuck niggas! I fuck niggas! I fuck niggas! I fuck niggas! I fuck niggas! I fuck niggas! I fuck niggas! I fuck niggas! I fuck niggas! I fuck niggas! I fuck niggas! I fuck niggas! I fuck niggas! I fuck niggas! I fuck niggas! I fuck niggas! I fuck niggas! I fuck niggas! I fuck niggas! I fuck niggas! I fuck niggas! I fuck niggas! I fuck niggas! I fuck niggas! I fuck niggas! I fuck niggas! I fuck niggas! I fuck niggas! I fuck niggas! I fuck niggas! I fuck niggas! I fuck niggas! I fuck niggas! I fuck niggas! I fuck niggas! I fuck niggas! I fuck niggas! I fuck niggas! I fuck niggas! I fuck niggas! I fuck niggas! I fuck niggas! I fuck niggas! I fuck niggas! I fuck niggas! I fuck niggas! I fuck niggas! I fuck niggas! I fuck niggas! I fuck niggas! I fuck niggas! I fuck niggas! I fuck niggas! I fuck niggas! I fuck niggas! I fuck niggas! I fuck niggas! I fuck niggas! I fuck niggas! I fuck niggas! I fuck niggas! I fuck niggas! I fuck niggas! I fuck niggas! I fuck niggas! I fuck niggas! I fuck niggas! I fuck niggas! I fuck niggas! I fuck niggas! I fuck niggas! I fuck niggas! I fuck niggas! I fuck niggas! I fuck niggas! I fuck niggas! I fuck niggas! I fuck niggas! I fuck niggas! I fuck niggas! I fuck niggas! I fuck niggas! I fuck niggas! I fuck niggas! I fuck niggas! I fuck niggas! I fuck niggas! I fuck niggas! I fuck niggas! I fuck niggas! I fuck niggas! I fuck niggas! I fuck niggas! I fuck niggas! I fuck niggas! I fuck niggas! I fuck niggas! I fuck niggas! I fuck niggas! I fuck niggas! I fuck niggas! I fuck niggas! I fuck niggas! I fuck niggas! I fuck niggas! I fuck niggas! I fuck niggas! I fuck niggas! I fuck niggas! I fuck niggas! I fuck niggas! I fuck niggas! I fuck niggas! I fuck niggas! I fuck niggas! I fuck niggas! I fuck niggas! I fuck niggas! I fuck niggas! I fuck niggas! I fuck niggas! I fuck niggas! I fuck niggas! I fuck niggas! I fuck niggas! I fuck niggas! I fuck niggas! I fuck niggas! I fuck niggas! I fuck niggas! I fuck niggas! I fuck niggas! I fuck niggas! I fuck niggas! I fuck niggas! I fuck niggas! I fuck niggas! I fuck niggas! I fuck niggas! I fuck niggas! I fuck niggas! I fuck niggas! I fuck niggas! I fuck niggas! I fuck niggas! I fuck niggas! I fuck niggas! I fuck niggas! I fuck niggas! I fuck niggas! I fuck niggas! I fuck niggas! I fuck niggas! I fuck niggas! I fuck niggas! I fuck niggas! I fuck niggas! I fuck niggas! I fuck niggas! I fuck niggas! I fuck niggas! I fuck niggas! I fuck niggas! I fuck niggas! I fuck niggas! I fuck niggas! I fuck niggas! I fuck niggas! I fuck niggas! I fuck niggas! I fuck niggas! I fuck niggas! I fuck niggas! I fuck niggas! I fuck niggas! I fuck niggas! I fuck niggas! I fuck niggas! I fuck niggas! I fuck niggas! I fuck niggas! I fuck niggas! I fuck niggas! I fuck niggas! I fuck niggas! I fuck niggas! I fuck niggas! I fuck niggas! I fuck niggas! I fuck niggas! I fuck niggas! I fuck niggas! I fuck niggas! I fuck niggas! I fuck niggas! I fuck niggas! I fuck niggas! I fuck niggas! I fuck niggas! I fuck niggas! I fuck niggas! I fuck niggas! I fuck niggas! I fuck niggas! I fuck niggas! I fuck niggas! I fuck niggas! I fuck niggas! I fuck niggas! I fuck niggas! I fuck niggas! I fuck niggas! I fuck niggas! I fuck niggas! I fuck niggas! I fuck niggas! I fuck niggas! I fuck niggas! I fuck niggas! I fuck niggas! I fuck niggas! I fuck niggas! I fuck niggas! I fuck niggas! I fuck niggas! I fuck niggas! I fuck niggas! I fuck niggas! I fuck niggas! I fuck niggas! I fuck niggas! I fuck niggas! I fuck niggas! I fuck niggas! I fuck niggas! I fuck niggas! I fuck niggas! I fuck niggas! I fuck niggas! I fuck niggas! I fuck niggas! I fuck niggas! I fuck niggas! I fuck niggas! I fuck niggas! I fuck niggas! I fuck niggas! I fuck niggas! I fuck niggas! I fuck niggas! I fuc</td>\n",
       "      <td>1</td>\n",
       "      <td>5000</td>\n",
       "    </tr>\n",
       "    <tr>\n",
       "      <th>25647</th>\n",
       "      <td>25671</td>\n",
       "      <td>\"....would you prefer expressing my frustration in what i don't agree with and try to say it as direct and respectful as possible or would you prefer for me to not say much and be harsh to you and not give care to what you sat? would that be suit you better?i could..but i don't think that's what you want...ramblings you said just because you don't like to be told off doesn't mean its rambling, deal with it like a MAN  and take criticism because not everyone  does things the same way...so for you or anyone complaining about speaking one's mind i could care less tbh but you're abusing your power and you are the reason or one of the reasons you make it unpleasant for some to edit in wikipedia...even when i try to to make good edits and a lot more thorough and informative you have a complaint about it.. i'm doing exactly the same thing you are doing pal, are not any more or lesser than me....don't talk the talk if you can't take it when people speak their mind about things you don't want to hear cause that right there is childish, you expect people to bow to you and not respond? lol good luck with that you're not getting that out of me...i mean i'm willing to compromise and discuss things but you are putting half-assed edits..i'm filling them out an expanding and putting sources on them i might add and you or others with your limited mentality revert an article to 1 with very little information ..how are empty spaces better than filled ones? that makes absolutely no sense...i even provide some sources from where i get my stuff from and still complain n harass?...you prob didn't even notice some of the edits there you see in even your edits and others  were done by ME lol, you just built upon it and added your own, i'm not saying you nor others taking credit for others work and research (i hope not that's just unprofessional and messed up) but you got something of a personal motive that you're not admitting to, if i'm doing the edits as best as i can and doing it the same way as you are and tryign to provide sources...what s the problem then? the stuff i get my info from are from credited  1st or 3rd party websites lol..what more do you need? the signatures of the editors of the other websites where i get my info from? come on now haha..why don't you be a little more honest and say what really is your problem with me instead of making escuses for it and when people confront you about it or want to speak their mind you back out...oh yeah that's very mature pal just because i don't believe in the same ideals as you ...i mean how can  an admin of such  \"\"REPUTATION\"\" be so naive..i don't get it..you don't like others to express their disapproval or speak their mind about how to improve an article  i mean this is what U r doing \"\"4 + X = 5\"\"..that's ok to you right ..missing information that you won't even bother to look up fully and this isn't a grammar class people make typos all the time big deal deal with it..this isn't a regular article its a talk page. i got my say as much as you do regardless of how long you have being editing here or your position here etc, i have a say as much as you do...if you can't take criticism of your poorly edited works than maybe you shouldn't be editing here in the first place..you have no seniority or control over me whatsoever..no one does as i don't have over you ...all i'm asking is for me do do things right and i'am i give u sources , i flesh out the articles n fill in the blanks ..what more do you want guy?...don't make arrogant excuses about my typos or so called ramblings just because you can't take being told in your face criticism in your work...the point is i COMPLETE the articles..you and others with your mentality don't finish it or bother to do a more thorough look..so don't make excuses for your wrong doings ..so you can't take criticism, you don't like other people's edits that re more complete and informative than yours unless you are the 1 editing them, you make excuses for people speaking their mind when they tell you things in your face that are mostly true but you aren't mature enough to own up to it, you make it personal...so if you or anyone who thinks like you don't think about it or made the effort than its BAD right? lol...who you think you are? god ? lol ....i try to be respectful and i want to be able to edit freely in my own way even though my versions are usually more complete , informative and thorough, i don't make up facts i don't troll or do things with bad intentions here..especially here because i rely in wikipedia  myself when i want to look up something just because you haven't thought it up or made the effort to be more thorough doesn't mean you or your kind with your mindset have to abuse their authority here because they weren't creative enough to come up wit h it themselves..like i said go ahead and make excuses about misspellings and ramblings because you hide under that to mask your own faults wish it was you who done it and thought it up</td>\n",
       "      <td>0</td>\n",
       "      <td>5000</td>\n",
       "    </tr>\n",
       "  </tbody>\n",
       "</table>\n",
       "</div>"
      ],
      "text/plain": [
       "       Unnamed: 0  \\\n",
       "4167         4167   \n",
       "6190         6194   \n",
       "8685         8697   \n",
       "9651         9664   \n",
       "10746       10759   \n",
       "12869       12884   \n",
       "16612       16629   \n",
       "18151       18168   \n",
       "22334       22354   \n",
       "25647       25671   \n",
       "\n",
       "                                                                                                                                                                                                                                                                                                                                                                                                                                                                                                                                                                                                                                                                                                                                                                                                                                                                                                                                                                                                                                                                                                                                                                                                                                                                                                                                                                                                                                                                                                                                                                                                                                                                                                                                                                                                                                                                                                                                                                                                                                                                                                                                                                                                                                                                                                                                                                                                                                                                                                                                                                                                                                                                                                                                                                                                                                                                                                                                                                                                                                                                                                                                                                                                                                                                                                                                                                                                                                                                                                                                                                                                                                                                                                                                                                                                                                                                                                                                                                                                                                                                                                                                                                                                                                                                                                                                                                                                                                                                                                                                                                                                                                                                                                                                                                                                                                                                                                                                                                                                                                                                                                                                                                                                           text  \\\n",
       "4167   ii CAN STILL POST WITH THIS COMPUTER...I SAID BLOCK ME, COME THE FUCK DOWN HERE AND ARREST ME...SAN DIEGO CALIFORNIA, CHULA VISTA, FUCKING GET YOUR INFORMATION RIGHT FAGGOT SHITHEAD!!i CAN STILL POST WITH THIS COMPUTER...I SAID BLOCK ME, COME THE FUCK DOWN HERE AND ARREST ME...SAN DIEGO CALIFORNIA, CHULA VISTA, FUCKING GET YOUR INFORMATION RIGHT FAGGOT SHITHEAD!!i CAN STILL POST WITH THIS COMPUTER...I SAID BLOCK ME, COME THE FUCK DOWN HERE AND ARREST ME...SAN DIEGO CALIFORNIA, CHULA VISTA, FUCKING GET YOUR INFORMATION RIGHT FAGGOT SHITHEAD!!i CAN STILL POST WITH THIS COMPUTER...I SAID BLOCK ME, COME THE FUCK DOWN HERE AND ARREST ME...SAN DIEGO CALIFORNIA, CHULA VISTA, FUCKING GET YOUR INFORMATION RIGHT FAGGOT SHITHEAD!!i CAN STILL POST WITH THIS COMPUTER...I SAID BLOCK ME, COME THE FUCK DOWN HERE AND ARREST ME...SAN DIEGO CALIFORNIA, CHULA VISTA, FUCKING GET YOUR INFORMATION RIGHT FAGGOT SHITHEAD!!i CAN STILL POST WITH THIS COMPUTER...I SAID BLOCK ME, COME THE FUCK DOWN HERE AND ARREST ME...SAN DIEGO CALIFORNIA, CHULA VISTA, FUCKING GET YOUR INFORMATION RIGHT FAGGOT SHITHEAD!!i CAN STILL POST WITH THIS COMPUTER...I SAID BLOCK ME, COME THE FUCK DOWN HERE AND ARREST ME...SAN DIEGO CALIFORNIA, CHULA VISTA, FUCKING GET YOUR INFORMATION RIGHT FAGGOT SHITHEAD!!i CAN STILL POST WITH THIS COMPUTER...I SAID BLOCK ME, COME THE FUCK DOWN HERE AND ARREST ME...SAN DIEGO CALIFORNIA, CHULA VISTA, FUCKING GET YOUR INFORMATION RIGHT FAGGOT SHITHEAD!!i CAN STILL POST WITH THIS COMPUTER...I SAID BLOCK ME, COME THE FUCK DOWN HERE AND ARREST ME...SAN DIEGO CALIFORNIA, CHULA VISTA, FUCKING GET YOUR INFORMATION RIGHT FAGGOT SHITHEAD!!i CAN STILL POST WITH THIS COMPUTER...I SAID BLOCK ME, COME THE FUCK DOWN HERE AND ARREST ME...SAN DIEGO CALIFORNIA, CHULA VISTA, FUCKING GET YOUR INFORMATION RIGHT FAGGOT SHITHEAD!!i CAN STILL POST WITH THIS COMPUTER...I SAID BLOCK ME, COME THE FUCK DOWN HERE AND ARREST ME...SAN DIEGO CALIFORNIA, CHULA VISTA, FUCKING GET YOUR INFORMATION RIGHT FAGGOT SHITHEAD!!i CAN STILL POST WITH THIS COMPUTER...I SAID BLOCK ME, COME THE FUCK DOWN HERE AND ARREST ME...SAN DIEGO CALIFORNIA, CHULA VISTA, FUCKING GET YOUR INFORMATION RIGHT FAGGOT SHITHEAD!!i CAN STILL POST WITH THIS COMPUTER...I SAID BLOCK ME, COME THE FUCK DOWN HERE AND ARREST ME...SAN DIEGO CALIFORNIA, CHULA VISTA, FUCKING GET YOUR INFORMATION RIGHT FAGGOT SHITHEAD!!i CAN STILL POST WITH THIS COMPUTER...I SAID BLOCK ME, COME THE FUCK DOWN HERE AND ARREST ME...SAN DIEGO CALIFORNIA, CHULA VISTA, FUCKING GET YOUR INFORMATION RIGHT FAGGOT SHITHEAD!!i CAN STILL POST WITH THIS COMPUTER...I SAID BLOCK ME, COME THE FUCK DOWN HERE AND ARREST ME...SAN DIEGO CALIFORNIA, CHULA VISTA, FUCKING GET YOUR INFORMATION RIGHT FAGGOT SHITHEAD!!i CAN STILL POST WITH THIS COMPUTER...I SAID BLOCK ME, COME THE FUCK DOWN HERE AND ARREST ME...SAN DIEGO CALIFORNIA, CHULA VISTA, FUCKING GET YOUR INFORMATION RIGHT FAGGOT SHITHEAD!!i CAN STILL POST WITH THIS COMPUTER...I SAID BLOCK ME, COME THE FUCK DOWN HERE AND ARREST ME...SAN DIEGO CALIFORNIA, CHULA VISTA, FUCKING GET YOUR INFORMATION RIGHT FAGGOT SHITHEAD!!i CAN STILL POST WITH THIS COMPUTER...I SAID BLOCK ME, COME THE FUCK DOWN HERE AND ARREST ME...SAN DIEGO CALIFORNIA, CHULA VISTA, FUCKING GET YOUR INFORMATION RIGHT FAGGOT SHITHEAD!!i CAN STILL POST WITH THIS COMPUTER...I SAID BLOCK ME, COME THE FUCK DOWN HERE AND ARREST ME...SAN DIEGO CALIFORNIA, CHULA VISTA, FUCKING GET YOUR INFORMATION RIGHT FAGGOT SHITHEAD!!i CAN STILL POST WITH THIS COMPUTER...I SAID BLOCK ME, COME THE FUCK DOWN HERE AND ARREST ME...SAN DIEGO CALIFORNIA, CHULA VISTA, FUCKING GET YOUR INFORMATION RIGHT FAGGOT SHITHEAD!!i CAN STILL POST WITH THIS COMPUTER...I SAID BLOCK ME, COME THE FUCK DOWN HERE AND ARREST ME...SAN DIEGO CALIFORNIA, CHULA VISTA, FUCKING GET YOUR INFORMATION RIGHT FAGGOT SHITHEAD!!i CAN STILL POST WITH THIS COMPUTER...I SAID BLOCK ME, COME THE FUCK DOWN HERE AND ARREST ME...SAN DIEGO CALIFORNIA, CHULA VISTA, FUCKING GET YOUR INFORMATION RIGHT FAGGOT SHITHEAD!!i CAN STILL POST WITH THIS COMPUTER...I SAID BLOCK ME, COME THE FUCK DOWN HERE AND ARREST ME...SAN DIEGO CALIFORNIA, CHULA VISTA, FUCKING GET YOUR INFORMATION RIGHT FAGGOT SHITHEAD!!i CAN STILL POST WITH THIS COMPUTER...I SAID BLOCK ME, COME THE FUCK DOWN HERE AND ARREST ME...SAN DIEGO CALIFORNIA, CHULA VISTA, FUCKING GET YOUR INFORMATION RIGHT FAGGOT SHITHEAD!!i CAN STILL POST WITH THIS COMPUTER...I SAID BLOCK ME, COME THE FUCK DOWN HERE AND ARREST ME...SAN DIEGO CALIFORNIA, CHULA VISTA, FUCKING GET YOUR INFORMATION RIGHT FAGGOT SHITHEAD!!i CAN STILL POST WITH THIS COMPUTER...I SAID BLOCK ME, COME THE FUCK DOWN HERE AND ARREST ME...SAN DIEGO CALIFORNIA, CHULA VISTA, FUCKING GET YOUR INFORMATION RIGHT FAGGOT SHITHEAD!!i CAN STILL POST WITH THIS COMPUTER...I SAID BLOCK ME, COME THE FUCK DOWN HERE AND ARREST ME...SAN DIEGO CALIFORNIA, CHULA VISTA, FUCKING GET YOUR INFORMATION RIGHT FAGGOT SHITHEAD!!i CAN STILL POST WITH THIS COMPUTER...I SAID BLOCK ME, COME THE FUCK DOWN HERE AND AR   \n",
       "6190   SECURITYFUCK HOMELAND SECURITYFUCK HOMELAND SECURITYFUCK HOMELAND SECURITYFUCK HOMELAND SECURITYFUCK HOMELAND SECURITYFUCK HOMELAND SECURITYFUCK HOMELAND SECURITYFUCK HOMELAND SECURITYFUCK HOMELAND SECURITYFUCK HOMELAND SECURITYFUCK HOMELAND SECURITYFUCK HOMELAND SECURITYFUCK HOMELAND SECURITYFUCK HOMELAND SECURITYFUCK HOMELAND SECURITYFUCK HOMELAND SECURITYFUCK HOMELAND SECURITYFUCK HOMELAND SECURITYFUCK HOMELAND SECURITYFUCK HOMELAND SECURITYFUCK HOMELAND SECURITYFUCK HOMELAND SECURITYFUCK HOMELAND SECURITYFUCK HOMELAND SECURITYFUCK HOMELAND SECURITYFUCK HOMELAND SECURITYFUCK HOMELAND SECURITYFUCK HOMELAND SECURITYFUCK HOMELAND SECURITYFUCK HOMELAND SECURITYFUCK HOMELAND SECURITYFUCK HOMELAND SECURITYFUCK HOMELAND SECURITYFUCK HOMELAND SECURITYFUCK HOMELAND SECURITYFUCK HOMELAND SECURITYFUCK HOMELAND SECURITYFUCK HOMELAND SECURITYFUCK HOMELAND SECURITYFUCK HOMELAND SECURITYFUCK HOMELAND SECURITYFUCK HOMELAND SECURITYFUCK HOMELAND SECURITYFUCK HOMELAND SECURITYFUCK HOMELAND SECURITYFUCK HOMELAND SECURITYFUCK HOMELAND SECURITYFUCK HOMELAND SECURITYFUCK HOMELAND SECURITYFUCK HOMELAND SECURITYFUCK HOMELAND SECURITYFUCK HOMELAND SECURITYFUCK HOMELAND SECURITYFUCK HOMELAND SECURITYFUCK HOMELAND SECURITYFUCK HOMELAND SECURITYFUCK HOMELAND SECURITYFUCK HOMELAND SECURITYFUCK HOMELAND SECURITYFUCK HOMELAND SECURITYFUCK HOMELAND SECURITYFUCK HOMELAND SECURITYFUCK HOMELAND SECURITYFUCK HOMELAND SECURITYFUCK HOMELAND SECURITYFUCK HOMELAND SECURITYFUCK HOMELAND SECURITYFUCK HOMELAND SECURITYFUCK HOMELAND SECURITYFUCK HOMELAND SECURITYFUCK HOMELAND SECURITYFUCK HOMELAND SECURITYFUCK HOMELAND SECURITYFUCK HOMELAND SECURITYFUCK HOMELAND SECURITYFUCK HOMELAND SECURITYFUCK HOMELAND SECURITYFUCK HOMELAND SECURITYFUCK HOMELAND SECURITYFUCK HOMELAND SECURITYFUCK HOMELAND SECURITYFUCK HOMELAND SECURITYFUCK HOMELAND SECURITYFUCK HOMELAND SECURITYFUCK HOMELAND SECURITYFUCK HOMELAND SECURITYFUCK HOMELAND SECURITYFUCK HOMELAND SECURITYFUCK HOMELAND SECURITYFUCK HOMELAND SECURITYFUCK HOMELAND SECURITYFUCK HOMELAND SECURITYFUCK HOMELAND SECURITYFUCK HOMELAND SECURITYFUCK HOMELAND SECURITYFUCK HOMELAND SECURITYFUCK HOMELAND SECURITYFUCK HOMELAND SECURITYFUCK HOMELAND SECURITYFUCK HOMELAND SECURITYFUCK HOMELAND SECURITYFUCK HOMELAND SECURITYFUCK HOMELAND SECURITYFUCK HOMELAND SECURITYFUCK HOMELAND SECURITYFUCK HOMELAND SECURITYFUCK HOMELAND SECURITYFUCK HOMELAND SECURITYFUCK HOMELAND SECURITYFUCK HOMELAND SECURITYFUCK HOMELAND SECURITYFUCK HOMELAND SECURITYFUCK HOMELAND SECURITYFUCK HOMELAND SECURITYFUCK HOMELAND SECURITYFUCK HOMELAND SECURITYFUCK HOMELAND SECURITYFUCK HOMELAND SECURITYFUCK HOMELAND SECURITYFUCK HOMELAND SECURITYFUCK HOMELAND SECURITYFUCK HOMELAND SECURITYFUCK HOMELAND SECURITYFUCK HOMELAND SECURITYFUCK HOMELAND SECURITYFUCK HOMELAND SECURITYFUCK HOMELAND SECURITYFUCK HOMELAND SECURITYFUCK HOMELAND SECURITYFUCK HOMELAND SECURITYFUCK HOMELAND SECURITYFUCK HOMELAND SECURITYFUCK HOMELAND SECURITYFUCK HOMELAND SECURITYFUCK HOMELAND SECURITYFUCK HOMELAND SECURITYFUCK HOMELAND SECURITYFUCK HOMELAND SECURITYFUCK HOMELAND SECURITYFUCK HOMELAND SECURITYFUCK HOMELAND SECURITYFUCK HOMELAND SECURITYFUCK HOMELAND SECURITYFUCK HOMELAND SECURITYFUCK HOMELAND SECURITYFUCK HOMELAND SECURITYFUCK HOMELAND SECURITYFUCK HOMELAND SECURITYFUCK HOMELAND SECURITYFUCK HOMELAND SECURITYFUCK HOMELAND SECURITYFUCK HOMELAND SECURITYFUCK HOMELAND SECURITYFUCK HOMELAND SECURITYFUCK HOMELAND SECURITYFUCK HOMELAND SECURITYFUCK HOMELAND SECURITYFUCK HOMELAND SECURITYFUCK HOMELAND SECURITYFUCK HOMELAND SECURITYFUCK HOMELAND SECURITYFUCK HOMELAND SECURITYFUCK HOMELAND SECURITYFUCK HOMELAND SECURITYFUCK HOMELAND SECURITYFUCK HOMELAND SECURITYFUCK HOMELAND SECURITYFUCK HOMELAND SECURITYFUCK HOMELAND SECURITYFUCK HOMELAND SECURITYFUCK HOMELAND SECURITYFUCK HOMELAND SECURITYFUCK HOMELAND SECURITYFUCK HOMELAND SECURITYFUCK HOMELAND SECURITYFUCK HOMELAND SECURITYFUCK HOMELAND SECURITYFUCK HOMELAND SECURITYFUCK HOMELAND SECURITYFUCK HOMELAND SECURITYFUCK HOMELAND SECURITYFUCK HOMELAND SECURITYFUCK HOMELAND SECURITYFUCK HOMELAND SECURITYFUCK HOMELAND SECURITYFUCK HOMELAND SECURITYFUCK HOMELAND SECURITYFUCK HOMELAND SECURITYFUCK HOMELAND SECURITYFUCK HOMELAND SECURITYFUCK HOMELAND SECURITYFUCK HOMELAND SECURITYFUCK HOMELAND SECURITYFUCK HOMELAND SECURITYFUCK HOMELAND SECURITYFUCK HOMELAND SECURITYFUCK HOMELAND SECURITYFUCK HOMELAND SECURITYFUCK HOMELAND SECURITYFUCK HOMELAND SECURITYFUCK HOMELAND SECURITYFUCK HOMELAND SECURITYFUCK HOMELAND SECURITYFUCK HOMELAND SECURITYFUCK HOMELAND SECURITYFUCK HOMELAND SECURITYFUCK HOMELAND SECURITYFUCK HOMELAND SECURITYFUCK HOMELAND SECURITYFUCK HOMELAND SECURITYFUCK HOMELAND SECURITYFUCK HOMELAND SECURITYFUCK HOMELAND SECURITYFUCK HOMELAND SECURITYFUCK HOMELAND SECURITYFUCK HOMELAND SECURITYFUCK HOMELAND SECURITYFUCK HOMELAND SECURITYFUCK HOMELAND SECURITYFUCK HOMELAND SECURITYFUCK HOMELAND SECURITYFUCK HOMELAND SECURITYFUCK HOMELAND SECURITYFUCK HOMELAND SECURITYFUCK HOMELAND SECURITYFUCK HOMELAND SECURITYFUCK HOMELAND SECURI   \n",
       "8685   BALLS BALLS BALLS BALLS BALLS BALLS BALLS BALLS BALLS BALLS BALLS BALLS BALLS BALLS BALLS BALLS BALLS BALLS BALLS BALLS BALLS BALLS BALLS BALLS BALLS BALLS BALLS BALLS BALLS BALLS BALLS BALLS BALLS BALLS BALLS BALLS BALLS BALLS BALLS BALLS BALLS BALLS BALLS BALLS BALLS BALLS BALLS BALLS BALLS BALLS BALLS BALLS BALLS BALLS BALLS BALLS BALLS BALLS BALLS BALLS BALLS BALLS BALLS BALLS BALLS BALLS BALLS BALLS BALLS BALLS BALLS BALLS BALLS BALLS BALLS BALLS BALLS BALLS BALLS BALLS BALLS BALLS BALLS BALLS BALLS BALLS BALLS BALLS BALLS BALLS BALLS BALLS BALLS BALLS BALLS BALLS BALLS BALLS BALLS BALLS BALLS BALLS BALLS BALLS BALLS BALLS BALLS BALLS BALLS BALLS BALLS BALLS BALLS BALLS BALLS BALLS BALLS BALLS BALLS BALLS BALLS BALLS BALLS BALLS BALLS BALLS BALLS BALLS BALLS BALLS BALLS BALLS BALLS BALLS BALLS BALLS BALLS BALLS BALLS BALLS BALLS BALLS BALLS BALLS BALLS BALLS BALLS BALLS BALLS BALLS BALLS BALLS BALLS BALLS BALLS BALLS BALLS BALLS BALLS BALLS BALLS BALLS BALLS BALLS BALLS BALLS BALLS BALLS BALLS BALLS BALLS BALLS BALLS BALLS BALLS BALLS BALLS BALLS BALLS BALLS BALLS BALLS BALLS BALLS BALLS BALLS BALLS BALLS BALLS BALLS BALLS BALLS BALLS BALLS BALLS BALLS BALLS BALLS BALLS BALLS BALLS BALLS BALLS BALLS BALLS BALLS BALLS BALLS BALLS BALLS BALLS BALLS BALLS BALLS BALLS BALLS BALLS BALLS BALLS BALLS BALLS BALLS BALLS BALLS BALLS BALLS BALLS BALLS BALLS BALLS BALLS BALLS BALLS BALLS BALLS BALLS BALLS BALLS BALLS BALLS BALLS BALLS BALLS BALLS BALLS BALLS BALLS BALLS BALLS BALLS BALLS BALLS BALLS BALLS BALLS BALLS BALLS BALLS BALLS BALLS BALLS BALLS BALLS BALLS BALLS BALLS BALLS BALLS BALLS BALLS BALLS BALLS BALLS BALLS BALLS BALLS BALLS BALLS BALLS BALLS BALLS BALLS BALLS BALLS BALLS BALLS BALLS BALLS BALLS BALLS BALLS BALLS BALLS BALLS BALLS BALLS BALLS BALLS BALLS BALLS BALLS BALLS BALLS BALLS BALLS BALLS BALLS BALLS BALLS BALLS BALLS BALLS BALLS BALLS BALLS BALLS BALLS BALLS BALLS BALLS BALLS BALLS BALLS BALLS BALLS BALLS BALLS BALLS BALLS BALLS BALLS BALLS BALLS BALLS BALLS BALLS BALLS BALLS BALLS BALLS BALLS BALLS BALLS BALLS BALLS BALLS BALLS BALLS BALLS BALLS BALLS BALLS BALLS BALLS BALLS BALLS BALLS BALLS BALLS BALLS BALLS BALLS BALLS BALLS BALLS BALLS BALLS BALLS BALLS BALLS BALLS BALLS BALLS BALLS BALLS BALLS BALLS BALLS BALLS BALLS BALLS BALLS BALLS BALLS BALLS BALLS BALLS BALLS BALLS BALLS BALLS BALLS BALLS BALLS BALLS BALLS BALLS BALLS BALLS BALLS BALLS BALLS BALLS BALLS BALLS BALLS BALLS BALLS BALLS BALLS BALLS BALLS BALLS BALLS BALLS BALLS BALLS BALLS BALLS BALLS BALLS BALLS BALLS BALLS BALLS BALLS BALLS BALLS BALLS BALLS BALLS BALLS BALLS BALLS BALLS BALLS BALLS BALLS BALLS BALLS BALLS BALLS BALLS BALLS BALLS BALLS BALLS BALLS BALLS BALLS BALLS BALLS BALLS BALLS BALLS BALLS BALLS BALLS BALLS BALLS BALLS BALLS BALLS BALLS BALLS BALLS BALLS BALLS BALLS BALLS BALLS BALLS BALLS BALLS BALLS BALLS BALLS BALLS BALLS BALLS BALLS BALLS BALLS BALLS BALLS BALLS BALLS BALLS BALLS BALLS BALLS BALLS BALLS BALLS BALLS BALLS BALLS BALLS BALLS BALLS BALLS BALLS BALLS BALLS BALLS BALLS BALLS BALLS BALLS BALLS BALLS BALLS BALLS BALLS BALLS BALLS BALLS BALLS BALLS BALLS BALLS BALLS BALLS BALLS BALLS BALLS BALLS BALLS BALLS BALLS BALLS BALLS BALLS BALLS BALLS BALLS BALLS BALLS BALLS BALLS BALLS BALLS BALLS BALLS BALLS BALLS BALLS BALLS BALLS BALLS BALLS BALLS BALLS BALLS BALLS BALLS BALLS BALLS BALLS BALLS BALLS BALLS BALLS BALLS BALLS BALLS BALLS BALLS BALLS BALLS BALLS BALLS BALLS BALLS BALLS BALLS BALLS BALLS BALLS BALLS BALLS BALLS BALLS BALLS BALLS BALLS BALLS BALLS BALLS BALLS BALLS BALLS BALLS BALLS BALLS BALLS BALLS BALLS BALLS BALLS BALLS BALLS BALLS BALLS BALLS BALLS BALLS BALLS BALLS BALLS BALLS BALLS BALLS BALLS BALLS BALLS BALLS BALLS BALLS BALLS BALLS BALLS BALLS BALLS BALLS BALLS BALLS BALLS BALLS BALLS BALLS BALLS BALLS BALLS BALLS BALLS BALLS BALLS BALLS BALLS BALLS BALLS BALLS BALLS BALLS BALLS BALLS BALLS BALLS BALLS BALLS BALLS BALLS BALLS BALLS BALLS BALLS BALLS BALLS BALLS BALLS BALLS BALLS BALLS BALLS BALLS BALLS BALLS BALLS BALLS BALLS BALLS BALLS BALLS BALLS BALLS BALLS BALLS BALLS BALLS BALLS BALLS BALLS BALLS BALLS BALLS BALLS BALLS BALLS BALLS BALLS BALLS BALLS BALLS BALLS BALLS BALLS BALLS BALLS BALLS BALLS BALLS BALLS BALLS BALLS BALLS BALLS BALLS BALLS BALLS BALLS BALLS BALLS BALLS BALLS BALLS BALLS BALLS BALLS BALLS BALLS BALLS BALLS BALLS BALLS BALLS BALLS BALLS BALLS BALLS BALLS BALLS BALLS BALLS BALLS BALLS BALLS BALLS BALLS BALLS BALLS BALLS BALLS BALLS BALLS BALLS BALLS BALLS BALLS BALLS BALLS BALLS BALLS BALLS BALLS BALLS BALLS BALLS BALLS BALLS BALLS BALLS BALLS BALLS BALLS BALLS BALLS BALLS BALLS BALLS BALLS BALLS BALLS BALLS BALLS BALLS BALLS BALLS BALLS BALLS BALLS BALLS BALLS BALLS BALLS BALLS BALLS BALLS BALLS BALLS BALLS BALLS BALLS BALLS BALLS BALLS BALLS BALLS BALLS BALLS BALLS BALLS BALLS BALLS BALLS BALLS BALLS BALLS BALLS BALLS BALLS BALLS BALLS BALLS BALLS BALLS BALLS BALLS BALLS BALLS BALLS BALLS BALLS BALLS BALLS BALLS BALLS BALLS BALLS BALLS BALLS BALLS BALLS BA   \n",
       "9651   FUCK YOU, YOU ATHEIST CUNT! FUCK YOU, YOU ATHEIST CUNT! FUCK YOU, YOU ATHEIST CUNT! FUCK YOU, YOU ATHEIST CUNT! FUCK YOU, YOU ATHEIST CUNT! FUCK YOU, YOU ATHEIST CUNT! FUCK YOU, YOU ATHEIST CUNT! FUCK YOU, YOU ATHEIST CUNT! FUCK YOU, YOU ATHEIST CUNT! FUCK YOU, YOU ATHEIST CUNT! FUCK YOU, YOU ATHEIST CUNT! FUCK YOU, YOU ATHEIST CUNT! FUCK YOU, YOU ATHEIST CUNT! FUCK YOU, YOU ATHEIST CUNT! FUCK YOU, YOU ATHEIST CUNT! FUCK YOU, YOU ATHEIST CUNT! FUCK YOU, YOU ATHEIST CUNT! FUCK YOU, YOU ATHEIST CUNT! FUCK YOU, YOU ATHEIST CUNT! FUCK YOU, YOU ATHEIST CUNT! FUCK YOU, YOU ATHEIST CUNT! FUCK YOU, YOU ATHEIST CUNT! FUCK YOU, YOU ATHEIST CUNT! FUCK YOU, YOU ATHEIST CUNT! FUCK YOU, YOU ATHEIST CUNT! FUCK YOU, YOU ATHEIST CUNT! FUCK YOU, YOU ATHEIST CUNT! FUCK YOU, YOU ATHEIST CUNT! FUCK YOU, YOU ATHEIST CUNT! FUCK YOU, YOU ATHEIST CUNT! FUCK YOU, YOU ATHEIST CUNT! FUCK YOU, YOU ATHEIST CUNT! FUCK YOU, YOU ATHEIST CUNT! FUCK YOU, YOU ATHEIST CUNT! FUCK YOU, YOU ATHEIST CUNT! FUCK YOU, YOU ATHEIST CUNT! FUCK YOU, YOU ATHEIST CUNT! FUCK YOU, YOU ATHEIST CUNT! FUCK YOU, YOU ATHEIST CUNT! FUCK YOU, YOU ATHEIST CUNT! FUCK YOU, YOU ATHEIST CUNT! FUCK YOU, YOU ATHEIST CUNT! FUCK YOU, YOU ATHEIST CUNT! FUCK YOU, YOU ATHEIST CUNT! FUCK YOU, YOU ATHEIST CUNT! FUCK YOU, YOU ATHEIST CUNT! FUCK YOU, YOU ATHEIST CUNT! FUCK YOU, YOU ATHEIST CUNT! FUCK YOU, YOU ATHEIST CUNT! FUCK YOU, YOU ATHEIST CUNT! FUCK YOU, YOU ATHEIST CUNT! FUCK YOU, YOU ATHEIST CUNT! FUCK YOU, YOU ATHEIST CUNT! FUCK YOU, YOU ATHEIST CUNT! FUCK YOU, YOU ATHEIST CUNT! FUCK YOU, YOU ATHEIST CUNT! FUCK YOU, YOU ATHEIST CUNT! FUCK YOU, YOU ATHEIST CUNT! FUCK YOU, YOU ATHEIST CUNT! FUCK YOU, YOU ATHEIST CUNT! FUCK YOU, YOU ATHEIST CUNT! FUCK YOU, YOU ATHEIST CUNT! FUCK YOU, YOU ATHEIST CUNT! FUCK YOU, YOU ATHEIST CUNT! FUCK YOU, YOU ATHEIST CUNT! FUCK YOU, YOU ATHEIST CUNT! FUCK YOU, YOU ATHEIST CUNT! FUCK YOU, YOU ATHEIST CUNT! FUCK YOU, YOU ATHEIST CUNT! FUCK YOU, YOU ATHEIST CUNT! FUCK YOU, YOU ATHEIST CUNT! FUCK YOU, YOU ATHEIST CUNT! FUCK YOU, YOU ATHEIST CUNT! FUCK YOU, YOU ATHEIST CUNT! FUCK YOU, YOU ATHEIST CUNT! FUCK YOU, YOU ATHEIST CUNT! FUCK YOU, YOU ATHEIST CUNT! FUCK YOU, YOU ATHEIST CUNT! FUCK YOU, YOU ATHEIST CUNT! FUCK YOU, YOU ATHEIST CUNT! FUCK YOU, YOU ATHEIST CUNT! FUCK YOU, YOU ATHEIST CUNT! FUCK YOU, YOU ATHEIST CUNT! FUCK YOU, YOU ATHEIST CUNT! FUCK YOU, YOU ATHEIST CUNT! FUCK YOU, YOU ATHEIST CUNT! FUCK YOU, YOU ATHEIST CUNT! FUCK YOU, YOU ATHEIST CUNT! FUCK YOU, YOU ATHEIST CUNT! FUCK YOU, YOU ATHEIST CUNT! FUCK YOU, YOU ATHEIST CUNT! FUCK YOU, YOU ATHEIST CUNT! FUCK YOU, YOU ATHEIST CUNT! FUCK YOU, YOU ATHEIST CUNT! FUCK YOU, YOU ATHEIST CUNT! FUCK YOU, YOU ATHEIST CUNT! FUCK YOU, YOU ATHEIST CUNT! FUCK YOU, YOU ATHEIST CUNT! FUCK YOU, YOU ATHEIST CUNT! FUCK YOU, YOU ATHEIST CUNT! FUCK YOU, YOU ATHEIST CUNT! FUCK YOU, YOU ATHEIST CUNT! FUCK YOU, YOU ATHEIST CUNT! FUCK YOU, YOU ATHEIST CUNT! FUCK YOU, YOU ATHEIST CUNT! FUCK YOU, YOU ATHEIST CUNT! FUCK YOU, YOU ATHEIST CUNT! FUCK YOU, YOU ATHEIST CUNT! FUCK YOU, YOU ATHEIST CUNT! FUCK YOU, YOU ATHEIST CUNT! FUCK YOU, YOU ATHEIST CUNT! FUCK YOU, YOU ATHEIST CUNT! FUCK YOU, YOU ATHEIST CUNT! FUCK YOU, YOU ATHEIST CUNT! FUCK YOU, YOU ATHEIST CUNT! FUCK YOU, YOU ATHEIST CUNT! FUCK YOU, YOU ATHEIST CUNT! FUCK YOU, YOU ATHEIST CUNT! FUCK YOU, YOU ATHEIST CUNT! FUCK YOU, YOU ATHEIST CUNT! FUCK YOU, YOU ATHEIST CUNT! FUCK YOU, YOU ATHEIST CUNT! FUCK YOU, YOU ATHEIST CUNT! FUCK YOU, YOU ATHEIST CUNT! FUCK YOU, YOU ATHEIST CUNT! FUCK YOU, YOU ATHEIST CUNT! FUCK YOU, YOU ATHEIST CUNT! FUCK YOU, YOU ATHEIST CUNT! FUCK YOU, YOU ATHEIST CUNT! FUCK YOU, YOU ATHEIST CUNT! FUCK YOU, YOU ATHEIST CUNT! FUCK YOU, YOU ATHEIST CUNT! FUCK YOU, YOU ATHEIST CUNT! FUCK YOU, YOU ATHEIST CUNT! FUCK YOU, YOU ATHEIST CUNT! FUCK YOU, YOU ATHEIST CUNT! FUCK YOU, YOU ATHEIST CUNT! FUCK YOU, YOU ATHEIST CUNT! FUCK YOU, YOU ATHEIST CUNT! FUCK YOU, YOU ATHEIST CUNT! FUCK YOU, YOU ATHEIST CUNT! FUCK YOU, YOU ATHEIST CUNT! FUCK YOU, YOU ATHEIST CUNT! FUCK YOU, YOU ATHEIST CUNT! FUCK YOU, YOU ATHEIST CUNT! FUCK YOU, YOU ATHEIST CUNT! FUCK YOU, YOU ATHEIST CUNT! FUCK YOU, YOU ATHEIST CUNT! FUCK YOU, YOU ATHEIST CUNT! FUCK YOU, YOU ATHEIST CUNT! FUCK YOU, YOU ATHEIST CUNT! FUCK YOU, YOU ATHEIST CUNT! FUCK YOU, YOU ATHEIST CUNT! FUCK YOU, YOU ATHEIST CUNT! FUCK YOU, YOU ATHEIST CUNT! FUCK YOU, YOU ATHEIST CUNT! FUCK YOU, YOU ATHEIST CUNT! FUCK YOU, YOU ATHEIST CUNT! FUCK YOU, YOU ATHEIST CUNT! FUCK YOU, YOU ATHEIST CUNT! FUCK YOU, YOU ATHEIST CUNT! FUCK YOU, YOU ATHEIST CUNT! FUCK YOU, YOU ATHEIST CUNT! FUCK YOU, YOU ATHEIST CUNT! FUCK YOU, YOU ATHEIST CUNT! FUCK YOU, YOU ATHEIST CUNT! FUCK YOU, YOU ATHEIST CUNT! FUCK YOU, YOU ATHEIST CUNT! FUCK YOU, YOU ATHEIST CUNT! FUCK YOU, YOU ATHEIST CUNT! FUCK YOU, YOU ATHEIST CUNT! FUCK YOU, YOU ATHEIST CUNT! FUCK YOU, YOU ATHEIST CUNT! FUCK YOU, YOU ATHEIST CUNT! FUCK YOU, YOU ATHEIST CUNT! FUCK YOU, YOU ATHEIST CUNT! FUCK YOU, YOU ATHEIST CUNT! FUCK YOU, YOU ATHEIST CUNT! FUCK YOU, YOU AT   \n",
       "10746  TOMMY2010 IS A NIGGER TOMMY2010 IS A NIGGER TOMMY2010 IS A NIGGER TOMMY2010 IS A NIGGER TOMMY2010 IS A NIGGER TOMMY2010 IS A NIGGER TOMMY2010 IS A NIGGER TOMMY2010 IS A NIGGER TOMMY2010 IS A NIGGER TOMMY2010 IS A NIGGER TOMMY2010 IS A NIGGER TOMMY2010 IS A NIGGER TOMMY2010 IS A NIGGER TOMMY2010 IS A NIGGER TOMMY2010 IS A NIGGER TOMMY2010 IS A NIGGER TOMMY2010 IS A NIGGER TOMMY2010 IS A NIGGER TOMMY2010 IS A NIGGER TOMMY2010 IS A NIGGER TOMMY2010 IS A NIGGER TOMMY2010 IS A NIGGER TOMMY2010 IS A NIGGER TOMMY2010 IS A NIGGER TOMMY2010 IS A NIGGER TOMMY2010 IS A NIGGER TOMMY2010 IS A NIGGER TOMMY2010 IS A NIGGER TOMMY2010 IS A NIGGER TOMMY2010 IS A NIGGER TOMMY2010 IS A NIGGER TOMMY2010 IS A NIGGER TOMMY2010 IS A NIGGER TOMMY2010 IS A NIGGER TOMMY2010 IS A NIGGER TOMMY2010 IS A NIGGER TOMMY2010 IS A NIGGER TOMMY2010 IS A NIGGER TOMMY2010 IS A NIGGER TOMMY2010 IS A NIGGER TOMMY2010 IS A NIGGER TOMMY2010 IS A NIGGER TOMMY2010 IS A NIGGER TOMMY2010 IS A NIGGER TOMMY2010 IS A NIGGER TOMMY2010 IS A NIGGER TOMMY2010 IS A NIGGER TOMMY2010 IS A NIGGER TOMMY2010 IS A NIGGER TOMMY2010 IS A NIGGER TOMMY2010 IS A NIGGER TOMMY2010 IS A NIGGER TOMMY2010 IS A NIGGER TOMMY2010 IS A NIGGER TOMMY2010 IS A NIGGER TOMMY2010 IS A NIGGER TOMMY2010 IS A NIGGER TOMMY2010 IS A NIGGER TOMMY2010 IS A NIGGER TOMMY2010 IS A NIGGER TOMMY2010 IS A NIGGER TOMMY2010 IS A NIGGER TOMMY2010 IS A NIGGER TOMMY2010 IS A NIGGER TOMMY2010 IS A NIGGER TOMMY2010 IS A NIGGER TOMMY2010 IS A NIGGER TOMMY2010 IS A NIGGER TOMMY2010 IS A NIGGER TOMMY2010 IS A NIGGER TOMMY2010 IS A NIGGER TOMMY2010 IS A NIGGER TOMMY2010 IS A NIGGER TOMMY2010 IS A NIGGER TOMMY2010 IS A NIGGER TOMMY2010 IS A NIGGER TOMMY2010 IS A NIGGER TOMMY2010 IS A NIGGER TOMMY2010 IS A NIGGER TOMMY2010 IS A NIGGER TOMMY2010 IS A NIGGER TOMMY2010 IS A NIGGER TOMMY2010 IS A NIGGER TOMMY2010 IS A NIGGER TOMMY2010 IS A NIGGER TOMMY2010 IS A NIGGER TOMMY2010 IS A NIGGER TOMMY2010 IS A NIGGER TOMMY2010 IS A NIGGER TOMMY2010 IS A NIGGER TOMMY2010 IS A NIGGER TOMMY2010 IS A NIGGER TOMMY2010 IS A NIGGER TOMMY2010 IS A NIGGER TOMMY2010 IS A NIGGER TOMMY2010 IS A NIGGER TOMMY2010 IS A NIGGER TOMMY2010 IS A NIGGER TOMMY2010 IS A NIGGER TOMMY2010 IS A NIGGER TOMMY2010 IS A NIGGER TOMMY2010 IS A NIGGER TOMMY2010 IS A NIGGER TOMMY2010 IS A NIGGER TOMMY2010 IS A NIGGER TOMMY2010 IS A NIGGER TOMMY2010 IS A NIGGER TOMMY2010 IS A NIGGER TOMMY2010 IS A NIGGER TOMMY2010 IS A NIGGER TOMMY2010 IS A NIGGER TOMMY2010 IS A NIGGER TOMMY2010 IS A NIGGER TOMMY2010 IS A NIGGER TOMMY2010 IS A NIGGER TOMMY2010 IS A NIGGER TOMMY2010 IS A NIGGER TOMMY2010 IS A NIGGER TOMMY2010 IS A NIGGER TOMMY2010 IS A NIGGER TOMMY2010 IS A NIGGER TOMMY2010 IS A NIGGER TOMMY2010 IS A NIGGER TOMMY2010 IS A NIGGER TOMMY2010 IS A NIGGER TOMMY2010 IS A NIGGER TOMMY2010 IS A NIGGER TOMMY2010 IS A NIGGER TOMMY2010 IS A NIGGER TOMMY2010 IS A NIGGER TOMMY2010 IS A NIGGER TOMMY2010 IS A NIGGER TOMMY2010 IS A NIGGER TOMMY2010 IS A NIGGER TOMMY2010 IS A NIGGER TOMMY2010 IS A NIGGER TOMMY2010 IS A NIGGER TOMMY2010 IS A NIGGER TOMMY2010 IS A NIGGER TOMMY2010 IS A NIGGER TOMMY2010 IS A NIGGER TOMMY2010 IS A NIGGER TOMMY2010 IS A NIGGER TOMMY2010 IS A NIGGER TOMMY2010 IS A NIGGER TOMMY2010 IS A NIGGER TOMMY2010 IS A NIGGER TOMMY2010 IS A NIGGER TOMMY2010 IS A NIGGER TOMMY2010 IS A NIGGER TOMMY2010 IS A NIGGER TOMMY2010 IS A NIGGER TOMMY2010 IS A NIGGER TOMMY2010 IS A NIGGER TOMMY2010 IS A NIGGER TOMMY2010 IS A NIGGER TOMMY2010 IS A NIGGER TOMMY2010 IS A NIGGER TOMMY2010 IS A NIGGER TOMMY2010 IS A NIGGER TOMMY2010 IS A NIGGER TOMMY2010 IS A NIGGER TOMMY2010 IS A NIGGER TOMMY2010 IS A NIGGER TOMMY2010 IS A NIGGER TOMMY2010 IS A NIGGER TOMMY2010 IS A NIGGER TOMMY2010 IS A NIGGER TOMMY2010 IS A NIGGER TOMMY2010 IS A NIGGER TOMMY2010 IS A NIGGER TOMMY2010 IS A NIGGER TOMMY2010 IS A NIGGER TOMMY2010 IS A NIGGER TOMMY2010 IS A NIGGER TOMMY2010 IS A NIGGER TOMMY2010 IS A NIGGER TOMMY2010 IS A NIGGER TOMMY2010 IS A NIGGER TOMMY2010 IS A NIGGER TOMMY2010 IS A NIGGER TOMMY2010 IS A NIGGER TOMMY2010 IS A NIGGER TOMMY2010 IS A NIGGER TOMMY2010 IS A NIGGER TOMMY2010 IS A NIGGER TOMMY2010 IS A NIGGER TOMMY2010 IS A NIGGER TOMMY2010 IS A NIGGER TOMMY2010 IS A NIGGER TOMMY2010 IS A NIGGER TOMMY2010 IS A NIGGER TOMMY2010 IS A NIGGER TOMMY2010 IS A NIGGER TOMMY2010 IS A NIGGER TOMMY2010 IS A NIGGER TOMMY2010 IS A NIGGER TOMMY2010 IS A NIGGER TOMMY2010 IS A NIGGER TOMMY2010 IS A NIGGER TOMMY2010 IS A NIGGER TOMMY2010 IS A NIGGER TOMMY2010 IS A NIGGER TOMMY2010 IS A NIGGER TOMMY2010 IS A NIGGER TOMMY2010 IS A NIGGER TOMMY2010 IS A NIGGER TOMMY2010 IS A NIGGER TOMMY2010 IS A NIGGER TOMMY2010 IS A NIGGER TOMMY2010 IS A NIGGER TOMMY2010 IS A NIGGER TOMMY2010 IS A NIGGER TOMMY2010 IS A NIGGER TOMMY2010 IS A NIGGER TOMMY2010 IS A NIGGER TOMMY2010 IS A NIGGER TOMMY2010 IS A NIGGER TOMMY2010 IS A NIGGER TOMMY2010 IS A NIGGER TOMMY2010 IS A NIGGER TOMMY2010 IS A NIGGER TOMMY2010 IS A NIGGER TOMMY2010 IS A NIGGER TOMMY2010 IS A NIGGER TOMMY2010 IS A NIGGER TOMMY2010 IS A NIGGER TOMMY2   \n",
       "12869  I OWN THIS PAGE YOU FOOLS!! YOU SHOULD FEAR ME!!!!!!!! I AM THE GOD OF CHOCOBOS, I WANT MY CHEESE, GEORGE BUSH SHOULD GO TO HELL!!!!!!!!! I AM THE GOD OF CHOCOBOS, I WANT MY CHEESE, GEORGE BUSH SHOULD GO TO HELL!!!!!!!!! I AM THE GOD OF CHOCOBOS, I WANT MY CHEESE, GEORGE BUSH SHOULD GO TO HELL!!!!!!!!! I AM THE GOD OF CHOCOBOS, I WANT MY CHEESE, GEORGE BUSH SHOULD GO TO HELL!!!!!!!!! I AM THE GOD OF CHOCOBOS, I WANT MY CHEESE, GEORGE BUSH SHOULD GO TO HELL!!!!!!!!! I AM THE GOD OF CHOCOBOS, I WANT MY CHEESE, GEORGE BUSH SHOULD GO TO HELL!!!!!!!!! I AM THE GOD OF CHOCOBOS, I WANT MY CHEESE, GEORGE BUSH SHOULD GO TO HELL!!!!!!!!! I AM THE GOD OF CHOCOBOS, I WANT MY CHEESE, GEORGE BUSH SHOULD GO TO HELL!!!!!!!!! I AM THE GOD OF CHOCOBOS, I WANT MY CHEESE, GEORGE BUSH SHOULD GO TO HELL!!!!!!!!! I AM THE GOD OF CHOCOBOS, I WANT MY CHEESE, GEORGE BUSH SHOULD GO TO HELL!!!!!!!!! I AM THE GOD OF CHOCOBOS, I WANT MY CHEESE, GEORGE BUSH SHOULD GO TO HELL!!!!!!!!! I AM THE GOD OF CHOCOBOS, I WANT MY CHEESE, GEORGE BUSH SHOULD GO TO HELL!!!!!!!!! I AM THE GOD OF CHOCOBOS, I WANT MY CHEESE, GEORGE BUSH SHOULD GO TO HELL!!!!!!!!! I AM THE GOD OF CHOCOBOS, I WANT MY CHEESE, GEORGE BUSH SHOULD GO TO HELL!!!!!!!!! I AM THE GOD OF CHOCOBOS, I WANT MY CHEESE, GEORGE BUSH SHOULD GO TO HELL!!!!!!!!! I AM THE GOD OF CHOCOBOS, I WANT MY CHEESE, GEORGE BUSH SHOULD GO TO HELL!!!!!!!!! I AM THE GOD OF CHOCOBOS, I WANT MY CHEESE, GEORGE BUSH SHOULD GO TO HELL!!!!!!!!! I AM THE GOD OF CHOCOBOS, I WANT MY CHEESE, GEORGE BUSH SHOULD GO TO HELL!!!!!!!!! I AM THE GOD OF CHOCOBOS, I WANT MY CHEESE, GEORGE BUSH SHOULD GO TO HELL!!!!!!!!! I AM THE GOD OF CHOCOBOS, I WANT MY CHEESE, GEORGE BUSH SHOULD GO TO HELL!!!!!!!!! I AM THE GOD OF CHOCOBOS, I WANT MY CHEESE, GEORGE BUSH SHOULD GO TO HELL!!!!!!!!! I AM THE GOD OF CHOCOBOS, I WANT MY CHEESE, GEORGE BUSH SHOULD GO TO HELL!!!!!!!!! I AM THE GOD OF CHOCOBOS, I WANT MY CHEESE, GEORGE BUSH SHOULD GO TO HELL!!!!!!!!! I AM THE GOD OF CHOCOBOS, I WANT MY CHEESE, GEORGE BUSH SHOULD GO TO HELL!!!!!!!!! I AM THE GOD OF CHOCOBOS, I WANT MY CHEESE, GEORGE BUSH SHOULD GO TO HELL!!!!!!!!! I AM THE GOD OF CHOCOBOS, I WANT MY CHEESE, GEORGE BUSH SHOULD GO TO HELL!!!!!!!!! I AM THE GOD OF CHOCOBOS, I WANT MY CHEESE, GEORGE BUSH SHOULD GO TO HELL!!!!!!!!! I AM THE GOD OF CHOCOBOS, I WANT MY CHEESE, GEORGE BUSH SHOULD GO TO HELL!!!!!!!!! I AM THE GOD OF CHOCOBOS, I WANT MY CHEESE, GEORGE BUSH SHOULD GO TO HELL!!!!!!!!! I AM THE GOD OF CHOCOBOS, I WANT MY CHEESE, GEORGE BUSH SHOULD GO TO HELL!!!!!!!!! I AM THE GOD OF CHOCOBOS, I WANT MY CHEESE, GEORGE BUSH SHOULD GO TO HELL!!!!!!!!! I AM THE GOD OF CHOCOBOS, I WANT MY CHEESE, GEORGE BUSH SHOULD GO TO HELL!!!!!!!!! I AM THE GOD OF CHOCOBOS, I WANT MY CHEESE, GEORGE BUSH SHOULD GO TO HELL!!!!!!!!! I AM THE GOD OF CHOCOBOS, I WANT MY CHEESE, GEORGE BUSH SHOULD GO TO HELL!!!!!!!!! I AM THE GOD OF CHOCOBOS, I WANT MY CHEESE, GEORGE BUSH SHOULD GO TO HELL!!!!!!!!! I AM THE GOD OF CHOCOBOS, I WANT MY CHEESE, GEORGE BUSH SHOULD GO TO HELL!!!!!!!!! I AM THE GOD OF CHOCOBOS, I WANT MY CHEESE, GEORGE BUSH SHOULD GO TO HELL!!!!!!!!! I AM THE GOD OF CHOCOBOS, I WANT MY CHEESE, GEORGE BUSH SHOULD GO TO HELL!!!!!!!!! I AM THE GOD OF CHOCOBOS, I WANT MY CHEESE, GEORGE BUSH SHOULD GO TO HELL!!!!!!!!! I AM THE GOD OF CHOCOBOS, I WANT MY CHEESE, GEORGE BUSH SHOULD GO TO HELL!!!!!!!!! I AM THE GOD OF CHOCOBOS, I WANT MY CHEESE, GEORGE BUSH SHOULD GO TO HELL!!!!!!!!! I AM THE GOD OF CHOCOBOS, I WANT MY CHEESE, GEORGE BUSH SHOULD GO TO HELL!!!!!!!!! I AM THE GOD OF CHOCOBOS, I WANT MY CHEESE, GEORGE BUSH SHOULD GO TO HELL!!!!!!!!! I AM THE GOD OF CHOCOBOS, I WANT MY CHEESE, GEORGE BUSH SHOULD GO TO HELL!!!!!!!!! I AM THE GOD OF CHOCOBOS, I WANT MY CHEESE, GEORGE BUSH SHOULD GO TO HELL!!!!!!!!! I AM THE GOD OF CHOCOBOS, I WANT MY CHEESE, GEORGE BUSH SHOULD GO TO HELL!!!!!!!!! I AM THE GOD OF CHOCOBOS, I WANT MY CHEESE, GEORGE BUSH SHOULD GO TO HELL!!!!!!!!! I AM THE GOD OF CHOCOBOS, I WANT MY CHEESE, GEORGE BUSH SHOULD GO TO HELL!!!!!!!!! I AM THE GOD OF CHOCOBOS, I WANT MY CHEESE, GEORGE BUSH SHOULD GO TO HELL!!!!!!!!! I AM THE GOD OF CHOCOBOS, I WANT MY CHEESE, GEORGE BUSH SHOULD GO TO HELL!!!!!!!!! I AM THE GOD OF CHOCOBOS, I WANT MY CHEESE, GEORGE BUSH SHOULD GO TO HELL!!!!!!!!! I AM THE GOD OF CHOCOBOS, I WANT MY CHEESE, GEORGE BUSH SHOULD GO TO HELL!!!!!!!!! I AM THE GOD OF CHOCOBOS, I WANT MY CHEESE, GEORGE BUSH SHOULD GO TO HELL!!!!!!!!! I AM THE GOD OF CHOCOBOS, I WANT MY CHEESE, GEORGE BUSH SHOULD GO TO HELL!!!!!!!!! I AM THE GOD OF CHOCOBOS, I WANT MY CHEESE, GEORGE BUSH SHOULD GO TO HELL!!!!!!!!! I AM THE GOD OF CHOCOBOS, I WANT MY CHEESE, GEORGE BUSH SHOULD GO TO HELL!!!!!!!!! I AM THE GOD OF CHOCOBOS, I WANT MY CHEESE, GEORGE BUSH SHOULD GO TO HELL!!!!!!!!! I AM THE GOD OF CHOCOBOS, I WANT MY CHEESE, GEORGE BUSH SHOULD GO TO HELL!!!!!!!!! I AM THE GOD OF CHOCOBOS, I WANT MY CHEESE, GEORGE BUSH SHOULD GO TO HELL!!!!!!!!! I AM THE GOD OF CHOCOBOS, I WANT MY CHEESE, GEOR   \n",
       "16612  '''Hi Wikipedia!!Hi Wikipedia!!Hi Wikipedia!!Hi Wikipedia!!Hi Wikipedia!!Hi Wikipedia!!Hi Wikipedia!!Hi Wikipedia!!Hi Wikipedia!!Hi Wikipedia!!Hi Wikipedia!!Hi Wikipedia!!Hi Wikipedia!!Hi Wikipedia!!Hi Wikipedia!!Hi Wikipedia!!Hi Wikipedia!!Hi Wikipedia!!Hi Wikipedia!!Hi Wikipedia!!Hi Wikipedia!!Hi Wikipedia!!Hi Wikipedia!!Hi Wikipedia!!Hi Wikipedia!!Hi Wikipedia!!Hi Wikipedia!!Hi Wikipedia!!Hi Wikipedia!!Hi Wikipedia!!Hi Wikipedia!!Hi Wikipedia!!Hi Wikipedia!!Hi Wikipedia!!Hi Wikipedia!!Hi Wikipedia!!Hi Wikipedia!!Hi Wikipedia!!Hi Wikipedia!!Hi Wikipedia!!Hi Wikipedia!!Hi Wikipedia!!Hi Wikipedia!!Hi Wikipedia!!Hi Wikipedia!!Hi Wikipedia!!Hi Wikipedia!!Hi Wikipedia!!Hi Wikipedia!!Hi Wikipedia!!Hi Wikipedia!!Hi Wikipedia!!Hi Wikipedia!!Hi Wikipedia!!Hi Wikipedia!!Hi Wikipedia!!Hi Wikipedia!!Hi Wikipedia!!Hi Wikipedia!!Hi Wikipedia!!Hi Wikipedia!!Hi Wikipedia!!Hi Wikipedia!!Hi Wikipedia!!Hi Wikipedia!!Hi Wikipedia!!Hi Wikipedia!!Hi Wikipedia!!Hi Wikipedia!!Hi Wikipedia!!Hi Wikipedia!!Hi Wikipedia!!Hi Wikipedia!!Hi Wikipedia!!Hi Wikipedia!!Hi Wikipedia!!Hi Wikipedia!!Hi Wikipedia!!Hi Wikipedia!!Hi Wikipedia!!Hi Wikipedia!!Hi Wikipedia!!Hi Wikipedia!!Hi Wikipedia!!Hi Wikipedia!!Hi Wikipedia!!Hi Wikipedia!!Hi Wikipedia!!Hi Wikipedia!!Hi Wikipedia!!Hi Wikipedia!!Hi Wikipedia!!Hi Wikipedia!!Hi Wikipedia!!Hi Wikipedia!!Hi Wikipedia!!Hi Wikipedia!!Hi Wikipedia!!Hi Wikipedia!!Hi Wikipedia!!Hi Wikipedia!!Hi Wikipedia!!Hi Wikipedia!!Hi Wikipedia!!Hi Wikipedia!!Hi Wikipedia!!Hi Wikipedia!!Hi Wikipedia!!Hi Wikipedia!!Hi Wikipedia!!Hi Wikipedia!!Hi Wikipedia!!Hi Wikipedia!!Hi Wikipedia!!Hi Wikipedia!!Hi Wikipedia!!Hi Wikipedia!!Hi Wikipedia!!Hi Wikipedia!!Hi Wikipedia!!Hi Wikipedia!!Hi Wikipedia!!Hi Wikipedia!!Hi Wikipedia!!Hi Wikipedia!!Hi Wikipedia!!Hi Wikipedia!!Hi Wikipedia!!Hi Wikipedia!!Hi Wikipedia!!Hi Wikipedia!!Hi Wikipedia!!Hi Wikipedia!!Hi Wikipedia!!Hi Wikipedia!!Hi Wikipedia!!Hi Wikipedia!!Hi Wikipedia!!Hi Wikipedia!!Hi Wikipedia!!Hi Wikipedia!!Hi Wikipedia!!Hi Wikipedia!!Hi Wikipedia!!Hi Wikipedia!!Hi Wikipedia!!Hi Wikipedia!!Hi Wikipedia!!Hi Wikipedia!!Hi Wikipedia!!Hi Wikipedia!!Hi Wikipedia!!Hi Wikipedia!!Hi Wikipedia!!Hi Wikipedia!!Hi Wikipedia!!Hi Wikipedia!!Hi Wikipedia!!Hi Wikipedia!!Hi Wikipedia!!Hi Wikipedia!!Hi Wikipedia!!Hi Wikipedia!!Hi Wikipedia!!Hi Wikipedia!!Hi Wikipedia!!Hi Wikipedia!!Hi Wikipedia!!Hi Wikipedia!!Hi Wikipedia!!Hi Wikipedia!!Hi Wikipedia!!Hi Wikipedia!!Hi Wikipedia!!Hi Wikipedia!!Hi Wikipedia!!Hi Wikipedia!!Hi Wikipedia!!Hi Wikipedia!!Hi Wikipedia!!Hi Wikipedia!!Hi Wikipedia!!Hi Wikipedia!!Hi Wikipedia!!Hi Wikipedia!!Hi Wikipedia!!Hi Wikipedia!!Hi Wikipedia!!Hi Wikipedia!!Hi Wikipedia!!Hi Wikipedia!!Hi Wikipedia!!Hi Wikipedia!!Hi Wikipedia!!Hi Wikipedia!!Hi Wikipedia!!Hi Wikipedia!!Hi Wikipedia!!Hi Wikipedia!!Hi Wikipedia!!Hi Wikipedia!!Hi Wikipedia!!Hi Wikipedia!!Hi Wikipedia!!Hi Wikipedia!!Hi Wikipedia!!Hi Wikipedia!!Hi Wikipedia!!Hi Wikipedia!!Hi Wikipedia!!Hi Wikipedia!!Hi Wikipedia!!Hi Wikipedia!!Hi Wikipedia!!Hi Wikipedia!!Hi Wikipedia!!Hi Wikipedia!!Hi Wikipedia!!Hi Wikipedia!!Hi Wikipedia!!Hi Wikipedia!!Hi Wikipedia!!Hi Wikipedia!!Hi Wikipedia!!Hi Wikipedia!!Hi Wikipedia!!Hi Wikipedia!!Hi Wikipedia!!Hi Wikipedia!!Hi Wikipedia!!Hi Wikipedia!!Hi Wikipedia!!Hi Wikipedia!!Hi Wikipedia!!Hi Wikipedia!!Hi Wikipedia!!Hi Wikipedia!!Hi Wikipedia!!Hi Wikipedia!!Hi Wikipedia!!Hi Wikipedia!!Hi Wikipedia!!Hi Wikipedia!!Hi Wikipedia!!Hi Wikipedia!!Hi Wikipedia!!Hi Wikipedia!!Hi Wikipedia!!Hi Wikipedia!!Hi Wikipedia!!Hi Wikipedia!!Hi Wikipedia!!Hi Wikipedia!!Hi Wikipedia!!Hi Wikipedia!!Hi Wikipedia!!Hi Wikipedia!!Hi Wikipedia!!Hi Wikipedia!!Hi Wikipedia!!Hi Wikipedia!!Hi Wikipedia!!Hi Wikipedia!!Hi Wikipedia!!Hi Wikipedia!!Hi Wikipedia!!Hi Wikipedia!!Hi Wikipedia!!Hi Wikipedia!!Hi Wikipedia!!Hi Wikipedia!!Hi Wikipedia!!Hi Wikipedia!!Hi Wikipedia!!Hi Wikipedia!!Hi Wikipedia!!Hi Wikipedia!!Hi Wikipedia!!Hi Wikipedia!!Hi Wikipedia!!Hi Wikipedia!!Hi Wikipedia!!Hi Wikipedia!!Hi Wikipedia!!Hi Wikipedia!!Hi Wikipedia!!Hi Wikipedia!!Hi Wikipedia!!Hi Wikipedia!!Hi Wikipedia!!Hi Wikipedia!!Hi Wikipedia!!Hi Wikipedia!!Hi Wikipedia!!Hi Wikipedia!!Hi Wikipedia!!Hi Wikipedia!!Hi Wikipedia!!Hi Wikipedia!!Hi Wikipedia!!Hi Wikipedia!!Hi Wikipedia!!Hi Wikipedia!!Hi Wikipedia!!Hi Wikipedia!!Hi Wikipedia!!Hi Wikipedia!!Hi Wikipedia!!Hi Wikipedia!!Hi Wikipedia!!Hi Wikipedia!!Hi Wikipedia!!Hi Wikipedia!!Hi Wikipedia!!Hi Wikipedia!!Hi Wikipedia!!Hi Wikipedia!!Hi Wikipedia!!Hi Wikipedia!!Hi Wikipedia!!Hi Wikipedia!!Hi Wikipedia!!Hi Wikipedia!!Hi Wikipedia!!Hi Wikipedia!!Hi Wikipedia!!Hi Wikipedia!!Hi Wikipedia!!Hi Wikipedia!!Hi Wikipedia!!Hi Wikipedia!!Hi Wikipedia!!Hi Wikipedia!!Hi Wikipedia!!Hi Wikipedia!!Hi Wikipedia!!Hi Wikipedia!!Hi Wikipedia!!Hi Wikipedia!!Hi Wikipedia!!Hi Wikipedia!!Hi Wikipedia!!Hi Wikipedia!!Hi Wikipedia!!Hi Wikipedia!!Hi Wikipedia!!Hi Wikipedia!!Hi Wikipedia!!Hi Wikipedia!!Hi Wikipedia!!Hi Wikipedia!!Hi Wikipedia!!Hi Wikipedia!!Hi Wikipedia!!Hi Wikipedia!!Hi Wikipedia!!Hi Wikipedia!   \n",
       "18151  Hey guys I love chicken rice=)Hey guys I love chicken rice=)Hey guys I love chicken rice=)Hey guys I love chicken rice=)Hey guys I love chicken rice=)Hey guys I love chicken rice=)Hey guys I love chicken rice=)Hey guys I love chicken rice=)Hey guys I love chicken rice=)Hey guys I love chicken rice=)Hey guys I love chicken rice=)Hey guys I love chicken rice=)Hey guys I love chicken rice=)Hey guys I love chicken rice=)Hey guys I love chicken rice=)Hey guys I love chicken rice=)Hey guys I love chicken rice=)Hey guys I love chicken rice=)Hey guys I love chicken rice=)Hey guys I love chicken rice=)Hey guys I love chicken rice=)Hey guys I love chicken rice=)Hey guys I love chicken rice=)Hey guys I love chicken rice=)Hey guys I love chicken rice=)Hey guys I love chicken rice=)Hey guys I love chicken rice=)Hey guys I love chicken rice=)Hey guys I love chicken rice=)Hey guys I love chicken rice=)Hey guys I love chicken rice=)Hey guys I love chicken rice=)Hey guys I love chicken rice=)Hey guys I love chicken rice=)Hey guys I love chicken rice=)Hey guys I love chicken rice=)Hey guys I love chicken rice=)Hey guys I love chicken rice=)Hey guys I love chicken rice=)Hey guys I love chicken rice=)Hey guys I love chicken rice=)Hey guys I love chicken rice=)Hey guys I love chicken rice=)Hey guys I love chicken rice=)Hey guys I love chicken rice=)Hey guys I love chicken rice=)Hey guys I love chicken rice=)Hey guys I love chicken rice=)Hey guys I love chicken rice=)Hey guys I love chicken rice=)Hey guys I love chicken rice=)Hey guys I love chicken rice=)Hey guys I love chicken rice=)Hey guys I love chicken rice=)Hey guys I love chicken rice=)Hey guys I love chicken rice=)Hey guys I love chicken rice=)Hey guys I love chicken rice=)Hey guys I love chicken rice=)Hey guys I love chicken rice=)Hey guys I love chicken rice=)Hey guys I love chicken rice=)Hey guys I love chicken rice=)Hey guys I love chicken rice=)Hey guys I love chicken rice=)Hey guys I love chicken rice=)Hey guys I love chicken rice=)Hey guys I love chicken rice=)Hey guys I love chicken rice=)Hey guys I love chicken rice=)Hey guys I love chicken rice=)Hey guys I love chicken rice=)Hey guys I love chicken rice=)Hey guys I love chicken rice=)Hey guys I love chicken rice=)Hey guys I love chicken rice=)Hey guys I love chicken rice=)Hey guys I love chicken rice=)Hey guys I love chicken rice=)Hey guys I love chicken rice=)Hey guys I love chicken rice=)Hey guys I love chicken rice=)Hey guys I love chicken rice=)Hey guys I love chicken rice=)Hey guys I love chicken rice=)Hey guys I love chicken rice=)Hey guys I love chicken rice=)Hey guys I love chicken rice=)Hey guys I love chicken rice=)Hey guys I love chicken rice=)Hey guys I love chicken rice=)Hey guys I love chicken rice=)Hey guys I love chicken rice=)Hey guys I love chicken rice=)Hey guys I love chicken rice=)Hey guys I love chicken rice=)Hey guys I love chicken rice=)Hey guys I love chicken rice=)Hey guys I love chicken rice=)Hey guys I love chicken rice=)Hey guys I love chicken rice=)Hey guys I love chicken rice=)Hey guys I love chicken rice=)Hey guys I love chicken rice=)Hey guys I love chicken rice=)Hey guys I love chicken rice=)Hey guys I love chicken rice=)Hey guys I love chicken rice=)Hey guys I love chicken rice=)Hey guys I love chicken rice=)Hey guys I love chicken rice=)Hey guys I love chicken rice=)Hey guys I love chicken rice=)Hey guys I love chicken rice=)Hey guys I love chicken rice=)Hey guys I love chicken rice=)Hey guys I love chicken rice=)Hey guys I love chicken rice=)Hey guys I love chicken rice=)Hey guys I love chicken rice=)Hey guys I love chicken rice=)Hey guys I love chicken rice=)Hey guys I love chicken rice=)Hey guys I love chicken rice=)Hey guys I love chicken rice=)Hey guys I love chicken rice=)Hey guys I love chicken rice=)Hey guys I love chicken rice=)Hey guys I love chicken rice=)Hey guys I love chicken rice=)Hey guys I love chicken rice=)Hey guys I love chicken rice=)Hey guys I love chicken rice=)Hey guys I love chicken rice=)Hey guys I love chicken rice=)Hey guys I love chicken rice=)Hey guys I love chicken rice=)Hey guys I love chicken rice=)Hey guys I love chicken rice=)Hey guys I love chicken rice=)Hey guys I love chicken rice=)Hey guys I love chicken rice=)Hey guys I love chicken rice=)Hey guys I love chicken rice=)Hey guys I love chicken rice=)Hey guys I love chicken rice=)Hey guys I love chicken rice=)Hey guys I love chicken rice=)Hey guys I love chicken rice=)Hey guys I love chicken rice=)Hey guys I love chicken rice=)Hey guys I love chicken rice=)Hey guys I love chicken rice=)Hey guys I love chicken rice=)Hey guys I love chicken rice=)Hey guys I love chicken rice=)Hey guys I love chicken rice=)Hey guys I love chicken rice=)Hey guys I love chicken rice=)Hey guys I love chicken rice=)Hey guys I love chicken rice=)Hey guys I love chicken rice=)Hey guys I love chicken rice=)Hey guys I love chicken rice=)Hey guys I love chicken rice=)Hey guys I love chicken rice=)Hey guys I love chic   \n",
       "22334  I fuck niggas! I fuck niggas! I fuck niggas! I fuck niggas! I fuck niggas! I fuck niggas! I fuck niggas! I fuck niggas! I fuck niggas! I fuck niggas! I fuck niggas! I fuck niggas! I fuck niggas! I fuck niggas! I fuck niggas! I fuck niggas! I fuck niggas! I fuck niggas! I fuck niggas! I fuck niggas! I fuck niggas! I fuck niggas! I fuck niggas! I fuck niggas! I fuck niggas! I fuck niggas! I fuck niggas! I fuck niggas! I fuck niggas! I fuck niggas! I fuck niggas! I fuck niggas! I fuck niggas! I fuck niggas! I fuck niggas! I fuck niggas! I fuck niggas! I fuck niggas! I fuck niggas! I fuck niggas! I fuck niggas! I fuck niggas! I fuck niggas! I fuck niggas! I fuck niggas! I fuck niggas! I fuck niggas! I fuck niggas! I fuck niggas! I fuck niggas! I fuck niggas! I fuck niggas! I fuck niggas! I fuck niggas! I fuck niggas! I fuck niggas! I fuck niggas! I fuck niggas! I fuck niggas! I fuck niggas! I fuck niggas! I fuck niggas! I fuck niggas! I fuck niggas! I fuck niggas! I fuck niggas! I fuck niggas! I fuck niggas! I fuck niggas! I fuck niggas! I fuck niggas! I fuck niggas! I fuck niggas! I fuck niggas! I fuck niggas! I fuck niggas! I fuck niggas! I fuck niggas! I fuck niggas! I fuck niggas! I fuck niggas! I fuck niggas! I fuck niggas! I fuck niggas! I fuck niggas! I fuck niggas! I fuck niggas! I fuck niggas! I fuck niggas! I fuck niggas! I fuck niggas! I fuck niggas! I fuck niggas! I fuck niggas! I fuck niggas! I fuck niggas! I fuck niggas! I fuck niggas! I fuck niggas! I fuck niggas! I fuck niggas! I fuck niggas! I fuck niggas! I fuck niggas! I fuck niggas! I fuck niggas! I fuck niggas! I fuck niggas! I fuck niggas! I fuck niggas! I fuck niggas! I fuck niggas! I fuck niggas! I fuck niggas! I fuck niggas! I fuck niggas! I fuck niggas! I fuck niggas! I fuck niggas! I fuck niggas! I fuck niggas! I fuck niggas! I fuck niggas! I fuck niggas! I fuck niggas! I fuck niggas! I fuck niggas! I fuck niggas! I fuck niggas! I fuck niggas! I fuck niggas! I fuck niggas! I fuck niggas! I fuck niggas! I fuck niggas! I fuck niggas! I fuck niggas! I fuck niggas! I fuck niggas! I fuck niggas! I fuck niggas! I fuck niggas! I fuck niggas! I fuck niggas! I fuck niggas! I fuck niggas! I fuck niggas! I fuck niggas! I fuck niggas! I fuck niggas! I fuck niggas! I fuck niggas! I fuck niggas! I fuck niggas! I fuck niggas! I fuck niggas! I fuck niggas! I fuck niggas! I fuck niggas! I fuck niggas! I fuck niggas! I fuck niggas! I fuck niggas! I fuck niggas! I fuck niggas! I fuck niggas! I fuck niggas! I fuck niggas! I fuck niggas! I fuck niggas! I fuck niggas! I fuck niggas! I fuck niggas! I fuck niggas! I fuck niggas! I fuck niggas! I fuck niggas! I fuck niggas! I fuck niggas! I fuck niggas! I fuck niggas! I fuck niggas! I fuck niggas! I fuck niggas! I fuck niggas! I fuck niggas! I fuck niggas! I fuck niggas! I fuck niggas! I fuck niggas! I fuck niggas! I fuck niggas! I fuck niggas! I fuck niggas! I fuck niggas! I fuck niggas! I fuck niggas! I fuck niggas! I fuck niggas! I fuck niggas! I fuck niggas! I fuck niggas! I fuck niggas! I fuck niggas! I fuck niggas! I fuck niggas! I fuck niggas! I fuck niggas! I fuck niggas! I fuck niggas! I fuck niggas! I fuck niggas! I fuck niggas! I fuck niggas! I fuck niggas! I fuck niggas! I fuck niggas! I fuck niggas! I fuck niggas! I fuck niggas! I fuck niggas! I fuck niggas! I fuck niggas! I fuck niggas! I fuck niggas! I fuck niggas! I fuck niggas! I fuck niggas! I fuck niggas! I fuck niggas! I fuck niggas! I fuck niggas! I fuck niggas! I fuck niggas! I fuck niggas! I fuck niggas! I fuck niggas! I fuck niggas! I fuck niggas! I fuck niggas! I fuck niggas! I fuck niggas! I fuck niggas! I fuck niggas! I fuck niggas! I fuck niggas! I fuck niggas! I fuck niggas! I fuck niggas! I fuck niggas! I fuck niggas! I fuck niggas! I fuck niggas! I fuck niggas! I fuck niggas! I fuck niggas! I fuck niggas! I fuck niggas! I fuck niggas! I fuck niggas! I fuck niggas! I fuck niggas! I fuck niggas! I fuck niggas! I fuck niggas! I fuck niggas! I fuck niggas! I fuck niggas! I fuck niggas! I fuck niggas! I fuck niggas! I fuck niggas! I fuck niggas! I fuck niggas! I fuck niggas! I fuck niggas! I fuck niggas! I fuck niggas! I fuck niggas! I fuck niggas! I fuck niggas! I fuck niggas! I fuck niggas! I fuck niggas! I fuck niggas! I fuck niggas! I fuck niggas! I fuck niggas! I fuck niggas! I fuck niggas! I fuck niggas! I fuck niggas! I fuck niggas! I fuck niggas! I fuck niggas! I fuck niggas! I fuck niggas! I fuck niggas! I fuck niggas! I fuck niggas! I fuck niggas! I fuck niggas! I fuck niggas! I fuck niggas! I fuck niggas! I fuck niggas! I fuck niggas! I fuck niggas! I fuck niggas! I fuck niggas! I fuck niggas! I fuck niggas! I fuck niggas! I fuck niggas! I fuck niggas! I fuck niggas! I fuck niggas! I fuck niggas! I fuck niggas! I fuck niggas! I fuck niggas! I fuck niggas! I fuck niggas! I fuck niggas! I fuck niggas! I fuck niggas! I fuck niggas! I fuck niggas! I fuck niggas! I fuck niggas! I fuck niggas! I fuck niggas! I fuck niggas! I fuc   \n",
       "25647  \"....would you prefer expressing my frustration in what i don't agree with and try to say it as direct and respectful as possible or would you prefer for me to not say much and be harsh to you and not give care to what you sat? would that be suit you better?i could..but i don't think that's what you want...ramblings you said just because you don't like to be told off doesn't mean its rambling, deal with it like a MAN  and take criticism because not everyone  does things the same way...so for you or anyone complaining about speaking one's mind i could care less tbh but you're abusing your power and you are the reason or one of the reasons you make it unpleasant for some to edit in wikipedia...even when i try to to make good edits and a lot more thorough and informative you have a complaint about it.. i'm doing exactly the same thing you are doing pal, are not any more or lesser than me....don't talk the talk if you can't take it when people speak their mind about things you don't want to hear cause that right there is childish, you expect people to bow to you and not respond? lol good luck with that you're not getting that out of me...i mean i'm willing to compromise and discuss things but you are putting half-assed edits..i'm filling them out an expanding and putting sources on them i might add and you or others with your limited mentality revert an article to 1 with very little information ..how are empty spaces better than filled ones? that makes absolutely no sense...i even provide some sources from where i get my stuff from and still complain n harass?...you prob didn't even notice some of the edits there you see in even your edits and others  were done by ME lol, you just built upon it and added your own, i'm not saying you nor others taking credit for others work and research (i hope not that's just unprofessional and messed up) but you got something of a personal motive that you're not admitting to, if i'm doing the edits as best as i can and doing it the same way as you are and tryign to provide sources...what s the problem then? the stuff i get my info from are from credited  1st or 3rd party websites lol..what more do you need? the signatures of the editors of the other websites where i get my info from? come on now haha..why don't you be a little more honest and say what really is your problem with me instead of making escuses for it and when people confront you about it or want to speak their mind you back out...oh yeah that's very mature pal just because i don't believe in the same ideals as you ...i mean how can  an admin of such  \"\"REPUTATION\"\" be so naive..i don't get it..you don't like others to express their disapproval or speak their mind about how to improve an article  i mean this is what U r doing \"\"4 + X = 5\"\"..that's ok to you right ..missing information that you won't even bother to look up fully and this isn't a grammar class people make typos all the time big deal deal with it..this isn't a regular article its a talk page. i got my say as much as you do regardless of how long you have being editing here or your position here etc, i have a say as much as you do...if you can't take criticism of your poorly edited works than maybe you shouldn't be editing here in the first place..you have no seniority or control over me whatsoever..no one does as i don't have over you ...all i'm asking is for me do do things right and i'am i give u sources , i flesh out the articles n fill in the blanks ..what more do you want guy?...don't make arrogant excuses about my typos or so called ramblings just because you can't take being told in your face criticism in your work...the point is i COMPLETE the articles..you and others with your mentality don't finish it or bother to do a more thorough look..so don't make excuses for your wrong doings ..so you can't take criticism, you don't like other people's edits that re more complete and informative than yours unless you are the 1 editing them, you make excuses for people speaking their mind when they tell you things in your face that are mostly true but you aren't mature enough to own up to it, you make it personal...so if you or anyone who thinks like you don't think about it or made the effort than its BAD right? lol...who you think you are? god ? lol ....i try to be respectful and i want to be able to edit freely in my own way even though my versions are usually more complete , informative and thorough, i don't make up facts i don't troll or do things with bad intentions here..especially here because i rely in wikipedia  myself when i want to look up something just because you haven't thought it up or made the effort to be more thorough doesn't mean you or your kind with your mindset have to abuse their authority here because they weren't creative enough to come up wit h it themselves..like i said go ahead and make excuses about misspellings and ramblings because you hide under that to mask your own faults wish it was you who done it and thought it up   \n",
       "\n",
       "       toxic  length  \n",
       "4167       1    5000  \n",
       "6190       1    5000  \n",
       "8685       1    5000  \n",
       "9651       1    5000  \n",
       "10746      1    5000  \n",
       "12869      1    5000  \n",
       "16612      0    5000  \n",
       "18151      0    5000  \n",
       "22334      1    5000  \n",
       "25647      0    5000  "
      ]
     },
     "execution_count": 58,
     "metadata": {},
     "output_type": "execute_result"
    }
   ],
   "source": [
    "data_len_max.head(10)"
   ]
  },
  {
   "cell_type": "code",
   "execution_count": 59,
   "metadata": {
    "scrolled": true
   },
   "outputs": [],
   "source": [
    "# выведем один комментарий полностью\n",
    "#data_len_max.iloc[0, 1]"
   ]
  },
  {
   "cell_type": "markdown",
   "metadata": {},
   "source": [
    "Можно заметить, что каждый длинный комментарий на 5000 символов - это одна фраза, которую продублировали много раз. Можно предположить, что это ошибка выгрузки данных. Но вполне вероятно, что это реальный комментарий челоека (в жизни комментарии бывают совершенно разные).\n",
    "\n",
    "Рассмотрим самый короткий комментарий (он один):"
   ]
  },
  {
   "cell_type": "code",
   "execution_count": 60,
   "metadata": {},
   "outputs": [
    {
     "data": {
      "text/plain": [
       "'  \"\"\"'"
      ]
     },
     "execution_count": 60,
     "metadata": {},
     "output_type": "execute_result"
    }
   ],
   "source": [
    "data_len_min.iloc[0, 1]"
   ]
  },
  {
   "cell_type": "markdown",
   "metadata": {},
   "source": [
    "Как видим, самый короткий комментарий - неинформативный.\n",
    "\n",
    "---\n",
    "Итак, подведем итог: в данных обнаружены своего рода 'выбросы' - очень длинные комментарии, состоящие из 5000 симоволов и очень короткие (такой всего один - 5 символов). Аномальные комментарии суммарно составляют всего 0.03 % от всего датафрейма\n",
    "\n",
    "Для оптимизации времени выполнения предобработки (чтобы не тратить время на лемматизацию текста в несколько тысяч слов) можно удалить аномалии. *Пока удалять данные не будем*"
   ]
  },
  {
   "cell_type": "markdown",
   "metadata": {},
   "source": [
    "* **Проверим, влияет ли длина комментария на его токсичность**"
   ]
  },
  {
   "cell_type": "code",
   "execution_count": 61,
   "metadata": {},
   "outputs": [],
   "source": [
    "# сделаем срезы по токсичным и нетоксичным комментариям\n",
    "toxic = data_len.query('toxic == 1')\n",
    "not_toxic = data_len.query('toxic != 1')"
   ]
  },
  {
   "cell_type": "code",
   "execution_count": 62,
   "metadata": {},
   "outputs": [
    {
     "name": "stdout",
     "output_type": "stream",
     "text": [
      "Количество токсичных комментариев: 16186\n",
      "Количество нетоксичных комментариев: 143106\n"
     ]
    }
   ],
   "source": [
    "print('Количество токсичных комментариев:', len(toxic))\n",
    "print('Количество нетоксичных комментариев:', len(not_toxic))"
   ]
  },
  {
   "cell_type": "code",
   "execution_count": 64,
   "metadata": {},
   "outputs": [
    {
     "data": {
      "image/png": "[encoded data removed]",
      "text/plain": [
       "<Figure size 720x360 with 1 Axes>"
      ]
     },
     "metadata": {
      "needs_background": "light"
     },
     "output_type": "display_data"
    }
   ],
   "source": [
    "# наложим графики друг на друга\n",
    "fig, ax = plt.subplots(figsize=(10, 5))\n",
    "\n",
    "ax.hist(toxic['length'], bins=15, alpha=0.4, label='Токсичные', color='red')\n",
    "ax.hist(not_toxic['length'], bins=15, alpha=0.4, label='Нетоксичные', color='blue')\n",
    "\n",
    "ax.set_title('Сравнение длины токсичных и нетоксичных комментариев', fontsize=15)\n",
    "ax.set_xlabel('Количество символов', fontsize=12)\n",
    "ax.set_ylabel('Количество сообщений', fontsize=12)\n",
    "ax.legend()\n",
    "plt.tight_layout()\n",
    "plt.show()"
   ]
  },
  {
   "cell_type": "code",
   "execution_count": 65,
   "metadata": {},
   "outputs": [
    {
     "data": {
      "image/png": "[encoded data removed]",
      "text/plain": [
       "<Figure size 864x432 with 1 Axes>"
      ]
     },
     "metadata": {
      "needs_background": "light"
     },
     "output_type": "display_data"
    }
   ],
   "source": [
    "# график плотности распределения комментариев по длине сообщения\n",
    "plt.figure(figsize=(12, 6))\n",
    "\n",
    "sns.kdeplot(toxic['length'], fill=True, color='blue', label='Токсичные')\n",
    "sns.kdeplot(not_toxic['length'], fill=True, color='red', label='Нетоксичные')\n",
    "\n",
    "plt.title('Плотность распределения токсичных и нетоксичных комментариев по длине сообщения', fontsize=15)\n",
    "plt.xlabel('Количество комментариев', fontsize=12)\n",
    "plt.ylabel('Плотность', fontsize=12)\n",
    "plt.legend()\n",
    "plt.show()"
   ]
  },
  {
   "cell_type": "markdown",
   "metadata": {},
   "source": [
    "---\n",
    "Заметим, что распределение токсичных и нетоксичных комментариев по длине (количество символов) не одинаковое, есть различия. Следовательно, можно говорить о взаимосвязи длина комментария и его токсичности. *На текущий момент длину комментария в качестве дополнительного признака, который можно использовать для классификации, рассматривать не будем.*"
   ]
  },
  {
   "cell_type": "markdown",
   "metadata": {},
   "source": [
    "---\n",
    "**ВЫВОД: ЗАГРУЗКА ДАННЫХ**\n",
    "\n",
    "Итак, мы считали CSV-файл с данными и сохранили его в датафрейм data.\n",
    "\n",
    "В датафрейме data содержится: 159 292 строк / 3 столбца.  \n",
    "Каждая строка = комментарий, каждый столбец = признак, который содержит информацию о комментарии.  \n",
    "\n",
    "* *'Unnamed: 0'*: не содержит ценной для обучения информации (копирует индексы) / не будет использован в дальнейшем анализе  \n",
    "(удалим на следующем этапе)\n",
    "* *'text'*: содержит исходный текст комментария, не целевой / будет использован в обучении и предсказании  \n",
    "* *'toxic'*: содержит данные по классификации текстов /целевой\n",
    "\n",
    "Наименование столбцов 'text', toxic' - корректные, дубликатов и пропусков нет.\n",
    "\n",
    "Признак *'toxic'* содержит уникальные значения '0' и '1', при этом имеет тип данных int64 >> оптимизируем до uint8.\n",
    "\n",
    "Также отметим *дисбаланс классов целевого признака - наблюдаем существенный перевес в пользу класса '0' (будем учитывать это на этапе разделения датасета на выборки)*\n",
    "\n",
    "Отметим, что комментарии на английском языке, также в данных присутствуют разделители строки, заглавные символы (очистку от ненужных символов, а также все преобразования с текстом произведем на этапе подготовки данных). \n",
    "\n",
    "В данных обнаружены своего рода 'выбросы' - очень длинные комментарии, состоящие из 5000 симоволов и очень короткие (такой всего один - 5 символов). Аномальные комментарии суммарно составляют всего 0.03 % от всего датафрейма. Для оптимизации времени выполнения предобработки (чтобы не тратить время на лемматизацию текста в несколько тысяч слов) аномалии можно удалить. *Пока удалять данные не будем*.\n",
    "\n",
    "Проверили, влияет ли длина комментария на его токсичность - было выявлено, что взаимосвязь между длиной комментария и его токсичностью есть (распределение токсичных и нетоксичных комментариев по длине не одинаковое, есть различия). *На текущий момент, длину комментария в качестве дополнительного признака, который можно использовать для классификации, рассматривать не будем.*"
   ]
  },
  {
   "cell_type": "markdown",
   "metadata": {},
   "source": [
    "##  Подготовка данных"
   ]
  },
  {
   "cell_type": "markdown",
   "metadata": {},
   "source": [
    "### Удаление неинформативных признаков\n",
    "\n",
    "Как уже было отмечено ранее, столбец 'Unnamed: 0' неинформативен, удалим его:"
   ]
  },
  {
   "cell_type": "code",
   "execution_count": 66,
   "metadata": {},
   "outputs": [],
   "source": [
    "data = data.drop('Unnamed: 0', axis=1)"
   ]
  },
  {
   "cell_type": "code",
   "execution_count": 67,
   "metadata": {
    "scrolled": false
   },
   "outputs": [
    {
     "data": {
      "text/html": [
       "<div>\n",
       "<style scoped>\n",
       "    .dataframe tbody tr th:only-of-type {\n",
       "        vertical-align: middle;\n",
       "    }\n",
       "\n",
       "    .dataframe tbody tr th {\n",
       "        vertical-align: top;\n",
       "    }\n",
       "\n",
       "    .dataframe thead th {\n",
       "        text-align: right;\n",
       "    }\n",
       "</style>\n",
       "<table border=\"1\" class=\"dataframe\">\n",
       "  <thead>\n",
       "    <tr style=\"text-align: right;\">\n",
       "      <th></th>\n",
       "      <th>text</th>\n",
       "      <th>toxic</th>\n",
       "    </tr>\n",
       "  </thead>\n",
       "  <tbody>\n",
       "    <tr>\n",
       "      <th>0</th>\n",
       "      <td>Explanation\\nWhy the edits made under my username Hardcore Metallica Fan were reverted? They weren't vandalisms, just closure on some GAs after I voted at New York Dolls FAC. And please don't remove the template from the talk page since I'm retired now.89.205.38.27</td>\n",
       "      <td>0</td>\n",
       "    </tr>\n",
       "    <tr>\n",
       "      <th>1</th>\n",
       "      <td>D'aww! He matches this background colour I'm seemingly stuck with. Thanks.  (talk) 21:51, January 11, 2016 (UTC)</td>\n",
       "      <td>0</td>\n",
       "    </tr>\n",
       "    <tr>\n",
       "      <th>2</th>\n",
       "      <td>Hey man, I'm really not trying to edit war. It's just that this guy is constantly removing relevant information and talking to me through edits instead of my talk page. He seems to care more about the formatting than the actual info.</td>\n",
       "      <td>0</td>\n",
       "    </tr>\n",
       "    <tr>\n",
       "      <th>3</th>\n",
       "      <td>\"\\nMore\\nI can't make any real suggestions on improvement - I wondered if the section statistics should be later on, or a subsection of \"\"types of accidents\"\"  -I think the references may need tidying so that they are all in the exact same format ie date format etc. I can do that later on, if no-one else does first - if you have any preferences for formatting style on references or want to do it yourself please let me know.\\n\\nThere appears to be a backlog on articles for review so I guess there may be a delay until a reviewer turns up. It's listed in the relevant form eg Wikipedia:Good_article_nominations#Transport  \"</td>\n",
       "      <td>0</td>\n",
       "    </tr>\n",
       "    <tr>\n",
       "      <th>4</th>\n",
       "      <td>You, sir, are my hero. Any chance you remember what page that's on?</td>\n",
       "      <td>0</td>\n",
       "    </tr>\n",
       "  </tbody>\n",
       "</table>\n",
       "</div>"
      ],
      "text/plain": [
       "                                                                                                                                                                                                                                                                                                                                                                                                                                                                                                                                                                                                                                                 text  \\\n",
       "0                                                                                                                                                                                                                                                                                                                                                                           Explanation\\nWhy the edits made under my username Hardcore Metallica Fan were reverted? They weren't vandalisms, just closure on some GAs after I voted at New York Dolls FAC. And please don't remove the template from the talk page since I'm retired now.89.205.38.27   \n",
       "1                                                                                                                                                                                                                                                                                                                                                                                                                                                                                                                                    D'aww! He matches this background colour I'm seemingly stuck with. Thanks.  (talk) 21:51, January 11, 2016 (UTC)   \n",
       "2                                                                                                                                                                                                                                                                                                                                                                                                           Hey man, I'm really not trying to edit war. It's just that this guy is constantly removing relevant information and talking to me through edits instead of my talk page. He seems to care more about the formatting than the actual info.   \n",
       "3  \"\\nMore\\nI can't make any real suggestions on improvement - I wondered if the section statistics should be later on, or a subsection of \"\"types of accidents\"\"  -I think the references may need tidying so that they are all in the exact same format ie date format etc. I can do that later on, if no-one else does first - if you have any preferences for formatting style on references or want to do it yourself please let me know.\\n\\nThere appears to be a backlog on articles for review so I guess there may be a delay until a reviewer turns up. It's listed in the relevant form eg Wikipedia:Good_article_nominations#Transport  \"   \n",
       "4                                                                                                                                                                                                                                                                                                                                                                                                                                                                                                                                                                                 You, sir, are my hero. Any chance you remember what page that's on?   \n",
       "\n",
       "   toxic  \n",
       "0      0  \n",
       "1      0  \n",
       "2      0  \n",
       "3      0  \n",
       "4      0  "
      ]
     },
     "execution_count": 67,
     "metadata": {},
     "output_type": "execute_result"
    }
   ],
   "source": [
    "data.head()"
   ]
  },
  {
   "cell_type": "markdown",
   "metadata": {},
   "source": [
    "### Оптимизация типов данных\n",
    "\n",
    "Оптимизируем тип данных признака 'toxic' (int64 переведем в формат uint8):"
   ]
  },
  {
   "cell_type": "code",
   "execution_count": 68,
   "metadata": {},
   "outputs": [],
   "source": [
    "data['toxic'] = data['toxic'].astype('uint8')"
   ]
  },
  {
   "cell_type": "markdown",
   "metadata": {},
   "source": [
    "Переведём тексты в стандартный для Python формат (кодировку Unicode): "
   ]
  },
  {
   "cell_type": "code",
   "execution_count": 69,
   "metadata": {},
   "outputs": [],
   "source": [
    "#data['text'] = data['text'].values.astype('U')\n",
    "#каждый раз при запуске умирает ядро"
   ]
  },
  {
   "cell_type": "markdown",
   "metadata": {},
   "source": [
    "### Очистка текста + лемматизация\n",
    "\n",
    "На этом этапе очистим текст от ненужных символов, проведем лемматизацию с помощью WordNetLemmatizer."
   ]
  },
  {
   "cell_type": "code",
   "execution_count": 70,
   "metadata": {},
   "outputs": [],
   "source": [
    "# для лемматизации слов в тексте на английском языке инициализируем WordNetLemmatizer\n",
    "lemmatizer = WordNetLemmatizer()"
   ]
  },
  {
   "cell_type": "markdown",
   "metadata": {},
   "source": [
    ">для pos-тегов - маркировки частей речи создадим функцию **get_wordnet_pos**:"
   ]
  },
  {
   "cell_type": "code",
   "execution_count": 71,
   "metadata": {},
   "outputs": [],
   "source": [
    "def get_wordnet_pos(word):\n",
    "    tag = nltk.pos_tag([word])[0][1][0].upper()\n",
    "    tag_dict = {\"J\": wordnet.ADJ,\n",
    "                \"N\": wordnet.NOUN,\n",
    "                \"V\": wordnet.VERB,\n",
    "                \"R\": wordnet.ADV}\n",
    "    return tag_dict.get(tag, wordnet.NOUN)"
   ]
  },
  {
   "cell_type": "markdown",
   "metadata": {},
   "source": [
    ">для для очистки и лемматизации текста с маркированными частями речи создадим функцию **clear_text**:"
   ]
  },
  {
   "cell_type": "code",
   "execution_count": 72,
   "metadata": {},
   "outputs": [],
   "source": [
    "def clear_text(text):\n",
    "    text = text.lower()\n",
    "    reg = re.sub(r'[^a-zA-Z]', ' ', text)\n",
    "    clear = reg.split() \n",
    "    lemm = []\n",
    "    # в цикле лемматизируем очищенный текст\n",
    "    for i in range(len(clear)):\n",
    "      lemm.append(lemmatizer.lemmatize(clear[i], get_wordnet_pos(clear[i])))\n",
    "    return \" \".join(lemm)"
   ]
  },
  {
   "cell_type": "code",
   "execution_count": 73,
   "metadata": {},
   "outputs": [
    {
     "data": {
      "application/vnd.jupyter.widget-view+json": {
       "model_id": "110c1e35d073460dbeabad9eaa224442",
       "version_major": 2,
       "version_minor": 0
      },
      "text/plain": [
       "  0%|          | 0/159292 [00:00<?, ?it/s]"
      ]
     },
     "metadata": {},
     "output_type": "display_data"
    }
   ],
   "source": [
    "# добавим новый столбец с лемматизированным текстом\n",
    "# статус выполнения операции будем отслеживать с помощью прогресс-бара от tqdm\n",
    "tqdm.pandas()\n",
    "data['lemmatized_text'] = data['text'].progress_apply(clear_text)"
   ]
  },
  {
   "cell_type": "code",
   "execution_count": 74,
   "metadata": {},
   "outputs": [
    {
     "data": {
      "text/html": [
       "<div>\n",
       "<style scoped>\n",
       "    .dataframe tbody tr th:only-of-type {\n",
       "        vertical-align: middle;\n",
       "    }\n",
       "\n",
       "    .dataframe tbody tr th {\n",
       "        vertical-align: top;\n",
       "    }\n",
       "\n",
       "    .dataframe thead th {\n",
       "        text-align: right;\n",
       "    }\n",
       "</style>\n",
       "<table border=\"1\" class=\"dataframe\">\n",
       "  <thead>\n",
       "    <tr style=\"text-align: right;\">\n",
       "      <th></th>\n",
       "      <th>text</th>\n",
       "      <th>toxic</th>\n",
       "      <th>lemmatized_text</th>\n",
       "    </tr>\n",
       "  </thead>\n",
       "  <tbody>\n",
       "    <tr>\n",
       "      <th>0</th>\n",
       "      <td>Explanation\\nWhy the edits made under my username Hardcore Metallica Fan were reverted? They weren't vandalisms, just closure on some GAs after I voted at New York Dolls FAC. And please don't remove the template from the talk page since I'm retired now.89.205.38.27</td>\n",
       "      <td>0</td>\n",
       "      <td>explanation why the edits make under my username hardcore metallica fan be revert they weren t vandalism just closure on some gas after i vote at new york doll fac and please don t remove the template from the talk page since i m retire now</td>\n",
       "    </tr>\n",
       "    <tr>\n",
       "      <th>1</th>\n",
       "      <td>D'aww! He matches this background colour I'm seemingly stuck with. Thanks.  (talk) 21:51, January 11, 2016 (UTC)</td>\n",
       "      <td>0</td>\n",
       "      <td>d aww he match this background colour i m seemingly stuck with thanks talk january utc</td>\n",
       "    </tr>\n",
       "    <tr>\n",
       "      <th>2</th>\n",
       "      <td>Hey man, I'm really not trying to edit war. It's just that this guy is constantly removing relevant information and talking to me through edits instead of my talk page. He seems to care more about the formatting than the actual info.</td>\n",
       "      <td>0</td>\n",
       "      <td>hey man i m really not try to edit war it s just that this guy be constantly remove relevant information and talk to me through edits instead of my talk page he seem to care more about the format than the actual info</td>\n",
       "    </tr>\n",
       "    <tr>\n",
       "      <th>3</th>\n",
       "      <td>\"\\nMore\\nI can't make any real suggestions on improvement - I wondered if the section statistics should be later on, or a subsection of \"\"types of accidents\"\"  -I think the references may need tidying so that they are all in the exact same format ie date format etc. I can do that later on, if no-one else does first - if you have any preferences for formatting style on references or want to do it yourself please let me know.\\n\\nThere appears to be a backlog on articles for review so I guess there may be a delay until a reviewer turns up. It's listed in the relevant form eg Wikipedia:Good_article_nominations#Transport  \"</td>\n",
       "      <td>0</td>\n",
       "      <td>more i can t make any real suggestion on improvement i wonder if the section statistic should be later on or a subsection of type of accident i think the reference may need tidy so that they be all in the exact same format ie date format etc i can do that later on if no one else do first if you have any preference for format style on reference or want to do it yourself please let me know there appear to be a backlog on article for review so i guess there may be a delay until a reviewer turn up it s list in the relevant form eg wikipedia good article nomination transport</td>\n",
       "    </tr>\n",
       "    <tr>\n",
       "      <th>4</th>\n",
       "      <td>You, sir, are my hero. Any chance you remember what page that's on?</td>\n",
       "      <td>0</td>\n",
       "      <td>you sir be my hero any chance you remember what page that s on</td>\n",
       "    </tr>\n",
       "  </tbody>\n",
       "</table>\n",
       "</div>"
      ],
      "text/plain": [
       "                                                                                                                                                                                                                                                                                                                                                                                                                                                                                                                                                                                                                                                 text  \\\n",
       "0                                                                                                                                                                                                                                                                                                                                                                           Explanation\\nWhy the edits made under my username Hardcore Metallica Fan were reverted? They weren't vandalisms, just closure on some GAs after I voted at New York Dolls FAC. And please don't remove the template from the talk page since I'm retired now.89.205.38.27   \n",
       "1                                                                                                                                                                                                                                                                                                                                                                                                                                                                                                                                    D'aww! He matches this background colour I'm seemingly stuck with. Thanks.  (talk) 21:51, January 11, 2016 (UTC)   \n",
       "2                                                                                                                                                                                                                                                                                                                                                                                                           Hey man, I'm really not trying to edit war. It's just that this guy is constantly removing relevant information and talking to me through edits instead of my talk page. He seems to care more about the formatting than the actual info.   \n",
       "3  \"\\nMore\\nI can't make any real suggestions on improvement - I wondered if the section statistics should be later on, or a subsection of \"\"types of accidents\"\"  -I think the references may need tidying so that they are all in the exact same format ie date format etc. I can do that later on, if no-one else does first - if you have any preferences for formatting style on references or want to do it yourself please let me know.\\n\\nThere appears to be a backlog on articles for review so I guess there may be a delay until a reviewer turns up. It's listed in the relevant form eg Wikipedia:Good_article_nominations#Transport  \"   \n",
       "4                                                                                                                                                                                                                                                                                                                                                                                                                                                                                                                                                                                 You, sir, are my hero. Any chance you remember what page that's on?   \n",
       "\n",
       "   toxic  \\\n",
       "0      0   \n",
       "1      0   \n",
       "2      0   \n",
       "3      0   \n",
       "4      0   \n",
       "\n",
       "                                                                                                                                                                                                                                                                                                                                                                                                                                                                                                                                                                                    lemmatized_text  \n",
       "0                                                                                                                                                                                                                                                                                                                                                  explanation why the edits make under my username hardcore metallica fan be revert they weren t vandalism just closure on some gas after i vote at new york doll fac and please don t remove the template from the talk page since i m retire now  \n",
       "1                                                                                                                                                                                                                                                                                                                                                                                                                                                                                                            d aww he match this background colour i m seemingly stuck with thanks talk january utc  \n",
       "2                                                                                                                                                                                                                                                                                                                                                                          hey man i m really not try to edit war it s just that this guy be constantly remove relevant information and talk to me through edits instead of my talk page he seem to care more about the format than the actual info  \n",
       "3  more i can t make any real suggestion on improvement i wonder if the section statistic should be later on or a subsection of type of accident i think the reference may need tidy so that they be all in the exact same format ie date format etc i can do that later on if no one else do first if you have any preference for format style on reference or want to do it yourself please let me know there appear to be a backlog on article for review so i guess there may be a delay until a reviewer turn up it s list in the relevant form eg wikipedia good article nomination transport  \n",
       "4                                                                                                                                                                                                                                                                                                                                                                                                                                                                                                                                    you sir be my hero any chance you remember what page that s on  "
      ]
     },
     "execution_count": 74,
     "metadata": {},
     "output_type": "execute_result"
    }
   ],
   "source": [
    "data.head()"
   ]
  },
  {
   "cell_type": "markdown",
   "metadata": {},
   "source": [
    "---\n",
    "Итак, мы очистили датасет от ненужных символов, разметили части речи и лемматизировали (привели слова к начальным формам). Лемматизированный текст находится в столбце 'lemmatized_text'."
   ]
  },
  {
   "cell_type": "markdown",
   "metadata": {},
   "source": [
    "### Мешок слов по классам\n",
    "\n",
    "Построим мешок слов по классам, для каждого класса определим наиболее характерные слова"
   ]
  },
  {
   "cell_type": "code",
   "execution_count": 75,
   "metadata": {
    "scrolled": true
   },
   "outputs": [
    {
     "data": {
      "text/plain": [
       "['i',\n",
       " 'me',\n",
       " 'my',\n",
       " 'myself',\n",
       " 'we',\n",
       " 'our',\n",
       " 'ours',\n",
       " 'ourselves',\n",
       " 'you',\n",
       " \"you're\",\n",
       " \"you've\",\n",
       " \"you'll\",\n",
       " \"you'd\",\n",
       " 'your',\n",
       " 'yours',\n",
       " 'yourself',\n",
       " 'yourselves',\n",
       " 'he',\n",
       " 'him',\n",
       " 'his',\n",
       " 'himself',\n",
       " 'she',\n",
       " \"she's\",\n",
       " 'her',\n",
       " 'hers',\n",
       " 'herself',\n",
       " 'it',\n",
       " \"it's\",\n",
       " 'its',\n",
       " 'itself',\n",
       " 'they',\n",
       " 'them',\n",
       " 'their',\n",
       " 'theirs',\n",
       " 'themselves',\n",
       " 'what',\n",
       " 'which',\n",
       " 'who',\n",
       " 'whom',\n",
       " 'this',\n",
       " 'that',\n",
       " \"that'll\",\n",
       " 'these',\n",
       " 'those',\n",
       " 'am',\n",
       " 'is',\n",
       " 'are',\n",
       " 'was',\n",
       " 'were',\n",
       " 'be',\n",
       " 'been',\n",
       " 'being',\n",
       " 'have',\n",
       " 'has',\n",
       " 'had',\n",
       " 'having',\n",
       " 'do',\n",
       " 'does',\n",
       " 'did',\n",
       " 'doing',\n",
       " 'a',\n",
       " 'an',\n",
       " 'the',\n",
       " 'and',\n",
       " 'but',\n",
       " 'if',\n",
       " 'or',\n",
       " 'because',\n",
       " 'as',\n",
       " 'until',\n",
       " 'while',\n",
       " 'of',\n",
       " 'at',\n",
       " 'by',\n",
       " 'for',\n",
       " 'with',\n",
       " 'about',\n",
       " 'against',\n",
       " 'between',\n",
       " 'into',\n",
       " 'through',\n",
       " 'during',\n",
       " 'before',\n",
       " 'after',\n",
       " 'above',\n",
       " 'below',\n",
       " 'to',\n",
       " 'from',\n",
       " 'up',\n",
       " 'down',\n",
       " 'in',\n",
       " 'out',\n",
       " 'on',\n",
       " 'off',\n",
       " 'over',\n",
       " 'under',\n",
       " 'again',\n",
       " 'further',\n",
       " 'then',\n",
       " 'once',\n",
       " 'here',\n",
       " 'there',\n",
       " 'when',\n",
       " 'where',\n",
       " 'why',\n",
       " 'how',\n",
       " 'all',\n",
       " 'any',\n",
       " 'both',\n",
       " 'each',\n",
       " 'few',\n",
       " 'more',\n",
       " 'most',\n",
       " 'other',\n",
       " 'some',\n",
       " 'such',\n",
       " 'no',\n",
       " 'nor',\n",
       " 'not',\n",
       " 'only',\n",
       " 'own',\n",
       " 'same',\n",
       " 'so',\n",
       " 'than',\n",
       " 'too',\n",
       " 'very',\n",
       " 's',\n",
       " 't',\n",
       " 'can',\n",
       " 'will',\n",
       " 'just',\n",
       " 'don',\n",
       " \"don't\",\n",
       " 'should',\n",
       " \"should've\",\n",
       " 'now',\n",
       " 'd',\n",
       " 'll',\n",
       " 'm',\n",
       " 'o',\n",
       " 're',\n",
       " 've',\n",
       " 'y',\n",
       " 'ain',\n",
       " 'aren',\n",
       " \"aren't\",\n",
       " 'couldn',\n",
       " \"couldn't\",\n",
       " 'didn',\n",
       " \"didn't\",\n",
       " 'doesn',\n",
       " \"doesn't\",\n",
       " 'hadn',\n",
       " \"hadn't\",\n",
       " 'hasn',\n",
       " \"hasn't\",\n",
       " 'haven',\n",
       " \"haven't\",\n",
       " 'isn',\n",
       " \"isn't\",\n",
       " 'ma',\n",
       " 'mightn',\n",
       " \"mightn't\",\n",
       " 'mustn',\n",
       " \"mustn't\",\n",
       " 'needn',\n",
       " \"needn't\",\n",
       " 'shan',\n",
       " \"shan't\",\n",
       " 'shouldn',\n",
       " \"shouldn't\",\n",
       " 'wasn',\n",
       " \"wasn't\",\n",
       " 'weren',\n",
       " \"weren't\",\n",
       " 'won',\n",
       " \"won't\",\n",
       " 'wouldn',\n",
       " \"wouldn't\"]"
      ]
     },
     "execution_count": 75,
     "metadata": {},
     "output_type": "execute_result"
    }
   ],
   "source": [
    "# найдём стоп-слова (слова без смысловой нагрузки)\n",
    "stop_words = list(nltk_stopwords.words('english'))\n",
    "stop_words"
   ]
  },
  {
   "cell_type": "code",
   "execution_count": 76,
   "metadata": {},
   "outputs": [],
   "source": [
    "# ограничим количество уникальных слов, которые будут включены в итоговую матрицу - 20\n",
    "# исключим из анализа набор стоп-слов stop_words\n",
    "count_vect = CountVectorizer(max_features=20, stop_words=stop_words)"
   ]
  },
  {
   "cell_type": "markdown",
   "metadata": {},
   "source": [
    "* **построим мешок слов для токсичных комментариев**"
   ]
  },
  {
   "cell_type": "code",
   "execution_count": 77,
   "metadata": {},
   "outputs": [
    {
     "data": {
      "text/html": [
       "<div>\n",
       "<style scoped>\n",
       "    .dataframe tbody tr th:only-of-type {\n",
       "        vertical-align: middle;\n",
       "    }\n",
       "\n",
       "    .dataframe tbody tr th {\n",
       "        vertical-align: top;\n",
       "    }\n",
       "\n",
       "    .dataframe thead th {\n",
       "        text-align: right;\n",
       "    }\n",
       "</style>\n",
       "<table border=\"1\" class=\"dataframe\">\n",
       "  <thead>\n",
       "    <tr style=\"text-align: right;\">\n",
       "      <th></th>\n",
       "      <th>text</th>\n",
       "      <th>toxic</th>\n",
       "      <th>lemmatized_text</th>\n",
       "    </tr>\n",
       "  </thead>\n",
       "  <tbody>\n",
       "    <tr>\n",
       "      <th>6</th>\n",
       "      <td>COCKSUCKER BEFORE YOU PISS AROUND ON MY WORK</td>\n",
       "      <td>1</td>\n",
       "      <td>cocksucker before you piss around on my work</td>\n",
       "    </tr>\n",
       "    <tr>\n",
       "      <th>12</th>\n",
       "      <td>Hey... what is it..\\n@ | talk .\\nWhat is it... an exclusive group of some WP TALIBANS...who are good at destroying, self-appointed purist who GANG UP any one who asks them questions abt their ANTI-SOCIAL and DESTRUCTIVE (non)-contribution at WP?\\n\\nAsk Sityush to clean up his behavior than issue me nonsensical warnings...</td>\n",
       "      <td>1</td>\n",
       "      <td>hey what be it talk what be it an exclusive group of some wp taliban who be good at destroy self appoint purist who gang up any one who asks them question abt their anti social and destructive non contribution at wp ask sityush to clean up his behavior than issue me nonsensical warning</td>\n",
       "    </tr>\n",
       "    <tr>\n",
       "      <th>16</th>\n",
       "      <td>Bye! \\n\\nDon't look, come or think of comming back! Tosser.</td>\n",
       "      <td>1</td>\n",
       "      <td>bye don t look come or think of comming back tosser</td>\n",
       "    </tr>\n",
       "    <tr>\n",
       "      <th>42</th>\n",
       "      <td>You are gay or antisemmitian? \\n\\nArchangel WHite Tiger\\n\\nMeow! Greetingshhh!\\n\\nUh, there are two ways, why you do erased my comment about WW2, that holocaust was brutally slaying of Jews and not gays/Gypsys/Slavs/anyone...\\n\\n1 - If you are anti-semitian, than shave your head bald and go to the skinhead meetings!\\n\\n2 - If you doubt words of the Bible, that homosexuality is a deadly sin, make a pentagram tatoo on your forehead go to the satanistic masses with your gay pals!\\n\\n3 - First and last warning, you fucking gay - I won't appreciate if any more nazi shwain would write in my page! I don't wish to talk to you anymore!\\n\\nBeware of the Dark Side!</td>\n",
       "      <td>1</td>\n",
       "      <td>you be gay or antisemmitian archangel white tiger meow greetingshhh uh there be two way why you do erase my comment about ww that holocaust be brutally slay of jew and not gay gypsy slav anyone if you be anti semitian than shave your head bald and go to the skinhead meeting if you doubt word of the bible that homosexuality be a deadly sin make a pentagram tatoo on your forehead go to the satanistic mass with your gay pal first and last warn you fuck gay i won t appreciate if any more nazi shwain would write in my page i don t wish to talk to you anymore beware of the dark side</td>\n",
       "    </tr>\n",
       "    <tr>\n",
       "      <th>43</th>\n",
       "      <td>FUCK YOUR FILTHY MOTHER IN THE ASS, DRY!</td>\n",
       "      <td>1</td>\n",
       "      <td>fuck your filthy mother in the as dry</td>\n",
       "    </tr>\n",
       "  </tbody>\n",
       "</table>\n",
       "</div>"
      ],
      "text/plain": [
       "                                                                                                                                                                                                                                                                                                                                                                                                                                                                                                                                                                                                                                                                                      text  \\\n",
       "6                                                                                                                                                                                                                                                                                                                                                                                                                                                                                                                                                                                                                                             COCKSUCKER BEFORE YOU PISS AROUND ON MY WORK   \n",
       "12                                                                                                                                                                                                                                                                                                                                                     Hey... what is it..\\n@ | talk .\\nWhat is it... an exclusive group of some WP TALIBANS...who are good at destroying, self-appointed purist who GANG UP any one who asks them questions abt their ANTI-SOCIAL and DESTRUCTIVE (non)-contribution at WP?\\n\\nAsk Sityush to clean up his behavior than issue me nonsensical warnings...   \n",
       "16                                                                                                                                                                                                                                                                                                                                                                                                                                                                                                                                                                                                                             Bye! \\n\\nDon't look, come or think of comming back! Tosser.   \n",
       "42  You are gay or antisemmitian? \\n\\nArchangel WHite Tiger\\n\\nMeow! Greetingshhh!\\n\\nUh, there are two ways, why you do erased my comment about WW2, that holocaust was brutally slaying of Jews and not gays/Gypsys/Slavs/anyone...\\n\\n1 - If you are anti-semitian, than shave your head bald and go to the skinhead meetings!\\n\\n2 - If you doubt words of the Bible, that homosexuality is a deadly sin, make a pentagram tatoo on your forehead go to the satanistic masses with your gay pals!\\n\\n3 - First and last warning, you fucking gay - I won't appreciate if any more nazi shwain would write in my page! I don't wish to talk to you anymore!\\n\\nBeware of the Dark Side!   \n",
       "43                                                                                                                                                                                                                                                                                                                                                                                                                                                                                                                                                                                                                                                FUCK YOUR FILTHY MOTHER IN THE ASS, DRY!   \n",
       "\n",
       "    toxic  \\\n",
       "6       1   \n",
       "12      1   \n",
       "16      1   \n",
       "42      1   \n",
       "43      1   \n",
       "\n",
       "                                                                                                                                                                                                                                                                                                                                                                                                                                                                                                                                                                                            lemmatized_text  \n",
       "6                                                                                                                                                                                                                                                                                                                                                                                                                                                                                                                                                              cocksucker before you piss around on my work  \n",
       "12                                                                                                                                                                                                                                                                                                           hey what be it talk what be it an exclusive group of some wp taliban who be good at destroy self appoint purist who gang up any one who asks them question abt their anti social and destructive non contribution at wp ask sityush to clean up his behavior than issue me nonsensical warning  \n",
       "16                                                                                                                                                                                                                                                                                                                                                                                                                                                                                                                                                      bye don t look come or think of comming back tosser  \n",
       "42  you be gay or antisemmitian archangel white tiger meow greetingshhh uh there be two way why you do erase my comment about ww that holocaust be brutally slay of jew and not gay gypsy slav anyone if you be anti semitian than shave your head bald and go to the skinhead meeting if you doubt word of the bible that homosexuality be a deadly sin make a pentagram tatoo on your forehead go to the satanistic mass with your gay pal first and last warn you fuck gay i won t appreciate if any more nazi shwain would write in my page i don t wish to talk to you anymore beware of the dark side  \n",
       "43                                                                                                                                                                                                                                                                                                                                                                                                                                                                                                                                                                    fuck your filthy mother in the as dry  "
      ]
     },
     "execution_count": 77,
     "metadata": {},
     "output_type": "execute_result"
    }
   ],
   "source": [
    "# сделаем срез по токсичным комментариям\n",
    "toxic = data.query('toxic == 1')\n",
    "toxic.head()"
   ]
  },
  {
   "cell_type": "code",
   "execution_count": 78,
   "metadata": {},
   "outputs": [],
   "source": [
    "corpus_toxic = list(toxic['lemmatized_text'])\n",
    "bow_toxic = count_vect.fit_transform(corpus_toxic)"
   ]
  },
  {
   "cell_type": "code",
   "execution_count": 79,
   "metadata": {},
   "outputs": [
    {
     "data": {
      "text/plain": [
       "array(['article', 'bitch', 'block', 'die', 'faggot', 'fuck', 'gay', 'get',\n",
       "       'go', 'hate', 'know', 'like', 'make', 'nigger', 'page', 'people',\n",
       "       'say', 'shit', 'suck', 'wikipedia'], dtype=object)"
      ]
     },
     "execution_count": 79,
     "metadata": {},
     "output_type": "execute_result"
    }
   ],
   "source": [
    "# словарь токсичных комментариев\n",
    "count_vect.get_feature_names_out() "
   ]
  },
  {
   "cell_type": "markdown",
   "metadata": {},
   "source": [
    "* **построим мешок слов для нетоксичных комментариев**"
   ]
  },
  {
   "cell_type": "code",
   "execution_count": 80,
   "metadata": {},
   "outputs": [
    {
     "data": {
      "text/html": [
       "<div>\n",
       "<style scoped>\n",
       "    .dataframe tbody tr th:only-of-type {\n",
       "        vertical-align: middle;\n",
       "    }\n",
       "\n",
       "    .dataframe tbody tr th {\n",
       "        vertical-align: top;\n",
       "    }\n",
       "\n",
       "    .dataframe thead th {\n",
       "        text-align: right;\n",
       "    }\n",
       "</style>\n",
       "<table border=\"1\" class=\"dataframe\">\n",
       "  <thead>\n",
       "    <tr style=\"text-align: right;\">\n",
       "      <th></th>\n",
       "      <th>text</th>\n",
       "      <th>toxic</th>\n",
       "      <th>lemmatized_text</th>\n",
       "    </tr>\n",
       "  </thead>\n",
       "  <tbody>\n",
       "    <tr>\n",
       "      <th>0</th>\n",
       "      <td>Explanation\\nWhy the edits made under my username Hardcore Metallica Fan were reverted? They weren't vandalisms, just closure on some GAs after I voted at New York Dolls FAC. And please don't remove the template from the talk page since I'm retired now.89.205.38.27</td>\n",
       "      <td>0</td>\n",
       "      <td>explanation why the edits make under my username hardcore metallica fan be revert they weren t vandalism just closure on some gas after i vote at new york doll fac and please don t remove the template from the talk page since i m retire now</td>\n",
       "    </tr>\n",
       "    <tr>\n",
       "      <th>1</th>\n",
       "      <td>D'aww! He matches this background colour I'm seemingly stuck with. Thanks.  (talk) 21:51, January 11, 2016 (UTC)</td>\n",
       "      <td>0</td>\n",
       "      <td>d aww he match this background colour i m seemingly stuck with thanks talk january utc</td>\n",
       "    </tr>\n",
       "    <tr>\n",
       "      <th>2</th>\n",
       "      <td>Hey man, I'm really not trying to edit war. It's just that this guy is constantly removing relevant information and talking to me through edits instead of my talk page. He seems to care more about the formatting than the actual info.</td>\n",
       "      <td>0</td>\n",
       "      <td>hey man i m really not try to edit war it s just that this guy be constantly remove relevant information and talk to me through edits instead of my talk page he seem to care more about the format than the actual info</td>\n",
       "    </tr>\n",
       "    <tr>\n",
       "      <th>3</th>\n",
       "      <td>\"\\nMore\\nI can't make any real suggestions on improvement - I wondered if the section statistics should be later on, or a subsection of \"\"types of accidents\"\"  -I think the references may need tidying so that they are all in the exact same format ie date format etc. I can do that later on, if no-one else does first - if you have any preferences for formatting style on references or want to do it yourself please let me know.\\n\\nThere appears to be a backlog on articles for review so I guess there may be a delay until a reviewer turns up. It's listed in the relevant form eg Wikipedia:Good_article_nominations#Transport  \"</td>\n",
       "      <td>0</td>\n",
       "      <td>more i can t make any real suggestion on improvement i wonder if the section statistic should be later on or a subsection of type of accident i think the reference may need tidy so that they be all in the exact same format ie date format etc i can do that later on if no one else do first if you have any preference for format style on reference or want to do it yourself please let me know there appear to be a backlog on article for review so i guess there may be a delay until a reviewer turn up it s list in the relevant form eg wikipedia good article nomination transport</td>\n",
       "    </tr>\n",
       "    <tr>\n",
       "      <th>4</th>\n",
       "      <td>You, sir, are my hero. Any chance you remember what page that's on?</td>\n",
       "      <td>0</td>\n",
       "      <td>you sir be my hero any chance you remember what page that s on</td>\n",
       "    </tr>\n",
       "  </tbody>\n",
       "</table>\n",
       "</div>"
      ],
      "text/plain": [
       "                                                                                                                                                                                                                                                                                                                                                                                                                                                                                                                                                                                                                                                 text  \\\n",
       "0                                                                                                                                                                                                                                                                                                                                                                           Explanation\\nWhy the edits made under my username Hardcore Metallica Fan were reverted? They weren't vandalisms, just closure on some GAs after I voted at New York Dolls FAC. And please don't remove the template from the talk page since I'm retired now.89.205.38.27   \n",
       "1                                                                                                                                                                                                                                                                                                                                                                                                                                                                                                                                    D'aww! He matches this background colour I'm seemingly stuck with. Thanks.  (talk) 21:51, January 11, 2016 (UTC)   \n",
       "2                                                                                                                                                                                                                                                                                                                                                                                                           Hey man, I'm really not trying to edit war. It's just that this guy is constantly removing relevant information and talking to me through edits instead of my talk page. He seems to care more about the formatting than the actual info.   \n",
       "3  \"\\nMore\\nI can't make any real suggestions on improvement - I wondered if the section statistics should be later on, or a subsection of \"\"types of accidents\"\"  -I think the references may need tidying so that they are all in the exact same format ie date format etc. I can do that later on, if no-one else does first - if you have any preferences for formatting style on references or want to do it yourself please let me know.\\n\\nThere appears to be a backlog on articles for review so I guess there may be a delay until a reviewer turns up. It's listed in the relevant form eg Wikipedia:Good_article_nominations#Transport  \"   \n",
       "4                                                                                                                                                                                                                                                                                                                                                                                                                                                                                                                                                                                 You, sir, are my hero. Any chance you remember what page that's on?   \n",
       "\n",
       "   toxic  \\\n",
       "0      0   \n",
       "1      0   \n",
       "2      0   \n",
       "3      0   \n",
       "4      0   \n",
       "\n",
       "                                                                                                                                                                                                                                                                                                                                                                                                                                                                                                                                                                                    lemmatized_text  \n",
       "0                                                                                                                                                                                                                                                                                                                                                  explanation why the edits make under my username hardcore metallica fan be revert they weren t vandalism just closure on some gas after i vote at new york doll fac and please don t remove the template from the talk page since i m retire now  \n",
       "1                                                                                                                                                                                                                                                                                                                                                                                                                                                                                                            d aww he match this background colour i m seemingly stuck with thanks talk january utc  \n",
       "2                                                                                                                                                                                                                                                                                                                                                                          hey man i m really not try to edit war it s just that this guy be constantly remove relevant information and talk to me through edits instead of my talk page he seem to care more about the format than the actual info  \n",
       "3  more i can t make any real suggestion on improvement i wonder if the section statistic should be later on or a subsection of type of accident i think the reference may need tidy so that they be all in the exact same format ie date format etc i can do that later on if no one else do first if you have any preference for format style on reference or want to do it yourself please let me know there appear to be a backlog on article for review so i guess there may be a delay until a reviewer turn up it s list in the relevant form eg wikipedia good article nomination transport  \n",
       "4                                                                                                                                                                                                                                                                                                                                                                                                                                                                                                                                    you sir be my hero any chance you remember what page that s on  "
      ]
     },
     "execution_count": 80,
     "metadata": {},
     "output_type": "execute_result"
    }
   ],
   "source": [
    "# сделаем срез по нетоксичным комментариям\n",
    "not_toxic = data.query('toxic != 1')\n",
    "not_toxic.head()"
   ]
  },
  {
   "cell_type": "code",
   "execution_count": 81,
   "metadata": {},
   "outputs": [],
   "source": [
    "corpus_not_toxic = list(not_toxic['lemmatized_text'])\n",
    "bow_not_toxic = count_vect.fit_transform(corpus_not_toxic)"
   ]
  },
  {
   "cell_type": "code",
   "execution_count": 82,
   "metadata": {},
   "outputs": [
    {
     "data": {
      "text/plain": [
       "array(['add', 'also', 'article', 'edit', 'get', 'know', 'like', 'make',\n",
       "       'one', 'page', 'please', 'say', 'see', 'source', 'talk', 'think',\n",
       "       'time', 'use', 'wikipedia', 'would'], dtype=object)"
      ]
     },
     "execution_count": 82,
     "metadata": {},
     "output_type": "execute_result"
    }
   ],
   "source": [
    "# словарь нетоксичных комментариев\n",
    "count_vect.get_feature_names_out() "
   ]
  },
  {
   "cell_type": "markdown",
   "metadata": {},
   "source": [
    "---\n",
    "**ВЫВОД: ПОДГОТОВКА ДАННЫХ**\n",
    "\n",
    "Удалили неинформативный признак - столбец 'Unnamed: 0'.\n",
    "\n",
    "Оптимизировали тип данных признака 'toxic' (int64 переведем в формат uint8).  \n",
    "Тексты перевели в стандартный для Python формат (кодировку Unicode).\n",
    "\n",
    "Провели очистку текста от ненужных символов, разметили части речи и лемматизировали с помощью WordNetLemmatizer (лемматизированный текст находится в столбце 'lemmatized_text').\n",
    "\n",
    "Построили мешок слов по классам (токсичные / нетоксичные комментарии), для каждого класса определили наиболее характерные слова (*данную информацию в дальнейшем можно использовать для анализа данных, создания признаков).*"
   ]
  },
  {
   "cell_type": "markdown",
   "metadata": {},
   "source": [
    "## Обучение"
   ]
  },
  {
   "cell_type": "markdown",
   "metadata": {},
   "source": [
    "### Подготовка данных"
   ]
  },
  {
   "cell_type": "code",
   "execution_count": 83,
   "metadata": {},
   "outputs": [],
   "source": [
    "RANDOM_STATE = 42"
   ]
  },
  {
   "cell_type": "code",
   "execution_count": 84,
   "metadata": {},
   "outputs": [],
   "source": [
    "# сохраним входные и целевой признаки\n",
    "X = data['lemmatized_text']\n",
    "y = data['toxic']"
   ]
  },
  {
   "cell_type": "code",
   "execution_count": 85,
   "metadata": {},
   "outputs": [],
   "source": [
    "# разделим входные и целевой признаки на тренировочную, валидационную и тестовую выборки в соотношении 80:10:10\n",
    "# укажем stratify=y, т.к. необходимо сохранить соотношение классов при разделении\n",
    "X_train, X_test, y_train, y_test = train_test_split(X, y, test_size=0.2, random_state=RANDOM_STATE, stratify=y) \n",
    "X_valid, X_test, y_valid, y_test = train_test_split(X_test, y_test, test_size=0.50, random_state=RANDOM_STATE, stratify=y_test)"
   ]
  },
  {
   "cell_type": "code",
   "execution_count": 86,
   "metadata": {},
   "outputs": [
    {
     "data": {
      "text/plain": [
       "(127433,)"
      ]
     },
     "metadata": {},
     "output_type": "display_data"
    },
    {
     "data": {
      "text/plain": [
       "(127433,)"
      ]
     },
     "metadata": {},
     "output_type": "display_data"
    },
    {
     "data": {
      "text/plain": [
       "(15929,)"
      ]
     },
     "metadata": {},
     "output_type": "display_data"
    },
    {
     "data": {
      "text/plain": [
       "(15929,)"
      ]
     },
     "metadata": {},
     "output_type": "display_data"
    },
    {
     "data": {
      "text/plain": [
       "(15930,)"
      ]
     },
     "metadata": {},
     "output_type": "display_data"
    },
    {
     "data": {
      "text/plain": [
       "(15930,)"
      ]
     },
     "metadata": {},
     "output_type": "display_data"
    }
   ],
   "source": [
    "# проверим размер выборок\n",
    "display(X_train.shape)\n",
    "display(y_train.shape)\n",
    "display(X_valid.shape)\n",
    "display(y_valid.shape)\n",
    "display(X_test.shape)\n",
    "display(y_test.shape)"
   ]
  },
  {
   "cell_type": "code",
   "execution_count": 87,
   "metadata": {},
   "outputs": [
    {
     "name": "stdout",
     "output_type": "stream",
     "text": [
      "0    89.8%\n",
      "1    10.2%\n",
      "Name: toxic, dtype: object\n",
      "0    89.8%\n",
      "1    10.2%\n",
      "Name: toxic, dtype: object\n",
      "0    89.8%\n",
      "1    10.2%\n",
      "Name: toxic, dtype: object\n"
     ]
    }
   ],
   "source": [
    "# проверим выборки на дисбаланс классов\n",
    "print(y_train.value_counts(normalize=True).mul(100).round(1).astype(str) + '%')\n",
    "print(y_valid.value_counts(normalize=True).mul(100).round(1).astype(str) + '%')\n",
    "print(y_test.value_counts(normalize=True).mul(100).round(1).astype(str) + '%')"
   ]
  },
  {
   "cell_type": "code",
   "execution_count": 88,
   "metadata": {},
   "outputs": [],
   "source": [
    "# найдём стоп-слова (слова без смысловой нагрузки)\n",
    "stopwords = list(nltk_stopwords.words('english'))"
   ]
  },
  {
   "cell_type": "code",
   "execution_count": 89,
   "metadata": {},
   "outputs": [],
   "source": [
    "# создадим счётчик и передадим в него список стоп-слов\n",
    "count_tf_idf = TfidfVectorizer(stop_words=stopwords)"
   ]
  },
  {
   "cell_type": "code",
   "execution_count": 90,
   "metadata": {},
   "outputs": [],
   "source": [
    "# переведем слова в векторы и посчитаем tf_idf\n",
    "train_tf_idf = count_tf_idf.fit_transform(X_train)\n",
    "valid_tf_idf = count_tf_idf.transform(X_valid)\n",
    "test_tf_idf = count_tf_idf.transform(X_test)"
   ]
  },
  {
   "cell_type": "code",
   "execution_count": 91,
   "metadata": {},
   "outputs": [
    {
     "name": "stdout",
     "output_type": "stream",
     "text": [
      "Размер матрицы: (127433, 132085)\n",
      "Размер матрицы: (15929, 132085)\n",
      "Размер матрицы: (15930, 132085)\n"
     ]
    }
   ],
   "source": [
    "print(\"Размер матрицы:\", train_tf_idf.shape)\n",
    "print(\"Размер матрицы:\", valid_tf_idf.shape)\n",
    "print(\"Размер матрицы:\", test_tf_idf.shape)"
   ]
  },
  {
   "cell_type": "markdown",
   "metadata": {},
   "source": [
    "---\n",
    "Анализ тональности текста выявляет эмоционально окрашенные слова. Оценить тональность - значит отметить текст как позитивный или негативный. То есть перед нами стоит задача классификации, где целевой признак равен \"1\" для положительного текста и \"0\" - для отрицательного. Признаки — это слова из корпуса и их величины TF-IDF для каждого текста.\n",
    "\n",
    "*Для определения тональности применим величины TF-IDF как признаки. Данные готовы к обучению.*   "
   ]
  },
  {
   "cell_type": "markdown",
   "metadata": {},
   "source": [
    "### Обучение моделей"
   ]
  },
  {
   "cell_type": "markdown",
   "metadata": {},
   "source": [
    "На этом этапе обучим несколько моделей с различными гиперпараметрами.\n",
    "\n",
    "Все полученные результаты (модель, рассчитанную метрику F1 для каждой модели, время обучения) будем сохранять в массив result_models."
   ]
  },
  {
   "cell_type": "code",
   "execution_count": 92,
   "metadata": {},
   "outputs": [],
   "source": [
    "result_models = []"
   ]
  },
  {
   "cell_type": "markdown",
   "metadata": {},
   "source": [
    ">В целях оптимизации кода для вывода результатов создадим функцию **print_res**:  "
   ]
  },
  {
   "cell_type": "code",
   "execution_count": 93,
   "metadata": {},
   "outputs": [],
   "source": [
    "def print_res (best, f1, time_fit):\n",
    "    result_models.append([best, round(f1,2), round(time_fit,2)])\n",
    "    print('РЕЗУЛЬТАТЫ')\n",
    "    print('-------------------------------------------')\n",
    "    print(best)\n",
    "    print('-------------------------------------------')\n",
    "    print('Качество предсказания/ F1 =', round(f1,2))\n",
    "    print('Время обучения модели:', round(time_fit,2), 'сек')"
   ]
  },
  {
   "cell_type": "markdown",
   "metadata": {},
   "source": [
    "#### LogisticRegression"
   ]
  },
  {
   "cell_type": "markdown",
   "metadata": {},
   "source": [
    "Будем обучать модель логистической регрессии, подбирая различные значения параметра С (от 1 до 7). Все полученные результаты (значения параметра С, метрику F1 для этого С, время обучения) будем сохранять в массив result_lr."
   ]
  },
  {
   "cell_type": "code",
   "execution_count": 94,
   "metadata": {},
   "outputs": [],
   "source": [
    "result_lr = []"
   ]
  },
  {
   "cell_type": "code",
   "execution_count": 95,
   "metadata": {},
   "outputs": [
    {
     "name": "stdout",
     "output_type": "stream",
     "text": [
      "Значение С: 1\n",
      "F1_score: 0.7526358475263585\n",
      "Время обучения: 14.62705373764038\n",
      "\n",
      "Значение С: 2\n",
      "F1_score: 0.7589799835481218\n",
      "Время обучения: 18.60532283782959\n",
      "\n",
      "Значение С: 3\n",
      "F1_score: 0.7597889475145793\n",
      "Время обучения: 21.504626989364624\n",
      "\n",
      "Значение С: 4\n",
      "F1_score: 0.7616133518776078\n",
      "Время обучения: 24.89647936820984\n",
      "\n",
      "Значение С: 5\n",
      "F1_score: 0.7611064543168483\n",
      "Время обучения: 23.104655742645264\n",
      "\n",
      "Значение С: 6\n",
      "F1_score: 0.763165305547733\n",
      "Время обучения: 22.897985696792603\n",
      "\n",
      "\n"
     ]
    }
   ],
   "source": [
    "# найдем наилучшее значение С\n",
    "\n",
    "for c in range(1, 7):\n",
    "    model = LogisticRegression(class_weight='balanced', \n",
    "                               random_state=RANDOM_STATE, \n",
    "                               max_iter=1000, \n",
    "                               solver='lbfgs', \n",
    "                               C=c)\n",
    "    \n",
    "    start = time.time()\n",
    "    model.fit(train_tf_idf, y_train)\n",
    "    end = time.time()\n",
    "    time_lr_fit = end-start\n",
    "    \n",
    "    predicted_valid = model.predict(valid_tf_idf)\n",
    "    f1_C = f1_score(y_valid, predicted_valid)\n",
    "    \n",
    "    result_lr.append([c, f1_C, time_lr_fit])\n",
    "    print (\"Значение С:\", c)\n",
    "    print(\"F1_score:\", f1_C)\n",
    "    print(\"Время обучения:\", time_lr_fit)\n",
    "    print('')\n",
    "print()"
   ]
  },
  {
   "cell_type": "code",
   "execution_count": 96,
   "metadata": {},
   "outputs": [
    {
     "data": {
      "text/html": [
       "<div>\n",
       "<style scoped>\n",
       "    .dataframe tbody tr th:only-of-type {\n",
       "        vertical-align: middle;\n",
       "    }\n",
       "\n",
       "    .dataframe tbody tr th {\n",
       "        vertical-align: top;\n",
       "    }\n",
       "\n",
       "    .dataframe thead th {\n",
       "        text-align: right;\n",
       "    }\n",
       "</style>\n",
       "<table border=\"1\" class=\"dataframe\">\n",
       "  <thead>\n",
       "    <tr style=\"text-align: right;\">\n",
       "      <th></th>\n",
       "      <th>C</th>\n",
       "      <th>F1</th>\n",
       "      <th>time</th>\n",
       "    </tr>\n",
       "  </thead>\n",
       "  <tbody>\n",
       "    <tr>\n",
       "      <th>5</th>\n",
       "      <td>6</td>\n",
       "      <td>0.763165</td>\n",
       "      <td>22.897986</td>\n",
       "    </tr>\n",
       "    <tr>\n",
       "      <th>3</th>\n",
       "      <td>4</td>\n",
       "      <td>0.761613</td>\n",
       "      <td>24.896479</td>\n",
       "    </tr>\n",
       "    <tr>\n",
       "      <th>4</th>\n",
       "      <td>5</td>\n",
       "      <td>0.761106</td>\n",
       "      <td>23.104656</td>\n",
       "    </tr>\n",
       "    <tr>\n",
       "      <th>2</th>\n",
       "      <td>3</td>\n",
       "      <td>0.759789</td>\n",
       "      <td>21.504627</td>\n",
       "    </tr>\n",
       "    <tr>\n",
       "      <th>1</th>\n",
       "      <td>2</td>\n",
       "      <td>0.758980</td>\n",
       "      <td>18.605323</td>\n",
       "    </tr>\n",
       "    <tr>\n",
       "      <th>0</th>\n",
       "      <td>1</td>\n",
       "      <td>0.752636</td>\n",
       "      <td>14.627054</td>\n",
       "    </tr>\n",
       "  </tbody>\n",
       "</table>\n",
       "</div>"
      ],
      "text/plain": [
       "   C        F1       time\n",
       "5  6  0.763165  22.897986\n",
       "3  4  0.761613  24.896479\n",
       "4  5  0.761106  23.104656\n",
       "2  3  0.759789  21.504627\n",
       "1  2  0.758980  18.605323\n",
       "0  1  0.752636  14.627054"
      ]
     },
     "execution_count": 96,
     "metadata": {},
     "output_type": "execute_result"
    }
   ],
   "source": [
    "result_lr = pd.DataFrame(result_lr, columns=['C', 'F1', 'time']).sort_values(by='F1', ascending=False)\n",
    "result_lr"
   ]
  },
  {
   "cell_type": "code",
   "execution_count": 97,
   "metadata": {},
   "outputs": [],
   "source": [
    "# первая строка датафрейма result_lr - это параметр С, при котором модель показала наилучшее значение F1\n",
    "best_C = result_lr.iloc[0, 0]\n",
    "f1_lr = result_lr.iloc[0, 1]\n",
    "time_lr = result_lr.iloc[0, 2]"
   ]
  },
  {
   "cell_type": "code",
   "execution_count": 98,
   "metadata": {},
   "outputs": [],
   "source": [
    "# сохраним лучшую модель LogisticRegression\n",
    "best_model_lr = LogisticRegression(class_weight='balanced', \n",
    "                                random_state=RANDOM_STATE, \n",
    "                                max_iter=1000, \n",
    "                                solver='lbfgs',\n",
    "                                C=best_C)"
   ]
  },
  {
   "cell_type": "code",
   "execution_count": 99,
   "metadata": {
    "scrolled": true
   },
   "outputs": [
    {
     "name": "stdout",
     "output_type": "stream",
     "text": [
      "РЕЗУЛЬТАТЫ\n",
      "-------------------------------------------\n",
      "LogisticRegression(C=6, class_weight='balanced', max_iter=1000, random_state=42)\n",
      "-------------------------------------------\n",
      "Качество предсказания/ F1 = 0.76\n",
      "Время обучения модели: 22.9 сек\n"
     ]
    }
   ],
   "source": [
    "print_res (best_model_lr, f1_lr, time_lr)"
   ]
  },
  {
   "cell_type": "code",
   "execution_count": 100,
   "metadata": {},
   "outputs": [],
   "source": [
    "#result_models"
   ]
  },
  {
   "cell_type": "markdown",
   "metadata": {},
   "source": [
    "#### DecisionTreeClassifier"
   ]
  },
  {
   "cell_type": "markdown",
   "metadata": {},
   "source": [
    "Будем обучать модель, подбирая наилучшую глубину. Все полученные результаты (глубину, соответствующую метрику F1, время обучения) будем сохранять в массив result_dtc."
   ]
  },
  {
   "cell_type": "code",
   "execution_count": 101,
   "metadata": {},
   "outputs": [],
   "source": [
    "result_dtc = []"
   ]
  },
  {
   "cell_type": "code",
   "execution_count": 102,
   "metadata": {},
   "outputs": [
    {
     "name": "stdout",
     "output_type": "stream",
     "text": [
      "Глубина: 2\n",
      "F1_score: 0.40195121951219515\n",
      "Время обучения: 1.4309635162353516\n",
      "\n",
      "Глубина: 4\n",
      "F1_score: 0.4966139954853273\n",
      "Время обучения: 2.5939202308654785\n",
      "\n",
      "Глубина: 6\n",
      "F1_score: 0.550104821802935\n",
      "Время обучения: 4.183168172836304\n",
      "\n",
      "Глубина: 8\n",
      "F1_score: 0.5735475896168108\n",
      "Время обучения: 5.890228986740112\n",
      "\n",
      "Глубина: 10\n",
      "F1_score: 0.5838218053927315\n",
      "Время обучения: 7.81299614906311\n",
      "\n",
      "Глубина: 12\n",
      "F1_score: 0.5973926380368099\n",
      "Время обучения: 9.936683654785156\n",
      "\n",
      "Глубина: 14\n",
      "F1_score: 0.6025738077214232\n",
      "Время обучения: 12.026081562042236\n",
      "\n",
      "Глубина: 16\n",
      "F1_score: 0.6167168674698795\n",
      "Время обучения: 14.195092678070068\n",
      "\n",
      "Глубина: 18\n",
      "F1_score: 0.6058721934369603\n",
      "Время обучения: 16.905481100082397\n",
      "\n",
      "\n"
     ]
    }
   ],
   "source": [
    "# подберем наилучшую глубину\n",
    "\n",
    "for depth in range(2, 20, 2):\n",
    "    model = DecisionTreeClassifier(random_state=RANDOM_STATE, \n",
    "                                   max_depth=depth,\n",
    "                                   class_weight='balanced')\n",
    "    \n",
    "    start = time.time()\n",
    "    model.fit(train_tf_idf, y_train)\n",
    "    end = time.time()\n",
    "    time_dtc_fit = end-start\n",
    "    \n",
    "    predicted_valid = model.predict(valid_tf_idf)\n",
    "    f1_depth = f1_score(y_valid, predicted_valid)\n",
    "    \n",
    "    result_dtc.append([depth, f1_depth, time_dtc_fit])\n",
    "    print('Глубина:', depth)\n",
    "    print(\"F1_score:\", f1_depth)\n",
    "    print(\"Время обучения:\", time_dtc_fit)\n",
    "    print('')\n",
    "print()"
   ]
  },
  {
   "cell_type": "code",
   "execution_count": 103,
   "metadata": {},
   "outputs": [
    {
     "data": {
      "text/html": [
       "<div>\n",
       "<style scoped>\n",
       "    .dataframe tbody tr th:only-of-type {\n",
       "        vertical-align: middle;\n",
       "    }\n",
       "\n",
       "    .dataframe tbody tr th {\n",
       "        vertical-align: top;\n",
       "    }\n",
       "\n",
       "    .dataframe thead th {\n",
       "        text-align: right;\n",
       "    }\n",
       "</style>\n",
       "<table border=\"1\" class=\"dataframe\">\n",
       "  <thead>\n",
       "    <tr style=\"text-align: right;\">\n",
       "      <th></th>\n",
       "      <th>depth</th>\n",
       "      <th>F1</th>\n",
       "      <th>time</th>\n",
       "    </tr>\n",
       "  </thead>\n",
       "  <tbody>\n",
       "    <tr>\n",
       "      <th>7</th>\n",
       "      <td>16</td>\n",
       "      <td>0.616717</td>\n",
       "      <td>14.195093</td>\n",
       "    </tr>\n",
       "    <tr>\n",
       "      <th>8</th>\n",
       "      <td>18</td>\n",
       "      <td>0.605872</td>\n",
       "      <td>16.905481</td>\n",
       "    </tr>\n",
       "    <tr>\n",
       "      <th>6</th>\n",
       "      <td>14</td>\n",
       "      <td>0.602574</td>\n",
       "      <td>12.026082</td>\n",
       "    </tr>\n",
       "    <tr>\n",
       "      <th>5</th>\n",
       "      <td>12</td>\n",
       "      <td>0.597393</td>\n",
       "      <td>9.936684</td>\n",
       "    </tr>\n",
       "    <tr>\n",
       "      <th>4</th>\n",
       "      <td>10</td>\n",
       "      <td>0.583822</td>\n",
       "      <td>7.812996</td>\n",
       "    </tr>\n",
       "    <tr>\n",
       "      <th>3</th>\n",
       "      <td>8</td>\n",
       "      <td>0.573548</td>\n",
       "      <td>5.890229</td>\n",
       "    </tr>\n",
       "    <tr>\n",
       "      <th>2</th>\n",
       "      <td>6</td>\n",
       "      <td>0.550105</td>\n",
       "      <td>4.183168</td>\n",
       "    </tr>\n",
       "    <tr>\n",
       "      <th>1</th>\n",
       "      <td>4</td>\n",
       "      <td>0.496614</td>\n",
       "      <td>2.593920</td>\n",
       "    </tr>\n",
       "    <tr>\n",
       "      <th>0</th>\n",
       "      <td>2</td>\n",
       "      <td>0.401951</td>\n",
       "      <td>1.430964</td>\n",
       "    </tr>\n",
       "  </tbody>\n",
       "</table>\n",
       "</div>"
      ],
      "text/plain": [
       "   depth        F1       time\n",
       "7     16  0.616717  14.195093\n",
       "8     18  0.605872  16.905481\n",
       "6     14  0.602574  12.026082\n",
       "5     12  0.597393   9.936684\n",
       "4     10  0.583822   7.812996\n",
       "3      8  0.573548   5.890229\n",
       "2      6  0.550105   4.183168\n",
       "1      4  0.496614   2.593920\n",
       "0      2  0.401951   1.430964"
      ]
     },
     "execution_count": 103,
     "metadata": {},
     "output_type": "execute_result"
    }
   ],
   "source": [
    "result_dtc = pd.DataFrame(result_dtc, columns=['depth', 'F1', 'time']).sort_values(by='F1', ascending=False)\n",
    "result_dtc"
   ]
  },
  {
   "cell_type": "code",
   "execution_count": 104,
   "metadata": {},
   "outputs": [],
   "source": [
    "# первая строка датафрейма result_dtc - это глубина, при котором модель показала наилучшее значение F1\n",
    "best_depth = result_dtc.iloc[0, 0]\n",
    "f1_dtc = result_dtc.iloc[0, 1]\n",
    "time_dtc = result_dtc.iloc[0, 2]"
   ]
  },
  {
   "cell_type": "code",
   "execution_count": 105,
   "metadata": {},
   "outputs": [],
   "source": [
    "# сохраним лучшую модель DecisionTreeClassifier\n",
    "best_model_dtc = DecisionTreeClassifier(random_state=RANDOM_STATE, \n",
    "                                   max_depth=best_depth,\n",
    "                                   class_weight='balanced')"
   ]
  },
  {
   "cell_type": "code",
   "execution_count": 106,
   "metadata": {},
   "outputs": [
    {
     "name": "stdout",
     "output_type": "stream",
     "text": [
      "РЕЗУЛЬТАТЫ\n",
      "-------------------------------------------\n",
      "DecisionTreeClassifier(class_weight='balanced', max_depth=16, random_state=42)\n",
      "-------------------------------------------\n",
      "Качество предсказания/ F1 = 0.62\n",
      "Время обучения модели: 14.2 сек\n"
     ]
    }
   ],
   "source": [
    "print_res (best_model_dtc, f1_dtc, time_dtc)"
   ]
  },
  {
   "cell_type": "code",
   "execution_count": 107,
   "metadata": {},
   "outputs": [],
   "source": [
    "#result_models"
   ]
  },
  {
   "cell_type": "markdown",
   "metadata": {},
   "source": [
    "#### RandomForestClassifier"
   ]
  },
  {
   "cell_type": "markdown",
   "metadata": {},
   "source": [
    "Будем обучать модель, подбирая оптимальное количество деревьев. Все полученные результаты (количество деревьев, соответствующую метрику F1, время обучения) будем сохранять в массив result_dtc."
   ]
  },
  {
   "cell_type": "code",
   "execution_count": 108,
   "metadata": {},
   "outputs": [],
   "source": [
    "result_rfc = []"
   ]
  },
  {
   "cell_type": "code",
   "execution_count": 109,
   "metadata": {},
   "outputs": [
    {
     "name": "stdout",
     "output_type": "stream",
     "text": [
      "Количество деревьев: 100\n",
      "F1_score: 0.3614738202973497\n",
      "Время обучения: 4.218459606170654\n",
      "\n",
      "Количество деревьев: 500\n",
      "F1_score: 0.3677259055838891\n",
      "Время обучения: 20.345502614974976\n",
      "\n",
      "Количество деревьев: 1000\n",
      "F1_score: 0.36761260088518616\n",
      "Время обучения: 39.875510692596436\n",
      "\n",
      "\n"
     ]
    }
   ],
   "source": [
    "# найдем наилучшее количество деревьев\n",
    "\n",
    "for est in [100, 500, 1000]:\n",
    "    model = RandomForestClassifier(random_state=RANDOM_STATE, \n",
    "                                   n_estimators=est, \n",
    "                                   max_depth=9,\n",
    "                                   class_weight='balanced')\n",
    "    \n",
    "    start = time.time()\n",
    "    model.fit(train_tf_idf, y_train)\n",
    "    end = time.time()\n",
    "    time_rfc_fit = end-start\n",
    "    \n",
    "    predicted_valid = model.predict(valid_tf_idf)\n",
    "    f1_est = f1_score(y_valid, predicted_valid)\n",
    "    \n",
    "    result_rfc.append([est, f1_est, time_dtc_fit])\n",
    "    print('Количество деревьев:', est)\n",
    "    print(\"F1_score:\", f1_est)    \n",
    "    print(\"Время обучения:\", time_rfc_fit)\n",
    "    print('')\n",
    "print()"
   ]
  },
  {
   "cell_type": "code",
   "execution_count": 110,
   "metadata": {},
   "outputs": [],
   "source": [
    "result_rfc = pd.DataFrame(result_rfc, columns=['est', 'F1', 'time']).sort_values(by='F1', ascending=False)"
   ]
  },
  {
   "cell_type": "code",
   "execution_count": 111,
   "metadata": {},
   "outputs": [
    {
     "data": {
      "text/html": [
       "<div>\n",
       "<style scoped>\n",
       "    .dataframe tbody tr th:only-of-type {\n",
       "        vertical-align: middle;\n",
       "    }\n",
       "\n",
       "    .dataframe tbody tr th {\n",
       "        vertical-align: top;\n",
       "    }\n",
       "\n",
       "    .dataframe thead th {\n",
       "        text-align: right;\n",
       "    }\n",
       "</style>\n",
       "<table border=\"1\" class=\"dataframe\">\n",
       "  <thead>\n",
       "    <tr style=\"text-align: right;\">\n",
       "      <th></th>\n",
       "      <th>est</th>\n",
       "      <th>F1</th>\n",
       "      <th>time</th>\n",
       "    </tr>\n",
       "  </thead>\n",
       "  <tbody>\n",
       "    <tr>\n",
       "      <th>1</th>\n",
       "      <td>500</td>\n",
       "      <td>0.367726</td>\n",
       "      <td>16.905481</td>\n",
       "    </tr>\n",
       "    <tr>\n",
       "      <th>2</th>\n",
       "      <td>1000</td>\n",
       "      <td>0.367613</td>\n",
       "      <td>16.905481</td>\n",
       "    </tr>\n",
       "    <tr>\n",
       "      <th>0</th>\n",
       "      <td>100</td>\n",
       "      <td>0.361474</td>\n",
       "      <td>16.905481</td>\n",
       "    </tr>\n",
       "  </tbody>\n",
       "</table>\n",
       "</div>"
      ],
      "text/plain": [
       "    est        F1       time\n",
       "1   500  0.367726  16.905481\n",
       "2  1000  0.367613  16.905481\n",
       "0   100  0.361474  16.905481"
      ]
     },
     "execution_count": 111,
     "metadata": {},
     "output_type": "execute_result"
    }
   ],
   "source": [
    "result_rfc"
   ]
  },
  {
   "cell_type": "code",
   "execution_count": 112,
   "metadata": {},
   "outputs": [],
   "source": [
    "# первая строка датафрейма result_rfc - это количество деревьев, при котором модель показала наилучшее значение F1\n",
    "best_est = result_rfc.iloc[0, 0]\n",
    "f1_rfc = result_rfc.iloc[0, 1]\n",
    "time_rfc = result_rfc.iloc[0, 2]"
   ]
  },
  {
   "cell_type": "code",
   "execution_count": 113,
   "metadata": {},
   "outputs": [],
   "source": [
    "# сохраним лучшую модель RandomForestClassifier\n",
    "best_model_rfc = RandomForestClassifier(random_state=RANDOM_STATE, \n",
    "                                   n_estimators=best_est, \n",
    "                                   max_depth=9,\n",
    "                                   class_weight='balanced')"
   ]
  },
  {
   "cell_type": "code",
   "execution_count": 114,
   "metadata": {},
   "outputs": [
    {
     "name": "stdout",
     "output_type": "stream",
     "text": [
      "РЕЗУЛЬТАТЫ\n",
      "-------------------------------------------\n",
      "RandomForestClassifier(class_weight='balanced', max_depth=9, n_estimators=500,\n",
      "                       random_state=42)\n",
      "-------------------------------------------\n",
      "Качество предсказания/ F1 = 0.37\n",
      "Время обучения модели: 16.91 сек\n"
     ]
    }
   ],
   "source": [
    "print_res (best_model_rfc, f1_rfc, time_rfc)"
   ]
  },
  {
   "cell_type": "code",
   "execution_count": 115,
   "metadata": {},
   "outputs": [],
   "source": [
    "#result_models"
   ]
  },
  {
   "cell_type": "markdown",
   "metadata": {},
   "source": [
    "---\n",
    "Представим все полученные результаты в удобной для восприятия форме.  \n",
    "Массив с результатами result_models преобразуем в датафрейм (result_models) и отсортируем по возрастанию метрики F1."
   ]
  },
  {
   "cell_type": "code",
   "execution_count": 116,
   "metadata": {},
   "outputs": [
    {
     "data": {
      "text/html": [
       "<div>\n",
       "<style scoped>\n",
       "    .dataframe tbody tr th:only-of-type {\n",
       "        vertical-align: middle;\n",
       "    }\n",
       "\n",
       "    .dataframe tbody tr th {\n",
       "        vertical-align: top;\n",
       "    }\n",
       "\n",
       "    .dataframe thead th {\n",
       "        text-align: right;\n",
       "    }\n",
       "</style>\n",
       "<table border=\"1\" class=\"dataframe\">\n",
       "  <thead>\n",
       "    <tr style=\"text-align: right;\">\n",
       "      <th></th>\n",
       "      <th>модель</th>\n",
       "      <th>F1</th>\n",
       "      <th>время обучения</th>\n",
       "    </tr>\n",
       "  </thead>\n",
       "  <tbody>\n",
       "    <tr>\n",
       "      <th>0</th>\n",
       "      <td>LogisticRegression(C=6, class_weight='balanced', max_iter=1000, random_state=42)</td>\n",
       "      <td>0.76</td>\n",
       "      <td>22.90</td>\n",
       "    </tr>\n",
       "    <tr>\n",
       "      <th>1</th>\n",
       "      <td>DecisionTreeClassifier(class_weight='balanced', max_depth=16, random_state=42)</td>\n",
       "      <td>0.62</td>\n",
       "      <td>14.20</td>\n",
       "    </tr>\n",
       "    <tr>\n",
       "      <th>2</th>\n",
       "      <td>RandomForestClassifier(class_weight='balanced', max_depth=9, n_estimators=500,\\n                       random_state=42)</td>\n",
       "      <td>0.37</td>\n",
       "      <td>16.91</td>\n",
       "    </tr>\n",
       "  </tbody>\n",
       "</table>\n",
       "</div>"
      ],
      "text/plain": [
       "                                                                                                                    модель  \\\n",
       "0                                         LogisticRegression(C=6, class_weight='balanced', max_iter=1000, random_state=42)   \n",
       "1                                           DecisionTreeClassifier(class_weight='balanced', max_depth=16, random_state=42)   \n",
       "2  RandomForestClassifier(class_weight='balanced', max_depth=9, n_estimators=500,\\n                       random_state=42)   \n",
       "\n",
       "     F1  время обучения  \n",
       "0  0.76           22.90  \n",
       "1  0.62           14.20  \n",
       "2  0.37           16.91  "
      ]
     },
     "execution_count": 116,
     "metadata": {},
     "output_type": "execute_result"
    }
   ],
   "source": [
    "result_models = pd.DataFrame(result_models, columns=['модель', 'F1', 'время обучения'])\n",
    "result_models = result_models.sort_values(by='F1', ascending=False)\n",
    "result_models"
   ]
  },
  {
   "cell_type": "markdown",
   "metadata": {},
   "source": [
    "Критерий: \"значение метрики качества F1 не меньше 0.75\" выполняется только для модели LogisticRegression.  \n",
    "Остальные модели показали качество хуже.\n",
    "\n",
    "Итак, лучшая модель - это LogisticRegression. Проверим ее на тестовой выборке."
   ]
  },
  {
   "cell_type": "markdown",
   "metadata": {},
   "source": [
    "### Тестирование"
   ]
  },
  {
   "cell_type": "markdown",
   "metadata": {},
   "source": [
    "Повысим точность модели путем увеличения размера выборки - обучим лучшую модель на увеличенном наборе данных (тренировочная + валидационная выборки) и протестируем на тестовой выборке."
   ]
  },
  {
   "cell_type": "code",
   "execution_count": 118,
   "metadata": {},
   "outputs": [],
   "source": [
    "# объединим тренировочную и валидационную выборки\n",
    "X_train_lr = pd.concat([X_train, X_valid])\n",
    "y_train_lr = pd.concat([y_train, y_valid])"
   ]
  },
  {
   "cell_type": "code",
   "execution_count": 119,
   "metadata": {},
   "outputs": [],
   "source": [
    "# переведем слова в векторы и посчитаем tf_idf\n",
    "X_train_tf_idf = count_tf_idf.fit_transform(X_train_lr)\n",
    "X_test_tf_idf = count_tf_idf.transform(X_test)"
   ]
  },
  {
   "cell_type": "code",
   "execution_count": 120,
   "metadata": {},
   "outputs": [
    {
     "data": {
      "text/plain": [
       "(143362, 142316)"
      ]
     },
     "metadata": {},
     "output_type": "display_data"
    },
    {
     "data": {
      "text/plain": [
       "(15930, 142316)"
      ]
     },
     "metadata": {},
     "output_type": "display_data"
    }
   ],
   "source": [
    "display(X_train_tf_idf.shape)\n",
    "display(X_test_tf_idf.shape)"
   ]
  },
  {
   "cell_type": "code",
   "execution_count": 121,
   "metadata": {},
   "outputs": [
    {
     "data": {
      "text/html": [
       "<style>#sk-container-id-1 {\n",
       "  /* Definition of color scheme common for light and dark mode */\n",
       "  --sklearn-color-text: black;\n",
       "  --sklearn-color-line: gray;\n",
       "  /* Definition of color scheme for unfitted estimators */\n",
       "  --sklearn-color-unfitted-level-0: #fff5e6;\n",
       "  --sklearn-color-unfitted-level-1: #f6e4d2;\n",
       "  --sklearn-color-unfitted-level-2: #ffe0b3;\n",
       "  --sklearn-color-unfitted-level-3: chocolate;\n",
       "  /* Definition of color scheme for fitted estimators */\n",
       "  --sklearn-color-fitted-level-0: #f0f8ff;\n",
       "  --sklearn-color-fitted-level-1: #d4ebff;\n",
       "  --sklearn-color-fitted-level-2: #b3dbfd;\n",
       "  --sklearn-color-fitted-level-3: cornflowerblue;\n",
       "\n",
       "  /* Specific color for light theme */\n",
       "  --sklearn-color-text-on-default-background: var(--sg-text-color, var(--theme-code-foreground, var(--jp-content-font-color1, black)));\n",
       "  --sklearn-color-background: var(--sg-background-color, var(--theme-background, var(--jp-layout-color0, white)));\n",
       "  --sklearn-color-border-box: var(--sg-text-color, var(--theme-code-foreground, var(--jp-content-font-color1, black)));\n",
       "  --sklearn-color-icon: #696969;\n",
       "\n",
       "  @media (prefers-color-scheme: dark) {\n",
       "    /* Redefinition of color scheme for dark theme */\n",
       "    --sklearn-color-text-on-default-background: var(--sg-text-color, var(--theme-code-foreground, var(--jp-content-font-color1, white)));\n",
       "    --sklearn-color-background: var(--sg-background-color, var(--theme-background, var(--jp-layout-color0, #111)));\n",
       "    --sklearn-color-border-box: var(--sg-text-color, var(--theme-code-foreground, var(--jp-content-font-color1, white)));\n",
       "    --sklearn-color-icon: #878787;\n",
       "  }\n",
       "}\n",
       "\n",
       "#sk-container-id-1 {\n",
       "  color: var(--sklearn-color-text);\n",
       "}\n",
       "\n",
       "#sk-container-id-1 pre {\n",
       "  padding: 0;\n",
       "}\n",
       "\n",
       "#sk-container-id-1 input.sk-hidden--visually {\n",
       "  border: 0;\n",
       "  clip: rect(1px 1px 1px 1px);\n",
       "  clip: rect(1px, 1px, 1px, 1px);\n",
       "  height: 1px;\n",
       "  margin: -1px;\n",
       "  overflow: hidden;\n",
       "  padding: 0;\n",
       "  position: absolute;\n",
       "  width: 1px;\n",
       "}\n",
       "\n",
       "#sk-container-id-1 div.sk-dashed-wrapped {\n",
       "  border: 1px dashed var(--sklearn-color-line);\n",
       "  margin: 0 0.4em 0.5em 0.4em;\n",
       "  box-sizing: border-box;\n",
       "  padding-bottom: 0.4em;\n",
       "  background-color: var(--sklearn-color-background);\n",
       "}\n",
       "\n",
       "#sk-container-id-1 div.sk-container {\n",
       "  /* jupyter's `normalize.less` sets `[hidden] { display: none; }`\n",
       "     but bootstrap.min.css set `[hidden] { display: none !important; }`\n",
       "     so we also need the `!important` here to be able to override the\n",
       "     default hidden behavior on the sphinx rendered scikit-learn.org.\n",
       "     See: https://github.com/scikit-learn/scikit-learn/issues/21755 */\n",
       "  display: inline-block !important;\n",
       "  position: relative;\n",
       "}\n",
       "\n",
       "#sk-container-id-1 div.sk-text-repr-fallback {\n",
       "  display: none;\n",
       "}\n",
       "\n",
       "div.sk-parallel-item,\n",
       "div.sk-serial,\n",
       "div.sk-item {\n",
       "  /* draw centered vertical line to link estimators */\n",
       "  background-image: linear-gradient(var(--sklearn-color-text-on-default-background), var(--sklearn-color-text-on-default-background));\n",
       "  background-size: 2px 100%;\n",
       "  background-repeat: no-repeat;\n",
       "  background-position: center center;\n",
       "}\n",
       "\n",
       "/* Parallel-specific style estimator block */\n",
       "\n",
       "#sk-container-id-1 div.sk-parallel-item::after {\n",
       "  content: \"\";\n",
       "  width: 100%;\n",
       "  border-bottom: 2px solid var(--sklearn-color-text-on-default-background);\n",
       "  flex-grow: 1;\n",
       "}\n",
       "\n",
       "#sk-container-id-1 div.sk-parallel {\n",
       "  display: flex;\n",
       "  align-items: stretch;\n",
       "  justify-content: center;\n",
       "  background-color: var(--sklearn-color-background);\n",
       "  position: relative;\n",
       "}\n",
       "\n",
       "#sk-container-id-1 div.sk-parallel-item {\n",
       "  display: flex;\n",
       "  flex-direction: column;\n",
       "}\n",
       "\n",
       "#sk-container-id-1 div.sk-parallel-item:first-child::after {\n",
       "  align-self: flex-end;\n",
       "  width: 50%;\n",
       "}\n",
       "\n",
       "#sk-container-id-1 div.sk-parallel-item:last-child::after {\n",
       "  align-self: flex-start;\n",
       "  width: 50%;\n",
       "}\n",
       "\n",
       "#sk-container-id-1 div.sk-parallel-item:only-child::after {\n",
       "  width: 0;\n",
       "}\n",
       "\n",
       "/* Serial-specific style estimator block */\n",
       "\n",
       "#sk-container-id-1 div.sk-serial {\n",
       "  display: flex;\n",
       "  flex-direction: column;\n",
       "  align-items: center;\n",
       "  background-color: var(--sklearn-color-background);\n",
       "  padding-right: 1em;\n",
       "  padding-left: 1em;\n",
       "}\n",
       "\n",
       "\n",
       "/* Toggleable style: style used for estimator/Pipeline/ColumnTransformer box that is\n",
       "clickable and can be expanded/collapsed.\n",
       "- Pipeline and ColumnTransformer use this feature and define the default style\n",
       "- Estimators will overwrite some part of the style using the `sk-estimator` class\n",
       "*/\n",
       "\n",
       "/* Pipeline and ColumnTransformer style (default) */\n",
       "\n",
       "#sk-container-id-1 div.sk-toggleable {\n",
       "  /* Default theme specific background. It is overwritten whether we have a\n",
       "  specific estimator or a Pipeline/ColumnTransformer */\n",
       "  background-color: var(--sklearn-color-background);\n",
       "}\n",
       "\n",
       "/* Toggleable label */\n",
       "#sk-container-id-1 label.sk-toggleable__label {\n",
       "  cursor: pointer;\n",
       "  display: block;\n",
       "  width: 100%;\n",
       "  margin-bottom: 0;\n",
       "  padding: 0.5em;\n",
       "  box-sizing: border-box;\n",
       "  text-align: center;\n",
       "}\n",
       "\n",
       "#sk-container-id-1 label.sk-toggleable__label-arrow:before {\n",
       "  /* Arrow on the left of the label */\n",
       "  content: \"▸\";\n",
       "  float: left;\n",
       "  margin-right: 0.25em;\n",
       "  color: var(--sklearn-color-icon);\n",
       "}\n",
       "\n",
       "#sk-container-id-1 label.sk-toggleable__label-arrow:hover:before {\n",
       "  color: var(--sklearn-color-text);\n",
       "}\n",
       "\n",
       "/* Toggleable content - dropdown */\n",
       "\n",
       "#sk-container-id-1 div.sk-toggleable__content {\n",
       "  max-height: 0;\n",
       "  max-width: 0;\n",
       "  overflow: hidden;\n",
       "  text-align: left;\n",
       "  /* unfitted */\n",
       "  background-color: var(--sklearn-color-unfitted-level-0);\n",
       "}\n",
       "\n",
       "#sk-container-id-1 div.sk-toggleable__content.fitted {\n",
       "  /* fitted */\n",
       "  background-color: var(--sklearn-color-fitted-level-0);\n",
       "}\n",
       "\n",
       "#sk-container-id-1 div.sk-toggleable__content pre {\n",
       "  margin: 0.2em;\n",
       "  border-radius: 0.25em;\n",
       "  color: var(--sklearn-color-text);\n",
       "  /* unfitted */\n",
       "  background-color: var(--sklearn-color-unfitted-level-0);\n",
       "}\n",
       "\n",
       "#sk-container-id-1 div.sk-toggleable__content.fitted pre {\n",
       "  /* unfitted */\n",
       "  background-color: var(--sklearn-color-fitted-level-0);\n",
       "}\n",
       "\n",
       "#sk-container-id-1 input.sk-toggleable__control:checked~div.sk-toggleable__content {\n",
       "  /* Expand drop-down */\n",
       "  max-height: 200px;\n",
       "  max-width: 100%;\n",
       "  overflow: auto;\n",
       "}\n",
       "\n",
       "#sk-container-id-1 input.sk-toggleable__control:checked~label.sk-toggleable__label-arrow:before {\n",
       "  content: \"▾\";\n",
       "}\n",
       "\n",
       "/* Pipeline/ColumnTransformer-specific style */\n",
       "\n",
       "#sk-container-id-1 div.sk-label input.sk-toggleable__control:checked~label.sk-toggleable__label {\n",
       "  color: var(--sklearn-color-text);\n",
       "  background-color: var(--sklearn-color-unfitted-level-2);\n",
       "}\n",
       "\n",
       "#sk-container-id-1 div.sk-label.fitted input.sk-toggleable__control:checked~label.sk-toggleable__label {\n",
       "  background-color: var(--sklearn-color-fitted-level-2);\n",
       "}\n",
       "\n",
       "/* Estimator-specific style */\n",
       "\n",
       "/* Colorize estimator box */\n",
       "#sk-container-id-1 div.sk-estimator input.sk-toggleable__control:checked~label.sk-toggleable__label {\n",
       "  /* unfitted */\n",
       "  background-color: var(--sklearn-color-unfitted-level-2);\n",
       "}\n",
       "\n",
       "#sk-container-id-1 div.sk-estimator.fitted input.sk-toggleable__control:checked~label.sk-toggleable__label {\n",
       "  /* fitted */\n",
       "  background-color: var(--sklearn-color-fitted-level-2);\n",
       "}\n",
       "\n",
       "#sk-container-id-1 div.sk-label label.sk-toggleable__label,\n",
       "#sk-container-id-1 div.sk-label label {\n",
       "  /* The background is the default theme color */\n",
       "  color: var(--sklearn-color-text-on-default-background);\n",
       "}\n",
       "\n",
       "/* On hover, darken the color of the background */\n",
       "#sk-container-id-1 div.sk-label:hover label.sk-toggleable__label {\n",
       "  color: var(--sklearn-color-text);\n",
       "  background-color: var(--sklearn-color-unfitted-level-2);\n",
       "}\n",
       "\n",
       "/* Label box, darken color on hover, fitted */\n",
       "#sk-container-id-1 div.sk-label.fitted:hover label.sk-toggleable__label.fitted {\n",
       "  color: var(--sklearn-color-text);\n",
       "  background-color: var(--sklearn-color-fitted-level-2);\n",
       "}\n",
       "\n",
       "/* Estimator label */\n",
       "\n",
       "#sk-container-id-1 div.sk-label label {\n",
       "  font-family: monospace;\n",
       "  font-weight: bold;\n",
       "  display: inline-block;\n",
       "  line-height: 1.2em;\n",
       "}\n",
       "\n",
       "#sk-container-id-1 div.sk-label-container {\n",
       "  text-align: center;\n",
       "}\n",
       "\n",
       "/* Estimator-specific */\n",
       "#sk-container-id-1 div.sk-estimator {\n",
       "  font-family: monospace;\n",
       "  border: 1px dotted var(--sklearn-color-border-box);\n",
       "  border-radius: 0.25em;\n",
       "  box-sizing: border-box;\n",
       "  margin-bottom: 0.5em;\n",
       "  /* unfitted */\n",
       "  background-color: var(--sklearn-color-unfitted-level-0);\n",
       "}\n",
       "\n",
       "#sk-container-id-1 div.sk-estimator.fitted {\n",
       "  /* fitted */\n",
       "  background-color: var(--sklearn-color-fitted-level-0);\n",
       "}\n",
       "\n",
       "/* on hover */\n",
       "#sk-container-id-1 div.sk-estimator:hover {\n",
       "  /* unfitted */\n",
       "  background-color: var(--sklearn-color-unfitted-level-2);\n",
       "}\n",
       "\n",
       "#sk-container-id-1 div.sk-estimator.fitted:hover {\n",
       "  /* fitted */\n",
       "  background-color: var(--sklearn-color-fitted-level-2);\n",
       "}\n",
       "\n",
       "/* Specification for estimator info (e.g. \"i\" and \"?\") */\n",
       "\n",
       "/* Common style for \"i\" and \"?\" */\n",
       "\n",
       ".sk-estimator-doc-link,\n",
       "a:link.sk-estimator-doc-link,\n",
       "a:visited.sk-estimator-doc-link {\n",
       "  float: right;\n",
       "  font-size: smaller;\n",
       "  line-height: 1em;\n",
       "  font-family: monospace;\n",
       "  background-color: var(--sklearn-color-background);\n",
       "  border-radius: 1em;\n",
       "  height: 1em;\n",
       "  width: 1em;\n",
       "  text-decoration: none !important;\n",
       "  margin-left: 1ex;\n",
       "  /* unfitted */\n",
       "  border: var(--sklearn-color-unfitted-level-1) 1pt solid;\n",
       "  color: var(--sklearn-color-unfitted-level-1);\n",
       "}\n",
       "\n",
       ".sk-estimator-doc-link.fitted,\n",
       "a:link.sk-estimator-doc-link.fitted,\n",
       "a:visited.sk-estimator-doc-link.fitted {\n",
       "  /* fitted */\n",
       "  border: var(--sklearn-color-fitted-level-1) 1pt solid;\n",
       "  color: var(--sklearn-color-fitted-level-1);\n",
       "}\n",
       "\n",
       "/* On hover */\n",
       "div.sk-estimator:hover .sk-estimator-doc-link:hover,\n",
       ".sk-estimator-doc-link:hover,\n",
       "div.sk-label-container:hover .sk-estimator-doc-link:hover,\n",
       ".sk-estimator-doc-link:hover {\n",
       "  /* unfitted */\n",
       "  background-color: var(--sklearn-color-unfitted-level-3);\n",
       "  color: var(--sklearn-color-background);\n",
       "  text-decoration: none;\n",
       "}\n",
       "\n",
       "div.sk-estimator.fitted:hover .sk-estimator-doc-link.fitted:hover,\n",
       ".sk-estimator-doc-link.fitted:hover,\n",
       "div.sk-label-container:hover .sk-estimator-doc-link.fitted:hover,\n",
       ".sk-estimator-doc-link.fitted:hover {\n",
       "  /* fitted */\n",
       "  background-color: var(--sklearn-color-fitted-level-3);\n",
       "  color: var(--sklearn-color-background);\n",
       "  text-decoration: none;\n",
       "}\n",
       "\n",
       "/* Span, style for the box shown on hovering the info icon */\n",
       ".sk-estimator-doc-link span {\n",
       "  display: none;\n",
       "  z-index: 9999;\n",
       "  position: relative;\n",
       "  font-weight: normal;\n",
       "  right: .2ex;\n",
       "  padding: .5ex;\n",
       "  margin: .5ex;\n",
       "  width: min-content;\n",
       "  min-width: 20ex;\n",
       "  max-width: 50ex;\n",
       "  color: var(--sklearn-color-text);\n",
       "  box-shadow: 2pt 2pt 4pt #999;\n",
       "  /* unfitted */\n",
       "  background: var(--sklearn-color-unfitted-level-0);\n",
       "  border: .5pt solid var(--sklearn-color-unfitted-level-3);\n",
       "}\n",
       "\n",
       ".sk-estimator-doc-link.fitted span {\n",
       "  /* fitted */\n",
       "  background: var(--sklearn-color-fitted-level-0);\n",
       "  border: var(--sklearn-color-fitted-level-3);\n",
       "}\n",
       "\n",
       ".sk-estimator-doc-link:hover span {\n",
       "  display: block;\n",
       "}\n",
       "\n",
       "/* \"?\"-specific style due to the `<a>` HTML tag */\n",
       "\n",
       "#sk-container-id-1 a.estimator_doc_link {\n",
       "  float: right;\n",
       "  font-size: 1rem;\n",
       "  line-height: 1em;\n",
       "  font-family: monospace;\n",
       "  background-color: var(--sklearn-color-background);\n",
       "  border-radius: 1rem;\n",
       "  height: 1rem;\n",
       "  width: 1rem;\n",
       "  text-decoration: none;\n",
       "  /* unfitted */\n",
       "  color: var(--sklearn-color-unfitted-level-1);\n",
       "  border: var(--sklearn-color-unfitted-level-1) 1pt solid;\n",
       "}\n",
       "\n",
       "#sk-container-id-1 a.estimator_doc_link.fitted {\n",
       "  /* fitted */\n",
       "  border: var(--sklearn-color-fitted-level-1) 1pt solid;\n",
       "  color: var(--sklearn-color-fitted-level-1);\n",
       "}\n",
       "\n",
       "/* On hover */\n",
       "#sk-container-id-1 a.estimator_doc_link:hover {\n",
       "  /* unfitted */\n",
       "  background-color: var(--sklearn-color-unfitted-level-3);\n",
       "  color: var(--sklearn-color-background);\n",
       "  text-decoration: none;\n",
       "}\n",
       "\n",
       "#sk-container-id-1 a.estimator_doc_link.fitted:hover {\n",
       "  /* fitted */\n",
       "  background-color: var(--sklearn-color-fitted-level-3);\n",
       "}\n",
       "</style><div id=\"sk-container-id-1\" class=\"sk-top-container\"><div class=\"sk-text-repr-fallback\"><pre>LogisticRegression(C=6, class_weight=&#x27;balanced&#x27;, max_iter=1000, random_state=42)</pre><b>In a Jupyter environment, please rerun this cell to show the HTML representation or trust the notebook. <br />On GitHub, the HTML representation is unable to render, please try loading this page with nbviewer.org.</b></div><div class=\"sk-container\" hidden><div class=\"sk-item\"><div class=\"sk-estimator fitted sk-toggleable\"><input class=\"sk-toggleable__control sk-hidden--visually\" id=\"sk-estimator-id-1\" type=\"checkbox\" checked><label for=\"sk-estimator-id-1\" class=\"sk-toggleable__label fitted sk-toggleable__label-arrow fitted\">&nbsp;&nbsp;LogisticRegression<a class=\"sk-estimator-doc-link fitted\" rel=\"noreferrer\" target=\"_blank\" href=\"https://scikit-learn.org/1.5/modules/generated/sklearn.linear_model.LogisticRegression.html\">?<span>Documentation for LogisticRegression</span></a><span class=\"sk-estimator-doc-link fitted\">i<span>Fitted</span></span></label><div class=\"sk-toggleable__content fitted\"><pre>LogisticRegression(C=6, class_weight=&#x27;balanced&#x27;, max_iter=1000, random_state=42)</pre></div> </div></div></div></div>"
      ],
      "text/plain": [
       "LogisticRegression(C=6, class_weight='balanced', max_iter=1000, random_state=42)"
      ]
     },
     "execution_count": 121,
     "metadata": {},
     "output_type": "execute_result"
    }
   ],
   "source": [
    "# обучим модель на тренировочной выборке\n",
    "best_model_lr.fit(X_train_tf_idf, y_train_lr)"
   ]
  },
  {
   "cell_type": "code",
   "execution_count": 122,
   "metadata": {},
   "outputs": [],
   "source": [
    "# найдем предсказания + время предсказания на тестовой выборке\n",
    "start = time.time()\n",
    "predicted_test = best_model_lr.predict(X_test_tf_idf)\n",
    "end = time.time()\n",
    "time_pred = end-start"
   ]
  },
  {
   "cell_type": "code",
   "execution_count": 123,
   "metadata": {},
   "outputs": [],
   "source": [
    "# рассчитаем метрику F1\n",
    "f1_best_model = f1_score(y_test, predicted_test)"
   ]
  },
  {
   "cell_type": "code",
   "execution_count": 124,
   "metadata": {},
   "outputs": [
    {
     "name": "stdout",
     "output_type": "stream",
     "text": [
      "Качество предсказания модели LogisticRegression на тестовых данных: F1 = 0.7557187235244281 / 0.76\n",
      "Время предсказания модели LogisticRegression на тестовых данных: 0.0 cек\n"
     ]
    }
   ],
   "source": [
    "print(f'Качество предсказания модели LogisticRegression на тестовых данных: F1 = {f1_best_model} / {round(f1_best_model,2)}')\n",
    "print(f'Время предсказания модели LogisticRegression на тестовых данных: {round(time_pred,2)} cек')"
   ]
  },
  {
   "cell_type": "markdown",
   "metadata": {},
   "source": [
    "Итак, лучшая модель (LogisticRegression) была проверена на тестовых данных.  \n",
    "Отметим, что *выполняется критерий: \"значение метрики качества F1 не меньше 0.75\"*."
   ]
  },
  {
   "cell_type": "markdown",
   "metadata": {},
   "source": [
    "---\n",
    "**ВЫВОД: ОБУЧЕНИЕ МОДЕЛЕЙ**\n",
    "\n",
    "Анализ тональности текста выявляет эмоционально окрашенные слова. Оценить тональность - значит отметить текст как позитивный или негативный. Мы решили задачу классификации, где целевой признак равен \"1\" для положительного текста и \"0\" - для отрицательного. Признаки — это слова из корпуса и их величины TF-IDF для каждого текста.\n",
    "\n",
    "Данные были подготовдлены с помощью класса TfidfVectorizer(), при помощи функции fit_transform() мы рассчитали TF-IDF для корпуса текстов тренировочной, валидационной и тестовой выборок. Для определения тональности применили величины TF-IDF как признаки и подготовили данные к обучению.\n",
    "\n",
    "Было проведено обучение трех моделей: LogisticRegression, DecisionTreeClassifier, RandomForestClassifier.\n",
    "\n",
    "Для каждой модели было найдена метрика качества F1, а также время обучения."
   ]
  },
  {
   "cell_type": "code",
   "execution_count": 125,
   "metadata": {},
   "outputs": [
    {
     "name": "stdout",
     "output_type": "stream",
     "text": [
      "Лучшей моделью является LogisticRegression(C=6, class_weight='balanced', max_iter=1000, random_state=42)\n",
      "со следующими показателями на обучающих данных:\n",
      "F1 = 0.763165305547733 / 0.76, время обучения составило 22.9 сек\n",
      "--------------------------------------------------------\n",
      "На тестовых данных модель показала результаты:\n",
      "F1 = 0.7557187235244281 / 0.76, время предсказания составило 0.0 сек\n"
     ]
    }
   ],
   "source": [
    "print(f'Лучшей моделью является {best_model_lr}')\n",
    "print(f'со следующими показателями на обучающих данных:')\n",
    "print(f'F1 = {f1_lr} / {round(f1_lr,2)}, время обучения составило {round(time_lr,2)} сек')\n",
    "print(f'--------------------------------------------------------')\n",
    "print('На тестовых данных модель показала результаты:')\n",
    "print(f'F1 = {f1_best_model} / {round(f1_best_model,2)}, время предсказания составило {round(time_pred,2)} сек')"
   ]
  },
  {
   "cell_type": "markdown",
   "metadata": {},
   "source": [
    "## Общий вывод"
   ]
  },
  {
   "cell_type": "markdown",
   "metadata": {},
   "source": [
    "**Задачи исследования:**\n",
    "\n",
    "* провести загрузку и подготовку данных\n",
    "* обучить несколько разных моделей\n",
    "* сделать общий вывод, дать рекомендации\n",
    "\n",
    "---\n",
    "**Цели исследования:**\n",
    "\n",
    "* построить модель, которая сможет классифицировать комментарии на позитивные и негативные (критерий: *F1* >= 0.75)\n",
    "\n",
    "---\n",
    "**Данные для анализа** находятся в файле *toxic_comments.csv*\n",
    "\n",
    "---\n",
    "**ЗАГРУЗКА ДАННЫХ**\n",
    "\n",
    "Мы считали CSV-файл с данными и сохранили его в датафрейм data.\n",
    "\n",
    "В датафрейме data содержится: 159 292 строк / 3 столбца.  \n",
    "Каждая строка = комментарий, каждый столбец = признак, который содержит информацию о комментарии.  \n",
    "\n",
    "* *'Unnamed: 0'*: не содержит ценной для обучения информации (копирует индексы) / не будет использован в дальнейшем анализе  \n",
    "(удалим на следующем этапе)\n",
    "* *'text'*: содержит исходный текст комментария, не целевой / будет использован в обучении и предсказании  \n",
    "* *'toxic'*: содержит данные по классификации текстов /целевой\n",
    "\n",
    "Наименование столбцов 'text', toxic' - корректные, дубликатов и пропусков нет.\n",
    "\n",
    "Признак *'toxic'* содержит уникальные значения '0' и '1', при этом имеет тип данных int64 >> оптимизируем до uint8.\n",
    "\n",
    "Также отметим *дисбаланс классов целевого признака - наблюдаем существенный перевес в пользу класса '0' (будем учитывать это на этапе разделения датасета на выборки)*\n",
    "\n",
    "Отметим, что комментарии на английском языке, также в данных присутствуют разделители строки, заглавные символы (очистку от ненужных символов, а также все преобразования с текстом произведем на этапе подготовки данных). \n",
    "\n",
    "В данных обнаружены своего рода 'выбросы' - очень длинные комментарии, состоящие из 5000 симоволов и очень короткие (такой всего один - 5 символов). Аномальные комментарии суммарно составляют всего 0.03 % от всего датафрейма. Для оптимизации времени выполнения предобработки (чтобы не тратить время на лемматизацию текста в несколько тысяч слов) аномалии можно удалить. *Пока удалять данные не будем*.\n",
    "\n",
    "Проверили, влияет ли длина комментария на его токсичность - было выявлено, что взаимосвязь между длиной комментария и его токсичностью есть (распределение токсичных и нетоксичных комментариев по длине не одинаковое, есть различия). *На текущий момент, длину комментария в качестве дополнительного признака, который можно использовать для классификации, рассматривать не будем.*\n",
    "\n",
    "---\n",
    "**ПОДГОТОВКА ДАННЫХ**\n",
    "\n",
    "Удалили неинформативный признак - столбец 'Unnamed: 0'.\n",
    "\n",
    "Оптимизировали тип данных признака 'toxic' (int64 переведем в формат uint8).  \n",
    "Тексты перевели в стандартный для Python формат (кодировку Unicode).\n",
    "\n",
    "Провели очистку текста от ненужных символов, разметили части речи и лемматизировали с помощью WordNetLemmatizer (лемматизированный текст находится в столбце 'lemmatized_text').\n",
    "\n",
    "Построили мешок слов по классам (токсичные / нетоксичные комментарии), для каждого класса определили наиболее характерные слова (*данную информацию в дальнейшем можно использовать для анализа данных, создания признаков).*\n",
    "\n",
    "---\n",
    "**ОБУЧЕНИЕ МОДЕЛЕЙ**\n",
    "\n",
    "Анализ тональности текста выявляет эмоционально окрашенные слова. Оценить тональность - значит отметить текст как позитивный или негативный. Мы решили задачу классификации, где целевой признак равен \"1\" для положительного текста и \"0\" - для отрицательного. Признаки — это слова из корпуса и их величины TF-IDF для каждого текста.\n",
    "\n",
    "Данные были подготовдлены с помощью класса TfidfVectorizer(), при помощи функции fit_transform() мы рассчитали TF-IDF для корпуса текстов тренировочной, валидационной и тестовой выборок. Для определения тональности применили величины TF-IDF как признаки и подготовили данные к обучению.\n",
    "\n",
    "Было проведено обучение трех моделей: LogisticRegression, DecisionTreeClassifier, RandomForestClassifier.\n",
    "\n",
    "Для каждой модели было найдена метрика качества F1, а также время обучения."
   ]
  },
  {
   "cell_type": "code",
   "execution_count": 126,
   "metadata": {},
   "outputs": [
    {
     "name": "stdout",
     "output_type": "stream",
     "text": [
      "Лучшей моделью является LogisticRegression(C=6, class_weight='balanced', max_iter=1000, random_state=42)\n",
      "со следующими показателями на обучающих данных:\n",
      "F1 = 0.763165305547733 / 0.76, время обучения составило 22.9 сек\n",
      "--------------------------------------------------------\n",
      "На тестовых данных модель показала результаты:\n",
      "F1 = 0.7557187235244281 / 0.76, время предсказания составило 0.0 сек\n"
     ]
    }
   ],
   "source": [
    "print(f'Лучшей моделью является {best_model_lr}')\n",
    "print(f'со следующими показателями на обучающих данных:')\n",
    "print(f'F1 = {f1_lr} / {round(f1_lr,2)}, время обучения составило {round(time_lr,2)} сек')\n",
    "print(f'--------------------------------------------------------')\n",
    "print('На тестовых данных модель показала результаты:')\n",
    "print(f'F1 = {f1_best_model} / {round(f1_best_model,2)}, время предсказания составило {round(time_pred,2)} сек')"
   ]
  }
 ],
 "metadata": {
  "ExecuteTimeLog": [
   {
    "duration": 1306,
    "start_time": "2024-08-06T02:05:45.444Z"
   },
   {
    "duration": 8001,
    "start_time": "2024-08-06T02:09:00.077Z"
   },
   {
    "duration": 2543,
    "start_time": "2024-08-06T02:09:56.849Z"
   },
   {
    "duration": 6,
    "start_time": "2024-08-06T02:12:08.910Z"
   },
   {
    "duration": 4,
    "start_time": "2024-08-06T02:29:50.466Z"
   },
   {
    "duration": 1176,
    "start_time": "2024-08-06T02:30:58.341Z"
   },
   {
    "duration": 15,
    "start_time": "2024-08-06T02:31:03.118Z"
   },
   {
    "duration": 6,
    "start_time": "2024-08-06T02:36:40.273Z"
   },
   {
    "duration": 6,
    "start_time": "2024-08-06T02:37:24.153Z"
   },
   {
    "duration": 5,
    "start_time": "2024-08-06T02:40:26.900Z"
   },
   {
    "duration": 77,
    "start_time": "2024-08-06T02:42:09.170Z"
   },
   {
    "duration": 2,
    "start_time": "2024-08-06T02:42:14.437Z"
   },
   {
    "duration": 2210,
    "start_time": "2024-08-06T02:42:15.186Z"
   },
   {
    "duration": 5,
    "start_time": "2024-08-06T02:42:19.997Z"
   },
   {
    "duration": 2,
    "start_time": "2024-08-06T02:43:06.481Z"
   },
   {
    "duration": 8,
    "start_time": "2024-08-06T02:43:07.048Z"
   },
   {
    "duration": 2717,
    "start_time": "2024-08-06T02:43:14.942Z"
   },
   {
    "duration": 17,
    "start_time": "2024-08-06T02:50:43.714Z"
   },
   {
    "duration": 89,
    "start_time": "2024-08-06T02:50:44.529Z"
   },
   {
    "duration": 43,
    "start_time": "2024-08-06T02:50:52.351Z"
   },
   {
    "duration": 6,
    "start_time": "2024-08-06T02:51:01.580Z"
   },
   {
    "duration": 1660,
    "start_time": "2024-08-06T02:51:12.214Z"
   },
   {
    "duration": 3,
    "start_time": "2024-08-06T02:51:20.136Z"
   },
   {
    "duration": 85,
    "start_time": "2024-08-06T02:51:23.209Z"
   },
   {
    "duration": 1213,
    "start_time": "2024-08-06T02:51:31.151Z"
   },
   {
    "duration": 13,
    "start_time": "2024-08-06T02:51:32.366Z"
   },
   {
    "duration": 6,
    "start_time": "2024-08-06T02:51:32.604Z"
   },
   {
    "duration": 3,
    "start_time": "2024-08-06T02:51:33.491Z"
   },
   {
    "duration": 2197,
    "start_time": "2024-08-06T02:51:34.107Z"
   },
   {
    "duration": 5,
    "start_time": "2024-08-06T02:51:36.306Z"
   },
   {
    "duration": 28,
    "start_time": "2024-08-06T02:51:36.312Z"
   },
   {
    "duration": 2028,
    "start_time": "2024-08-06T02:51:36.601Z"
   },
   {
    "duration": 61,
    "start_time": "2024-08-06T02:51:38.631Z"
   },
   {
    "duration": 12,
    "start_time": "2024-08-06T02:52:33.280Z"
   },
   {
    "duration": 690,
    "start_time": "2024-08-06T02:53:50.945Z"
   },
   {
    "duration": 4,
    "start_time": "2024-08-06T02:54:14.188Z"
   },
   {
    "duration": 786,
    "start_time": "2024-08-06T02:54:33.587Z"
   },
   {
    "duration": 6,
    "start_time": "2024-08-06T02:54:34.374Z"
   },
   {
    "duration": 4,
    "start_time": "2024-08-06T02:54:34.457Z"
   },
   {
    "duration": 3,
    "start_time": "2024-08-06T02:54:34.899Z"
   },
   {
    "duration": 2218,
    "start_time": "2024-08-06T02:54:35.377Z"
   },
   {
    "duration": 8,
    "start_time": "2024-08-06T02:54:37.596Z"
   },
   {
    "duration": 3,
    "start_time": "2024-08-06T02:54:41.715Z"
   },
   {
    "duration": 41,
    "start_time": "2024-08-06T02:54:47.905Z"
   },
   {
    "duration": 6,
    "start_time": "2024-08-06T02:54:54.232Z"
   },
   {
    "duration": 6,
    "start_time": "2024-08-06T02:55:00.423Z"
   },
   {
    "duration": 1856,
    "start_time": "2024-08-06T02:55:04.580Z"
   },
   {
    "duration": 1223,
    "start_time": "2024-08-06T02:55:07.549Z"
   },
   {
    "duration": 12,
    "start_time": "2024-08-06T02:55:08.774Z"
   },
   {
    "duration": 31,
    "start_time": "2024-08-06T02:55:08.787Z"
   },
   {
    "duration": 2,
    "start_time": "2024-08-06T02:55:09.024Z"
   },
   {
    "duration": 2165,
    "start_time": "2024-08-06T02:55:09.303Z"
   },
   {
    "duration": 4,
    "start_time": "2024-08-06T02:55:11.470Z"
   },
   {
    "duration": 66,
    "start_time": "2024-08-06T02:55:11.476Z"
   },
   {
    "duration": 2007,
    "start_time": "2024-08-06T02:55:11.544Z"
   },
   {
    "duration": 741,
    "start_time": "2024-08-06T02:55:17.117Z"
   },
   {
    "duration": 14,
    "start_time": "2024-08-06T03:26:02.685Z"
   },
   {
    "duration": 779,
    "start_time": "2024-08-06T03:26:08.730Z"
   },
   {
    "duration": 9,
    "start_time": "2024-08-06T03:26:11.659Z"
   },
   {
    "duration": 5,
    "start_time": "2024-08-06T03:26:12.340Z"
   },
   {
    "duration": 24,
    "start_time": "2024-08-06T03:26:39.744Z"
   },
   {
    "duration": 3,
    "start_time": "2024-08-06T03:30:42.758Z"
   },
   {
    "duration": 2254,
    "start_time": "2024-08-06T03:31:02.208Z"
   },
   {
    "duration": 5,
    "start_time": "2024-08-06T03:31:04.463Z"
   },
   {
    "duration": 5,
    "start_time": "2024-08-06T03:37:15.937Z"
   },
   {
    "duration": 548,
    "start_time": "2024-08-06T03:37:30.206Z"
   },
   {
    "duration": 275,
    "start_time": "2024-08-06T09:32:27.587Z"
   },
   {
    "duration": 73,
    "start_time": "2024-08-06T09:39:07.347Z"
   },
   {
    "duration": 52,
    "start_time": "2024-08-06T09:39:11.651Z"
   },
   {
    "duration": 4,
    "start_time": "2024-08-06T09:45:35.614Z"
   },
   {
    "duration": 129,
    "start_time": "2024-08-06T09:48:28.462Z"
   },
   {
    "duration": 111,
    "start_time": "2024-08-06T09:48:32.836Z"
   },
   {
    "duration": 108,
    "start_time": "2024-08-06T09:48:40.292Z"
   },
   {
    "duration": 83,
    "start_time": "2024-08-06T09:48:45.726Z"
   },
   {
    "duration": 114,
    "start_time": "2024-08-06T09:48:48.643Z"
   },
   {
    "duration": 8,
    "start_time": "2024-08-06T10:31:48.589Z"
   },
   {
    "duration": 3,
    "start_time": "2024-08-06T10:35:43.183Z"
   },
   {
    "duration": 2936,
    "start_time": "2024-08-06T10:35:44.790Z"
   },
   {
    "duration": 7,
    "start_time": "2024-08-06T10:35:49.675Z"
   },
   {
    "duration": 2886,
    "start_time": "2024-08-06T10:36:03.187Z"
   },
   {
    "duration": 5,
    "start_time": "2024-08-06T10:36:06.075Z"
   },
   {
    "duration": 2,
    "start_time": "2024-08-06T10:43:32.518Z"
   },
   {
    "duration": 2,
    "start_time": "2024-08-06T10:48:10.339Z"
   },
   {
    "duration": 3,
    "start_time": "2024-08-06T10:50:35.878Z"
   },
   {
    "duration": 81,
    "start_time": "2024-08-06T10:53:33.493Z"
   },
   {
    "duration": 9,
    "start_time": "2024-08-06T12:05:29.441Z"
   },
   {
    "duration": 276351,
    "start_time": "2024-08-06T12:05:39.615Z"
   },
   {
    "duration": 5,
    "start_time": "2024-08-06T12:10:15.967Z"
   },
   {
    "duration": 5,
    "start_time": "2024-08-06T12:21:44.834Z"
   },
   {
    "duration": 9,
    "start_time": "2024-08-06T12:49:12.036Z"
   },
   {
    "duration": 47,
    "start_time": "2024-08-06T12:50:25.263Z"
   },
   {
    "duration": 6,
    "start_time": "2024-08-06T12:50:46.225Z"
   },
   {
    "duration": 9,
    "start_time": "2024-08-06T12:51:02.813Z"
   },
   {
    "duration": 15,
    "start_time": "2024-08-06T12:51:36.039Z"
   },
   {
    "duration": 122,
    "start_time": "2024-08-06T12:51:44.661Z"
   },
   {
    "duration": 224,
    "start_time": "2024-08-06T12:52:10.652Z"
   },
   {
    "duration": 130,
    "start_time": "2024-08-06T12:52:21.792Z"
   },
   {
    "duration": 5,
    "start_time": "2024-08-06T13:08:44.584Z"
   },
   {
    "duration": 848,
    "start_time": "2024-08-06T13:08:47.745Z"
   },
   {
    "duration": 31,
    "start_time": "2024-08-06T13:08:51.161Z"
   },
   {
    "duration": 215,
    "start_time": "2024-08-06T13:09:39.360Z"
   },
   {
    "duration": 4,
    "start_time": "2024-08-06T13:09:43.874Z"
   },
   {
    "duration": 6,
    "start_time": "2024-08-06T13:09:46.449Z"
   },
   {
    "duration": 107,
    "start_time": "2024-08-06T13:09:52.066Z"
   },
   {
    "duration": 45,
    "start_time": "2024-08-06T13:09:57.228Z"
   },
   {
    "duration": 6,
    "start_time": "2024-08-06T13:09:57.984Z"
   },
   {
    "duration": 18,
    "start_time": "2024-08-06T13:10:01.921Z"
   },
   {
    "duration": 133,
    "start_time": "2024-08-06T13:10:04.374Z"
   },
   {
    "duration": 8,
    "start_time": "2024-08-06T13:10:14.297Z"
   },
   {
    "duration": 45,
    "start_time": "2024-08-06T13:10:50.623Z"
   },
   {
    "duration": 0,
    "start_time": "2024-08-06T13:10:50.670Z"
   },
   {
    "duration": 0,
    "start_time": "2024-08-06T13:10:50.670Z"
   },
   {
    "duration": 0,
    "start_time": "2024-08-06T13:10:50.671Z"
   },
   {
    "duration": 0,
    "start_time": "2024-08-06T13:10:50.672Z"
   },
   {
    "duration": 0,
    "start_time": "2024-08-06T13:10:50.702Z"
   },
   {
    "duration": 0,
    "start_time": "2024-08-06T13:10:50.703Z"
   },
   {
    "duration": 0,
    "start_time": "2024-08-06T13:10:50.704Z"
   },
   {
    "duration": 0,
    "start_time": "2024-08-06T13:10:50.704Z"
   },
   {
    "duration": 0,
    "start_time": "2024-08-06T13:10:50.705Z"
   },
   {
    "duration": 0,
    "start_time": "2024-08-06T13:10:50.706Z"
   },
   {
    "duration": 0,
    "start_time": "2024-08-06T13:10:50.707Z"
   },
   {
    "duration": 0,
    "start_time": "2024-08-06T13:10:50.708Z"
   },
   {
    "duration": 0,
    "start_time": "2024-08-06T13:10:50.709Z"
   },
   {
    "duration": 6,
    "start_time": "2024-08-06T13:10:51.436Z"
   },
   {
    "duration": 6,
    "start_time": "2024-08-06T13:10:56.913Z"
   },
   {
    "duration": 2470,
    "start_time": "2024-08-06T13:11:00.530Z"
   },
   {
    "duration": 1189,
    "start_time": "2024-08-06T13:11:05.904Z"
   },
   {
    "duration": 33,
    "start_time": "2024-08-06T13:11:07.095Z"
   },
   {
    "duration": 246,
    "start_time": "2024-08-06T13:11:07.130Z"
   },
   {
    "duration": 5,
    "start_time": "2024-08-06T13:11:07.377Z"
   },
   {
    "duration": 6,
    "start_time": "2024-08-06T13:11:07.561Z"
   },
   {
    "duration": 63,
    "start_time": "2024-08-06T13:11:07.777Z"
   },
   {
    "duration": 135,
    "start_time": "2024-08-06T13:11:08.481Z"
   },
   {
    "duration": 156,
    "start_time": "2024-08-06T13:11:14.048Z"
   },
   {
    "duration": 66,
    "start_time": "2024-08-06T13:11:14.916Z"
   },
   {
    "duration": 6,
    "start_time": "2024-08-06T13:11:15.365Z"
   },
   {
    "duration": 15,
    "start_time": "2024-08-06T13:11:15.574Z"
   },
   {
    "duration": 117,
    "start_time": "2024-08-06T13:11:17.529Z"
   },
   {
    "duration": 9,
    "start_time": "2024-08-06T13:11:24.213Z"
   },
   {
    "duration": 7,
    "start_time": "2024-08-06T13:11:35.110Z"
   },
   {
    "duration": 3,
    "start_time": "2024-08-06T13:11:42.469Z"
   },
   {
    "duration": 5,
    "start_time": "2024-08-06T13:11:46.101Z"
   },
   {
    "duration": 77,
    "start_time": "2024-08-06T13:12:58.077Z"
   },
   {
    "duration": 10,
    "start_time": "2024-08-06T13:13:06.846Z"
   },
   {
    "duration": 3,
    "start_time": "2024-08-06T13:13:11.787Z"
   },
   {
    "duration": 2,
    "start_time": "2024-08-06T13:13:21.923Z"
   },
   {
    "duration": 60176,
    "start_time": "2024-08-06T13:13:31.374Z"
   },
   {
    "duration": 10,
    "start_time": "2024-08-06T13:14:31.552Z"
   },
   {
    "duration": 7,
    "start_time": "2024-08-06T13:15:03.399Z"
   },
   {
    "duration": 8,
    "start_time": "2024-08-06T13:16:33.073Z"
   },
   {
    "duration": 252,
    "start_time": "2024-08-06T13:16:41.860Z"
   },
   {
    "duration": 18,
    "start_time": "2024-08-06T13:16:42.735Z"
   },
   {
    "duration": 2,
    "start_time": "2024-08-06T13:16:43.192Z"
   },
   {
    "duration": 62,
    "start_time": "2024-08-06T13:16:43.225Z"
   },
   {
    "duration": 2,
    "start_time": "2024-08-06T13:16:43.950Z"
   },
   {
    "duration": 2,
    "start_time": "2024-08-06T13:16:44.231Z"
   },
   {
    "duration": 60461,
    "start_time": "2024-08-06T13:16:45.230Z"
   },
   {
    "duration": 9,
    "start_time": "2024-08-06T13:17:45.693Z"
   },
   {
    "duration": 11,
    "start_time": "2024-08-06T13:22:39.908Z"
   },
   {
    "duration": 23,
    "start_time": "2024-08-06T13:23:20.543Z"
   },
   {
    "duration": 3,
    "start_time": "2024-08-06T13:23:30.834Z"
   },
   {
    "duration": 9,
    "start_time": "2024-08-06T13:23:34.132Z"
   },
   {
    "duration": 3,
    "start_time": "2024-08-06T13:23:44.091Z"
   },
   {
    "duration": 940762,
    "start_time": "2024-08-06T13:23:46.659Z"
   },
   {
    "duration": 7,
    "start_time": "2024-08-06T13:39:27.422Z"
   },
   {
    "duration": 4,
    "start_time": "2024-08-06T13:42:06.542Z"
   },
   {
    "duration": 10,
    "start_time": "2024-08-06T13:42:27.730Z"
   },
   {
    "duration": 14,
    "start_time": "2024-08-06T13:42:37.121Z"
   },
   {
    "duration": 7,
    "start_time": "2024-08-06T13:42:37.156Z"
   },
   {
    "duration": 7,
    "start_time": "2024-08-06T13:42:40.427Z"
   },
   {
    "duration": 12,
    "start_time": "2024-08-06T13:43:37.371Z"
   },
   {
    "duration": 73,
    "start_time": "2024-08-06T13:44:02.413Z"
   },
   {
    "duration": 4,
    "start_time": "2024-08-06T13:44:12.035Z"
   },
   {
    "duration": 12,
    "start_time": "2024-08-06T13:44:18.438Z"
   },
   {
    "duration": 23,
    "start_time": "2024-08-06T13:44:28.737Z"
   },
   {
    "duration": 12,
    "start_time": "2024-08-06T13:44:50.206Z"
   },
   {
    "duration": 2,
    "start_time": "2024-08-06T13:44:54.979Z"
   },
   {
    "duration": 6,
    "start_time": "2024-08-06T13:44:55.867Z"
   },
   {
    "duration": 9,
    "start_time": "2024-08-06T13:44:56.759Z"
   },
   {
    "duration": 13,
    "start_time": "2024-08-06T13:44:57.722Z"
   },
   {
    "duration": 3,
    "start_time": "2024-08-06T13:46:27.560Z"
   },
   {
    "duration": 4,
    "start_time": "2024-08-06T13:46:29.614Z"
   },
   {
    "duration": 6,
    "start_time": "2024-08-06T13:46:29.633Z"
   },
   {
    "duration": 3,
    "start_time": "2024-08-06T13:46:33.483Z"
   },
   {
    "duration": 4,
    "start_time": "2024-08-06T13:46:34.526Z"
   },
   {
    "duration": 7,
    "start_time": "2024-08-06T13:46:35.061Z"
   },
   {
    "duration": 14,
    "start_time": "2024-08-06T13:46:36.099Z"
   },
   {
    "duration": 3,
    "start_time": "2024-08-06T13:48:34.274Z"
   },
   {
    "duration": 3,
    "start_time": "2024-08-06T13:48:44.902Z"
   },
   {
    "duration": 4,
    "start_time": "2024-08-06T13:48:46.217Z"
   },
   {
    "duration": 6,
    "start_time": "2024-08-06T13:48:46.662Z"
   },
   {
    "duration": 13,
    "start_time": "2024-08-06T13:48:48.714Z"
   },
   {
    "duration": 9,
    "start_time": "2024-08-06T13:49:32.388Z"
   },
   {
    "duration": 3,
    "start_time": "2024-08-06T13:49:46.405Z"
   },
   {
    "duration": 6,
    "start_time": "2024-08-06T13:49:47.246Z"
   },
   {
    "duration": 7,
    "start_time": "2024-08-06T13:49:47.690Z"
   },
   {
    "duration": 13,
    "start_time": "2024-08-06T13:49:48.414Z"
   },
   {
    "duration": 74,
    "start_time": "2024-08-06T13:50:18.433Z"
   },
   {
    "duration": 4,
    "start_time": "2024-08-06T13:51:09.327Z"
   },
   {
    "duration": 7,
    "start_time": "2024-08-06T13:51:26.373Z"
   },
   {
    "duration": 13,
    "start_time": "2024-08-06T13:51:31.436Z"
   },
   {
    "duration": 5,
    "start_time": "2024-08-06T13:52:24.716Z"
   },
   {
    "duration": 6,
    "start_time": "2024-08-06T13:52:34.720Z"
   },
   {
    "duration": 2,
    "start_time": "2024-08-06T13:52:38.524Z"
   },
   {
    "duration": 5,
    "start_time": "2024-08-06T13:52:41.218Z"
   },
   {
    "duration": 9,
    "start_time": "2024-08-06T13:52:41.979Z"
   },
   {
    "duration": 6,
    "start_time": "2024-08-06T13:52:42.959Z"
   },
   {
    "duration": 434,
    "start_time": "2024-08-06T13:52:43.674Z"
   },
   {
    "duration": 10,
    "start_time": "2024-08-06T13:53:01.381Z"
   },
   {
    "duration": 4,
    "start_time": "2024-08-06T13:53:50.710Z"
   },
   {
    "duration": 12,
    "start_time": "2024-08-06T13:54:20.489Z"
   },
   {
    "duration": 11,
    "start_time": "2024-08-06T13:54:20.904Z"
   },
   {
    "duration": 5021,
    "start_time": "2024-08-06T13:54:42.956Z"
   },
   {
    "duration": 4,
    "start_time": "2024-08-06T13:54:47.978Z"
   },
   {
    "duration": 9,
    "start_time": "2024-08-06T14:02:18.826Z"
   },
   {
    "duration": 68,
    "start_time": "2024-08-06T14:02:27.840Z"
   },
   {
    "duration": 9,
    "start_time": "2024-08-06T14:02:47.233Z"
   },
   {
    "duration": 2,
    "start_time": "2024-08-06T14:03:23.528Z"
   },
   {
    "duration": 65,
    "start_time": "2024-08-06T14:03:35.323Z"
   },
   {
    "duration": 8,
    "start_time": "2024-08-06T14:03:36.743Z"
   },
   {
    "duration": 9,
    "start_time": "2024-08-06T14:07:06.523Z"
   },
   {
    "duration": 3,
    "start_time": "2024-08-06T14:08:22.301Z"
   },
   {
    "duration": 19,
    "start_time": "2024-08-06T14:09:12.644Z"
   },
   {
    "duration": 4,
    "start_time": "2024-08-06T14:09:32.112Z"
   },
   {
    "duration": 5374,
    "start_time": "2024-08-06T14:09:32.897Z"
   },
   {
    "duration": 4,
    "start_time": "2024-08-06T14:09:48.450Z"
   },
   {
    "duration": 9,
    "start_time": "2024-08-06T14:11:57.433Z"
   },
   {
    "duration": 130050,
    "start_time": "2024-08-06T14:12:19.562Z"
   },
   {
    "duration": 9,
    "start_time": "2024-08-06T14:18:44.610Z"
   },
   {
    "duration": 2339,
    "start_time": "2024-08-06T14:19:07.936Z"
   },
   {
    "duration": 48279,
    "start_time": "2024-08-06T14:19:18.375Z"
   },
   {
    "duration": 21,
    "start_time": "2024-08-06T14:20:58.287Z"
   },
   {
    "duration": 22596,
    "start_time": "2024-08-06T14:21:07.644Z"
   },
   {
    "duration": 45158,
    "start_time": "2024-08-06T14:23:09.935Z"
   },
   {
    "duration": 2,
    "start_time": "2024-08-06T14:47:02.489Z"
   },
   {
    "duration": 3361,
    "start_time": "2024-08-06T23:36:45.895Z"
   },
   {
    "duration": 1320,
    "start_time": "2024-08-06T23:38:00.185Z"
   },
   {
    "duration": 43,
    "start_time": "2024-08-06T23:38:22.903Z"
   },
   {
    "duration": 295,
    "start_time": "2024-08-06T23:38:55.163Z"
   },
   {
    "duration": 218,
    "start_time": "2024-08-06T23:38:55.460Z"
   },
   {
    "duration": 84,
    "start_time": "2024-08-06T23:39:42.904Z"
   },
   {
    "duration": 260,
    "start_time": "2024-08-06T23:40:05.002Z"
   },
   {
    "duration": 257,
    "start_time": "2024-08-06T23:40:28.259Z"
   },
   {
    "duration": 5,
    "start_time": "2024-08-06T23:42:52.359Z"
   },
   {
    "duration": 6,
    "start_time": "2024-08-06T23:42:52.988Z"
   },
   {
    "duration": 6,
    "start_time": "2024-08-06T23:44:55.426Z"
   },
   {
    "duration": 67,
    "start_time": "2024-08-06T23:48:15.348Z"
   },
   {
    "duration": 979,
    "start_time": "2024-08-06T23:48:19.369Z"
   },
   {
    "duration": 263,
    "start_time": "2024-08-06T23:48:24.097Z"
   },
   {
    "duration": 155,
    "start_time": "2024-08-06T23:50:11.873Z"
   },
   {
    "duration": 70,
    "start_time": "2024-08-06T23:56:41.072Z"
   },
   {
    "duration": 6,
    "start_time": "2024-08-07T00:13:25.266Z"
   },
   {
    "duration": 73,
    "start_time": "2024-08-07T00:27:13.171Z"
   },
   {
    "duration": 8,
    "start_time": "2024-08-07T00:27:14.870Z"
   },
   {
    "duration": 65,
    "start_time": "2024-08-07T00:27:14.915Z"
   },
   {
    "duration": 68,
    "start_time": "2024-08-07T00:27:58.164Z"
   },
   {
    "duration": 10,
    "start_time": "2024-08-07T00:28:54.035Z"
   },
   {
    "duration": 12,
    "start_time": "2024-08-07T00:28:58.834Z"
   },
   {
    "duration": 13,
    "start_time": "2024-08-07T00:29:25.204Z"
   },
   {
    "duration": 64,
    "start_time": "2024-08-07T00:30:27.614Z"
   },
   {
    "duration": 8,
    "start_time": "2024-08-07T00:30:28.045Z"
   },
   {
    "duration": 20,
    "start_time": "2024-08-07T00:30:28.826Z"
   },
   {
    "duration": 155,
    "start_time": "2024-08-07T00:33:49.014Z"
   },
   {
    "duration": 152,
    "start_time": "2024-08-07T00:33:50.422Z"
   },
   {
    "duration": 100,
    "start_time": "2024-08-07T00:35:01.260Z"
   },
   {
    "duration": 294,
    "start_time": "2024-08-07T00:35:07.328Z"
   },
   {
    "duration": 302,
    "start_time": "2024-08-07T00:35:34.811Z"
   },
   {
    "duration": 307,
    "start_time": "2024-08-07T00:35:47.499Z"
   },
   {
    "duration": 356,
    "start_time": "2024-08-07T00:38:37.601Z"
   },
   {
    "duration": 263,
    "start_time": "2024-08-07T00:39:14.781Z"
   },
   {
    "duration": 582,
    "start_time": "2024-08-07T00:39:33.087Z"
   },
   {
    "duration": 533,
    "start_time": "2024-08-07T00:41:04.415Z"
   },
   {
    "duration": 535,
    "start_time": "2024-08-07T00:41:18.188Z"
   },
   {
    "duration": 514,
    "start_time": "2024-08-07T00:41:25.060Z"
   },
   {
    "duration": 501,
    "start_time": "2024-08-07T00:42:21.012Z"
   },
   {
    "duration": 626,
    "start_time": "2024-08-07T00:42:53.969Z"
   },
   {
    "duration": 473,
    "start_time": "2024-08-07T00:43:00.139Z"
   },
   {
    "duration": 456,
    "start_time": "2024-08-07T00:43:10.106Z"
   },
   {
    "duration": 317,
    "start_time": "2024-08-07T00:52:45.020Z"
   },
   {
    "duration": 487,
    "start_time": "2024-08-07T00:52:50.891Z"
   },
   {
    "duration": 584,
    "start_time": "2024-08-07T00:54:26.486Z"
   },
   {
    "duration": 439,
    "start_time": "2024-08-07T00:54:38.715Z"
   },
   {
    "duration": 305,
    "start_time": "2024-08-07T00:55:04.936Z"
   },
   {
    "duration": 421,
    "start_time": "2024-08-07T00:55:23.087Z"
   },
   {
    "duration": 438,
    "start_time": "2024-08-07T00:55:56.398Z"
   },
   {
    "duration": 336,
    "start_time": "2024-08-07T01:01:53.630Z"
   },
   {
    "duration": 988,
    "start_time": "2024-08-07T01:01:54.552Z"
   },
   {
    "duration": 295,
    "start_time": "2024-08-07T01:01:55.542Z"
   },
   {
    "duration": 5,
    "start_time": "2024-08-07T01:01:55.839Z"
   },
   {
    "duration": 6,
    "start_time": "2024-08-07T01:01:56.217Z"
   },
   {
    "duration": 158,
    "start_time": "2024-08-07T01:01:56.416Z"
   },
   {
    "duration": 5,
    "start_time": "2024-08-07T01:01:59.016Z"
   },
   {
    "duration": 6,
    "start_time": "2024-08-07T01:02:03.832Z"
   },
   {
    "duration": 70,
    "start_time": "2024-08-07T01:02:18.042Z"
   },
   {
    "duration": 9,
    "start_time": "2024-08-07T01:02:20.349Z"
   },
   {
    "duration": 39,
    "start_time": "2024-08-07T01:02:28.273Z"
   },
   {
    "duration": 438,
    "start_time": "2024-08-07T01:02:33.775Z"
   },
   {
    "duration": 15,
    "start_time": "2024-08-07T01:02:45.231Z"
   },
   {
    "duration": 378,
    "start_time": "2024-08-07T01:04:15.441Z"
   },
   {
    "duration": 428,
    "start_time": "2024-08-07T01:04:33.418Z"
   },
   {
    "duration": 429,
    "start_time": "2024-08-07T01:04:38.500Z"
   },
   {
    "duration": 444,
    "start_time": "2024-08-07T01:04:46.794Z"
   },
   {
    "duration": 432,
    "start_time": "2024-08-07T01:04:57.725Z"
   },
   {
    "duration": 403,
    "start_time": "2024-08-07T01:05:08.174Z"
   },
   {
    "duration": 545,
    "start_time": "2024-08-07T01:05:14.062Z"
   },
   {
    "duration": 393,
    "start_time": "2024-08-07T01:05:30.560Z"
   },
   {
    "duration": 14,
    "start_time": "2024-08-07T01:07:41.801Z"
   },
   {
    "duration": 7,
    "start_time": "2024-08-07T01:07:42.438Z"
   },
   {
    "duration": 6,
    "start_time": "2024-08-07T01:10:30.335Z"
   },
   {
    "duration": 72,
    "start_time": "2024-08-07T01:11:03.897Z"
   },
   {
    "duration": 9,
    "start_time": "2024-08-07T01:33:33.664Z"
   },
   {
    "duration": 3,
    "start_time": "2024-08-07T01:34:20.540Z"
   },
   {
    "duration": 45,
    "start_time": "2024-08-07T01:36:16.597Z"
   },
   {
    "duration": 2408,
    "start_time": "2024-08-07T01:36:23.944Z"
   },
   {
    "duration": 1323,
    "start_time": "2024-08-07T01:36:26.354Z"
   },
   {
    "duration": 312,
    "start_time": "2024-08-07T01:36:27.679Z"
   },
   {
    "duration": 6,
    "start_time": "2024-08-07T01:36:27.994Z"
   },
   {
    "duration": 8,
    "start_time": "2024-08-07T01:36:28.002Z"
   },
   {
    "duration": 180,
    "start_time": "2024-08-07T01:36:28.012Z"
   },
   {
    "duration": 6,
    "start_time": "2024-08-07T01:36:28.193Z"
   },
   {
    "duration": 11,
    "start_time": "2024-08-07T01:36:28.201Z"
   },
   {
    "duration": 80,
    "start_time": "2024-08-07T01:36:28.214Z"
   },
   {
    "duration": 9,
    "start_time": "2024-08-07T01:36:28.296Z"
   },
   {
    "duration": 33,
    "start_time": "2024-08-07T01:36:28.306Z"
   },
   {
    "duration": 447,
    "start_time": "2024-08-07T01:36:28.396Z"
   },
   {
    "duration": 11,
    "start_time": "2024-08-07T01:36:30.632Z"
   },
   {
    "duration": 8,
    "start_time": "2024-08-07T01:36:30.996Z"
   },
   {
    "duration": 3,
    "start_time": "2024-08-07T01:36:32.201Z"
   },
   {
    "duration": 2,
    "start_time": "2024-08-07T01:36:32.693Z"
   },
   {
    "duration": 3,
    "start_time": "2024-08-07T01:36:33.259Z"
   },
   {
    "duration": 3,
    "start_time": "2024-08-07T01:36:34.263Z"
   },
   {
    "duration": 4,
    "start_time": "2024-08-07T01:36:36.540Z"
   },
   {
    "duration": 1199241,
    "start_time": "2024-08-07T01:36:37.132Z"
   },
   {
    "duration": 12,
    "start_time": "2024-08-07T01:56:36.376Z"
   },
   {
    "duration": 8,
    "start_time": "2024-08-07T02:13:18.394Z"
   },
   {
    "duration": 4,
    "start_time": "2024-08-07T02:13:24.318Z"
   },
   {
    "duration": 26,
    "start_time": "2024-08-07T02:13:28.194Z"
   },
   {
    "duration": 1297,
    "start_time": "2024-08-07T02:13:32.757Z"
   },
   {
    "duration": 16,
    "start_time": "2024-08-07T02:14:27.966Z"
   },
   {
    "duration": 3,
    "start_time": "2024-08-07T02:14:34.239Z"
   },
   {
    "duration": 38,
    "start_time": "2024-08-07T02:14:48.507Z"
   },
   {
    "duration": 7,
    "start_time": "2024-08-07T02:14:51.928Z"
   },
   {
    "duration": 613,
    "start_time": "2024-08-07T02:15:15.084Z"
   },
   {
    "duration": 9,
    "start_time": "2024-08-07T02:15:26.532Z"
   },
   {
    "duration": 5,
    "start_time": "2024-08-07T02:15:38.778Z"
   },
   {
    "duration": 23,
    "start_time": "2024-08-07T02:15:57.528Z"
   },
   {
    "duration": 22,
    "start_time": "2024-08-07T02:16:28.472Z"
   },
   {
    "duration": 38,
    "start_time": "2024-08-07T02:16:29.332Z"
   },
   {
    "duration": 6952,
    "start_time": "2024-08-07T02:16:46.830Z"
   },
   {
    "duration": 10,
    "start_time": "2024-08-07T02:16:53.784Z"
   },
   {
    "duration": 6,
    "start_time": "2024-08-07T02:16:58.580Z"
   },
   {
    "duration": 7489,
    "start_time": "2024-08-07T02:20:13.764Z"
   },
   {
    "duration": 15,
    "start_time": "2024-08-07T02:23:47.251Z"
   },
   {
    "duration": 72,
    "start_time": "2024-08-07T02:23:47.653Z"
   },
   {
    "duration": 14,
    "start_time": "2024-08-07T02:23:48.081Z"
   },
   {
    "duration": 22,
    "start_time": "2024-08-07T02:23:48.110Z"
   },
   {
    "duration": 657,
    "start_time": "2024-08-07T02:23:50.497Z"
   },
   {
    "duration": 12,
    "start_time": "2024-08-07T02:29:56.206Z"
   },
   {
    "duration": 73,
    "start_time": "2024-08-07T02:29:56.544Z"
   },
   {
    "duration": 8,
    "start_time": "2024-08-07T02:29:56.805Z"
   },
   {
    "duration": 27,
    "start_time": "2024-08-07T02:29:57.004Z"
   },
   {
    "duration": 438,
    "start_time": "2024-08-07T02:29:57.733Z"
   },
   {
    "duration": 107,
    "start_time": "2024-08-07T02:36:08.528Z"
   },
   {
    "duration": 114,
    "start_time": "2024-08-07T02:40:41.787Z"
   },
   {
    "duration": 1906,
    "start_time": "2024-08-07T03:00:53.163Z"
   },
   {
    "duration": 34,
    "start_time": "2024-08-07T03:01:01.159Z"
   },
   {
    "duration": 80,
    "start_time": "2024-08-07T03:01:01.666Z"
   },
   {
    "duration": 23,
    "start_time": "2024-08-07T03:01:03.004Z"
   },
   {
    "duration": 7,
    "start_time": "2024-08-07T03:01:16.059Z"
   },
   {
    "duration": 13,
    "start_time": "2024-08-07T03:01:50.223Z"
   },
   {
    "duration": 13,
    "start_time": "2024-08-07T03:03:01.236Z"
   },
   {
    "duration": 5,
    "start_time": "2024-08-07T03:03:11.199Z"
   },
   {
    "duration": 6,
    "start_time": "2024-08-07T03:03:22.201Z"
   },
   {
    "duration": 14,
    "start_time": "2024-08-07T03:04:14.691Z"
   },
   {
    "duration": 20,
    "start_time": "2024-08-07T03:04:21.832Z"
   },
   {
    "duration": 27,
    "start_time": "2024-08-07T03:04:26.058Z"
   },
   {
    "duration": 5,
    "start_time": "2024-08-07T03:05:21.273Z"
   },
   {
    "duration": 13,
    "start_time": "2024-08-07T03:05:25.340Z"
   },
   {
    "duration": 8,
    "start_time": "2024-08-07T03:05:34.581Z"
   },
   {
    "duration": 12,
    "start_time": "2024-08-07T03:05:56.029Z"
   },
   {
    "duration": 1361,
    "start_time": "2024-08-07T03:06:21.370Z"
   },
   {
    "duration": 1760,
    "start_time": "2024-08-07T03:06:40.220Z"
   },
   {
    "duration": 10,
    "start_time": "2024-08-07T03:07:49.652Z"
   },
   {
    "duration": 4,
    "start_time": "2024-08-07T03:08:03.875Z"
   },
   {
    "duration": 6,
    "start_time": "2024-08-07T03:10:14.786Z"
   },
   {
    "duration": 5,
    "start_time": "2024-08-07T03:10:21.403Z"
   },
   {
    "duration": 523,
    "start_time": "2024-08-07T03:14:01.828Z"
   },
   {
    "duration": 9,
    "start_time": "2024-08-07T03:21:23.456Z"
   },
   {
    "duration": 7,
    "start_time": "2024-08-07T03:21:24.097Z"
   },
   {
    "duration": 3,
    "start_time": "2024-08-07T03:21:35.324Z"
   },
   {
    "duration": 3,
    "start_time": "2024-08-07T03:21:51.192Z"
   },
   {
    "duration": 92,
    "start_time": "2024-08-07T03:23:32.621Z"
   },
   {
    "duration": 90,
    "start_time": "2024-08-07T03:23:42.704Z"
   },
   {
    "duration": 13,
    "start_time": "2024-08-07T03:25:07.713Z"
   },
   {
    "duration": 8,
    "start_time": "2024-08-07T03:25:13.057Z"
   },
   {
    "duration": 5,
    "start_time": "2024-08-07T03:25:13.672Z"
   },
   {
    "duration": 8,
    "start_time": "2024-08-07T03:25:47.516Z"
   },
   {
    "duration": 8,
    "start_time": "2024-08-07T03:25:50.829Z"
   },
   {
    "duration": 7,
    "start_time": "2024-08-07T03:25:51.093Z"
   },
   {
    "duration": 4,
    "start_time": "2024-08-07T03:26:02.709Z"
   },
   {
    "duration": 8,
    "start_time": "2024-08-07T03:26:09.478Z"
   },
   {
    "duration": 11,
    "start_time": "2024-08-07T03:27:28.085Z"
   },
   {
    "duration": 8,
    "start_time": "2024-08-07T03:27:32.049Z"
   },
   {
    "duration": 3,
    "start_time": "2024-08-07T03:27:32.094Z"
   },
   {
    "duration": 4,
    "start_time": "2024-08-07T03:28:08.159Z"
   },
   {
    "duration": 4,
    "start_time": "2024-08-07T03:28:15.636Z"
   },
   {
    "duration": 4,
    "start_time": "2024-08-07T03:28:36.926Z"
   },
   {
    "duration": 5,
    "start_time": "2024-08-07T03:28:43.931Z"
   },
   {
    "duration": 70,
    "start_time": "2024-08-07T03:30:22.082Z"
   },
   {
    "duration": 14,
    "start_time": "2024-08-07T03:31:00.512Z"
   },
   {
    "duration": 9,
    "start_time": "2024-08-07T03:31:18.047Z"
   },
   {
    "duration": 13,
    "start_time": "2024-08-07T03:31:43.638Z"
   },
   {
    "duration": 4,
    "start_time": "2024-08-07T03:33:41.875Z"
   },
   {
    "duration": 4,
    "start_time": "2024-08-07T03:33:42.301Z"
   },
   {
    "duration": 8,
    "start_time": "2024-08-07T03:37:02.180Z"
   },
   {
    "duration": 5,
    "start_time": "2024-08-07T03:37:20.777Z"
   },
   {
    "duration": 3,
    "start_time": "2024-08-07T03:42:10.216Z"
   },
   {
    "duration": 34,
    "start_time": "2024-08-07T03:53:31.706Z"
   },
   {
    "duration": 81,
    "start_time": "2024-08-07T03:53:33.068Z"
   },
   {
    "duration": 9,
    "start_time": "2024-08-07T03:53:33.714Z"
   },
   {
    "duration": 324,
    "start_time": "2024-08-07T03:53:41.948Z"
   },
   {
    "duration": 1030,
    "start_time": "2024-08-07T03:53:45.000Z"
   },
   {
    "duration": 289,
    "start_time": "2024-08-07T03:53:46.631Z"
   },
   {
    "duration": 5,
    "start_time": "2024-08-07T03:53:48.787Z"
   },
   {
    "duration": 8,
    "start_time": "2024-08-07T03:53:49.402Z"
   },
   {
    "duration": 179,
    "start_time": "2024-08-07T03:53:50.012Z"
   },
   {
    "duration": 5,
    "start_time": "2024-08-07T03:53:55.215Z"
   },
   {
    "duration": 6,
    "start_time": "2024-08-07T03:54:19.830Z"
   },
   {
    "duration": 71,
    "start_time": "2024-08-07T03:54:20.467Z"
   },
   {
    "duration": 9,
    "start_time": "2024-08-07T03:54:20.869Z"
   },
   {
    "duration": 12,
    "start_time": "2024-08-07T03:54:26.433Z"
   },
   {
    "duration": 12,
    "start_time": "2024-08-07T03:55:09.451Z"
   },
   {
    "duration": 3,
    "start_time": "2024-08-07T03:55:09.925Z"
   },
   {
    "duration": 8,
    "start_time": "2024-08-07T03:55:32.867Z"
   },
   {
    "duration": 5,
    "start_time": "2024-08-07T03:55:39.951Z"
   },
   {
    "duration": 5,
    "start_time": "2024-08-07T03:55:46.963Z"
   },
   {
    "duration": 4,
    "start_time": "2024-08-07T03:56:05.814Z"
   },
   {
    "duration": 4,
    "start_time": "2024-08-07T03:56:40.750Z"
   },
   {
    "duration": 6,
    "start_time": "2024-08-07T03:57:09.586Z"
   },
   {
    "duration": 5,
    "start_time": "2024-08-07T03:57:13.683Z"
   },
   {
    "duration": 3191,
    "start_time": "2024-08-07T05:44:26.640Z"
   },
   {
    "duration": 3624,
    "start_time": "2024-08-07T05:44:29.833Z"
   },
   {
    "duration": 250,
    "start_time": "2024-08-07T05:44:33.458Z"
   },
   {
    "duration": 5,
    "start_time": "2024-08-07T05:44:33.710Z"
   },
   {
    "duration": 8,
    "start_time": "2024-08-07T05:44:33.716Z"
   },
   {
    "duration": 150,
    "start_time": "2024-08-07T05:44:33.725Z"
   },
   {
    "duration": 5,
    "start_time": "2024-08-07T05:44:33.877Z"
   },
   {
    "duration": 5,
    "start_time": "2024-08-07T05:44:36.402Z"
   },
   {
    "duration": 62,
    "start_time": "2024-08-07T05:44:36.795Z"
   },
   {
    "duration": 7,
    "start_time": "2024-08-07T05:44:37.205Z"
   },
   {
    "duration": 13,
    "start_time": "2024-08-07T05:44:43.628Z"
   },
   {
    "duration": 17,
    "start_time": "2024-08-07T05:44:45.921Z"
   },
   {
    "duration": 3,
    "start_time": "2024-08-07T05:44:48.751Z"
   },
   {
    "duration": 8,
    "start_time": "2024-08-07T05:45:00.792Z"
   },
   {
    "duration": 4,
    "start_time": "2024-08-07T05:45:01.352Z"
   },
   {
    "duration": 48,
    "start_time": "2024-08-07T05:46:18.166Z"
   },
   {
    "duration": 9,
    "start_time": "2024-08-07T05:53:42.863Z"
   },
   {
    "duration": 135,
    "start_time": "2024-08-07T06:00:18.133Z"
   },
   {
    "duration": 15,
    "start_time": "2024-08-07T06:01:00.293Z"
   },
   {
    "duration": 5,
    "start_time": "2024-08-07T06:01:10.735Z"
   },
   {
    "duration": 5,
    "start_time": "2024-08-07T06:01:59.815Z"
   },
   {
    "duration": 5,
    "start_time": "2024-08-07T06:02:02.030Z"
   },
   {
    "duration": 9,
    "start_time": "2024-08-07T06:02:14.127Z"
   },
   {
    "duration": 0,
    "start_time": "2024-08-07T06:04:28.588Z"
   },
   {
    "duration": 0,
    "start_time": "2024-08-07T06:06:17.557Z"
   },
   {
    "duration": 47802,
    "start_time": "2024-08-07T06:06:22.629Z"
   },
   {
    "duration": 0,
    "start_time": "2024-08-07T06:07:10.433Z"
   },
   {
    "duration": 13,
    "start_time": "2024-08-07T06:07:11.481Z"
   },
   {
    "duration": 60,
    "start_time": "2024-08-07T06:07:44.772Z"
   },
   {
    "duration": 17,
    "start_time": "2024-08-07T06:07:45.661Z"
   },
   {
    "duration": 98532,
    "start_time": "2024-08-07T06:07:57.885Z"
   },
   {
    "duration": 48207,
    "start_time": "2024-08-07T06:10:07.990Z"
   },
   {
    "duration": 46771,
    "start_time": "2024-08-07T06:14:22.395Z"
   },
   {
    "duration": 11,
    "start_time": "2024-08-07T06:15:09.168Z"
   },
   {
    "duration": 19,
    "start_time": "2024-08-07T06:15:09.180Z"
   },
   {
    "duration": 13,
    "start_time": "2024-08-07T06:15:09.201Z"
   },
   {
    "duration": 9,
    "start_time": "2024-08-07T06:17:15.660Z"
   },
   {
    "duration": 8,
    "start_time": "2024-08-07T06:18:19.088Z"
   },
   {
    "duration": 65,
    "start_time": "2024-08-07T06:20:09.820Z"
   },
   {
    "duration": 810,
    "start_time": "2024-08-07T06:20:09.887Z"
   },
   {
    "duration": 270,
    "start_time": "2024-08-07T06:20:10.698Z"
   },
   {
    "duration": 4,
    "start_time": "2024-08-07T06:20:10.970Z"
   },
   {
    "duration": 5,
    "start_time": "2024-08-07T06:20:10.976Z"
   },
   {
    "duration": 134,
    "start_time": "2024-08-07T06:20:10.996Z"
   },
   {
    "duration": 6,
    "start_time": "2024-08-07T06:20:11.132Z"
   },
   {
    "duration": 8,
    "start_time": "2024-08-07T06:20:11.139Z"
   },
   {
    "duration": 76,
    "start_time": "2024-08-07T06:20:11.149Z"
   },
   {
    "duration": 7,
    "start_time": "2024-08-07T06:20:11.228Z"
   },
   {
    "duration": 15,
    "start_time": "2024-08-07T06:20:11.236Z"
   },
   {
    "duration": 13,
    "start_time": "2024-08-07T06:20:11.253Z"
   },
   {
    "duration": 3,
    "start_time": "2024-08-07T06:20:11.267Z"
   },
   {
    "duration": 38,
    "start_time": "2024-08-07T06:20:11.271Z"
   },
   {
    "duration": 42,
    "start_time": "2024-08-07T06:20:11.311Z"
   },
   {
    "duration": 0,
    "start_time": "2024-08-07T06:20:11.355Z"
   },
   {
    "duration": 0,
    "start_time": "2024-08-07T06:20:11.356Z"
   },
   {
    "duration": 0,
    "start_time": "2024-08-07T06:20:11.357Z"
   },
   {
    "duration": 0,
    "start_time": "2024-08-07T06:20:11.358Z"
   },
   {
    "duration": 0,
    "start_time": "2024-08-07T06:20:11.359Z"
   },
   {
    "duration": 0,
    "start_time": "2024-08-07T06:20:11.360Z"
   },
   {
    "duration": 0,
    "start_time": "2024-08-07T06:20:11.361Z"
   },
   {
    "duration": 0,
    "start_time": "2024-08-07T06:20:11.362Z"
   },
   {
    "duration": 0,
    "start_time": "2024-08-07T06:20:11.363Z"
   },
   {
    "duration": 0,
    "start_time": "2024-08-07T06:20:11.364Z"
   },
   {
    "duration": 0,
    "start_time": "2024-08-07T06:20:11.365Z"
   },
   {
    "duration": 0,
    "start_time": "2024-08-07T06:20:11.366Z"
   },
   {
    "duration": 0,
    "start_time": "2024-08-07T06:20:11.367Z"
   },
   {
    "duration": 0,
    "start_time": "2024-08-07T06:20:11.368Z"
   },
   {
    "duration": 0,
    "start_time": "2024-08-07T06:20:11.369Z"
   },
   {
    "duration": 0,
    "start_time": "2024-08-07T06:20:11.370Z"
   },
   {
    "duration": 0,
    "start_time": "2024-08-07T06:20:11.371Z"
   },
   {
    "duration": 0,
    "start_time": "2024-08-07T06:20:11.372Z"
   },
   {
    "duration": 0,
    "start_time": "2024-08-07T06:20:11.373Z"
   },
   {
    "duration": 0,
    "start_time": "2024-08-07T06:20:11.374Z"
   },
   {
    "duration": 0,
    "start_time": "2024-08-07T06:20:11.375Z"
   },
   {
    "duration": 0,
    "start_time": "2024-08-07T06:20:11.376Z"
   },
   {
    "duration": 2,
    "start_time": "2024-08-07T06:28:49.270Z"
   },
   {
    "duration": 3,
    "start_time": "2024-08-07T06:28:50.289Z"
   },
   {
    "duration": 872,
    "start_time": "2024-08-07T06:28:50.768Z"
   },
   {
    "duration": 0,
    "start_time": "2024-08-07T06:28:51.641Z"
   },
   {
    "duration": 7,
    "start_time": "2024-08-07T06:29:06.371Z"
   },
   {
    "duration": 867,
    "start_time": "2024-08-07T06:29:06.379Z"
   },
   {
    "duration": 254,
    "start_time": "2024-08-07T06:29:07.248Z"
   },
   {
    "duration": 4,
    "start_time": "2024-08-07T06:29:07.503Z"
   },
   {
    "duration": 11,
    "start_time": "2024-08-07T06:29:07.509Z"
   },
   {
    "duration": 130,
    "start_time": "2024-08-07T06:29:07.521Z"
   },
   {
    "duration": 5,
    "start_time": "2024-08-07T06:29:07.653Z"
   },
   {
    "duration": 7,
    "start_time": "2024-08-07T06:29:07.659Z"
   },
   {
    "duration": 70,
    "start_time": "2024-08-07T06:29:07.667Z"
   },
   {
    "duration": 7,
    "start_time": "2024-08-07T06:29:07.738Z"
   },
   {
    "duration": 19,
    "start_time": "2024-08-07T06:29:07.748Z"
   },
   {
    "duration": 11,
    "start_time": "2024-08-07T06:29:07.769Z"
   },
   {
    "duration": 16,
    "start_time": "2024-08-07T06:29:07.781Z"
   },
   {
    "duration": 13,
    "start_time": "2024-08-07T06:29:07.798Z"
   },
   {
    "duration": 44,
    "start_time": "2024-08-07T06:29:07.813Z"
   },
   {
    "duration": 0,
    "start_time": "2024-08-07T06:29:07.859Z"
   },
   {
    "duration": 0,
    "start_time": "2024-08-07T06:29:07.860Z"
   },
   {
    "duration": 0,
    "start_time": "2024-08-07T06:29:07.862Z"
   },
   {
    "duration": 0,
    "start_time": "2024-08-07T06:29:07.863Z"
   },
   {
    "duration": 0,
    "start_time": "2024-08-07T06:29:07.864Z"
   },
   {
    "duration": 0,
    "start_time": "2024-08-07T06:29:07.866Z"
   },
   {
    "duration": 0,
    "start_time": "2024-08-07T06:29:07.867Z"
   },
   {
    "duration": 0,
    "start_time": "2024-08-07T06:29:07.868Z"
   },
   {
    "duration": 0,
    "start_time": "2024-08-07T06:29:07.870Z"
   },
   {
    "duration": 1,
    "start_time": "2024-08-07T06:29:07.871Z"
   },
   {
    "duration": 0,
    "start_time": "2024-08-07T06:29:07.873Z"
   },
   {
    "duration": 0,
    "start_time": "2024-08-07T06:29:07.874Z"
   },
   {
    "duration": 0,
    "start_time": "2024-08-07T06:29:07.875Z"
   },
   {
    "duration": 0,
    "start_time": "2024-08-07T06:29:07.876Z"
   },
   {
    "duration": 0,
    "start_time": "2024-08-07T06:29:07.877Z"
   },
   {
    "duration": 0,
    "start_time": "2024-08-07T06:29:07.878Z"
   },
   {
    "duration": 0,
    "start_time": "2024-08-07T06:29:07.879Z"
   },
   {
    "duration": 0,
    "start_time": "2024-08-07T06:29:07.879Z"
   },
   {
    "duration": 0,
    "start_time": "2024-08-07T06:29:07.880Z"
   },
   {
    "duration": 0,
    "start_time": "2024-08-07T06:29:07.881Z"
   },
   {
    "duration": 0,
    "start_time": "2024-08-07T06:29:07.882Z"
   },
   {
    "duration": 0,
    "start_time": "2024-08-07T06:29:07.883Z"
   },
   {
    "duration": 2,
    "start_time": "2024-08-07T06:29:21.812Z"
   },
   {
    "duration": 2,
    "start_time": "2024-08-07T06:29:22.519Z"
   },
   {
    "duration": 4122,
    "start_time": "2024-08-07T06:29:23.445Z"
   },
   {
    "duration": 0,
    "start_time": "2024-08-07T06:29:27.569Z"
   },
   {
    "duration": 0,
    "start_time": "2024-08-07T06:29:27.570Z"
   },
   {
    "duration": 7,
    "start_time": "2024-08-07T06:29:45.227Z"
   },
   {
    "duration": 894,
    "start_time": "2024-08-07T06:29:45.236Z"
   },
   {
    "duration": 255,
    "start_time": "2024-08-07T06:29:46.132Z"
   },
   {
    "duration": 5,
    "start_time": "2024-08-07T06:29:46.396Z"
   },
   {
    "duration": 26,
    "start_time": "2024-08-07T06:29:46.402Z"
   },
   {
    "duration": 124,
    "start_time": "2024-08-07T06:29:46.429Z"
   },
   {
    "duration": 5,
    "start_time": "2024-08-07T06:29:46.554Z"
   },
   {
    "duration": 9,
    "start_time": "2024-08-07T06:29:46.560Z"
   },
   {
    "duration": 70,
    "start_time": "2024-08-07T06:29:46.572Z"
   },
   {
    "duration": 7,
    "start_time": "2024-08-07T06:29:46.644Z"
   },
   {
    "duration": 11,
    "start_time": "2024-08-07T06:29:46.653Z"
   },
   {
    "duration": 31,
    "start_time": "2024-08-07T06:29:46.666Z"
   },
   {
    "duration": 5,
    "start_time": "2024-08-07T06:29:46.699Z"
   },
   {
    "duration": 13,
    "start_time": "2024-08-07T06:29:46.705Z"
   },
   {
    "duration": 41,
    "start_time": "2024-08-07T06:29:46.720Z"
   },
   {
    "duration": 0,
    "start_time": "2024-08-07T06:29:46.763Z"
   },
   {
    "duration": 0,
    "start_time": "2024-08-07T06:29:46.764Z"
   },
   {
    "duration": 0,
    "start_time": "2024-08-07T06:29:46.765Z"
   },
   {
    "duration": 0,
    "start_time": "2024-08-07T06:29:46.765Z"
   },
   {
    "duration": 0,
    "start_time": "2024-08-07T06:29:46.767Z"
   },
   {
    "duration": 0,
    "start_time": "2024-08-07T06:29:46.767Z"
   },
   {
    "duration": 0,
    "start_time": "2024-08-07T06:29:46.768Z"
   },
   {
    "duration": 0,
    "start_time": "2024-08-07T06:29:46.769Z"
   },
   {
    "duration": 0,
    "start_time": "2024-08-07T06:29:46.770Z"
   },
   {
    "duration": 0,
    "start_time": "2024-08-07T06:29:46.771Z"
   },
   {
    "duration": 0,
    "start_time": "2024-08-07T06:29:46.772Z"
   },
   {
    "duration": 0,
    "start_time": "2024-08-07T06:29:46.773Z"
   },
   {
    "duration": 0,
    "start_time": "2024-08-07T06:29:46.773Z"
   },
   {
    "duration": 7,
    "start_time": "2024-08-07T06:30:00.377Z"
   },
   {
    "duration": 938,
    "start_time": "2024-08-07T06:30:00.386Z"
   },
   {
    "duration": 271,
    "start_time": "2024-08-07T06:30:01.326Z"
   },
   {
    "duration": 5,
    "start_time": "2024-08-07T06:30:01.599Z"
   },
   {
    "duration": 26,
    "start_time": "2024-08-07T06:30:01.605Z"
   },
   {
    "duration": 190,
    "start_time": "2024-08-07T06:30:01.632Z"
   },
   {
    "duration": 5,
    "start_time": "2024-08-07T06:30:01.824Z"
   },
   {
    "duration": 27,
    "start_time": "2024-08-07T06:30:01.830Z"
   },
   {
    "duration": 123,
    "start_time": "2024-08-07T06:30:01.858Z"
   },
   {
    "duration": 8,
    "start_time": "2024-08-07T06:30:01.984Z"
   },
   {
    "duration": 50,
    "start_time": "2024-08-07T06:30:01.994Z"
   },
   {
    "duration": 14,
    "start_time": "2024-08-07T06:30:02.045Z"
   },
   {
    "duration": 21,
    "start_time": "2024-08-07T06:30:02.060Z"
   },
   {
    "duration": 33,
    "start_time": "2024-08-07T06:30:02.084Z"
   },
   {
    "duration": 60,
    "start_time": "2024-08-07T06:30:02.119Z"
   },
   {
    "duration": 0,
    "start_time": "2024-08-07T06:30:02.180Z"
   },
   {
    "duration": 0,
    "start_time": "2024-08-07T06:30:02.182Z"
   },
   {
    "duration": 0,
    "start_time": "2024-08-07T06:30:02.183Z"
   },
   {
    "duration": 0,
    "start_time": "2024-08-07T06:30:02.185Z"
   },
   {
    "duration": 0,
    "start_time": "2024-08-07T06:30:02.186Z"
   },
   {
    "duration": 0,
    "start_time": "2024-08-07T06:30:02.188Z"
   },
   {
    "duration": 0,
    "start_time": "2024-08-07T06:30:02.189Z"
   },
   {
    "duration": 0,
    "start_time": "2024-08-07T06:30:02.190Z"
   },
   {
    "duration": 0,
    "start_time": "2024-08-07T06:30:02.191Z"
   },
   {
    "duration": 0,
    "start_time": "2024-08-07T06:30:02.193Z"
   },
   {
    "duration": 0,
    "start_time": "2024-08-07T06:30:02.194Z"
   },
   {
    "duration": 0,
    "start_time": "2024-08-07T06:30:02.195Z"
   },
   {
    "duration": 0,
    "start_time": "2024-08-07T06:30:02.196Z"
   },
   {
    "duration": 0,
    "start_time": "2024-08-07T06:30:02.197Z"
   },
   {
    "duration": 7,
    "start_time": "2024-08-07T06:30:09.732Z"
   },
   {
    "duration": 7,
    "start_time": "2024-08-07T06:30:18.453Z"
   },
   {
    "duration": 831,
    "start_time": "2024-08-07T06:30:19.097Z"
   },
   {
    "duration": 255,
    "start_time": "2024-08-07T06:30:19.930Z"
   },
   {
    "duration": 4,
    "start_time": "2024-08-07T06:30:20.195Z"
   },
   {
    "duration": 6,
    "start_time": "2024-08-07T06:30:20.268Z"
   },
   {
    "duration": 122,
    "start_time": "2024-08-07T06:30:20.436Z"
   },
   {
    "duration": 5,
    "start_time": "2024-08-07T06:30:21.436Z"
   },
   {
    "duration": 5,
    "start_time": "2024-08-07T06:30:22.989Z"
   },
   {
    "duration": 58,
    "start_time": "2024-08-07T06:30:23.157Z"
   },
   {
    "duration": 6,
    "start_time": "2024-08-07T06:30:23.363Z"
   },
   {
    "duration": 11,
    "start_time": "2024-08-07T06:30:23.747Z"
   },
   {
    "duration": 11,
    "start_time": "2024-08-07T06:30:24.884Z"
   },
   {
    "duration": 4,
    "start_time": "2024-08-07T06:30:25.045Z"
   },
   {
    "duration": 8,
    "start_time": "2024-08-07T06:30:25.239Z"
   },
   {
    "duration": 51,
    "start_time": "2024-08-07T06:30:25.827Z"
   },
   {
    "duration": 8,
    "start_time": "2024-08-07T06:30:26.170Z"
   },
   {
    "duration": 4,
    "start_time": "2024-08-07T06:30:26.356Z"
   },
   {
    "duration": 4,
    "start_time": "2024-08-07T06:30:27.919Z"
   },
   {
    "duration": 16,
    "start_time": "2024-08-07T06:30:28.901Z"
   },
   {
    "duration": 381,
    "start_time": "2024-08-07T06:30:29.051Z"
   },
   {
    "duration": 10,
    "start_time": "2024-08-07T06:30:32.232Z"
   },
   {
    "duration": 7,
    "start_time": "2024-08-07T06:30:32.720Z"
   },
   {
    "duration": 3,
    "start_time": "2024-08-07T06:30:33.616Z"
   },
   {
    "duration": 2,
    "start_time": "2024-08-07T06:30:34.536Z"
   },
   {
    "duration": 4,
    "start_time": "2024-08-07T06:30:35.505Z"
   },
   {
    "duration": 3,
    "start_time": "2024-08-07T06:30:36.585Z"
   },
   {
    "duration": 4,
    "start_time": "2024-08-07T06:30:37.639Z"
   },
   {
    "duration": 1033662,
    "start_time": "2024-08-07T06:30:38.119Z"
   },
   {
    "duration": 14,
    "start_time": "2024-08-07T06:47:51.783Z"
   },
   {
    "duration": 6,
    "start_time": "2024-08-07T06:48:05.991Z"
   },
   {
    "duration": 2,
    "start_time": "2024-08-07T06:48:06.278Z"
   },
   {
    "duration": 27,
    "start_time": "2024-08-07T06:48:07.169Z"
   },
   {
    "duration": 538,
    "start_time": "2024-08-07T06:48:07.327Z"
   },
   {
    "duration": 4,
    "start_time": "2024-08-07T06:48:08.155Z"
   },
   {
    "duration": 33,
    "start_time": "2024-08-07T06:48:08.161Z"
   },
   {
    "duration": 5917,
    "start_time": "2024-08-07T06:48:08.933Z"
   },
   {
    "duration": 4,
    "start_time": "2024-08-07T06:48:14.852Z"
   },
   {
    "duration": 2,
    "start_time": "2024-08-07T06:48:35.656Z"
   },
   {
    "duration": 2,
    "start_time": "2024-08-07T06:48:36.066Z"
   },
   {
    "duration": 2,
    "start_time": "2024-08-07T06:48:36.723Z"
   },
   {
    "duration": 80,
    "start_time": "2024-08-07T06:48:37.472Z"
   },
   {
    "duration": 8,
    "start_time": "2024-08-07T06:48:38.296Z"
   },
   {
    "duration": 10,
    "start_time": "2024-08-07T06:48:44.958Z"
   },
   {
    "duration": 10,
    "start_time": "2024-08-07T06:49:16.330Z"
   },
   {
    "duration": 3,
    "start_time": "2024-08-07T06:53:14.837Z"
   },
   {
    "duration": 6,
    "start_time": "2024-08-07T06:53:15.464Z"
   },
   {
    "duration": 6218,
    "start_time": "2024-08-07T06:53:16.056Z"
   },
   {
    "duration": 4,
    "start_time": "2024-08-07T06:53:22.276Z"
   },
   {
    "duration": 720524,
    "start_time": "2024-08-07T07:01:48.282Z"
   },
   {
    "duration": 728958,
    "start_time": "2024-08-07T07:21:43.037Z"
   },
   {
    "duration": 14,
    "start_time": "2024-08-07T08:46:51.446Z"
   },
   {
    "duration": 75,
    "start_time": "2024-08-07T08:47:13.046Z"
   },
   {
    "duration": 2,
    "start_time": "2024-08-07T08:47:37.513Z"
   },
   {
    "duration": 730971,
    "start_time": "2024-08-07T08:47:38.042Z"
   },
   {
    "duration": 4,
    "start_time": "2024-08-07T09:08:30.989Z"
   },
   {
    "duration": 2,
    "start_time": "2024-08-07T09:08:54.826Z"
   },
   {
    "duration": 3,
    "start_time": "2024-08-07T09:09:04.036Z"
   },
   {
    "duration": 4,
    "start_time": "2024-08-07T09:09:05.376Z"
   },
   {
    "duration": 250,
    "start_time": "2024-08-07T09:09:19.086Z"
   },
   {
    "duration": 3,
    "start_time": "2024-08-07T09:09:27.311Z"
   },
   {
    "duration": 722406,
    "start_time": "2024-08-07T09:09:47.090Z"
   },
   {
    "duration": 1824,
    "start_time": "2024-08-07T09:36:12.704Z"
   },
   {
    "duration": 875,
    "start_time": "2024-08-07T09:36:14.530Z"
   },
   {
    "duration": 292,
    "start_time": "2024-08-07T09:36:15.407Z"
   },
   {
    "duration": 4,
    "start_time": "2024-08-07T09:36:15.701Z"
   },
   {
    "duration": 9,
    "start_time": "2024-08-07T09:36:15.707Z"
   },
   {
    "duration": 156,
    "start_time": "2024-08-07T09:36:15.717Z"
   },
   {
    "duration": 5,
    "start_time": "2024-08-07T09:36:15.875Z"
   },
   {
    "duration": 19,
    "start_time": "2024-08-07T09:36:15.881Z"
   },
   {
    "duration": 74,
    "start_time": "2024-08-07T09:36:15.902Z"
   },
   {
    "duration": 7,
    "start_time": "2024-08-07T09:36:15.978Z"
   },
   {
    "duration": 19,
    "start_time": "2024-08-07T09:36:15.986Z"
   },
   {
    "duration": 16,
    "start_time": "2024-08-07T09:36:16.007Z"
   },
   {
    "duration": 5,
    "start_time": "2024-08-07T09:36:16.024Z"
   },
   {
    "duration": 41,
    "start_time": "2024-08-07T09:36:16.030Z"
   },
   {
    "duration": 35,
    "start_time": "2024-08-07T09:36:16.073Z"
   },
   {
    "duration": 9,
    "start_time": "2024-08-07T09:36:16.109Z"
   },
   {
    "duration": 21,
    "start_time": "2024-08-07T09:36:16.119Z"
   },
   {
    "duration": 401,
    "start_time": "2024-08-07T09:36:16.141Z"
   },
   {
    "duration": 10,
    "start_time": "2024-08-07T09:36:16.543Z"
   },
   {
    "duration": 8,
    "start_time": "2024-08-07T09:36:16.554Z"
   },
   {
    "duration": 5,
    "start_time": "2024-08-07T09:36:16.564Z"
   },
   {
    "duration": 5,
    "start_time": "2024-08-07T09:36:16.570Z"
   },
   {
    "duration": 4,
    "start_time": "2024-08-07T09:36:16.576Z"
   },
   {
    "duration": 3,
    "start_time": "2024-08-07T09:36:16.596Z"
   },
   {
    "duration": 10,
    "start_time": "2024-08-07T09:36:16.600Z"
   },
   {
    "duration": 1024451,
    "start_time": "2024-08-07T09:36:16.611Z"
   },
   {
    "duration": 9,
    "start_time": "2024-08-07T09:53:21.064Z"
   },
   {
    "duration": 20,
    "start_time": "2024-08-07T09:53:21.077Z"
   },
   {
    "duration": 3,
    "start_time": "2024-08-07T09:53:21.098Z"
   },
   {
    "duration": 49,
    "start_time": "2024-08-07T09:53:21.102Z"
   },
   {
    "duration": 498,
    "start_time": "2024-08-07T09:53:21.152Z"
   },
   {
    "duration": 3,
    "start_time": "2024-08-07T09:53:21.652Z"
   },
   {
    "duration": 20,
    "start_time": "2024-08-07T09:53:21.657Z"
   },
   {
    "duration": 5858,
    "start_time": "2024-08-07T09:53:21.678Z"
   },
   {
    "duration": 4,
    "start_time": "2024-08-07T09:53:27.538Z"
   },
   {
    "duration": 5,
    "start_time": "2024-08-07T09:53:27.543Z"
   },
   {
    "duration": 9,
    "start_time": "2024-08-07T09:53:27.550Z"
   },
   {
    "duration": 89,
    "start_time": "2024-08-07T09:53:27.560Z"
   },
   {
    "duration": 8,
    "start_time": "2024-08-07T09:53:27.650Z"
   },
   {
    "duration": 9,
    "start_time": "2024-08-07T09:53:27.660Z"
   },
   {
    "duration": 7,
    "start_time": "2024-08-07T09:53:27.670Z"
   },
   {
    "duration": 6,
    "start_time": "2024-08-07T09:53:27.696Z"
   },
   {
    "duration": 6262,
    "start_time": "2024-08-07T09:53:27.703Z"
   },
   {
    "duration": 3,
    "start_time": "2024-08-07T09:53:33.967Z"
   },
   {
    "duration": 8,
    "start_time": "2024-08-07T09:53:33.972Z"
   },
   {
    "duration": 4,
    "start_time": "2024-08-07T09:53:33.981Z"
   },
   {
    "duration": 414800,
    "start_time": "2024-08-07T09:53:33.996Z"
   },
   {
    "duration": 2,
    "start_time": "2024-08-07T10:00:28.798Z"
   },
   {
    "duration": 13,
    "start_time": "2024-08-07T10:00:28.802Z"
   },
   {
    "duration": 6,
    "start_time": "2024-08-07T10:00:28.817Z"
   },
   {
    "duration": 3,
    "start_time": "2024-08-07T10:10:09.313Z"
   },
   {
    "duration": 4,
    "start_time": "2024-08-07T10:10:11.896Z"
   },
   {
    "duration": 4,
    "start_time": "2024-08-07T10:10:13.101Z"
   },
   {
    "duration": 134,
    "start_time": "2024-08-07T10:10:16.631Z"
   },
   {
    "duration": 3,
    "start_time": "2024-08-07T10:10:32.965Z"
   },
   {
    "duration": 13,
    "start_time": "2024-08-07T10:10:37.305Z"
   },
   {
    "duration": 3,
    "start_time": "2024-08-07T10:11:05.091Z"
   },
   {
    "duration": 4,
    "start_time": "2024-08-07T10:11:08.584Z"
   },
   {
    "duration": 3,
    "start_time": "2024-08-07T10:11:16.329Z"
   },
   {
    "duration": 3,
    "start_time": "2024-08-07T10:12:03.665Z"
   },
   {
    "duration": 3,
    "start_time": "2024-08-07T10:12:09.797Z"
   },
   {
    "duration": 3,
    "start_time": "2024-08-07T10:12:28.450Z"
   },
   {
    "duration": 4,
    "start_time": "2024-08-07T10:12:31.889Z"
   },
   {
    "duration": 40032,
    "start_time": "2024-08-07T10:12:45.177Z"
   },
   {
    "duration": 3,
    "start_time": "2024-08-07T10:15:16.899Z"
   },
   {
    "duration": 4,
    "start_time": "2024-08-07T10:15:18.453Z"
   },
   {
    "duration": 43184,
    "start_time": "2024-08-07T10:16:05.948Z"
   },
   {
    "duration": 3,
    "start_time": "2024-08-07T10:18:04.198Z"
   },
   {
    "duration": 3,
    "start_time": "2024-08-07T10:18:04.569Z"
   },
   {
    "duration": 11,
    "start_time": "2024-08-07T10:18:58.849Z"
   },
   {
    "duration": 26,
    "start_time": "2024-08-07T10:19:28.855Z"
   },
   {
    "duration": 13,
    "start_time": "2024-08-07T10:19:42.168Z"
   },
   {
    "duration": 10,
    "start_time": "2024-08-07T10:19:47.104Z"
   },
   {
    "duration": 7,
    "start_time": "2024-08-07T10:20:24.493Z"
   },
   {
    "duration": 1792,
    "start_time": "2024-08-07T10:34:03.726Z"
   },
   {
    "duration": 844,
    "start_time": "2024-08-07T10:34:05.521Z"
   },
   {
    "duration": 266,
    "start_time": "2024-08-07T10:34:06.367Z"
   },
   {
    "duration": 4,
    "start_time": "2024-08-07T10:34:06.635Z"
   },
   {
    "duration": 5,
    "start_time": "2024-08-07T10:34:06.641Z"
   },
   {
    "duration": 153,
    "start_time": "2024-08-07T10:34:06.648Z"
   },
   {
    "duration": 5,
    "start_time": "2024-08-07T10:34:06.803Z"
   },
   {
    "duration": 12,
    "start_time": "2024-08-07T10:34:06.809Z"
   },
   {
    "duration": 80,
    "start_time": "2024-08-07T10:34:06.822Z"
   },
   {
    "duration": 8,
    "start_time": "2024-08-07T10:34:06.905Z"
   },
   {
    "duration": 14,
    "start_time": "2024-08-07T10:34:06.914Z"
   },
   {
    "duration": 15,
    "start_time": "2024-08-07T10:34:06.929Z"
   },
   {
    "duration": 3,
    "start_time": "2024-08-07T10:34:06.946Z"
   },
   {
    "duration": 8,
    "start_time": "2024-08-07T10:34:06.950Z"
   },
   {
    "duration": 4,
    "start_time": "2024-08-07T10:34:06.960Z"
   },
   {
    "duration": 32,
    "start_time": "2024-08-07T10:34:06.965Z"
   },
   {
    "duration": 19,
    "start_time": "2024-08-07T10:34:06.998Z"
   },
   {
    "duration": 486,
    "start_time": "2024-08-07T10:34:07.018Z"
   },
   {
    "duration": 9,
    "start_time": "2024-08-07T10:34:07.506Z"
   },
   {
    "duration": 22,
    "start_time": "2024-08-07T10:34:07.517Z"
   },
   {
    "duration": 28,
    "start_time": "2024-08-07T10:34:07.540Z"
   },
   {
    "duration": 6,
    "start_time": "2024-08-07T10:34:07.570Z"
   },
   {
    "duration": 17,
    "start_time": "2024-08-07T10:34:07.577Z"
   },
   {
    "duration": 4,
    "start_time": "2024-08-07T10:34:07.596Z"
   },
   {
    "duration": 10,
    "start_time": "2024-08-07T10:34:07.601Z"
   },
   {
    "duration": 1759,
    "start_time": "2024-08-07T10:43:39.603Z"
   },
   {
    "duration": 828,
    "start_time": "2024-08-07T10:43:42.247Z"
   },
   {
    "duration": 271,
    "start_time": "2024-08-07T10:43:43.077Z"
   },
   {
    "duration": 4,
    "start_time": "2024-08-07T10:43:43.716Z"
   },
   {
    "duration": 6,
    "start_time": "2024-08-07T10:43:43.947Z"
   },
   {
    "duration": 136,
    "start_time": "2024-08-07T10:43:44.182Z"
   },
   {
    "duration": 6,
    "start_time": "2024-08-07T10:43:44.843Z"
   },
   {
    "duration": 6,
    "start_time": "2024-08-07T10:43:45.483Z"
   },
   {
    "duration": 59,
    "start_time": "2024-08-07T10:43:45.693Z"
   },
   {
    "duration": 7,
    "start_time": "2024-08-07T10:43:45.898Z"
   },
   {
    "duration": 13,
    "start_time": "2024-08-07T10:43:46.306Z"
   },
   {
    "duration": 19,
    "start_time": "2024-08-07T10:43:46.714Z"
   },
   {
    "duration": 4,
    "start_time": "2024-08-07T10:43:46.921Z"
   },
   {
    "duration": 10,
    "start_time": "2024-08-07T10:43:47.351Z"
   },
   {
    "duration": 4,
    "start_time": "2024-08-07T10:43:47.559Z"
   },
   {
    "duration": 4,
    "start_time": "2024-08-07T10:43:47.958Z"
   },
   {
    "duration": 19,
    "start_time": "2024-08-07T10:43:48.580Z"
   },
   {
    "duration": 366,
    "start_time": "2024-08-07T10:43:48.786Z"
   },
   {
    "duration": 12,
    "start_time": "2024-08-07T10:43:50.014Z"
   },
   {
    "duration": 6,
    "start_time": "2024-08-07T10:43:50.248Z"
   },
   {
    "duration": 3,
    "start_time": "2024-08-07T10:43:50.666Z"
   },
   {
    "duration": 2,
    "start_time": "2024-08-07T10:43:51.379Z"
   },
   {
    "duration": 2,
    "start_time": "2024-08-07T10:43:53.483Z"
   },
   {
    "duration": 3,
    "start_time": "2024-08-07T10:43:54.002Z"
   },
   {
    "duration": 3,
    "start_time": "2024-08-07T10:43:54.523Z"
   },
   {
    "duration": 1992,
    "start_time": "2024-08-07T11:00:54.977Z"
   },
   {
    "duration": 848,
    "start_time": "2024-08-07T11:00:56.971Z"
   },
   {
    "duration": 275,
    "start_time": "2024-08-07T11:00:57.821Z"
   },
   {
    "duration": 5,
    "start_time": "2024-08-07T11:00:58.098Z"
   },
   {
    "duration": 7,
    "start_time": "2024-08-07T11:00:58.104Z"
   },
   {
    "duration": 161,
    "start_time": "2024-08-07T11:00:58.113Z"
   },
   {
    "duration": 5,
    "start_time": "2024-08-07T11:00:58.276Z"
   },
   {
    "duration": 17,
    "start_time": "2024-08-07T11:00:58.283Z"
   },
   {
    "duration": 59,
    "start_time": "2024-08-07T11:00:58.301Z"
   },
   {
    "duration": 6,
    "start_time": "2024-08-07T11:00:58.363Z"
   },
   {
    "duration": 30,
    "start_time": "2024-08-07T11:00:58.371Z"
   },
   {
    "duration": 16,
    "start_time": "2024-08-07T11:00:58.402Z"
   },
   {
    "duration": 4,
    "start_time": "2024-08-07T11:00:58.420Z"
   },
   {
    "duration": 21,
    "start_time": "2024-08-07T11:00:58.426Z"
   },
   {
    "duration": 4,
    "start_time": "2024-08-07T11:00:58.449Z"
   },
   {
    "duration": 5,
    "start_time": "2024-08-07T11:00:58.454Z"
   },
   {
    "duration": 43,
    "start_time": "2024-08-07T11:00:58.460Z"
   },
   {
    "duration": 422,
    "start_time": "2024-08-07T11:00:58.504Z"
   },
   {
    "duration": 9,
    "start_time": "2024-08-07T11:00:58.928Z"
   },
   {
    "duration": 8,
    "start_time": "2024-08-07T11:00:58.939Z"
   },
   {
    "duration": 4,
    "start_time": "2024-08-07T11:00:58.949Z"
   },
   {
    "duration": 6,
    "start_time": "2024-08-07T11:00:58.954Z"
   },
   {
    "duration": 5,
    "start_time": "2024-08-07T11:00:58.962Z"
   },
   {
    "duration": 4,
    "start_time": "2024-08-07T11:00:58.968Z"
   },
   {
    "duration": 22,
    "start_time": "2024-08-07T11:00:58.973Z"
   },
   {
    "duration": 1036212,
    "start_time": "2024-08-07T11:00:58.996Z"
   },
   {
    "duration": 8,
    "start_time": "2024-08-07T11:18:15.209Z"
   },
   {
    "duration": 55,
    "start_time": "2024-08-07T11:18:15.221Z"
   },
   {
    "duration": 20,
    "start_time": "2024-08-07T11:18:15.278Z"
   },
   {
    "duration": 88,
    "start_time": "2024-08-07T11:18:15.300Z"
   },
   {
    "duration": 567,
    "start_time": "2024-08-07T11:18:15.389Z"
   },
   {
    "duration": 5,
    "start_time": "2024-08-07T11:18:15.957Z"
   },
   {
    "duration": 34,
    "start_time": "2024-08-07T11:18:15.963Z"
   },
   {
    "duration": 5910,
    "start_time": "2024-08-07T11:18:15.998Z"
   },
   {
    "duration": 4,
    "start_time": "2024-08-07T11:18:21.910Z"
   },
   {
    "duration": 12,
    "start_time": "2024-08-07T11:18:21.915Z"
   },
   {
    "duration": 3,
    "start_time": "2024-08-07T11:18:21.928Z"
   },
   {
    "duration": 94,
    "start_time": "2024-08-07T11:18:21.932Z"
   },
   {
    "duration": 8,
    "start_time": "2024-08-07T11:18:22.028Z"
   },
   {
    "duration": 10,
    "start_time": "2024-08-07T11:18:22.038Z"
   },
   {
    "duration": 3,
    "start_time": "2024-08-07T11:18:22.049Z"
   },
   {
    "duration": 8,
    "start_time": "2024-08-07T11:18:22.053Z"
   },
   {
    "duration": 6397,
    "start_time": "2024-08-07T11:18:22.062Z"
   },
   {
    "duration": 4,
    "start_time": "2024-08-07T11:18:28.460Z"
   },
   {
    "duration": 5,
    "start_time": "2024-08-07T11:18:28.465Z"
   },
   {
    "duration": 4,
    "start_time": "2024-08-07T11:18:28.471Z"
   },
   {
    "duration": 414930,
    "start_time": "2024-08-07T11:18:28.476Z"
   },
   {
    "duration": 88,
    "start_time": "2024-08-07T11:25:23.408Z"
   },
   {
    "duration": 7,
    "start_time": "2024-08-07T11:25:23.498Z"
   },
   {
    "duration": 39606,
    "start_time": "2024-08-07T11:25:23.506Z"
   },
   {
    "duration": 2,
    "start_time": "2024-08-07T11:26:03.114Z"
   },
   {
    "duration": 16,
    "start_time": "2024-08-07T11:26:03.117Z"
   },
   {
    "duration": 43436,
    "start_time": "2024-08-07T11:26:03.134Z"
   },
   {
    "duration": 3,
    "start_time": "2024-08-07T11:26:46.571Z"
   },
   {
    "duration": 15,
    "start_time": "2024-08-07T11:26:46.575Z"
   },
   {
    "duration": 4,
    "start_time": "2024-08-07T11:26:46.592Z"
   },
   {
    "duration": 6,
    "start_time": "2024-08-07T11:26:46.598Z"
   },
   {
    "duration": 11,
    "start_time": "2024-08-07T11:26:46.605Z"
   },
   {
    "duration": 41,
    "start_time": "2024-08-07T11:26:46.617Z"
   },
   {
    "duration": 126,
    "start_time": "2024-08-07T11:44:38.488Z"
   },
   {
    "duration": 85152,
    "start_time": "2024-08-07T11:45:03.851Z"
   },
   {
    "duration": 86411,
    "start_time": "2024-08-07T11:49:12.192Z"
   },
   {
    "duration": 2007,
    "start_time": "2024-08-07T11:55:14.961Z"
   },
   {
    "duration": 92749,
    "start_time": "2024-08-07T12:14:28.360Z"
   },
   {
    "duration": 98,
    "start_time": "2024-08-07T12:16:01.198Z"
   },
   {
    "duration": 4,
    "start_time": "2024-08-07T12:16:01.297Z"
   },
   {
    "duration": 40,
    "start_time": "2024-08-07T12:16:01.304Z"
   },
   {
    "duration": 4,
    "start_time": "2024-08-07T12:26:54.410Z"
   },
   {
    "duration": 324,
    "start_time": "2024-08-07T12:53:36.595Z"
   },
   {
    "duration": 1911,
    "start_time": "2024-08-07T12:56:53.617Z"
   },
   {
    "duration": 881,
    "start_time": "2024-08-07T12:56:55.530Z"
   },
   {
    "duration": 258,
    "start_time": "2024-08-07T12:56:56.412Z"
   },
   {
    "duration": 4,
    "start_time": "2024-08-07T12:56:56.672Z"
   },
   {
    "duration": 19,
    "start_time": "2024-08-07T12:56:56.677Z"
   },
   {
    "duration": 136,
    "start_time": "2024-08-07T12:56:56.698Z"
   },
   {
    "duration": 5,
    "start_time": "2024-08-07T12:56:56.836Z"
   },
   {
    "duration": 9,
    "start_time": "2024-08-07T12:56:56.842Z"
   },
   {
    "duration": 73,
    "start_time": "2024-08-07T12:56:56.852Z"
   },
   {
    "duration": 7,
    "start_time": "2024-08-07T12:56:56.927Z"
   },
   {
    "duration": 20,
    "start_time": "2024-08-07T12:56:56.935Z"
   },
   {
    "duration": 15,
    "start_time": "2024-08-07T12:56:56.956Z"
   },
   {
    "duration": 3,
    "start_time": "2024-08-07T12:56:56.973Z"
   },
   {
    "duration": 20,
    "start_time": "2024-08-07T12:56:56.977Z"
   },
   {
    "duration": 52,
    "start_time": "2024-08-07T12:56:56.999Z"
   },
   {
    "duration": 9,
    "start_time": "2024-08-07T12:56:57.052Z"
   },
   {
    "duration": 20,
    "start_time": "2024-08-07T12:56:57.062Z"
   },
   {
    "duration": 371,
    "start_time": "2024-08-07T12:56:57.084Z"
   },
   {
    "duration": 9,
    "start_time": "2024-08-07T12:56:57.457Z"
   },
   {
    "duration": 21,
    "start_time": "2024-08-07T12:56:57.468Z"
   },
   {
    "duration": 8,
    "start_time": "2024-08-07T12:56:57.491Z"
   },
   {
    "duration": 22,
    "start_time": "2024-08-07T12:56:57.501Z"
   },
   {
    "duration": 3,
    "start_time": "2024-08-07T12:56:57.525Z"
   },
   {
    "duration": 4,
    "start_time": "2024-08-07T12:56:57.529Z"
   },
   {
    "duration": 6,
    "start_time": "2024-08-07T12:56:57.534Z"
   },
   {
    "duration": 423,
    "start_time": "2024-08-07T12:56:57.541Z"
   },
   {
    "duration": 0,
    "start_time": "2024-08-07T12:56:57.967Z"
   },
   {
    "duration": 0,
    "start_time": "2024-08-07T12:56:57.968Z"
   },
   {
    "duration": 0,
    "start_time": "2024-08-07T12:56:57.969Z"
   },
   {
    "duration": 0,
    "start_time": "2024-08-07T12:56:57.969Z"
   },
   {
    "duration": 0,
    "start_time": "2024-08-07T12:56:57.970Z"
   },
   {
    "duration": 0,
    "start_time": "2024-08-07T12:56:57.971Z"
   },
   {
    "duration": 0,
    "start_time": "2024-08-07T12:56:57.972Z"
   },
   {
    "duration": 0,
    "start_time": "2024-08-07T12:56:57.973Z"
   },
   {
    "duration": 0,
    "start_time": "2024-08-07T12:56:57.974Z"
   },
   {
    "duration": 0,
    "start_time": "2024-08-07T12:56:57.975Z"
   },
   {
    "duration": 0,
    "start_time": "2024-08-07T12:56:57.976Z"
   },
   {
    "duration": 0,
    "start_time": "2024-08-07T12:56:57.977Z"
   },
   {
    "duration": 0,
    "start_time": "2024-08-07T12:56:57.978Z"
   },
   {
    "duration": 0,
    "start_time": "2024-08-07T12:56:57.979Z"
   },
   {
    "duration": 0,
    "start_time": "2024-08-07T12:56:57.979Z"
   },
   {
    "duration": 0,
    "start_time": "2024-08-07T12:56:57.980Z"
   },
   {
    "duration": 0,
    "start_time": "2024-08-07T12:56:57.981Z"
   },
   {
    "duration": 0,
    "start_time": "2024-08-07T12:56:57.982Z"
   },
   {
    "duration": 0,
    "start_time": "2024-08-07T12:56:57.983Z"
   },
   {
    "duration": 0,
    "start_time": "2024-08-07T12:56:57.984Z"
   },
   {
    "duration": 0,
    "start_time": "2024-08-07T12:56:57.985Z"
   },
   {
    "duration": 0,
    "start_time": "2024-08-07T12:56:57.986Z"
   },
   {
    "duration": 0,
    "start_time": "2024-08-07T12:56:57.987Z"
   },
   {
    "duration": 0,
    "start_time": "2024-08-07T12:56:57.987Z"
   },
   {
    "duration": 0,
    "start_time": "2024-08-07T12:56:57.988Z"
   },
   {
    "duration": 0,
    "start_time": "2024-08-07T12:56:57.989Z"
   },
   {
    "duration": 0,
    "start_time": "2024-08-07T12:56:57.990Z"
   },
   {
    "duration": 0,
    "start_time": "2024-08-07T12:56:57.991Z"
   },
   {
    "duration": 0,
    "start_time": "2024-08-07T12:56:57.992Z"
   },
   {
    "duration": 0,
    "start_time": "2024-08-07T12:56:57.993Z"
   },
   {
    "duration": 0,
    "start_time": "2024-08-07T12:56:57.994Z"
   },
   {
    "duration": 0,
    "start_time": "2024-08-07T12:56:57.995Z"
   },
   {
    "duration": 0,
    "start_time": "2024-08-07T12:56:57.995Z"
   },
   {
    "duration": 0,
    "start_time": "2024-08-07T12:56:57.996Z"
   },
   {
    "duration": 0,
    "start_time": "2024-08-07T12:56:57.997Z"
   },
   {
    "duration": 4,
    "start_time": "2024-08-07T12:58:08.085Z"
   },
   {
    "duration": 2,
    "start_time": "2024-08-07T12:58:08.958Z"
   },
   {
    "duration": 2,
    "start_time": "2024-08-07T12:58:09.718Z"
   },
   {
    "duration": 3,
    "start_time": "2024-08-07T12:58:28.547Z"
   },
   {
    "duration": 1039045,
    "start_time": "2024-08-07T12:58:29.264Z"
   },
   {
    "duration": 3,
    "start_time": "2024-08-07T13:15:48.311Z"
   },
   {
    "duration": 9,
    "start_time": "2024-08-07T13:15:48.315Z"
   },
   {
    "duration": 7,
    "start_time": "2024-08-07T13:28:37.727Z"
   },
   {
    "duration": 2,
    "start_time": "2024-08-07T13:28:37.915Z"
   },
   {
    "duration": 32,
    "start_time": "2024-08-07T13:28:38.255Z"
   },
   {
    "duration": 529,
    "start_time": "2024-08-07T13:28:38.419Z"
   },
   {
    "duration": 4,
    "start_time": "2024-08-07T13:28:38.950Z"
   },
   {
    "duration": 25,
    "start_time": "2024-08-07T13:28:38.955Z"
   },
   {
    "duration": 5964,
    "start_time": "2024-08-07T13:28:39.100Z"
   },
   {
    "duration": 4,
    "start_time": "2024-08-07T13:28:45.066Z"
   },
   {
    "duration": 41,
    "start_time": "2024-08-07T13:28:45.071Z"
   },
   {
    "duration": 94,
    "start_time": "2024-08-07T13:28:45.114Z"
   },
   {
    "duration": 113,
    "start_time": "2024-08-07T13:28:45.209Z"
   },
   {
    "duration": 11,
    "start_time": "2024-08-07T13:28:45.324Z"
   },
   {
    "duration": 18,
    "start_time": "2024-08-07T13:28:45.337Z"
   },
   {
    "duration": 16,
    "start_time": "2024-08-07T13:28:45.357Z"
   },
   {
    "duration": 19,
    "start_time": "2024-08-07T13:28:45.375Z"
   },
   {
    "duration": 6574,
    "start_time": "2024-08-07T13:28:45.397Z"
   },
   {
    "duration": 4,
    "start_time": "2024-08-07T13:28:51.972Z"
   },
   {
    "duration": 15,
    "start_time": "2024-08-07T13:28:51.977Z"
   },
   {
    "duration": 28,
    "start_time": "2024-08-07T13:28:51.993Z"
   },
   {
    "duration": 389376,
    "start_time": "2024-08-07T13:28:52.022Z"
   },
   {
    "duration": 3,
    "start_time": "2024-08-07T13:35:21.400Z"
   },
   {
    "duration": 6,
    "start_time": "2024-08-07T13:35:21.404Z"
   },
   {
    "duration": 40430,
    "start_time": "2024-08-07T13:35:21.411Z"
   },
   {
    "duration": 2,
    "start_time": "2024-08-07T13:36:01.843Z"
   },
   {
    "duration": 61,
    "start_time": "2024-08-07T13:36:01.847Z"
   },
   {
    "duration": 43774,
    "start_time": "2024-08-07T13:36:01.910Z"
   },
   {
    "duration": 10,
    "start_time": "2024-08-07T13:36:45.686Z"
   },
   {
    "duration": 12,
    "start_time": "2024-08-07T13:36:45.697Z"
   },
   {
    "duration": 16,
    "start_time": "2024-08-07T13:36:45.712Z"
   },
   {
    "duration": 68368,
    "start_time": "2024-08-07T13:36:45.729Z"
   },
   {
    "duration": 5,
    "start_time": "2024-08-07T13:37:54.099Z"
   },
   {
    "duration": 12,
    "start_time": "2024-08-07T13:37:54.106Z"
   },
   {
    "duration": 5,
    "start_time": "2024-08-07T13:37:54.120Z"
   },
   {
    "duration": 7,
    "start_time": "2024-08-07T13:43:07.825Z"
   },
   {
    "duration": 818,
    "start_time": "2024-08-07T13:43:07.834Z"
   },
   {
    "duration": 245,
    "start_time": "2024-08-07T13:43:08.653Z"
   },
   {
    "duration": 5,
    "start_time": "2024-08-07T13:43:08.900Z"
   },
   {
    "duration": 6,
    "start_time": "2024-08-07T13:43:08.906Z"
   },
   {
    "duration": 140,
    "start_time": "2024-08-07T13:43:08.913Z"
   },
   {
    "duration": 5,
    "start_time": "2024-08-07T13:43:09.054Z"
   },
   {
    "duration": 7,
    "start_time": "2024-08-07T13:43:09.060Z"
   },
   {
    "duration": 73,
    "start_time": "2024-08-07T13:43:09.068Z"
   },
   {
    "duration": 6,
    "start_time": "2024-08-07T13:43:09.144Z"
   },
   {
    "duration": 73,
    "start_time": "2024-08-07T13:43:09.152Z"
   },
   {
    "duration": 10,
    "start_time": "2024-08-07T13:43:09.226Z"
   },
   {
    "duration": 5,
    "start_time": "2024-08-07T13:43:09.237Z"
   },
   {
    "duration": 9,
    "start_time": "2024-08-07T13:43:09.243Z"
   },
   {
    "duration": 11,
    "start_time": "2024-08-07T13:43:09.253Z"
   },
   {
    "duration": 16,
    "start_time": "2024-08-07T13:43:09.265Z"
   },
   {
    "duration": 17,
    "start_time": "2024-08-07T13:43:09.283Z"
   },
   {
    "duration": 369,
    "start_time": "2024-08-07T13:43:09.302Z"
   },
   {
    "duration": 10,
    "start_time": "2024-08-07T13:43:09.672Z"
   },
   {
    "duration": 7,
    "start_time": "2024-08-07T13:43:09.695Z"
   },
   {
    "duration": 7,
    "start_time": "2024-08-07T13:43:09.704Z"
   },
   {
    "duration": 3,
    "start_time": "2024-08-07T13:43:09.712Z"
   },
   {
    "duration": 4,
    "start_time": "2024-08-07T13:43:09.716Z"
   },
   {
    "duration": 4,
    "start_time": "2024-08-07T13:43:09.722Z"
   },
   {
    "duration": 4,
    "start_time": "2024-08-07T13:43:09.727Z"
   },
   {
    "duration": 1027992,
    "start_time": "2024-08-07T13:43:09.732Z"
   },
   {
    "duration": 6,
    "start_time": "2024-08-07T14:00:17.726Z"
   },
   {
    "duration": 7,
    "start_time": "2024-08-07T14:00:17.736Z"
   },
   {
    "duration": 18,
    "start_time": "2024-08-07T14:00:17.744Z"
   },
   {
    "duration": 36,
    "start_time": "2024-08-07T14:00:17.763Z"
   },
   {
    "duration": 518,
    "start_time": "2024-08-07T14:00:17.800Z"
   },
   {
    "duration": 4,
    "start_time": "2024-08-07T14:00:18.320Z"
   },
   {
    "duration": 23,
    "start_time": "2024-08-07T14:00:18.325Z"
   },
   {
    "duration": 5847,
    "start_time": "2024-08-07T14:00:18.349Z"
   },
   {
    "duration": 5,
    "start_time": "2024-08-07T14:00:24.197Z"
   },
   {
    "duration": 3,
    "start_time": "2024-08-07T14:00:24.203Z"
   },
   {
    "duration": 10,
    "start_time": "2024-08-07T14:00:24.207Z"
   },
   {
    "duration": 108,
    "start_time": "2024-08-07T14:00:24.218Z"
   },
   {
    "duration": 9,
    "start_time": "2024-08-07T14:00:24.328Z"
   },
   {
    "duration": 13,
    "start_time": "2024-08-07T14:00:24.338Z"
   },
   {
    "duration": 3,
    "start_time": "2024-08-07T14:00:24.352Z"
   },
   {
    "duration": 35,
    "start_time": "2024-08-07T14:00:24.357Z"
   },
   {
    "duration": 6276,
    "start_time": "2024-08-07T14:00:24.394Z"
   },
   {
    "duration": 4,
    "start_time": "2024-08-07T14:00:30.672Z"
   },
   {
    "duration": 26,
    "start_time": "2024-08-07T14:00:30.677Z"
   },
   {
    "duration": 29,
    "start_time": "2024-08-07T14:00:30.705Z"
   },
   {
    "duration": 386662,
    "start_time": "2024-08-07T14:00:30.735Z"
   },
   {
    "duration": 3,
    "start_time": "2024-08-07T14:06:57.398Z"
   },
   {
    "duration": 8,
    "start_time": "2024-08-07T14:06:57.402Z"
   },
   {
    "duration": 39475,
    "start_time": "2024-08-07T14:06:57.411Z"
   },
   {
    "duration": 8,
    "start_time": "2024-08-07T14:07:36.888Z"
   },
   {
    "duration": 7,
    "start_time": "2024-08-07T14:07:36.897Z"
   },
   {
    "duration": 42786,
    "start_time": "2024-08-07T14:07:36.906Z"
   },
   {
    "duration": 4,
    "start_time": "2024-08-07T14:08:19.693Z"
   },
   {
    "duration": 10,
    "start_time": "2024-08-07T14:08:19.698Z"
   },
   {
    "duration": 14,
    "start_time": "2024-08-07T14:08:19.709Z"
   },
   {
    "duration": 68874,
    "start_time": "2024-08-07T14:08:19.724Z"
   },
   {
    "duration": 8,
    "start_time": "2024-08-07T14:09:28.600Z"
   },
   {
    "duration": 11,
    "start_time": "2024-08-07T14:09:28.696Z"
   },
   {
    "duration": 3,
    "start_time": "2024-08-07T14:09:28.709Z"
   },
   {
    "duration": 41,
    "start_time": "2024-08-07T14:22:45.737Z"
   },
   {
    "duration": 5,
    "start_time": "2024-08-07T14:22:55.376Z"
   },
   {
    "duration": 1860,
    "start_time": "2024-08-07T14:23:42.105Z"
   },
   {
    "duration": 903,
    "start_time": "2024-08-07T14:23:43.967Z"
   },
   {
    "duration": 267,
    "start_time": "2024-08-07T14:23:44.872Z"
   },
   {
    "duration": 4,
    "start_time": "2024-08-07T14:23:45.141Z"
   },
   {
    "duration": 35,
    "start_time": "2024-08-07T14:23:45.147Z"
   },
   {
    "duration": 142,
    "start_time": "2024-08-07T14:23:45.184Z"
   },
   {
    "duration": 6,
    "start_time": "2024-08-07T14:23:45.328Z"
   },
   {
    "duration": 61,
    "start_time": "2024-08-07T14:23:45.336Z"
   },
   {
    "duration": 73,
    "start_time": "2024-08-07T14:23:45.399Z"
   },
   {
    "duration": 7,
    "start_time": "2024-08-07T14:23:45.474Z"
   },
   {
    "duration": 22,
    "start_time": "2024-08-07T14:23:45.483Z"
   },
   {
    "duration": 21,
    "start_time": "2024-08-07T14:23:45.508Z"
   },
   {
    "duration": 4,
    "start_time": "2024-08-07T14:23:45.531Z"
   },
   {
    "duration": 10,
    "start_time": "2024-08-07T14:23:45.539Z"
   },
   {
    "duration": 20,
    "start_time": "2024-08-07T14:23:45.551Z"
   },
   {
    "duration": 25,
    "start_time": "2024-08-07T14:23:45.572Z"
   },
   {
    "duration": 35,
    "start_time": "2024-08-07T14:23:45.598Z"
   },
   {
    "duration": 404,
    "start_time": "2024-08-07T14:23:45.635Z"
   },
   {
    "duration": 9,
    "start_time": "2024-08-07T14:23:46.041Z"
   },
   {
    "duration": 8,
    "start_time": "2024-08-07T14:23:46.052Z"
   },
   {
    "duration": 4,
    "start_time": "2024-08-07T14:23:46.062Z"
   },
   {
    "duration": 2,
    "start_time": "2024-08-07T14:23:46.068Z"
   },
   {
    "duration": 3,
    "start_time": "2024-08-07T14:23:46.095Z"
   },
   {
    "duration": 15,
    "start_time": "2024-08-07T14:23:46.100Z"
   },
   {
    "duration": 8,
    "start_time": "2024-08-07T14:23:46.116Z"
   },
   {
    "duration": 1026746,
    "start_time": "2024-08-07T14:23:46.125Z"
   },
   {
    "duration": 8,
    "start_time": "2024-08-07T14:40:52.872Z"
   },
   {
    "duration": 21,
    "start_time": "2024-08-07T14:40:52.881Z"
   },
   {
    "duration": 3,
    "start_time": "2024-08-07T14:40:52.903Z"
   },
   {
    "duration": 40,
    "start_time": "2024-08-07T14:40:52.908Z"
   },
   {
    "duration": 497,
    "start_time": "2024-08-07T14:40:52.950Z"
   },
   {
    "duration": 4,
    "start_time": "2024-08-07T14:40:53.448Z"
   },
   {
    "duration": 27,
    "start_time": "2024-08-07T14:40:53.454Z"
   },
   {
    "duration": 5778,
    "start_time": "2024-08-07T14:40:53.482Z"
   },
   {
    "duration": 4,
    "start_time": "2024-08-07T14:40:59.262Z"
   },
   {
    "duration": 3,
    "start_time": "2024-08-07T14:40:59.267Z"
   },
   {
    "duration": 12,
    "start_time": "2024-08-07T14:40:59.271Z"
   },
   {
    "duration": 86,
    "start_time": "2024-08-07T14:40:59.284Z"
   },
   {
    "duration": 9,
    "start_time": "2024-08-07T14:40:59.371Z"
   },
   {
    "duration": 10,
    "start_time": "2024-08-07T14:40:59.395Z"
   },
   {
    "duration": 54,
    "start_time": "2024-08-07T14:40:59.409Z"
   },
   {
    "duration": 27,
    "start_time": "2024-08-07T14:40:59.465Z"
   },
   {
    "duration": 6303,
    "start_time": "2024-08-07T14:40:59.493Z"
   },
   {
    "duration": 3,
    "start_time": "2024-08-07T14:41:05.798Z"
   },
   {
    "duration": 14,
    "start_time": "2024-08-07T14:41:05.803Z"
   },
   {
    "duration": 20,
    "start_time": "2024-08-07T14:41:05.818Z"
   },
   {
    "duration": 385566,
    "start_time": "2024-08-07T14:41:05.840Z"
   },
   {
    "duration": 3,
    "start_time": "2024-08-07T14:47:31.407Z"
   },
   {
    "duration": 37,
    "start_time": "2024-08-07T14:47:31.411Z"
   },
   {
    "duration": 38957,
    "start_time": "2024-08-07T14:47:31.450Z"
   },
   {
    "duration": 2,
    "start_time": "2024-08-07T14:48:10.409Z"
   },
   {
    "duration": 5,
    "start_time": "2024-08-07T14:48:10.412Z"
   },
   {
    "duration": 41823,
    "start_time": "2024-08-07T14:48:10.418Z"
   },
   {
    "duration": 3,
    "start_time": "2024-08-07T14:48:52.242Z"
   },
   {
    "duration": 7,
    "start_time": "2024-08-07T14:48:52.247Z"
   },
   {
    "duration": 13,
    "start_time": "2024-08-07T14:48:52.256Z"
   },
   {
    "duration": 68626,
    "start_time": "2024-08-07T14:48:52.271Z"
   },
   {
    "duration": 9,
    "start_time": "2024-08-07T14:50:00.899Z"
   },
   {
    "duration": 86,
    "start_time": "2024-08-07T14:50:00.910Z"
   },
   {
    "duration": 3,
    "start_time": "2024-08-07T14:50:00.998Z"
   },
   {
    "duration": 48,
    "start_time": "2024-08-08T06:28:10.186Z"
   },
   {
    "duration": 21573,
    "start_time": "2024-08-08T06:28:28.823Z"
   },
   {
    "duration": 156,
    "start_time": "2024-08-08T06:28:50.399Z"
   },
   {
    "duration": 103,
    "start_time": "2024-08-08T06:30:05.369Z"
   },
   {
    "duration": 65,
    "start_time": "2024-08-08T06:35:31.531Z"
   },
   {
    "duration": 70,
    "start_time": "2024-08-08T06:35:46.432Z"
   },
   {
    "duration": 12,
    "start_time": "2024-08-08T06:36:08.767Z"
   },
   {
    "duration": 3,
    "start_time": "2024-08-08T06:37:32.095Z"
   },
   {
    "duration": 11,
    "start_time": "2024-08-08T06:37:33.011Z"
   },
   {
    "duration": 3,
    "start_time": "2024-08-08T06:37:36.843Z"
   },
   {
    "duration": 3,
    "start_time": "2024-08-08T06:37:42.956Z"
   },
   {
    "duration": 15,
    "start_time": "2024-08-08T06:37:43.552Z"
   },
   {
    "duration": 70,
    "start_time": "2024-08-08T06:37:56.533Z"
   },
   {
    "duration": 1307,
    "start_time": "2024-08-08T06:37:57.515Z"
   },
   {
    "duration": 282,
    "start_time": "2024-08-08T06:37:58.824Z"
   },
   {
    "duration": 5,
    "start_time": "2024-08-08T06:37:59.108Z"
   },
   {
    "duration": 6,
    "start_time": "2024-08-08T06:37:59.141Z"
   },
   {
    "duration": 146,
    "start_time": "2024-08-08T06:37:59.367Z"
   },
   {
    "duration": 130,
    "start_time": "2024-08-08T06:38:04.425Z"
   },
   {
    "duration": 8,
    "start_time": "2024-08-08T06:38:26.074Z"
   },
   {
    "duration": 926,
    "start_time": "2024-08-08T06:38:28.123Z"
   },
   {
    "duration": 273,
    "start_time": "2024-08-08T06:38:30.065Z"
   },
   {
    "duration": 4,
    "start_time": "2024-08-08T06:38:33.831Z"
   },
   {
    "duration": 134,
    "start_time": "2024-08-08T06:38:37.781Z"
   },
   {
    "duration": 2,
    "start_time": "2024-08-08T06:40:30.049Z"
   },
   {
    "duration": 145,
    "start_time": "2024-08-08T06:40:47.403Z"
   },
   {
    "duration": 129,
    "start_time": "2024-08-08T06:41:14.951Z"
   },
   {
    "duration": 130,
    "start_time": "2024-08-08T06:41:23.000Z"
   },
   {
    "duration": 407,
    "start_time": "2024-08-08T06:44:07.241Z"
   },
   {
    "duration": 13,
    "start_time": "2024-08-08T06:45:22.205Z"
   },
   {
    "duration": 8,
    "start_time": "2024-08-08T06:45:34.066Z"
   },
   {
    "duration": 68,
    "start_time": "2024-08-08T06:45:34.582Z"
   },
   {
    "duration": 382,
    "start_time": "2024-08-08T06:45:40.844Z"
   },
   {
    "duration": 143,
    "start_time": "2024-08-08T06:47:02.806Z"
   },
   {
    "duration": 466,
    "start_time": "2024-08-08T06:47:51.837Z"
   },
   {
    "duration": 380,
    "start_time": "2024-08-08T06:49:12.211Z"
   },
   {
    "duration": 8,
    "start_time": "2024-08-08T06:49:48.519Z"
   },
   {
    "duration": 947,
    "start_time": "2024-08-08T06:49:48.529Z"
   },
   {
    "duration": 273,
    "start_time": "2024-08-08T06:49:49.478Z"
   },
   {
    "duration": 5,
    "start_time": "2024-08-08T06:49:49.752Z"
   },
   {
    "duration": 10,
    "start_time": "2024-08-08T06:49:49.759Z"
   },
   {
    "duration": 2,
    "start_time": "2024-08-08T06:49:49.771Z"
   },
   {
    "duration": 152,
    "start_time": "2024-08-08T06:49:49.774Z"
   },
   {
    "duration": 6,
    "start_time": "2024-08-08T06:49:49.928Z"
   },
   {
    "duration": 12,
    "start_time": "2024-08-08T06:49:49.936Z"
   },
   {
    "duration": 80,
    "start_time": "2024-08-08T06:49:49.950Z"
   },
   {
    "duration": 8,
    "start_time": "2024-08-08T06:49:50.032Z"
   },
   {
    "duration": 27,
    "start_time": "2024-08-08T06:49:50.041Z"
   },
   {
    "duration": 34,
    "start_time": "2024-08-08T06:49:50.069Z"
   },
   {
    "duration": 100,
    "start_time": "2024-08-08T06:49:50.106Z"
   },
   {
    "duration": 32,
    "start_time": "2024-08-08T06:49:50.207Z"
   },
   {
    "duration": 29,
    "start_time": "2024-08-08T06:49:50.240Z"
   },
   {
    "duration": 16,
    "start_time": "2024-08-08T06:49:50.271Z"
   },
   {
    "duration": 43,
    "start_time": "2024-08-08T06:49:50.289Z"
   },
   {
    "duration": 435,
    "start_time": "2024-08-08T06:49:50.335Z"
   },
   {
    "duration": 396,
    "start_time": "2024-08-08T06:49:50.772Z"
   },
   {
    "duration": 125,
    "start_time": "2024-08-08T06:51:46.168Z"
   },
   {
    "duration": 354,
    "start_time": "2024-08-08T06:52:07.277Z"
   },
   {
    "duration": 350,
    "start_time": "2024-08-08T06:52:32.655Z"
   },
   {
    "duration": 163,
    "start_time": "2024-08-08T06:53:34.180Z"
   },
   {
    "duration": 26,
    "start_time": "2024-08-08T07:03:47.320Z"
   },
   {
    "duration": 18,
    "start_time": "2024-08-08T07:04:19.640Z"
   },
   {
    "duration": 185,
    "start_time": "2024-08-08T07:04:49.581Z"
   },
   {
    "duration": 29,
    "start_time": "2024-08-08T07:04:51.384Z"
   },
   {
    "duration": 1048,
    "start_time": "2024-08-08T07:07:12.831Z"
   },
   {
    "duration": 1081,
    "start_time": "2024-08-08T07:07:55.352Z"
   },
   {
    "duration": 382,
    "start_time": "2024-08-08T07:09:54.965Z"
   },
   {
    "duration": 351,
    "start_time": "2024-08-08T07:10:44.361Z"
   },
   {
    "duration": 382,
    "start_time": "2024-08-08T07:11:29.929Z"
   },
   {
    "duration": 345,
    "start_time": "2024-08-08T07:11:39.679Z"
   },
   {
    "duration": 329,
    "start_time": "2024-08-08T07:13:34.294Z"
   },
   {
    "duration": 321,
    "start_time": "2024-08-08T07:14:20.100Z"
   },
   {
    "duration": 330,
    "start_time": "2024-08-08T07:15:18.459Z"
   },
   {
    "duration": 293,
    "start_time": "2024-08-08T07:15:31.791Z"
   },
   {
    "duration": 25,
    "start_time": "2024-08-08T07:19:17.425Z"
   },
   {
    "duration": 324,
    "start_time": "2024-08-08T07:19:25.256Z"
   },
   {
    "duration": 505,
    "start_time": "2024-08-08T07:21:20.194Z"
   },
   {
    "duration": 4,
    "start_time": "2024-08-08T07:26:54.438Z"
   },
   {
    "duration": 4,
    "start_time": "2024-08-08T07:27:05.627Z"
   },
   {
    "duration": 343,
    "start_time": "2024-08-08T07:27:37.191Z"
   },
   {
    "duration": 369,
    "start_time": "2024-08-08T07:28:23.301Z"
   },
   {
    "duration": 1147,
    "start_time": "2024-08-08T07:41:11.887Z"
   },
   {
    "duration": 393,
    "start_time": "2024-08-08T07:41:36.119Z"
   },
   {
    "duration": 5,
    "start_time": "2024-08-08T07:44:52.402Z"
   },
   {
    "duration": 372,
    "start_time": "2024-08-08T07:45:52.933Z"
   },
   {
    "duration": 364,
    "start_time": "2024-08-08T07:46:01.454Z"
   },
   {
    "duration": 326,
    "start_time": "2024-08-08T07:46:07.883Z"
   },
   {
    "duration": 372,
    "start_time": "2024-08-08T07:46:50.514Z"
   },
   {
    "duration": 366,
    "start_time": "2024-08-08T07:47:52.474Z"
   },
   {
    "duration": 332,
    "start_time": "2024-08-08T07:48:15.939Z"
   },
   {
    "duration": 554,
    "start_time": "2024-08-08T07:50:40.498Z"
   },
   {
    "duration": 1119,
    "start_time": "2024-08-08T07:51:11.775Z"
   },
   {
    "duration": 1113,
    "start_time": "2024-08-08T07:56:10.374Z"
   },
   {
    "duration": 67,
    "start_time": "2024-08-08T07:56:45.052Z"
   },
   {
    "duration": 1127,
    "start_time": "2024-08-08T07:57:21.722Z"
   },
   {
    "duration": 350,
    "start_time": "2024-08-08T07:57:36.365Z"
   },
   {
    "duration": 371,
    "start_time": "2024-08-08T07:57:45.829Z"
   },
   {
    "duration": 348,
    "start_time": "2024-08-08T07:57:57.401Z"
   },
   {
    "duration": 1153,
    "start_time": "2024-08-08T07:57:57.973Z"
   },
   {
    "duration": 1092,
    "start_time": "2024-08-08T07:58:07.989Z"
   },
   {
    "duration": 1089,
    "start_time": "2024-08-08T07:58:22.318Z"
   },
   {
    "duration": 1075,
    "start_time": "2024-08-08T07:58:27.830Z"
   },
   {
    "duration": 3,
    "start_time": "2024-08-08T08:03:11.406Z"
   },
   {
    "duration": 333,
    "start_time": "2024-08-08T08:03:11.972Z"
   },
   {
    "duration": 3,
    "start_time": "2024-08-08T08:08:27.997Z"
   },
   {
    "duration": 16,
    "start_time": "2024-08-08T08:10:23.780Z"
   },
   {
    "duration": 7,
    "start_time": "2024-08-08T08:10:36.127Z"
   },
   {
    "duration": 1069,
    "start_time": "2024-08-08T08:10:38.851Z"
   },
   {
    "duration": 294,
    "start_time": "2024-08-08T08:10:39.928Z"
   },
   {
    "duration": 5,
    "start_time": "2024-08-08T08:10:40.223Z"
   },
   {
    "duration": 6,
    "start_time": "2024-08-08T08:10:40.308Z"
   },
   {
    "duration": 3,
    "start_time": "2024-08-08T08:10:40.467Z"
   },
   {
    "duration": 135,
    "start_time": "2024-08-08T08:10:40.640Z"
   },
   {
    "duration": 6,
    "start_time": "2024-08-08T08:10:42.075Z"
   },
   {
    "duration": 6,
    "start_time": "2024-08-08T08:10:42.817Z"
   },
   {
    "duration": 88,
    "start_time": "2024-08-08T08:10:43.000Z"
   },
   {
    "duration": 9,
    "start_time": "2024-08-08T08:10:43.184Z"
   },
   {
    "duration": 14,
    "start_time": "2024-08-08T08:10:43.737Z"
   },
   {
    "duration": 17,
    "start_time": "2024-08-08T08:10:44.301Z"
   },
   {
    "duration": 5,
    "start_time": "2024-08-08T08:10:44.465Z"
   },
   {
    "duration": 11,
    "start_time": "2024-08-08T08:10:44.842Z"
   },
   {
    "duration": 5,
    "start_time": "2024-08-08T08:10:45.056Z"
   },
   {
    "duration": 5,
    "start_time": "2024-08-08T08:10:45.387Z"
   },
   {
    "duration": 39,
    "start_time": "2024-08-08T08:10:45.971Z"
   },
   {
    "duration": 4,
    "start_time": "2024-08-08T08:10:46.157Z"
   },
   {
    "duration": 2,
    "start_time": "2024-08-08T08:10:46.367Z"
   },
   {
    "duration": 401,
    "start_time": "2024-08-08T08:10:46.536Z"
   },
   {
    "duration": 1301,
    "start_time": "2024-08-08T08:10:46.939Z"
   },
   {
    "duration": 10,
    "start_time": "2024-08-08T08:10:48.383Z"
   },
   {
    "duration": 7,
    "start_time": "2024-08-08T08:10:48.822Z"
   },
   {
    "duration": 4,
    "start_time": "2024-08-08T08:10:49.532Z"
   },
   {
    "duration": 3,
    "start_time": "2024-08-08T08:10:50.236Z"
   },
   {
    "duration": 3,
    "start_time": "2024-08-08T08:10:50.883Z"
   },
   {
    "duration": 4,
    "start_time": "2024-08-08T08:10:51.499Z"
   },
   {
    "duration": 4,
    "start_time": "2024-08-08T08:10:51.914Z"
   },
   {
    "duration": 1201109,
    "start_time": "2024-08-08T08:10:52.148Z"
   },
   {
    "duration": 8,
    "start_time": "2024-08-08T08:30:53.259Z"
   },
   {
    "duration": 24,
    "start_time": "2024-08-08T08:30:53.268Z"
   },
   {
    "duration": 17,
    "start_time": "2024-08-08T08:30:53.294Z"
   },
   {
    "duration": 36,
    "start_time": "2024-08-08T08:30:53.313Z"
   },
   {
    "duration": 535,
    "start_time": "2024-08-08T08:30:53.351Z"
   },
   {
    "duration": 4,
    "start_time": "2024-08-08T08:30:53.888Z"
   },
   {
    "duration": 24,
    "start_time": "2024-08-08T08:30:53.905Z"
   },
   {
    "duration": 6377,
    "start_time": "2024-08-08T08:30:53.931Z"
   },
   {
    "duration": 5,
    "start_time": "2024-08-08T08:31:00.311Z"
   },
   {
    "duration": 140,
    "start_time": "2024-08-08T08:31:00.317Z"
   },
   {
    "duration": 130,
    "start_time": "2024-08-08T08:31:00.458Z"
   },
   {
    "duration": 147,
    "start_time": "2024-08-08T08:31:00.590Z"
   },
   {
    "duration": 9,
    "start_time": "2024-08-08T08:31:00.739Z"
   },
   {
    "duration": 44,
    "start_time": "2024-08-08T08:31:00.750Z"
   },
   {
    "duration": 45,
    "start_time": "2024-08-08T08:31:00.796Z"
   },
   {
    "duration": 32,
    "start_time": "2024-08-08T08:31:00.843Z"
   },
   {
    "duration": 7071,
    "start_time": "2024-08-08T08:31:00.877Z"
   },
   {
    "duration": 3,
    "start_time": "2024-08-08T08:31:07.950Z"
   },
   {
    "duration": 18,
    "start_time": "2024-08-08T08:31:07.955Z"
   },
   {
    "duration": 20,
    "start_time": "2024-08-08T08:31:07.975Z"
   },
   {
    "duration": 41930,
    "start_time": "2024-08-08T08:31:08.007Z"
   },
   {
    "duration": 0,
    "start_time": "2024-08-08T08:31:50.004Z"
   },
   {
    "duration": 42001,
    "start_time": "2024-08-08T08:36:03.916Z"
   },
   {
    "duration": 40637,
    "start_time": "2024-08-08T08:39:54.580Z"
   },
   {
    "duration": 14,
    "start_time": "2024-08-08T08:49:53.685Z"
   },
   {
    "duration": 411513,
    "start_time": "2024-08-08T08:52:23.702Z"
   },
   {
    "duration": 4,
    "start_time": "2024-08-08T08:59:37.452Z"
   },
   {
    "duration": 5,
    "start_time": "2024-08-08T08:59:40.894Z"
   },
   {
    "duration": 8,
    "start_time": "2024-08-08T08:59:43.256Z"
   },
   {
    "duration": 42738,
    "start_time": "2024-08-08T09:01:12.388Z"
   },
   {
    "duration": 3,
    "start_time": "2024-08-08T09:03:36.532Z"
   },
   {
    "duration": 3,
    "start_time": "2024-08-08T09:05:36.765Z"
   },
   {
    "duration": 43949,
    "start_time": "2024-08-08T09:05:37.522Z"
   },
   {
    "duration": 5,
    "start_time": "2024-08-08T09:06:48.977Z"
   },
   {
    "duration": 6,
    "start_time": "2024-08-08T09:06:52.925Z"
   },
   {
    "duration": 8,
    "start_time": "2024-08-08T09:06:54.552Z"
   },
   {
    "duration": 403019,
    "start_time": "2024-08-08T09:07:29.202Z"
   },
   {
    "duration": 3,
    "start_time": "2024-08-08T09:14:12.223Z"
   },
   {
    "duration": 8,
    "start_time": "2024-08-08T09:14:47.276Z"
   },
   {
    "duration": 10,
    "start_time": "2024-08-08T09:19:30.806Z"
   },
   {
    "duration": 11,
    "start_time": "2024-08-08T09:19:43.391Z"
   },
   {
    "duration": 395919,
    "start_time": "2024-08-08T09:19:54.997Z"
   },
   {
    "duration": 9,
    "start_time": "2024-08-08T09:26:39.764Z"
   },
   {
    "duration": 10,
    "start_time": "2024-08-08T09:26:41.235Z"
   },
   {
    "duration": 3,
    "start_time": "2024-08-08T09:26:43.888Z"
   },
   {
    "duration": 4,
    "start_time": "2024-08-08T09:26:51.711Z"
   },
   {
    "duration": 2,
    "start_time": "2024-08-08T09:27:27.516Z"
   },
   {
    "duration": 42579,
    "start_time": "2024-08-08T09:27:35.895Z"
   },
   {
    "duration": 4,
    "start_time": "2024-08-08T09:28:18.475Z"
   },
   {
    "duration": 4,
    "start_time": "2024-08-08T09:28:24.601Z"
   },
   {
    "duration": 7,
    "start_time": "2024-08-08T09:28:25.319Z"
   },
   {
    "duration": 9,
    "start_time": "2024-08-08T09:30:11.983Z"
   },
   {
    "duration": 3,
    "start_time": "2024-08-08T09:30:13.089Z"
   },
   {
    "duration": 3,
    "start_time": "2024-08-08T09:30:35.338Z"
   },
   {
    "duration": 3,
    "start_time": "2024-08-08T09:30:37.281Z"
   },
   {
    "duration": 4,
    "start_time": "2024-08-08T09:30:37.775Z"
   },
   {
    "duration": 46853,
    "start_time": "2024-08-08T09:31:51.814Z"
   },
   {
    "duration": 4,
    "start_time": "2024-08-08T09:32:48.666Z"
   },
   {
    "duration": 3,
    "start_time": "2024-08-08T09:32:58.518Z"
   },
   {
    "duration": 47084,
    "start_time": "2024-08-08T09:33:08.063Z"
   },
   {
    "duration": 4,
    "start_time": "2024-08-08T09:34:25.331Z"
   },
   {
    "duration": 5,
    "start_time": "2024-08-08T09:34:28.519Z"
   },
   {
    "duration": 7,
    "start_time": "2024-08-08T09:34:29.203Z"
   },
   {
    "duration": 3,
    "start_time": "2024-08-08T09:34:52.742Z"
   },
   {
    "duration": 4,
    "start_time": "2024-08-08T09:34:55.922Z"
   },
   {
    "duration": 14,
    "start_time": "2024-08-08T09:35:04.271Z"
   },
   {
    "duration": 4,
    "start_time": "2024-08-08T09:40:34.363Z"
   },
   {
    "duration": 3,
    "start_time": "2024-08-08T09:44:26.539Z"
   },
   {
    "duration": 4,
    "start_time": "2024-08-08T09:44:31.650Z"
   },
   {
    "duration": 2,
    "start_time": "2024-08-08T09:44:33.239Z"
   },
   {
    "duration": 406155,
    "start_time": "2024-08-08T09:44:33.969Z"
   },
   {
    "duration": 5,
    "start_time": "2024-08-08T09:51:45.415Z"
   },
   {
    "duration": 15,
    "start_time": "2024-08-08T09:51:49.409Z"
   },
   {
    "duration": 5,
    "start_time": "2024-08-08T09:52:02.150Z"
   },
   {
    "duration": 5,
    "start_time": "2024-08-08T09:52:05.833Z"
   },
   {
    "duration": 4,
    "start_time": "2024-08-08T09:52:36.119Z"
   },
   {
    "duration": 6,
    "start_time": "2024-08-08T09:52:48.026Z"
   },
   {
    "duration": 3,
    "start_time": "2024-08-08T09:53:09.625Z"
   },
   {
    "duration": 44594,
    "start_time": "2024-08-08T09:53:10.956Z"
   },
   {
    "duration": 11,
    "start_time": "2024-08-08T09:53:55.552Z"
   },
   {
    "duration": 16,
    "start_time": "2024-08-08T09:53:55.565Z"
   },
   {
    "duration": 3,
    "start_time": "2024-08-08T09:54:01.152Z"
   },
   {
    "duration": 5,
    "start_time": "2024-08-08T09:54:04.518Z"
   },
   {
    "duration": 3,
    "start_time": "2024-08-08T09:54:52.100Z"
   },
   {
    "duration": 51342,
    "start_time": "2024-08-08T09:55:20.290Z"
   },
   {
    "duration": 5,
    "start_time": "2024-08-08T09:56:14.049Z"
   },
   {
    "duration": 8,
    "start_time": "2024-08-08T09:56:14.874Z"
   },
   {
    "duration": 3,
    "start_time": "2024-08-08T09:56:18.454Z"
   },
   {
    "duration": 4,
    "start_time": "2024-08-08T09:56:21.721Z"
   },
   {
    "duration": 16,
    "start_time": "2024-08-08T09:56:28.244Z"
   },
   {
    "duration": 13,
    "start_time": "2024-08-08T10:07:21.454Z"
   },
   {
    "duration": 7501,
    "start_time": "2024-08-08T10:07:22.235Z"
   },
   {
    "duration": 6,
    "start_time": "2024-08-08T10:07:29.738Z"
   },
   {
    "duration": 16,
    "start_time": "2024-08-08T10:07:49.426Z"
   },
   {
    "duration": 5,
    "start_time": "2024-08-08T10:09:07.423Z"
   },
   {
    "duration": 3,
    "start_time": "2024-08-08T10:13:01.341Z"
   },
   {
    "duration": 16,
    "start_time": "2024-08-08T10:13:04.101Z"
   },
   {
    "duration": 7468,
    "start_time": "2024-08-08T10:13:04.731Z"
   },
   {
    "duration": 19,
    "start_time": "2024-08-08T10:13:12.201Z"
   },
   {
    "duration": 113288,
    "start_time": "2024-08-08T10:13:12.222Z"
   },
   {
    "duration": 101,
    "start_time": "2024-08-08T10:15:05.515Z"
   },
   {
    "duration": 29,
    "start_time": "2024-08-08T10:15:05.620Z"
   },
   {
    "duration": 0,
    "start_time": "2024-08-08T10:15:05.651Z"
   },
   {
    "duration": 27,
    "start_time": "2024-08-08T10:20:49.610Z"
   },
   {
    "duration": 8,
    "start_time": "2024-08-08T10:21:28.323Z"
   },
   {
    "duration": 6,
    "start_time": "2024-08-08T10:21:32.768Z"
   },
   {
    "duration": 12,
    "start_time": "2024-08-08T10:21:35.000Z"
   },
   {
    "duration": 4,
    "start_time": "2024-08-08T10:21:36.647Z"
   },
   {
    "duration": 3,
    "start_time": "2024-08-08T10:28:51.701Z"
   },
   {
    "duration": 3,
    "start_time": "2024-08-08T10:29:07.255Z"
   },
   {
    "duration": 4,
    "start_time": "2024-08-08T10:29:16.261Z"
   },
   {
    "duration": 3,
    "start_time": "2024-08-08T10:30:13.070Z"
   },
   {
    "duration": 4,
    "start_time": "2024-08-08T10:31:13.882Z"
   },
   {
    "duration": 3,
    "start_time": "2024-08-08T10:31:38.939Z"
   },
   {
    "duration": 3,
    "start_time": "2024-08-08T10:31:39.487Z"
   },
   {
    "duration": 4,
    "start_time": "2024-08-08T10:31:40.559Z"
   },
   {
    "duration": 2,
    "start_time": "2024-08-08T10:31:41.608Z"
   },
   {
    "duration": 7,
    "start_time": "2024-08-08T10:31:44.381Z"
   },
   {
    "duration": 7,
    "start_time": "2024-08-08T10:31:48.299Z"
   },
   {
    "duration": 12,
    "start_time": "2024-08-08T10:32:16.867Z"
   },
   {
    "duration": 12,
    "start_time": "2024-08-08T10:32:28.453Z"
   },
   {
    "duration": 4,
    "start_time": "2024-08-08T10:32:53.553Z"
   },
   {
    "duration": 6,
    "start_time": "2024-08-08T10:33:08.763Z"
   },
   {
    "duration": 4,
    "start_time": "2024-08-08T10:33:49.500Z"
   },
   {
    "duration": 7,
    "start_time": "2024-08-08T10:33:56.119Z"
   },
   {
    "duration": 3,
    "start_time": "2024-08-08T10:34:44.482Z"
   },
   {
    "duration": 76,
    "start_time": "2024-08-08T10:35:31.938Z"
   },
   {
    "duration": 11,
    "start_time": "2024-08-08T10:36:38.297Z"
   },
   {
    "duration": 3,
    "start_time": "2024-08-08T10:36:49.412Z"
   },
   {
    "duration": 3,
    "start_time": "2024-08-08T10:36:50.130Z"
   },
   {
    "duration": 5,
    "start_time": "2024-08-08T10:36:50.736Z"
   },
   {
    "duration": 11,
    "start_time": "2024-08-08T10:37:21.704Z"
   },
   {
    "duration": 8,
    "start_time": "2024-08-08T10:37:37.067Z"
   },
   {
    "duration": 5,
    "start_time": "2024-08-08T10:37:55.992Z"
   },
   {
    "duration": 10,
    "start_time": "2024-08-08T10:38:00.577Z"
   },
   {
    "duration": 8,
    "start_time": "2024-08-08T10:38:26.450Z"
   },
   {
    "duration": 4,
    "start_time": "2024-08-08T10:38:53.949Z"
   },
   {
    "duration": 7,
    "start_time": "2024-08-08T10:38:59.103Z"
   },
   {
    "duration": 4,
    "start_time": "2024-08-08T10:40:30.871Z"
   },
   {
    "duration": 3,
    "start_time": "2024-08-08T10:40:31.529Z"
   },
   {
    "duration": 2,
    "start_time": "2024-08-08T10:40:32.998Z"
   },
   {
    "duration": 7,
    "start_time": "2024-08-08T10:40:33.506Z"
   },
   {
    "duration": 3,
    "start_time": "2024-08-08T10:41:53.438Z"
   },
   {
    "duration": 3,
    "start_time": "2024-08-08T10:41:53.945Z"
   },
   {
    "duration": 3,
    "start_time": "2024-08-08T10:41:55.058Z"
   },
   {
    "duration": 24,
    "start_time": "2024-08-08T10:41:55.474Z"
   },
   {
    "duration": 4,
    "start_time": "2024-08-08T10:42:39.411Z"
   },
   {
    "duration": 19,
    "start_time": "2024-08-08T10:42:47.757Z"
   },
   {
    "duration": 13,
    "start_time": "2024-08-08T10:45:06.120Z"
   },
   {
    "duration": 3,
    "start_time": "2024-08-08T10:45:16.176Z"
   },
   {
    "duration": 3,
    "start_time": "2024-08-08T10:45:18.304Z"
   },
   {
    "duration": 21,
    "start_time": "2024-08-08T10:45:21.992Z"
   },
   {
    "duration": 2123,
    "start_time": "2024-08-08T10:45:44.147Z"
   },
   {
    "duration": 945,
    "start_time": "2024-08-08T10:45:46.271Z"
   },
   {
    "duration": 275,
    "start_time": "2024-08-08T10:45:47.217Z"
   },
   {
    "duration": 14,
    "start_time": "2024-08-08T10:45:47.493Z"
   },
   {
    "duration": 6,
    "start_time": "2024-08-08T10:45:47.508Z"
   },
   {
    "duration": 2,
    "start_time": "2024-08-08T10:45:47.515Z"
   },
   {
    "duration": 168,
    "start_time": "2024-08-08T10:45:47.519Z"
   },
   {
    "duration": 6,
    "start_time": "2024-08-08T10:45:47.688Z"
   },
   {
    "duration": 33,
    "start_time": "2024-08-08T10:45:47.696Z"
   },
   {
    "duration": 73,
    "start_time": "2024-08-08T10:45:47.732Z"
   },
   {
    "duration": 8,
    "start_time": "2024-08-08T10:45:47.806Z"
   },
   {
    "duration": 34,
    "start_time": "2024-08-08T10:45:47.816Z"
   },
   {
    "duration": 30,
    "start_time": "2024-08-08T10:45:47.852Z"
   },
   {
    "duration": 3,
    "start_time": "2024-08-08T10:45:47.884Z"
   },
   {
    "duration": 11,
    "start_time": "2024-08-08T10:45:47.889Z"
   },
   {
    "duration": 84,
    "start_time": "2024-08-08T10:45:47.902Z"
   },
   {
    "duration": 45,
    "start_time": "2024-08-08T10:45:47.988Z"
   },
   {
    "duration": 37,
    "start_time": "2024-08-08T10:45:48.034Z"
   },
   {
    "duration": 3,
    "start_time": "2024-08-08T10:45:48.073Z"
   },
   {
    "duration": 6,
    "start_time": "2024-08-08T10:45:48.078Z"
   },
   {
    "duration": 339,
    "start_time": "2024-08-08T10:45:48.085Z"
   },
   {
    "duration": 1077,
    "start_time": "2024-08-08T10:45:48.426Z"
   },
   {
    "duration": 11,
    "start_time": "2024-08-08T10:45:49.505Z"
   },
   {
    "duration": 8,
    "start_time": "2024-08-08T10:45:49.517Z"
   },
   {
    "duration": 16,
    "start_time": "2024-08-08T10:45:49.526Z"
   },
   {
    "duration": 36,
    "start_time": "2024-08-08T10:45:49.544Z"
   },
   {
    "duration": 19,
    "start_time": "2024-08-08T10:45:49.581Z"
   },
   {
    "duration": 10,
    "start_time": "2024-08-08T10:45:49.604Z"
   },
   {
    "duration": 15,
    "start_time": "2024-08-08T10:45:49.616Z"
   },
   {
    "duration": 1145119,
    "start_time": "2024-08-08T10:45:49.633Z"
   },
   {
    "duration": 9,
    "start_time": "2024-08-08T11:04:54.754Z"
   },
   {
    "duration": 40,
    "start_time": "2024-08-08T11:04:54.764Z"
   },
   {
    "duration": 30,
    "start_time": "2024-08-08T11:04:54.805Z"
   },
   {
    "duration": 64,
    "start_time": "2024-08-08T11:04:54.837Z"
   },
   {
    "duration": 546,
    "start_time": "2024-08-08T11:04:54.903Z"
   },
   {
    "duration": 4,
    "start_time": "2024-08-08T11:04:55.451Z"
   },
   {
    "duration": 27,
    "start_time": "2024-08-08T11:04:55.456Z"
   },
   {
    "duration": 6380,
    "start_time": "2024-08-08T11:04:55.485Z"
   },
   {
    "duration": 4,
    "start_time": "2024-08-08T11:05:01.867Z"
   },
   {
    "duration": 360,
    "start_time": "2024-08-08T11:05:01.873Z"
   },
   {
    "duration": 258,
    "start_time": "2024-08-08T11:05:02.235Z"
   },
   {
    "duration": 146,
    "start_time": "2024-08-08T11:05:02.494Z"
   },
   {
    "duration": 10,
    "start_time": "2024-08-08T11:05:02.642Z"
   },
   {
    "duration": 28,
    "start_time": "2024-08-08T11:05:02.653Z"
   },
   {
    "duration": 30,
    "start_time": "2024-08-08T11:05:02.683Z"
   },
   {
    "duration": 33,
    "start_time": "2024-08-08T11:05:02.715Z"
   },
   {
    "duration": 6915,
    "start_time": "2024-08-08T11:05:02.750Z"
   },
   {
    "duration": 3,
    "start_time": "2024-08-08T11:05:09.667Z"
   },
   {
    "duration": 23,
    "start_time": "2024-08-08T11:05:09.672Z"
   },
   {
    "duration": 13,
    "start_time": "2024-08-08T11:05:09.697Z"
   },
   {
    "duration": 7,
    "start_time": "2024-08-08T11:05:09.711Z"
   },
   {
    "duration": 43635,
    "start_time": "2024-08-08T11:05:09.720Z"
   },
   {
    "duration": 0,
    "start_time": "2024-08-08T11:05:53.357Z"
   },
   {
    "duration": 0,
    "start_time": "2024-08-08T11:05:53.358Z"
   },
   {
    "duration": 0,
    "start_time": "2024-08-08T11:05:53.360Z"
   },
   {
    "duration": 0,
    "start_time": "2024-08-08T11:05:53.361Z"
   },
   {
    "duration": 0,
    "start_time": "2024-08-08T11:05:53.363Z"
   },
   {
    "duration": 0,
    "start_time": "2024-08-08T11:05:53.364Z"
   },
   {
    "duration": 0,
    "start_time": "2024-08-08T11:05:53.365Z"
   },
   {
    "duration": 0,
    "start_time": "2024-08-08T11:05:53.366Z"
   },
   {
    "duration": 0,
    "start_time": "2024-08-08T11:05:53.368Z"
   },
   {
    "duration": 0,
    "start_time": "2024-08-08T11:05:53.369Z"
   },
   {
    "duration": 0,
    "start_time": "2024-08-08T11:05:53.370Z"
   },
   {
    "duration": 0,
    "start_time": "2024-08-08T11:05:53.371Z"
   },
   {
    "duration": 0,
    "start_time": "2024-08-08T11:05:53.373Z"
   },
   {
    "duration": 0,
    "start_time": "2024-08-08T11:05:53.374Z"
   },
   {
    "duration": 0,
    "start_time": "2024-08-08T11:05:53.375Z"
   },
   {
    "duration": 0,
    "start_time": "2024-08-08T11:05:53.409Z"
   },
   {
    "duration": 0,
    "start_time": "2024-08-08T11:05:53.411Z"
   },
   {
    "duration": 0,
    "start_time": "2024-08-08T11:05:53.412Z"
   },
   {
    "duration": 0,
    "start_time": "2024-08-08T11:05:53.414Z"
   },
   {
    "duration": 0,
    "start_time": "2024-08-08T11:05:53.415Z"
   },
   {
    "duration": 0,
    "start_time": "2024-08-08T11:05:53.417Z"
   },
   {
    "duration": 0,
    "start_time": "2024-08-08T11:05:53.419Z"
   },
   {
    "duration": 0,
    "start_time": "2024-08-08T11:05:53.420Z"
   },
   {
    "duration": 0,
    "start_time": "2024-08-08T11:05:53.421Z"
   },
   {
    "duration": 0,
    "start_time": "2024-08-08T11:05:53.422Z"
   },
   {
    "duration": 0,
    "start_time": "2024-08-08T11:05:53.424Z"
   },
   {
    "duration": 0,
    "start_time": "2024-08-08T11:05:53.425Z"
   },
   {
    "duration": 0,
    "start_time": "2024-08-08T11:05:53.427Z"
   },
   {
    "duration": 0,
    "start_time": "2024-08-08T11:05:53.428Z"
   },
   {
    "duration": 0,
    "start_time": "2024-08-08T11:05:53.429Z"
   },
   {
    "duration": 405721,
    "start_time": "2024-08-08T11:06:50.898Z"
   },
   {
    "duration": 14,
    "start_time": "2024-08-08T11:13:41.674Z"
   },
   {
    "duration": 3,
    "start_time": "2024-08-08T11:13:42.161Z"
   },
   {
    "duration": 3,
    "start_time": "2024-08-08T11:13:51.158Z"
   },
   {
    "duration": 7,
    "start_time": "2024-08-08T11:13:54.056Z"
   },
   {
    "duration": 5,
    "start_time": "2024-08-08T11:13:55.974Z"
   },
   {
    "duration": 3,
    "start_time": "2024-08-08T11:14:23.579Z"
   },
   {
    "duration": 43733,
    "start_time": "2024-08-08T11:14:26.487Z"
   },
   {
    "duration": 9,
    "start_time": "2024-08-08T11:15:14.239Z"
   },
   {
    "duration": 4,
    "start_time": "2024-08-08T11:15:20.919Z"
   },
   {
    "duration": 3,
    "start_time": "2024-08-08T11:15:25.248Z"
   },
   {
    "duration": 5,
    "start_time": "2024-08-08T11:15:28.832Z"
   },
   {
    "duration": 4,
    "start_time": "2024-08-08T11:15:48.670Z"
   },
   {
    "duration": 3,
    "start_time": "2024-08-08T11:16:10.476Z"
   },
   {
    "duration": 46630,
    "start_time": "2024-08-08T11:16:13.036Z"
   },
   {
    "duration": 5,
    "start_time": "2024-08-08T11:17:05.354Z"
   },
   {
    "duration": 9,
    "start_time": "2024-08-08T11:17:05.967Z"
   },
   {
    "duration": 3,
    "start_time": "2024-08-08T11:17:18.459Z"
   },
   {
    "duration": 3,
    "start_time": "2024-08-08T11:17:29.359Z"
   },
   {
    "duration": 5,
    "start_time": "2024-08-08T11:17:32.893Z"
   },
   {
    "duration": 6,
    "start_time": "2024-08-08T11:17:57.807Z"
   },
   {
    "duration": 14,
    "start_time": "2024-08-08T11:18:26.731Z"
   },
   {
    "duration": 12,
    "start_time": "2024-08-08T11:20:52.668Z"
   },
   {
    "duration": 6830,
    "start_time": "2024-08-08T11:20:53.615Z"
   },
   {
    "duration": 5,
    "start_time": "2024-08-08T11:21:00.447Z"
   },
   {
    "duration": 104421,
    "start_time": "2024-08-08T11:21:05.891Z"
   },
   {
    "duration": 92,
    "start_time": "2024-08-08T11:22:50.314Z"
   },
   {
    "duration": 12,
    "start_time": "2024-08-08T11:23:04.441Z"
   },
   {
    "duration": 4,
    "start_time": "2024-08-08T11:23:04.642Z"
   },
   {
    "duration": 4,
    "start_time": "2024-08-08T11:28:58.393Z"
   },
   {
    "duration": 5,
    "start_time": "2024-08-08T11:30:58.962Z"
   },
   {
    "duration": 4,
    "start_time": "2024-08-08T11:32:29.334Z"
   },
   {
    "duration": 5,
    "start_time": "2024-08-08T11:32:48.441Z"
   },
   {
    "duration": 5,
    "start_time": "2024-08-08T11:33:11.546Z"
   },
   {
    "duration": 4,
    "start_time": "2024-08-08T11:33:33.687Z"
   },
   {
    "duration": 5,
    "start_time": "2024-08-08T11:34:10.878Z"
   },
   {
    "duration": 4,
    "start_time": "2024-08-08T11:34:39.122Z"
   },
   {
    "duration": 6,
    "start_time": "2024-08-08T11:36:35.661Z"
   },
   {
    "duration": 5,
    "start_time": "2024-08-08T11:37:04.785Z"
   },
   {
    "duration": 6,
    "start_time": "2024-08-08T11:37:43.707Z"
   },
   {
    "duration": 5,
    "start_time": "2024-08-08T11:38:03.768Z"
   },
   {
    "duration": 5,
    "start_time": "2024-08-08T11:38:14.453Z"
   },
   {
    "duration": 6,
    "start_time": "2024-08-08T11:39:17.792Z"
   },
   {
    "duration": 4,
    "start_time": "2024-08-08T11:40:29.673Z"
   },
   {
    "duration": 2140,
    "start_time": "2024-08-08T11:41:25.763Z"
   },
   {
    "duration": 929,
    "start_time": "2024-08-08T11:41:27.905Z"
   },
   {
    "duration": 296,
    "start_time": "2024-08-08T11:41:28.836Z"
   },
   {
    "duration": 5,
    "start_time": "2024-08-08T11:41:29.134Z"
   },
   {
    "duration": 76,
    "start_time": "2024-08-08T11:41:29.141Z"
   },
   {
    "duration": 3,
    "start_time": "2024-08-08T11:41:29.219Z"
   },
   {
    "duration": 190,
    "start_time": "2024-08-08T11:41:29.224Z"
   },
   {
    "duration": 6,
    "start_time": "2024-08-08T11:41:29.415Z"
   },
   {
    "duration": 51,
    "start_time": "2024-08-08T11:41:29.422Z"
   },
   {
    "duration": 81,
    "start_time": "2024-08-08T11:41:29.476Z"
   },
   {
    "duration": 7,
    "start_time": "2024-08-08T11:41:29.559Z"
   },
   {
    "duration": 33,
    "start_time": "2024-08-08T11:41:29.567Z"
   },
   {
    "duration": 17,
    "start_time": "2024-08-08T11:41:29.602Z"
   },
   {
    "duration": 5,
    "start_time": "2024-08-08T11:41:29.620Z"
   },
   {
    "duration": 13,
    "start_time": "2024-08-08T11:41:29.627Z"
   },
   {
    "duration": 7,
    "start_time": "2024-08-08T11:41:29.641Z"
   },
   {
    "duration": 8,
    "start_time": "2024-08-08T11:41:29.649Z"
   },
   {
    "duration": 26,
    "start_time": "2024-08-08T11:41:29.659Z"
   },
   {
    "duration": 4,
    "start_time": "2024-08-08T11:41:29.686Z"
   },
   {
    "duration": 6,
    "start_time": "2024-08-08T11:41:29.705Z"
   },
   {
    "duration": 380,
    "start_time": "2024-08-08T11:41:29.713Z"
   },
   {
    "duration": 1115,
    "start_time": "2024-08-08T11:41:30.094Z"
   },
   {
    "duration": 11,
    "start_time": "2024-08-08T11:41:31.211Z"
   },
   {
    "duration": 142,
    "start_time": "2024-08-08T11:41:31.224Z"
   },
   {
    "duration": 122,
    "start_time": "2024-08-08T11:41:31.367Z"
   },
   {
    "duration": 234,
    "start_time": "2024-08-08T11:41:31.491Z"
   },
   {
    "duration": 155,
    "start_time": "2024-08-08T11:41:31.726Z"
   },
   {
    "duration": 109,
    "start_time": "2024-08-08T11:41:31.885Z"
   },
   {
    "duration": 55,
    "start_time": "2024-08-08T11:41:31.995Z"
   },
   {
    "duration": 1139906,
    "start_time": "2024-08-08T11:41:32.051Z"
   },
   {
    "duration": 8,
    "start_time": "2024-08-08T12:00:31.959Z"
   },
   {
    "duration": 35,
    "start_time": "2024-08-08T12:00:31.968Z"
   },
   {
    "duration": 12,
    "start_time": "2024-08-08T12:00:32.005Z"
   },
   {
    "duration": 47,
    "start_time": "2024-08-08T12:00:32.019Z"
   },
   {
    "duration": 568,
    "start_time": "2024-08-08T12:00:32.067Z"
   },
   {
    "duration": 4,
    "start_time": "2024-08-08T12:00:32.637Z"
   },
   {
    "duration": 35,
    "start_time": "2024-08-08T12:00:32.642Z"
   },
   {
    "duration": 6502,
    "start_time": "2024-08-08T12:00:32.679Z"
   },
   {
    "duration": 4,
    "start_time": "2024-08-08T12:00:39.183Z"
   },
   {
    "duration": 25,
    "start_time": "2024-08-08T12:00:39.189Z"
   },
   {
    "duration": 89,
    "start_time": "2024-08-08T12:00:39.216Z"
   },
   {
    "duration": 113,
    "start_time": "2024-08-08T12:00:39.307Z"
   },
   {
    "duration": 10,
    "start_time": "2024-08-08T12:00:39.422Z"
   },
   {
    "duration": 48,
    "start_time": "2024-08-08T12:00:39.434Z"
   },
   {
    "duration": 66,
    "start_time": "2024-08-08T12:00:39.484Z"
   },
   {
    "duration": 18,
    "start_time": "2024-08-08T12:00:39.551Z"
   },
   {
    "duration": 7286,
    "start_time": "2024-08-08T12:00:39.570Z"
   },
   {
    "duration": 5,
    "start_time": "2024-08-08T12:00:46.858Z"
   },
   {
    "duration": 12,
    "start_time": "2024-08-08T12:00:46.865Z"
   },
   {
    "duration": 23,
    "start_time": "2024-08-08T12:00:46.879Z"
   },
   {
    "duration": 7,
    "start_time": "2024-08-08T12:00:46.904Z"
   },
   {
    "duration": 406693,
    "start_time": "2024-08-08T12:00:46.912Z"
   },
   {
    "duration": 10,
    "start_time": "2024-08-08T12:07:33.607Z"
   },
   {
    "duration": 14,
    "start_time": "2024-08-08T12:07:33.619Z"
   },
   {
    "duration": 8,
    "start_time": "2024-08-08T12:07:33.634Z"
   },
   {
    "duration": 7,
    "start_time": "2024-08-08T12:07:33.644Z"
   },
   {
    "duration": 8,
    "start_time": "2024-08-08T12:07:33.653Z"
   },
   {
    "duration": 4,
    "start_time": "2024-08-08T12:07:33.662Z"
   },
   {
    "duration": 6,
    "start_time": "2024-08-08T12:07:33.668Z"
   },
   {
    "duration": 43418,
    "start_time": "2024-08-08T12:07:33.676Z"
   },
   {
    "duration": 14,
    "start_time": "2024-08-08T12:08:17.096Z"
   },
   {
    "duration": 18,
    "start_time": "2024-08-08T12:08:17.111Z"
   },
   {
    "duration": 9,
    "start_time": "2024-08-08T12:08:17.131Z"
   },
   {
    "duration": 12,
    "start_time": "2024-08-08T12:08:17.141Z"
   },
   {
    "duration": 16,
    "start_time": "2024-08-08T12:08:17.155Z"
   },
   {
    "duration": 7,
    "start_time": "2024-08-08T12:08:17.173Z"
   },
   {
    "duration": 4,
    "start_time": "2024-08-08T12:08:17.182Z"
   },
   {
    "duration": 47136,
    "start_time": "2024-08-08T12:08:17.187Z"
   },
   {
    "duration": 5,
    "start_time": "2024-08-08T12:09:04.325Z"
   },
   {
    "duration": 16,
    "start_time": "2024-08-08T12:09:04.331Z"
   },
   {
    "duration": 10,
    "start_time": "2024-08-08T12:09:04.350Z"
   },
   {
    "duration": 15,
    "start_time": "2024-08-08T12:09:04.362Z"
   },
   {
    "duration": 14,
    "start_time": "2024-08-08T12:09:04.379Z"
   },
   {
    "duration": 17,
    "start_time": "2024-08-08T12:09:04.394Z"
   },
   {
    "duration": 8,
    "start_time": "2024-08-08T12:09:04.413Z"
   },
   {
    "duration": 19,
    "start_time": "2024-08-08T12:09:04.423Z"
   },
   {
    "duration": 17,
    "start_time": "2024-08-08T12:09:04.444Z"
   },
   {
    "duration": 13,
    "start_time": "2024-08-08T12:09:04.463Z"
   },
   {
    "duration": 7067,
    "start_time": "2024-08-08T12:09:04.478Z"
   },
   {
    "duration": 6,
    "start_time": "2024-08-08T12:09:11.547Z"
   },
   {
    "duration": 106853,
    "start_time": "2024-08-08T12:09:11.554Z"
   },
   {
    "duration": 95,
    "start_time": "2024-08-08T12:10:58.415Z"
   },
   {
    "duration": 19,
    "start_time": "2024-08-08T12:10:58.512Z"
   },
   {
    "duration": 4,
    "start_time": "2024-08-08T12:10:58.532Z"
   },
   {
    "duration": 8,
    "start_time": "2024-08-08T12:10:58.537Z"
   },
   {
    "duration": 14,
    "start_time": "2024-08-08T12:10:58.547Z"
   },
   {
    "duration": 2289,
    "start_time": "2024-08-08T12:15:23.878Z"
   },
   {
    "duration": 948,
    "start_time": "2024-08-08T12:15:26.169Z"
   },
   {
    "duration": 301,
    "start_time": "2024-08-08T12:15:27.119Z"
   },
   {
    "duration": 5,
    "start_time": "2024-08-08T12:15:27.422Z"
   },
   {
    "duration": 16,
    "start_time": "2024-08-08T12:15:27.429Z"
   },
   {
    "duration": 6,
    "start_time": "2024-08-08T12:15:27.447Z"
   },
   {
    "duration": 181,
    "start_time": "2024-08-08T12:15:27.455Z"
   },
   {
    "duration": 5,
    "start_time": "2024-08-08T12:15:27.638Z"
   },
   {
    "duration": 8,
    "start_time": "2024-08-08T12:15:27.645Z"
   },
   {
    "duration": 85,
    "start_time": "2024-08-08T12:15:27.656Z"
   },
   {
    "duration": 8,
    "start_time": "2024-08-08T12:15:27.742Z"
   },
   {
    "duration": 29,
    "start_time": "2024-08-08T12:15:27.752Z"
   },
   {
    "duration": 22,
    "start_time": "2024-08-08T12:15:27.783Z"
   },
   {
    "duration": 2,
    "start_time": "2024-08-08T12:15:27.807Z"
   },
   {
    "duration": 21,
    "start_time": "2024-08-08T12:15:27.811Z"
   },
   {
    "duration": 4,
    "start_time": "2024-08-08T12:15:27.834Z"
   },
   {
    "duration": 13,
    "start_time": "2024-08-08T12:15:27.839Z"
   },
   {
    "duration": 49,
    "start_time": "2024-08-08T12:15:27.853Z"
   },
   {
    "duration": 4,
    "start_time": "2024-08-08T12:15:27.904Z"
   },
   {
    "duration": 8,
    "start_time": "2024-08-08T12:15:27.909Z"
   },
   {
    "duration": 373,
    "start_time": "2024-08-08T12:15:27.919Z"
   },
   {
    "duration": 1162,
    "start_time": "2024-08-08T12:15:28.293Z"
   },
   {
    "duration": 11,
    "start_time": "2024-08-08T12:15:29.457Z"
   },
   {
    "duration": 20,
    "start_time": "2024-08-08T12:15:29.470Z"
   },
   {
    "duration": 13,
    "start_time": "2024-08-08T12:15:29.492Z"
   },
   {
    "duration": 91,
    "start_time": "2024-08-08T12:15:29.506Z"
   },
   {
    "duration": 5,
    "start_time": "2024-08-08T12:15:29.599Z"
   },
   {
    "duration": 4,
    "start_time": "2024-08-08T12:15:29.609Z"
   },
   {
    "duration": 4,
    "start_time": "2024-08-08T12:15:29.615Z"
   },
   {
    "duration": 3193,
    "start_time": "2024-08-08T15:47:47.331Z"
   },
   {
    "duration": 1225,
    "start_time": "2024-08-08T15:47:50.526Z"
   },
   {
    "duration": 288,
    "start_time": "2024-08-08T15:47:51.753Z"
   },
   {
    "duration": 5,
    "start_time": "2024-08-08T15:47:52.043Z"
   },
   {
    "duration": 16,
    "start_time": "2024-08-08T15:47:52.050Z"
   },
   {
    "duration": 11,
    "start_time": "2024-08-08T15:47:52.067Z"
   },
   {
    "duration": 160,
    "start_time": "2024-08-08T15:47:52.079Z"
   },
   {
    "duration": 5,
    "start_time": "2024-08-08T15:47:52.241Z"
   },
   {
    "duration": 17,
    "start_time": "2024-08-08T15:47:52.248Z"
   },
   {
    "duration": 69,
    "start_time": "2024-08-08T15:47:52.267Z"
   },
   {
    "duration": 8,
    "start_time": "2024-08-08T15:47:52.338Z"
   },
   {
    "duration": 28,
    "start_time": "2024-08-08T15:47:52.347Z"
   },
   {
    "duration": 20,
    "start_time": "2024-08-08T15:47:52.377Z"
   },
   {
    "duration": 4,
    "start_time": "2024-08-08T15:47:52.400Z"
   },
   {
    "duration": 10,
    "start_time": "2024-08-08T15:47:52.407Z"
   },
   {
    "duration": 5,
    "start_time": "2024-08-08T15:47:52.418Z"
   },
   {
    "duration": 4,
    "start_time": "2024-08-08T15:47:52.425Z"
   },
   {
    "duration": 51,
    "start_time": "2024-08-08T15:47:52.431Z"
   },
   {
    "duration": 4,
    "start_time": "2024-08-08T15:47:52.484Z"
   },
   {
    "duration": 14,
    "start_time": "2024-08-08T15:47:52.489Z"
   },
   {
    "duration": 402,
    "start_time": "2024-08-08T15:47:52.505Z"
   },
   {
    "duration": 1160,
    "start_time": "2024-08-08T15:47:52.909Z"
   },
   {
    "duration": 9,
    "start_time": "2024-08-08T15:47:54.071Z"
   },
   {
    "duration": 12,
    "start_time": "2024-08-08T15:47:54.082Z"
   },
   {
    "duration": 5,
    "start_time": "2024-08-08T15:47:54.096Z"
   },
   {
    "duration": 5,
    "start_time": "2024-08-08T15:47:54.102Z"
   },
   {
    "duration": 4,
    "start_time": "2024-08-08T15:47:54.108Z"
   },
   {
    "duration": 3,
    "start_time": "2024-08-08T15:47:54.117Z"
   },
   {
    "duration": 4,
    "start_time": "2024-08-08T15:47:54.122Z"
   },
   {
    "duration": 1162039,
    "start_time": "2024-08-08T15:47:54.128Z"
   },
   {
    "duration": 9,
    "start_time": "2024-08-08T16:07:16.169Z"
   },
   {
    "duration": 8,
    "start_time": "2024-08-08T16:07:16.184Z"
   },
   {
    "duration": 5,
    "start_time": "2024-08-08T16:07:16.194Z"
   },
   {
    "duration": 41,
    "start_time": "2024-08-08T16:07:16.204Z"
   },
   {
    "duration": 561,
    "start_time": "2024-08-08T16:07:16.265Z"
   },
   {
    "duration": 5,
    "start_time": "2024-08-08T16:07:16.827Z"
   },
   {
    "duration": 36,
    "start_time": "2024-08-08T16:07:16.834Z"
   },
   {
    "duration": 6976,
    "start_time": "2024-08-08T16:07:16.872Z"
   },
   {
    "duration": 4,
    "start_time": "2024-08-08T16:07:23.850Z"
   },
   {
    "duration": 8,
    "start_time": "2024-08-08T16:07:23.856Z"
   },
   {
    "duration": 7,
    "start_time": "2024-08-08T16:07:23.865Z"
   },
   {
    "duration": 77,
    "start_time": "2024-08-08T16:07:23.874Z"
   },
   {
    "duration": 11,
    "start_time": "2024-08-08T16:07:23.965Z"
   },
   {
    "duration": 30,
    "start_time": "2024-08-08T16:07:23.978Z"
   },
   {
    "duration": 22,
    "start_time": "2024-08-08T16:07:24.011Z"
   },
   {
    "duration": 15,
    "start_time": "2024-08-08T16:07:24.035Z"
   },
   {
    "duration": 7669,
    "start_time": "2024-08-08T16:07:24.052Z"
   },
   {
    "duration": 5,
    "start_time": "2024-08-08T16:07:31.724Z"
   },
   {
    "duration": 82,
    "start_time": "2024-08-08T16:07:31.731Z"
   },
   {
    "duration": 11,
    "start_time": "2024-08-08T16:07:31.815Z"
   },
   {
    "duration": 11,
    "start_time": "2024-08-08T16:07:31.828Z"
   },
   {
    "duration": 569324,
    "start_time": "2024-08-08T16:07:31.841Z"
   },
   {
    "duration": 11,
    "start_time": "2024-08-08T16:17:01.167Z"
   },
   {
    "duration": 41,
    "start_time": "2024-08-08T16:17:01.180Z"
   },
   {
    "duration": 60,
    "start_time": "2024-08-08T16:17:01.222Z"
   },
   {
    "duration": 188,
    "start_time": "2024-08-08T16:17:01.285Z"
   },
   {
    "duration": 101,
    "start_time": "2024-08-08T16:17:01.475Z"
   },
   {
    "duration": 31,
    "start_time": "2024-08-08T16:17:01.578Z"
   },
   {
    "duration": 35,
    "start_time": "2024-08-08T16:17:01.611Z"
   },
   {
    "duration": 62568,
    "start_time": "2024-08-08T16:17:01.649Z"
   },
   {
    "duration": 9,
    "start_time": "2024-08-08T16:18:04.219Z"
   },
   {
    "duration": 4,
    "start_time": "2024-08-08T16:18:04.230Z"
   },
   {
    "duration": 3,
    "start_time": "2024-08-08T16:18:04.236Z"
   },
   {
    "duration": 29,
    "start_time": "2024-08-08T16:18:04.240Z"
   },
   {
    "duration": 44,
    "start_time": "2024-08-08T16:18:04.271Z"
   },
   {
    "duration": 8,
    "start_time": "2024-08-08T16:18:04.317Z"
   },
   {
    "duration": 3,
    "start_time": "2024-08-08T16:18:04.326Z"
   },
   {
    "duration": 54225,
    "start_time": "2024-08-08T16:18:04.331Z"
   },
   {
    "duration": 11,
    "start_time": "2024-08-08T16:18:58.558Z"
   },
   {
    "duration": 10,
    "start_time": "2024-08-08T16:18:58.571Z"
   },
   {
    "duration": 4,
    "start_time": "2024-08-08T16:18:58.583Z"
   },
   {
    "duration": 4,
    "start_time": "2024-08-08T16:18:58.590Z"
   },
   {
    "duration": 5,
    "start_time": "2024-08-08T16:18:58.596Z"
   },
   {
    "duration": 9,
    "start_time": "2024-08-08T16:18:58.603Z"
   },
   {
    "duration": 22,
    "start_time": "2024-08-08T16:18:58.614Z"
   },
   {
    "duration": 31,
    "start_time": "2024-08-08T16:18:58.639Z"
   },
   {
    "duration": 5,
    "start_time": "2024-08-08T16:18:58.672Z"
   },
   {
    "duration": 12,
    "start_time": "2024-08-08T16:18:58.679Z"
   },
   {
    "duration": 6844,
    "start_time": "2024-08-08T16:18:58.693Z"
   },
   {
    "duration": 5,
    "start_time": "2024-08-08T16:19:05.539Z"
   },
   {
    "duration": 16470,
    "start_time": "2024-08-08T17:29:54.091Z"
   },
   {
    "duration": 1261,
    "start_time": "2024-08-08T17:30:10.563Z"
   },
   {
    "duration": 283,
    "start_time": "2024-08-08T17:30:11.825Z"
   },
   {
    "duration": 9,
    "start_time": "2024-08-08T17:30:12.110Z"
   },
   {
    "duration": 49,
    "start_time": "2024-08-08T17:30:12.120Z"
   },
   {
    "duration": 21,
    "start_time": "2024-08-08T17:30:12.171Z"
   },
   {
    "duration": 173,
    "start_time": "2024-08-08T17:30:12.194Z"
   },
   {
    "duration": 6,
    "start_time": "2024-08-08T17:30:12.369Z"
   },
   {
    "duration": 39,
    "start_time": "2024-08-08T17:30:12.376Z"
   },
   {
    "duration": 78,
    "start_time": "2024-08-08T17:30:12.418Z"
   },
   {
    "duration": 7,
    "start_time": "2024-08-08T17:30:12.497Z"
   },
   {
    "duration": 37,
    "start_time": "2024-08-08T17:30:12.506Z"
   },
   {
    "duration": 16,
    "start_time": "2024-08-08T17:30:12.545Z"
   },
   {
    "duration": 38,
    "start_time": "2024-08-08T17:30:12.563Z"
   },
   {
    "duration": 14,
    "start_time": "2024-08-08T17:30:12.602Z"
   },
   {
    "duration": 22,
    "start_time": "2024-08-08T17:30:12.618Z"
   },
   {
    "duration": 9,
    "start_time": "2024-08-08T17:30:12.642Z"
   },
   {
    "duration": 29,
    "start_time": "2024-08-08T17:30:12.652Z"
   },
   {
    "duration": 3,
    "start_time": "2024-08-08T17:30:12.683Z"
   },
   {
    "duration": 14,
    "start_time": "2024-08-08T17:30:12.688Z"
   },
   {
    "duration": 365,
    "start_time": "2024-08-08T17:30:12.703Z"
   },
   {
    "duration": 1165,
    "start_time": "2024-08-08T17:30:13.070Z"
   },
   {
    "duration": 10,
    "start_time": "2024-08-08T17:30:14.236Z"
   },
   {
    "duration": 15,
    "start_time": "2024-08-08T17:30:14.248Z"
   },
   {
    "duration": 5,
    "start_time": "2024-08-08T17:30:14.265Z"
   },
   {
    "duration": 7,
    "start_time": "2024-08-08T17:30:14.271Z"
   },
   {
    "duration": 32,
    "start_time": "2024-08-08T17:30:14.280Z"
   },
   {
    "duration": 4,
    "start_time": "2024-08-08T17:30:14.316Z"
   },
   {
    "duration": 5,
    "start_time": "2024-08-08T17:30:14.322Z"
   },
   {
    "duration": 1101591,
    "start_time": "2024-08-08T17:30:14.329Z"
   },
   {
    "duration": 8,
    "start_time": "2024-08-08T17:48:35.923Z"
   },
   {
    "duration": 8,
    "start_time": "2024-08-08T17:48:35.933Z"
   },
   {
    "duration": 11,
    "start_time": "2024-08-08T17:48:35.942Z"
   },
   {
    "duration": 51,
    "start_time": "2024-08-08T17:48:35.955Z"
   },
   {
    "duration": 549,
    "start_time": "2024-08-08T17:48:36.008Z"
   },
   {
    "duration": 5,
    "start_time": "2024-08-08T17:48:36.558Z"
   },
   {
    "duration": 24,
    "start_time": "2024-08-08T17:48:36.564Z"
   },
   {
    "duration": 6277,
    "start_time": "2024-08-08T17:48:36.590Z"
   },
   {
    "duration": 4,
    "start_time": "2024-08-08T17:48:42.869Z"
   },
   {
    "duration": 10,
    "start_time": "2024-08-08T17:48:42.875Z"
   },
   {
    "duration": 5,
    "start_time": "2024-08-08T17:48:42.887Z"
   },
   {
    "duration": 90,
    "start_time": "2024-08-08T17:48:42.894Z"
   },
   {
    "duration": 11,
    "start_time": "2024-08-08T17:48:42.986Z"
   },
   {
    "duration": 30,
    "start_time": "2024-08-08T17:48:43.000Z"
   },
   {
    "duration": 3,
    "start_time": "2024-08-08T17:48:43.032Z"
   },
   {
    "duration": 6,
    "start_time": "2024-08-08T17:48:43.037Z"
   },
   {
    "duration": 6777,
    "start_time": "2024-08-08T17:48:43.045Z"
   },
   {
    "duration": 4,
    "start_time": "2024-08-08T17:48:49.824Z"
   },
   {
    "duration": 17,
    "start_time": "2024-08-08T17:48:49.829Z"
   },
   {
    "duration": 12,
    "start_time": "2024-08-08T17:48:49.847Z"
   },
   {
    "duration": 11,
    "start_time": "2024-08-08T17:48:49.861Z"
   },
   {
    "duration": 545255,
    "start_time": "2024-08-08T17:48:49.874Z"
   },
   {
    "duration": 90,
    "start_time": "2024-08-08T17:57:55.131Z"
   },
   {
    "duration": 6,
    "start_time": "2024-08-08T17:57:55.222Z"
   },
   {
    "duration": 12,
    "start_time": "2024-08-08T17:57:55.229Z"
   },
   {
    "duration": 9,
    "start_time": "2024-08-08T17:57:55.243Z"
   },
   {
    "duration": 7,
    "start_time": "2024-08-08T17:57:55.254Z"
   },
   {
    "duration": 2,
    "start_time": "2024-08-08T17:57:55.263Z"
   },
   {
    "duration": 4,
    "start_time": "2024-08-08T17:57:55.267Z"
   },
   {
    "duration": 59394,
    "start_time": "2024-08-08T17:57:55.272Z"
   },
   {
    "duration": 9,
    "start_time": "2024-08-08T17:58:54.667Z"
   },
   {
    "duration": 62,
    "start_time": "2024-08-08T17:58:54.678Z"
   },
   {
    "duration": 13,
    "start_time": "2024-08-08T17:58:54.741Z"
   },
   {
    "duration": 14,
    "start_time": "2024-08-08T17:58:54.755Z"
   },
   {
    "duration": 17,
    "start_time": "2024-08-08T17:58:54.771Z"
   },
   {
    "duration": 36,
    "start_time": "2024-08-08T17:58:54.789Z"
   },
   {
    "duration": 5,
    "start_time": "2024-08-08T17:58:54.827Z"
   },
   {
    "duration": 52997,
    "start_time": "2024-08-08T17:58:54.833Z"
   },
   {
    "duration": 5,
    "start_time": "2024-08-08T17:59:47.831Z"
   },
   {
    "duration": 12,
    "start_time": "2024-08-08T17:59:47.837Z"
   },
   {
    "duration": 17,
    "start_time": "2024-08-08T17:59:47.851Z"
   },
   {
    "duration": 30,
    "start_time": "2024-08-08T17:59:47.870Z"
   },
   {
    "duration": 45,
    "start_time": "2024-08-08T17:59:47.901Z"
   },
   {
    "duration": 16,
    "start_time": "2024-08-08T17:59:47.948Z"
   },
   {
    "duration": 8,
    "start_time": "2024-08-08T17:59:47.965Z"
   },
   {
    "duration": 31,
    "start_time": "2024-08-08T17:59:47.974Z"
   },
   {
    "duration": 18,
    "start_time": "2024-08-08T17:59:48.007Z"
   },
   {
    "duration": 25,
    "start_time": "2024-08-08T17:59:48.027Z"
   },
   {
    "duration": 6742,
    "start_time": "2024-08-08T17:59:48.054Z"
   },
   {
    "duration": 11,
    "start_time": "2024-08-08T17:59:54.798Z"
   },
   {
    "duration": 129807,
    "start_time": "2024-08-08T17:59:54.811Z"
   },
   {
    "duration": 5,
    "start_time": "2024-08-08T18:02:04.624Z"
   },
   {
    "duration": 15,
    "start_time": "2024-08-08T18:02:04.630Z"
   },
   {
    "duration": 3,
    "start_time": "2024-08-08T18:02:04.647Z"
   },
   {
    "duration": 18,
    "start_time": "2024-08-08T18:02:04.652Z"
   },
   {
    "duration": 63,
    "start_time": "2024-08-08T18:02:04.671Z"
   },
   {
    "duration": 50,
    "start_time": "2024-08-09T02:55:23.045Z"
   },
   {
    "duration": 4616,
    "start_time": "2024-08-09T02:55:28.779Z"
   },
   {
    "duration": 1390,
    "start_time": "2024-08-09T02:55:33.397Z"
   },
   {
    "duration": 298,
    "start_time": "2024-08-09T02:55:34.789Z"
   },
   {
    "duration": 5,
    "start_time": "2024-08-09T02:55:35.089Z"
   },
   {
    "duration": 17,
    "start_time": "2024-08-09T02:55:35.104Z"
   },
   {
    "duration": 2,
    "start_time": "2024-08-09T02:55:35.123Z"
   },
   {
    "duration": 158,
    "start_time": "2024-08-09T02:55:35.126Z"
   },
   {
    "duration": 72,
    "start_time": "2024-08-09T03:03:35.795Z"
   },
   {
    "duration": 1016,
    "start_time": "2024-08-09T03:03:35.868Z"
   },
   {
    "duration": 282,
    "start_time": "2024-08-09T03:03:36.886Z"
   },
   {
    "duration": 4,
    "start_time": "2024-08-09T03:03:37.170Z"
   },
   {
    "duration": 18,
    "start_time": "2024-08-09T03:03:37.175Z"
   },
   {
    "duration": 13,
    "start_time": "2024-08-09T03:03:37.194Z"
   },
   {
    "duration": 131,
    "start_time": "2024-08-09T03:03:37.217Z"
   },
   {
    "duration": 6,
    "start_time": "2024-08-09T03:03:37.350Z"
   },
   {
    "duration": 8,
    "start_time": "2024-08-09T03:03:37.357Z"
   },
   {
    "duration": 82,
    "start_time": "2024-08-09T03:03:37.368Z"
   },
   {
    "duration": 7,
    "start_time": "2024-08-09T03:03:37.452Z"
   },
   {
    "duration": 109,
    "start_time": "2024-08-09T03:03:37.461Z"
   },
   {
    "duration": 31,
    "start_time": "2024-08-09T03:03:37.572Z"
   },
   {
    "duration": 8,
    "start_time": "2024-08-09T03:03:37.607Z"
   },
   {
    "duration": 12,
    "start_time": "2024-08-09T03:03:37.621Z"
   },
   {
    "duration": 86,
    "start_time": "2024-08-09T03:03:37.635Z"
   },
   {
    "duration": 14,
    "start_time": "2024-08-09T03:03:37.723Z"
   },
   {
    "duration": 21,
    "start_time": "2024-08-09T03:03:37.739Z"
   },
   {
    "duration": 4,
    "start_time": "2024-08-09T03:03:37.762Z"
   },
   {
    "duration": 22,
    "start_time": "2024-08-09T03:03:37.767Z"
   },
   {
    "duration": 386,
    "start_time": "2024-08-09T03:03:37.793Z"
   },
   {
    "duration": 1155,
    "start_time": "2024-08-09T03:03:38.181Z"
   },
   {
    "duration": 11,
    "start_time": "2024-08-09T03:03:39.338Z"
   },
   {
    "duration": 13,
    "start_time": "2024-08-09T03:03:39.351Z"
   },
   {
    "duration": 5,
    "start_time": "2024-08-09T03:03:39.366Z"
   },
   {
    "duration": 40,
    "start_time": "2024-08-09T03:03:39.372Z"
   },
   {
    "duration": 3,
    "start_time": "2024-08-09T03:03:39.421Z"
   },
   {
    "duration": 97,
    "start_time": "2024-08-09T03:03:39.429Z"
   },
   {
    "duration": 8,
    "start_time": "2024-08-09T03:03:39.527Z"
   },
   {
    "duration": 1240731,
    "start_time": "2024-08-09T03:03:39.536Z"
   },
   {
    "duration": 8,
    "start_time": "2024-08-09T03:24:20.269Z"
   },
   {
    "duration": 22,
    "start_time": "2024-08-09T03:24:20.278Z"
   },
   {
    "duration": 43,
    "start_time": "2024-08-09T03:24:20.301Z"
   },
   {
    "duration": 74,
    "start_time": "2024-08-09T03:24:20.346Z"
   },
   {
    "duration": 710,
    "start_time": "2024-08-09T03:24:20.422Z"
   },
   {
    "duration": 4,
    "start_time": "2024-08-09T03:24:21.134Z"
   },
   {
    "duration": 26,
    "start_time": "2024-08-09T03:24:21.140Z"
   },
   {
    "duration": 7517,
    "start_time": "2024-08-09T03:24:21.167Z"
   },
   {
    "duration": 5,
    "start_time": "2024-08-09T03:24:28.686Z"
   },
   {
    "duration": 15,
    "start_time": "2024-08-09T03:24:28.693Z"
   },
   {
    "duration": 9,
    "start_time": "2024-08-09T03:24:28.713Z"
   },
   {
    "duration": 90,
    "start_time": "2024-08-09T03:24:28.724Z"
   },
   {
    "duration": 14,
    "start_time": "2024-08-09T03:24:28.818Z"
   },
   {
    "duration": 27,
    "start_time": "2024-08-09T03:24:28.833Z"
   },
   {
    "duration": 3,
    "start_time": "2024-08-09T03:24:28.862Z"
   },
   {
    "duration": 3,
    "start_time": "2024-08-09T03:24:28.867Z"
   },
   {
    "duration": 7403,
    "start_time": "2024-08-09T03:24:28.872Z"
   },
   {
    "duration": 4,
    "start_time": "2024-08-09T03:24:36.277Z"
   },
   {
    "duration": 7,
    "start_time": "2024-08-09T03:24:36.282Z"
   },
   {
    "duration": 4,
    "start_time": "2024-08-09T03:24:36.290Z"
   },
   {
    "duration": 6,
    "start_time": "2024-08-09T03:24:36.312Z"
   },
   {
    "duration": 564186,
    "start_time": "2024-08-09T03:24:36.320Z"
   },
   {
    "duration": 16,
    "start_time": "2024-08-09T03:34:00.509Z"
   },
   {
    "duration": 106,
    "start_time": "2024-08-09T03:34:00.527Z"
   },
   {
    "duration": 133,
    "start_time": "2024-08-09T03:34:00.635Z"
   },
   {
    "duration": 160,
    "start_time": "2024-08-09T03:34:00.771Z"
   },
   {
    "duration": 84,
    "start_time": "2024-08-09T03:34:00.933Z"
   },
   {
    "duration": 79,
    "start_time": "2024-08-09T03:34:01.020Z"
   },
   {
    "duration": 27,
    "start_time": "2024-08-09T03:34:01.101Z"
   },
   {
    "duration": 67846,
    "start_time": "2024-08-09T03:34:01.130Z"
   },
   {
    "duration": 10,
    "start_time": "2024-08-09T03:35:08.978Z"
   },
   {
    "duration": 16,
    "start_time": "2024-08-09T03:35:08.989Z"
   },
   {
    "duration": 14,
    "start_time": "2024-08-09T03:35:09.007Z"
   },
   {
    "duration": 17,
    "start_time": "2024-08-09T03:35:09.023Z"
   },
   {
    "duration": 21,
    "start_time": "2024-08-09T03:35:09.042Z"
   },
   {
    "duration": 12,
    "start_time": "2024-08-09T03:35:09.065Z"
   },
   {
    "duration": 30,
    "start_time": "2024-08-09T03:35:09.079Z"
   },
   {
    "duration": 59717,
    "start_time": "2024-08-09T03:35:09.111Z"
   },
   {
    "duration": 5,
    "start_time": "2024-08-09T03:36:08.830Z"
   },
   {
    "duration": 18,
    "start_time": "2024-08-09T03:36:08.837Z"
   },
   {
    "duration": 4,
    "start_time": "2024-08-09T03:36:08.857Z"
   },
   {
    "duration": 6,
    "start_time": "2024-08-09T03:36:08.863Z"
   },
   {
    "duration": 7,
    "start_time": "2024-08-09T03:36:08.870Z"
   },
   {
    "duration": 5,
    "start_time": "2024-08-09T03:36:08.879Z"
   },
   {
    "duration": 4,
    "start_time": "2024-08-09T03:36:08.906Z"
   },
   {
    "duration": 20,
    "start_time": "2024-08-09T03:36:08.913Z"
   },
   {
    "duration": 8,
    "start_time": "2024-08-09T03:36:08.934Z"
   },
   {
    "duration": 16,
    "start_time": "2024-08-09T03:36:08.944Z"
   },
   {
    "duration": 7331,
    "start_time": "2024-08-09T03:36:08.962Z"
   },
   {
    "duration": 4,
    "start_time": "2024-08-09T03:36:16.295Z"
   },
   {
    "duration": 133406,
    "start_time": "2024-08-09T03:36:16.305Z"
   },
   {
    "duration": 81,
    "start_time": "2024-08-09T03:38:29.728Z"
   },
   {
    "duration": 20,
    "start_time": "2024-08-09T03:38:29.818Z"
   },
   {
    "duration": 58,
    "start_time": "2024-08-09T03:38:29.839Z"
   },
   {
    "duration": 38,
    "start_time": "2024-08-09T03:38:29.899Z"
   },
   {
    "duration": 23,
    "start_time": "2024-08-09T03:38:29.938Z"
   },
   {
    "duration": 362,
    "start_time": "2024-08-09T05:10:23.590Z"
   },
   {
    "duration": 6,
    "start_time": "2024-08-09T05:13:40.696Z"
   },
   {
    "duration": 896,
    "start_time": "2024-08-09T05:13:40.704Z"
   },
   {
    "duration": 262,
    "start_time": "2024-08-09T05:13:41.602Z"
   },
   {
    "duration": 5,
    "start_time": "2024-08-09T05:13:41.867Z"
   },
   {
    "duration": 6,
    "start_time": "2024-08-09T05:13:41.874Z"
   },
   {
    "duration": 24,
    "start_time": "2024-08-09T05:13:41.881Z"
   },
   {
    "duration": 136,
    "start_time": "2024-08-09T05:13:41.907Z"
   },
   {
    "duration": 6,
    "start_time": "2024-08-09T05:13:42.045Z"
   },
   {
    "duration": 8,
    "start_time": "2024-08-09T05:13:42.052Z"
   },
   {
    "duration": 142,
    "start_time": "2024-08-09T05:13:42.062Z"
   },
   {
    "duration": 7,
    "start_time": "2024-08-09T05:13:42.206Z"
   },
   {
    "duration": 20,
    "start_time": "2024-08-09T05:13:42.215Z"
   },
   {
    "duration": 11,
    "start_time": "2024-08-09T05:13:42.237Z"
   },
   {
    "duration": 4,
    "start_time": "2024-08-09T05:13:42.249Z"
   },
   {
    "duration": 9,
    "start_time": "2024-08-09T05:13:42.254Z"
   },
   {
    "duration": 8,
    "start_time": "2024-08-09T05:13:42.265Z"
   },
   {
    "duration": 5,
    "start_time": "2024-08-09T05:13:42.274Z"
   },
   {
    "duration": 17,
    "start_time": "2024-08-09T05:13:42.305Z"
   },
   {
    "duration": 3,
    "start_time": "2024-08-09T05:13:42.323Z"
   },
   {
    "duration": 3,
    "start_time": "2024-08-09T05:13:42.328Z"
   },
   {
    "duration": 376,
    "start_time": "2024-08-09T05:13:42.332Z"
   },
   {
    "duration": 1180,
    "start_time": "2024-08-09T05:13:42.709Z"
   },
   {
    "duration": 10,
    "start_time": "2024-08-09T05:13:43.890Z"
   },
   {
    "duration": 7,
    "start_time": "2024-08-09T05:13:43.905Z"
   },
   {
    "duration": 8,
    "start_time": "2024-08-09T05:13:43.914Z"
   },
   {
    "duration": 12,
    "start_time": "2024-08-09T05:13:43.924Z"
   },
   {
    "duration": 5,
    "start_time": "2024-08-09T05:13:43.938Z"
   },
   {
    "duration": 4,
    "start_time": "2024-08-09T05:13:43.947Z"
   },
   {
    "duration": 5,
    "start_time": "2024-08-09T05:13:43.952Z"
   },
   {
    "duration": 1222097,
    "start_time": "2024-08-09T05:13:43.959Z"
   },
   {
    "duration": 10,
    "start_time": "2024-08-09T05:34:06.057Z"
   },
   {
    "duration": 59,
    "start_time": "2024-08-09T05:34:06.069Z"
   },
   {
    "duration": 105,
    "start_time": "2024-08-09T05:34:06.130Z"
   },
   {
    "duration": 36,
    "start_time": "2024-08-09T05:34:06.237Z"
   },
   {
    "duration": 524,
    "start_time": "2024-08-09T05:34:06.275Z"
   },
   {
    "duration": 6,
    "start_time": "2024-08-09T05:34:06.800Z"
   },
   {
    "duration": 48,
    "start_time": "2024-08-09T05:34:06.808Z"
   },
   {
    "duration": 6636,
    "start_time": "2024-08-09T05:34:06.858Z"
   },
   {
    "duration": 5,
    "start_time": "2024-08-09T05:34:13.495Z"
   },
   {
    "duration": 3,
    "start_time": "2024-08-09T05:34:13.505Z"
   },
   {
    "duration": 35,
    "start_time": "2024-08-09T05:34:13.510Z"
   },
   {
    "duration": 113,
    "start_time": "2024-08-09T05:34:13.547Z"
   },
   {
    "duration": 10,
    "start_time": "2024-08-09T05:34:13.662Z"
   },
   {
    "duration": 14,
    "start_time": "2024-08-09T05:34:13.674Z"
   },
   {
    "duration": 16,
    "start_time": "2024-08-09T05:34:13.690Z"
   },
   {
    "duration": 16,
    "start_time": "2024-08-09T05:34:13.708Z"
   },
   {
    "duration": 7148,
    "start_time": "2024-08-09T05:34:13.726Z"
   },
   {
    "duration": 5,
    "start_time": "2024-08-09T05:34:20.876Z"
   },
   {
    "duration": 5,
    "start_time": "2024-08-09T05:34:20.882Z"
   },
   {
    "duration": 18,
    "start_time": "2024-08-09T05:34:20.889Z"
   },
   {
    "duration": 73,
    "start_time": "2024-08-09T05:34:20.909Z"
   },
   {
    "duration": 580129,
    "start_time": "2024-08-09T05:34:20.984Z"
   },
   {
    "duration": 93,
    "start_time": "2024-08-09T05:44:01.117Z"
   },
   {
    "duration": 325,
    "start_time": "2024-08-09T05:44:01.212Z"
   },
   {
    "duration": 176,
    "start_time": "2024-08-09T05:44:01.538Z"
   },
   {
    "duration": 87,
    "start_time": "2024-08-09T05:44:01.716Z"
   },
   {
    "duration": 143,
    "start_time": "2024-08-09T05:44:01.805Z"
   },
   {
    "duration": 114,
    "start_time": "2024-08-09T05:44:01.950Z"
   },
   {
    "duration": 55,
    "start_time": "2024-08-09T05:44:02.066Z"
   },
   {
    "duration": 64412,
    "start_time": "2024-08-09T05:44:02.122Z"
   },
   {
    "duration": 10,
    "start_time": "2024-08-09T05:45:06.536Z"
   },
   {
    "duration": 11,
    "start_time": "2024-08-09T05:45:06.548Z"
   },
   {
    "duration": 5,
    "start_time": "2024-08-09T05:45:06.560Z"
   },
   {
    "duration": 4,
    "start_time": "2024-08-09T05:45:06.567Z"
   },
   {
    "duration": 30,
    "start_time": "2024-08-09T05:45:06.572Z"
   },
   {
    "duration": 13,
    "start_time": "2024-08-09T05:45:06.604Z"
   },
   {
    "duration": 4,
    "start_time": "2024-08-09T05:45:06.619Z"
   },
   {
    "duration": 57701,
    "start_time": "2024-08-09T05:45:06.624Z"
   },
   {
    "duration": 4,
    "start_time": "2024-08-09T05:46:04.327Z"
   },
   {
    "duration": 24,
    "start_time": "2024-08-09T05:46:04.333Z"
   },
   {
    "duration": 16,
    "start_time": "2024-08-09T05:46:04.359Z"
   },
   {
    "duration": 17,
    "start_time": "2024-08-09T05:46:04.377Z"
   },
   {
    "duration": 14,
    "start_time": "2024-08-09T05:46:04.396Z"
   },
   {
    "duration": 8,
    "start_time": "2024-08-09T05:46:04.412Z"
   },
   {
    "duration": 16,
    "start_time": "2024-08-09T05:46:04.422Z"
   },
   {
    "duration": 18,
    "start_time": "2024-08-09T05:46:04.440Z"
   },
   {
    "duration": 21,
    "start_time": "2024-08-09T05:46:04.460Z"
   },
   {
    "duration": 21,
    "start_time": "2024-08-09T05:46:04.483Z"
   },
   {
    "duration": 7272,
    "start_time": "2024-08-09T05:46:04.506Z"
   },
   {
    "duration": 6,
    "start_time": "2024-08-09T05:46:11.779Z"
   },
   {
    "duration": 139325,
    "start_time": "2024-08-09T05:46:11.786Z"
   },
   {
    "duration": 88,
    "start_time": "2024-08-09T05:48:31.117Z"
   },
   {
    "duration": 209,
    "start_time": "2024-08-09T05:48:31.207Z"
   },
   {
    "duration": 134,
    "start_time": "2024-08-09T05:48:31.418Z"
   },
   {
    "duration": 163,
    "start_time": "2024-08-09T05:48:31.553Z"
   },
   {
    "duration": 90,
    "start_time": "2024-08-09T05:48:31.718Z"
   },
   {
    "duration": 100,
    "start_time": "2024-08-09T06:03:21.404Z"
   },
   {
    "duration": 6698,
    "start_time": "2024-08-09T06:03:21.508Z"
   },
   {
    "duration": 1897,
    "start_time": "2024-08-09T06:03:28.209Z"
   },
   {
    "duration": 9,
    "start_time": "2024-08-09T06:03:30.109Z"
   },
   {
    "duration": 100,
    "start_time": "2024-08-09T06:03:30.209Z"
   },
   {
    "duration": 97,
    "start_time": "2024-08-09T06:03:30.315Z"
   },
   {
    "duration": 1094,
    "start_time": "2024-08-09T06:03:30.416Z"
   },
   {
    "duration": 98,
    "start_time": "2024-08-09T06:03:31.512Z"
   },
   {
    "duration": 299,
    "start_time": "2024-08-09T06:03:31.611Z"
   },
   {
    "duration": 701,
    "start_time": "2024-08-09T06:03:31.914Z"
   },
   {
    "duration": 94,
    "start_time": "2024-08-09T06:03:32.617Z"
   },
   {
    "duration": 197,
    "start_time": "2024-08-09T06:03:32.715Z"
   },
   {
    "duration": 184,
    "start_time": "2024-08-09T06:03:32.920Z"
   },
   {
    "duration": 5,
    "start_time": "2024-08-09T06:03:33.206Z"
   },
   {
    "duration": 102,
    "start_time": "2024-08-09T06:03:33.310Z"
   },
   {
    "duration": 103,
    "start_time": "2024-08-09T06:03:33.415Z"
   },
   {
    "duration": 106,
    "start_time": "2024-08-09T06:03:33.606Z"
   },
   {
    "duration": 392,
    "start_time": "2024-08-09T06:03:33.714Z"
   },
   {
    "duration": 99,
    "start_time": "2024-08-09T06:03:34.112Z"
   },
   {
    "duration": 95,
    "start_time": "2024-08-09T06:03:34.214Z"
   },
   {
    "duration": 2314,
    "start_time": "2024-08-09T06:03:34.404Z"
   },
   {
    "duration": 6686,
    "start_time": "2024-08-09T06:03:36.720Z"
   },
   {
    "duration": 98,
    "start_time": "2024-08-09T06:03:43.409Z"
   },
   {
    "duration": 100,
    "start_time": "2024-08-09T06:03:43.513Z"
   },
   {
    "duration": 7,
    "start_time": "2024-08-09T06:03:43.706Z"
   },
   {
    "duration": 189,
    "start_time": "2024-08-09T06:03:43.715Z"
   },
   {
    "duration": 101,
    "start_time": "2024-08-09T06:03:43.906Z"
   },
   {
    "duration": 95,
    "start_time": "2024-08-09T06:03:44.016Z"
   },
   {
    "duration": 98,
    "start_time": "2024-08-09T06:03:44.115Z"
   },
   {
    "duration": 3811129,
    "start_time": "2024-08-09T06:03:44.216Z"
   },
   {
    "duration": 65,
    "start_time": "2024-08-09T07:07:15.347Z"
   },
   {
    "duration": 17,
    "start_time": "2024-08-09T07:07:15.414Z"
   },
   {
    "duration": 74,
    "start_time": "2024-08-09T07:07:15.432Z"
   },
   {
    "duration": 101,
    "start_time": "2024-08-09T07:07:15.508Z"
   },
   {
    "duration": 1300,
    "start_time": "2024-08-09T07:07:15.611Z"
   },
   {
    "duration": 5,
    "start_time": "2024-08-09T07:07:16.912Z"
   },
   {
    "duration": 94,
    "start_time": "2024-08-09T07:07:16.919Z"
   },
   {
    "duration": 14390,
    "start_time": "2024-08-09T07:07:17.015Z"
   },
   {
    "duration": 5,
    "start_time": "2024-08-09T07:07:31.408Z"
   },
   {
    "duration": 46,
    "start_time": "2024-08-09T07:07:31.415Z"
   },
   {
    "duration": 246,
    "start_time": "2024-08-09T07:07:31.463Z"
   },
   {
    "duration": 234,
    "start_time": "2024-08-09T07:07:31.711Z"
   },
   {
    "duration": 68,
    "start_time": "2024-08-09T07:07:31.948Z"
   },
   {
    "duration": 96,
    "start_time": "2024-08-09T07:07:32.018Z"
   },
   {
    "duration": 4,
    "start_time": "2024-08-09T07:07:32.117Z"
   },
   {
    "duration": 88,
    "start_time": "2024-08-09T07:07:32.123Z"
   },
   {
    "duration": 16699,
    "start_time": "2024-08-09T07:07:32.213Z"
   },
   {
    "duration": 5,
    "start_time": "2024-08-09T07:07:48.914Z"
   },
   {
    "duration": 8,
    "start_time": "2024-08-09T07:07:48.921Z"
   },
   {
    "duration": 75,
    "start_time": "2024-08-09T07:07:48.930Z"
   },
   {
    "duration": 37,
    "start_time": "2024-08-09T07:07:49.007Z"
   },
   {
    "duration": 659661,
    "start_time": "2024-08-09T07:07:49.045Z"
   },
   {
    "duration": 10,
    "start_time": "2024-08-09T07:18:48.708Z"
   },
   {
    "duration": 33,
    "start_time": "2024-08-09T07:18:48.720Z"
   },
   {
    "duration": 51,
    "start_time": "2024-08-09T07:18:48.754Z"
   },
   {
    "duration": 9,
    "start_time": "2024-08-09T07:18:48.807Z"
   },
   {
    "duration": 10,
    "start_time": "2024-08-09T07:18:48.817Z"
   },
   {
    "duration": 9,
    "start_time": "2024-08-09T07:18:48.828Z"
   },
   {
    "duration": 132098,
    "start_time": "2024-08-09T07:18:48.838Z"
   },
   {
    "duration": 68,
    "start_time": "2024-08-09T07:21:00.938Z"
   },
   {
    "duration": 63,
    "start_time": "2024-08-09T07:21:01.008Z"
   },
   {
    "duration": 126,
    "start_time": "2024-08-09T07:21:01.073Z"
   },
   {
    "duration": 69,
    "start_time": "2024-08-09T07:21:01.200Z"
   },
   {
    "duration": 250,
    "start_time": "2024-08-09T07:21:01.270Z"
   },
   {
    "duration": 179,
    "start_time": "2024-08-09T07:21:01.521Z"
   },
   {
    "duration": 116226,
    "start_time": "2024-08-09T07:21:01.703Z"
   },
   {
    "duration": 5,
    "start_time": "2024-08-09T07:22:57.931Z"
   },
   {
    "duration": 71,
    "start_time": "2024-08-09T07:22:57.938Z"
   },
   {
    "duration": 19,
    "start_time": "2024-08-09T07:22:58.011Z"
   },
   {
    "duration": 73,
    "start_time": "2024-08-09T07:22:58.032Z"
   },
   {
    "duration": 14,
    "start_time": "2024-08-09T07:22:58.107Z"
   },
   {
    "duration": 5,
    "start_time": "2024-08-09T07:22:58.123Z"
   },
   {
    "duration": 14,
    "start_time": "2024-08-09T07:22:58.130Z"
   },
   {
    "duration": 62,
    "start_time": "2024-08-09T07:22:58.146Z"
   },
   {
    "duration": 26,
    "start_time": "2024-08-09T07:22:58.210Z"
   },
   {
    "duration": 14366,
    "start_time": "2024-08-09T07:22:58.239Z"
   },
   {
    "duration": 5,
    "start_time": "2024-08-09T07:23:12.607Z"
   },
   {
    "duration": 153994,
    "start_time": "2024-08-09T07:23:12.614Z"
   },
   {
    "duration": 6,
    "start_time": "2024-08-09T07:25:46.609Z"
   },
   {
    "duration": 11,
    "start_time": "2024-08-09T07:25:46.617Z"
   },
   {
    "duration": 4,
    "start_time": "2024-08-09T07:25:46.630Z"
   },
   {
    "duration": 69,
    "start_time": "2024-08-09T07:25:46.640Z"
   },
   {
    "duration": 42,
    "start_time": "2024-08-09T07:25:46.712Z"
   },
   {
    "duration": 5103,
    "start_time": "2024-08-10T09:40:08.269Z"
   },
   {
    "duration": 3,
    "start_time": "2024-08-10T09:40:13.375Z"
   },
   {
    "duration": 2213,
    "start_time": "2024-08-10T09:40:13.380Z"
   },
   {
    "duration": 590,
    "start_time": "2024-08-10T09:40:15.595Z"
   },
   {
    "duration": 60,
    "start_time": "2024-08-10T09:40:16.187Z"
   },
   {
    "duration": 27,
    "start_time": "2024-08-10T09:40:16.249Z"
   },
   {
    "duration": 17,
    "start_time": "2024-08-10T09:40:16.278Z"
   },
   {
    "duration": 286,
    "start_time": "2024-08-10T09:40:16.297Z"
   },
   {
    "duration": 6,
    "start_time": "2024-08-10T09:40:16.585Z"
   },
   {
    "duration": 7,
    "start_time": "2024-08-10T09:40:16.646Z"
   },
   {
    "duration": 142,
    "start_time": "2024-08-10T09:40:16.654Z"
   },
   {
    "duration": 55,
    "start_time": "2024-08-10T09:40:16.797Z"
   },
   {
    "duration": 18,
    "start_time": "2024-08-10T09:40:16.854Z"
   },
   {
    "duration": 77,
    "start_time": "2024-08-10T09:40:16.873Z"
   },
   {
    "duration": 3,
    "start_time": "2024-08-10T09:40:16.952Z"
   },
   {
    "duration": 90,
    "start_time": "2024-08-10T09:40:16.957Z"
   },
   {
    "duration": 7,
    "start_time": "2024-08-10T09:40:17.049Z"
   },
   {
    "duration": 6,
    "start_time": "2024-08-10T09:40:17.058Z"
   },
   {
    "duration": 82,
    "start_time": "2024-08-10T09:40:17.066Z"
   },
   {
    "duration": 4,
    "start_time": "2024-08-10T09:40:17.150Z"
   },
   {
    "duration": 20,
    "start_time": "2024-08-10T09:40:17.156Z"
   },
   {
    "duration": 581,
    "start_time": "2024-08-10T09:40:17.178Z"
   },
   {
    "duration": 1795,
    "start_time": "2024-08-10T09:40:17.760Z"
   },
   {
    "duration": 10,
    "start_time": "2024-08-10T09:40:19.557Z"
   },
   {
    "duration": 13,
    "start_time": "2024-08-10T09:40:19.569Z"
   },
   {
    "duration": 64,
    "start_time": "2024-08-10T09:40:19.583Z"
   },
   {
    "duration": 2,
    "start_time": "2024-08-10T09:40:19.649Z"
   },
   {
    "duration": 9,
    "start_time": "2024-08-10T09:40:19.655Z"
   },
   {
    "duration": 4,
    "start_time": "2024-08-10T09:40:19.667Z"
   },
   {
    "duration": 5,
    "start_time": "2024-08-10T09:40:19.673Z"
   },
   {
    "duration": 13015,
    "start_time": "2024-08-10T09:53:27.947Z"
   },
   {
    "duration": 4,
    "start_time": "2024-08-10T09:53:41.048Z"
   },
   {
    "duration": 5536,
    "start_time": "2024-08-10T09:53:41.054Z"
   },
   {
    "duration": 423,
    "start_time": "2024-08-10T09:53:46.592Z"
   },
   {
    "duration": 37,
    "start_time": "2024-08-10T09:53:47.018Z"
   },
   {
    "duration": 10,
    "start_time": "2024-08-10T09:53:47.057Z"
   },
   {
    "duration": 3,
    "start_time": "2024-08-10T09:53:47.069Z"
   },
   {
    "duration": 180,
    "start_time": "2024-08-10T09:53:47.075Z"
   },
   {
    "duration": 6,
    "start_time": "2024-08-10T09:53:47.258Z"
   },
   {
    "duration": 8,
    "start_time": "2024-08-10T09:53:47.265Z"
   },
   {
    "duration": 91,
    "start_time": "2024-08-10T09:53:47.274Z"
   },
   {
    "duration": 8,
    "start_time": "2024-08-10T09:53:47.367Z"
   },
   {
    "duration": 75,
    "start_time": "2024-08-10T09:53:47.376Z"
   },
   {
    "duration": 32,
    "start_time": "2024-08-10T09:53:47.454Z"
   },
   {
    "duration": 4,
    "start_time": "2024-08-10T09:53:47.488Z"
   },
   {
    "duration": 40,
    "start_time": "2024-08-10T09:53:47.493Z"
   },
   {
    "duration": 3,
    "start_time": "2024-08-10T09:53:47.535Z"
   },
   {
    "duration": 15,
    "start_time": "2024-08-10T09:53:47.540Z"
   },
   {
    "duration": 36,
    "start_time": "2024-08-10T09:53:47.557Z"
   },
   {
    "duration": 4,
    "start_time": "2024-08-10T09:53:47.595Z"
   },
   {
    "duration": 20,
    "start_time": "2024-08-10T09:53:47.601Z"
   },
   {
    "duration": 328,
    "start_time": "2024-08-10T09:53:47.623Z"
   },
   {
    "duration": 1066,
    "start_time": "2024-08-10T09:53:47.953Z"
   },
   {
    "duration": 12,
    "start_time": "2024-08-10T09:53:49.020Z"
   },
   {
    "duration": 15,
    "start_time": "2024-08-10T09:53:49.034Z"
   },
   {
    "duration": 4,
    "start_time": "2024-08-10T09:53:49.051Z"
   },
   {
    "duration": 4,
    "start_time": "2024-08-10T09:53:49.056Z"
   },
   {
    "duration": 4,
    "start_time": "2024-08-10T09:53:49.062Z"
   },
   {
    "duration": 4,
    "start_time": "2024-08-10T09:53:49.068Z"
   },
   {
    "duration": 4,
    "start_time": "2024-08-10T09:53:49.073Z"
   },
   {
    "duration": 1928688,
    "start_time": "2024-08-10T09:53:49.078Z"
   },
   {
    "duration": 9,
    "start_time": "2024-08-10T10:25:57.769Z"
   },
   {
    "duration": 68,
    "start_time": "2024-08-10T10:25:57.780Z"
   },
   {
    "duration": 3,
    "start_time": "2024-08-10T10:25:57.849Z"
   },
   {
    "duration": 94,
    "start_time": "2024-08-10T10:25:57.854Z"
   },
   {
    "duration": 1124,
    "start_time": "2024-08-10T10:25:57.950Z"
   },
   {
    "duration": 381,
    "start_time": "2024-08-10T10:25:59.077Z"
   },
   {
    "duration": 0,
    "start_time": "2024-08-10T10:25:59.461Z"
   },
   {
    "duration": 0,
    "start_time": "2024-08-10T10:25:59.462Z"
   },
   {
    "duration": 0,
    "start_time": "2024-08-10T10:25:59.463Z"
   },
   {
    "duration": 0,
    "start_time": "2024-08-10T10:25:59.464Z"
   },
   {
    "duration": 0,
    "start_time": "2024-08-10T10:25:59.465Z"
   },
   {
    "duration": 0,
    "start_time": "2024-08-10T10:25:59.467Z"
   },
   {
    "duration": 0,
    "start_time": "2024-08-10T10:25:59.468Z"
   },
   {
    "duration": 0,
    "start_time": "2024-08-10T10:25:59.470Z"
   },
   {
    "duration": 0,
    "start_time": "2024-08-10T10:25:59.472Z"
   },
   {
    "duration": 0,
    "start_time": "2024-08-10T10:25:59.473Z"
   },
   {
    "duration": 0,
    "start_time": "2024-08-10T10:25:59.475Z"
   },
   {
    "duration": 0,
    "start_time": "2024-08-10T10:25:59.477Z"
   },
   {
    "duration": 0,
    "start_time": "2024-08-10T10:25:59.478Z"
   },
   {
    "duration": 0,
    "start_time": "2024-08-10T10:25:59.480Z"
   },
   {
    "duration": 1,
    "start_time": "2024-08-10T10:25:59.547Z"
   },
   {
    "duration": 0,
    "start_time": "2024-08-10T10:25:59.549Z"
   },
   {
    "duration": 0,
    "start_time": "2024-08-10T10:25:59.551Z"
   },
   {
    "duration": 0,
    "start_time": "2024-08-10T10:25:59.552Z"
   },
   {
    "duration": 0,
    "start_time": "2024-08-10T10:25:59.554Z"
   },
   {
    "duration": 0,
    "start_time": "2024-08-10T10:25:59.555Z"
   },
   {
    "duration": 0,
    "start_time": "2024-08-10T10:25:59.555Z"
   },
   {
    "duration": 0,
    "start_time": "2024-08-10T10:25:59.556Z"
   },
   {
    "duration": 0,
    "start_time": "2024-08-10T10:25:59.557Z"
   },
   {
    "duration": 0,
    "start_time": "2024-08-10T10:25:59.559Z"
   },
   {
    "duration": 0,
    "start_time": "2024-08-10T10:25:59.560Z"
   },
   {
    "duration": 0,
    "start_time": "2024-08-10T10:25:59.561Z"
   },
   {
    "duration": 0,
    "start_time": "2024-08-10T10:25:59.562Z"
   },
   {
    "duration": 0,
    "start_time": "2024-08-10T10:25:59.563Z"
   },
   {
    "duration": 0,
    "start_time": "2024-08-10T10:25:59.564Z"
   },
   {
    "duration": 0,
    "start_time": "2024-08-10T10:25:59.566Z"
   },
   {
    "duration": 0,
    "start_time": "2024-08-10T10:25:59.567Z"
   },
   {
    "duration": 0,
    "start_time": "2024-08-10T10:25:59.568Z"
   },
   {
    "duration": 0,
    "start_time": "2024-08-10T10:25:59.570Z"
   },
   {
    "duration": 0,
    "start_time": "2024-08-10T10:25:59.571Z"
   },
   {
    "duration": 0,
    "start_time": "2024-08-10T10:25:59.572Z"
   },
   {
    "duration": 0,
    "start_time": "2024-08-10T10:25:59.647Z"
   },
   {
    "duration": 0,
    "start_time": "2024-08-10T10:25:59.648Z"
   },
   {
    "duration": 0,
    "start_time": "2024-08-10T10:25:59.649Z"
   },
   {
    "duration": 0,
    "start_time": "2024-08-10T10:25:59.650Z"
   },
   {
    "duration": 0,
    "start_time": "2024-08-10T10:25:59.651Z"
   },
   {
    "duration": 0,
    "start_time": "2024-08-10T10:25:59.652Z"
   },
   {
    "duration": 0,
    "start_time": "2024-08-10T10:25:59.653Z"
   },
   {
    "duration": 0,
    "start_time": "2024-08-10T10:25:59.654Z"
   },
   {
    "duration": 0,
    "start_time": "2024-08-10T10:25:59.656Z"
   },
   {
    "duration": 0,
    "start_time": "2024-08-10T10:25:59.657Z"
   },
   {
    "duration": 0,
    "start_time": "2024-08-10T10:25:59.658Z"
   },
   {
    "duration": 0,
    "start_time": "2024-08-10T10:25:59.659Z"
   },
   {
    "duration": 5,
    "start_time": "2024-08-10T10:26:43.622Z"
   },
   {
    "duration": 25,
    "start_time": "2024-08-10T10:26:50.084Z"
   },
   {
    "duration": 13145,
    "start_time": "2024-08-10T10:26:51.333Z"
   },
   {
    "duration": 67,
    "start_time": "2024-08-10T10:27:04.481Z"
   },
   {
    "duration": 4,
    "start_time": "2024-08-10T10:27:07.146Z"
   },
   {
    "duration": 7,
    "start_time": "2024-08-10T10:27:11.776Z"
   },
   {
    "duration": 18,
    "start_time": "2024-08-10T10:27:11.785Z"
   },
   {
    "duration": 1765,
    "start_time": "2024-08-10T10:27:11.804Z"
   },
   {
    "duration": 513,
    "start_time": "2024-08-10T10:27:13.571Z"
   },
   {
    "duration": 5,
    "start_time": "2024-08-10T10:27:14.085Z"
   },
   {
    "duration": 59,
    "start_time": "2024-08-10T10:27:14.091Z"
   },
   {
    "duration": 2,
    "start_time": "2024-08-10T10:27:14.152Z"
   },
   {
    "duration": 235,
    "start_time": "2024-08-10T10:27:14.156Z"
   },
   {
    "duration": 58,
    "start_time": "2024-08-10T10:27:14.393Z"
   },
   {
    "duration": 9,
    "start_time": "2024-08-10T10:27:14.454Z"
   },
   {
    "duration": 115,
    "start_time": "2024-08-10T10:27:14.464Z"
   },
   {
    "duration": 66,
    "start_time": "2024-08-10T10:27:14.581Z"
   },
   {
    "duration": 14,
    "start_time": "2024-08-10T10:27:14.649Z"
   },
   {
    "duration": 12,
    "start_time": "2024-08-10T10:27:14.666Z"
   },
   {
    "duration": 4,
    "start_time": "2024-08-10T10:27:14.680Z"
   },
   {
    "duration": 10,
    "start_time": "2024-08-10T10:27:14.748Z"
   },
   {
    "duration": 20,
    "start_time": "2024-08-10T10:27:14.760Z"
   },
   {
    "duration": 66,
    "start_time": "2024-08-10T10:27:14.782Z"
   },
   {
    "duration": 26,
    "start_time": "2024-08-10T10:27:14.850Z"
   },
   {
    "duration": 5,
    "start_time": "2024-08-10T10:27:14.877Z"
   },
   {
    "duration": 66,
    "start_time": "2024-08-10T10:27:14.883Z"
   },
   {
    "duration": 926,
    "start_time": "2024-08-10T10:27:14.951Z"
   },
   {
    "duration": 2016,
    "start_time": "2024-08-10T10:27:15.879Z"
   },
   {
    "duration": 10,
    "start_time": "2024-08-10T10:27:17.948Z"
   },
   {
    "duration": 17,
    "start_time": "2024-08-10T10:27:17.960Z"
   },
   {
    "duration": 6,
    "start_time": "2024-08-10T10:27:17.978Z"
   },
   {
    "duration": 2,
    "start_time": "2024-08-10T10:27:17.986Z"
   },
   {
    "duration": 4,
    "start_time": "2024-08-10T10:27:18.052Z"
   },
   {
    "duration": 9,
    "start_time": "2024-08-10T10:27:18.058Z"
   },
   {
    "duration": 18,
    "start_time": "2024-08-10T10:27:18.069Z"
   },
   {
    "duration": 3806831,
    "start_time": "2024-08-10T10:27:18.090Z"
   },
   {
    "duration": 8,
    "start_time": "2024-08-10T11:30:44.923Z"
   },
   {
    "duration": 57,
    "start_time": "2024-08-10T11:30:44.947Z"
   },
   {
    "duration": 60,
    "start_time": "2024-08-10T11:30:45.005Z"
   },
   {
    "duration": 81,
    "start_time": "2024-08-10T11:30:45.068Z"
   },
   {
    "duration": 583,
    "start_time": "2024-08-10T11:30:45.151Z"
   },
   {
    "duration": 11,
    "start_time": "2024-08-10T11:30:45.736Z"
   },
   {
    "duration": 35,
    "start_time": "2024-08-10T11:30:45.748Z"
   },
   {
    "duration": 6239,
    "start_time": "2024-08-10T11:30:45.785Z"
   },
   {
    "duration": 5,
    "start_time": "2024-08-10T11:30:52.026Z"
   },
   {
    "duration": 16,
    "start_time": "2024-08-10T11:30:52.032Z"
   },
   {
    "duration": 14,
    "start_time": "2024-08-10T11:30:52.049Z"
   },
   {
    "duration": 75,
    "start_time": "2024-08-10T11:30:52.065Z"
   },
   {
    "duration": 13,
    "start_time": "2024-08-10T11:30:52.142Z"
   },
   {
    "duration": 15,
    "start_time": "2024-08-10T11:30:52.157Z"
   },
   {
    "duration": 3,
    "start_time": "2024-08-10T11:30:52.175Z"
   },
   {
    "duration": 4,
    "start_time": "2024-08-10T11:30:52.180Z"
   },
   {
    "duration": 6696,
    "start_time": "2024-08-10T11:30:52.186Z"
   },
   {
    "duration": 4,
    "start_time": "2024-08-10T11:30:58.884Z"
   },
   {
    "duration": 20,
    "start_time": "2024-08-10T11:30:58.890Z"
   },
   {
    "duration": 7,
    "start_time": "2024-08-10T11:30:58.911Z"
   },
   {
    "duration": 8,
    "start_time": "2024-08-10T11:30:58.920Z"
   },
   {
    "duration": 126033,
    "start_time": "2024-08-10T11:30:58.930Z"
   },
   {
    "duration": 11,
    "start_time": "2024-08-10T11:33:04.964Z"
   },
   {
    "duration": 70,
    "start_time": "2024-08-10T11:33:04.977Z"
   },
   {
    "duration": 3,
    "start_time": "2024-08-10T11:33:05.051Z"
   },
   {
    "duration": 8,
    "start_time": "2024-08-10T11:33:05.056Z"
   },
   {
    "duration": 3,
    "start_time": "2024-08-10T11:33:05.066Z"
   },
   {
    "duration": 6,
    "start_time": "2024-08-10T11:33:05.071Z"
   },
   {
    "duration": 75073,
    "start_time": "2024-08-10T11:33:05.079Z"
   },
   {
    "duration": 10,
    "start_time": "2024-08-10T11:34:20.153Z"
   },
   {
    "duration": 10,
    "start_time": "2024-08-10T11:34:20.165Z"
   },
   {
    "duration": 16,
    "start_time": "2024-08-10T11:34:20.177Z"
   },
   {
    "duration": 14,
    "start_time": "2024-08-10T11:34:20.195Z"
   },
   {
    "duration": 8,
    "start_time": "2024-08-10T11:34:20.211Z"
   },
   {
    "duration": 4,
    "start_time": "2024-08-10T11:34:20.221Z"
   },
   {
    "duration": 67271,
    "start_time": "2024-08-10T11:34:20.227Z"
   },
   {
    "duration": 5,
    "start_time": "2024-08-10T11:35:27.499Z"
   },
   {
    "duration": 36,
    "start_time": "2024-08-10T11:35:27.506Z"
   },
   {
    "duration": 11,
    "start_time": "2024-08-10T11:35:27.544Z"
   },
   {
    "duration": 5,
    "start_time": "2024-08-10T11:35:27.556Z"
   },
   {
    "duration": 5,
    "start_time": "2024-08-10T11:35:27.563Z"
   },
   {
    "duration": 3,
    "start_time": "2024-08-10T11:35:27.569Z"
   },
   {
    "duration": 18,
    "start_time": "2024-08-10T11:35:27.573Z"
   },
   {
    "duration": 4,
    "start_time": "2024-08-10T11:35:27.593Z"
   },
   {
    "duration": 11,
    "start_time": "2024-08-10T11:35:27.599Z"
   },
   {
    "duration": 6877,
    "start_time": "2024-08-10T11:35:27.611Z"
   },
   {
    "duration": 6,
    "start_time": "2024-08-10T11:35:34.490Z"
   },
   {
    "duration": 25956,
    "start_time": "2024-08-10T11:35:34.497Z"
   },
   {
    "duration": 6,
    "start_time": "2024-08-10T11:36:00.455Z"
   },
   {
    "duration": 142,
    "start_time": "2024-08-10T11:36:00.548Z"
   },
   {
    "duration": 115,
    "start_time": "2024-08-10T11:36:00.697Z"
   },
   {
    "duration": 79,
    "start_time": "2024-08-10T11:36:00.814Z"
   },
   {
    "duration": 80,
    "start_time": "2024-08-10T11:36:00.896Z"
   }
  ],
  "kernelspec": {
   "display_name": "Python 3 (ipykernel)",
   "language": "python",
   "name": "python3"
  },
  "language_info": {
   "codemirror_mode": {
    "name": "ipython",
    "version": 3
   },
   "file_extension": ".py",
   "mimetype": "text/x-python",
   "name": "python",
   "nbconvert_exporter": "python",
   "pygments_lexer": "ipython3",
   "version": "3.11.5"
  },
  "toc": {
   "base_numbering": 1,
   "nav_menu": {},
   "number_sections": true,
   "sideBar": true,
   "skip_h1_title": true,
   "title_cell": "Содержание",
   "title_sidebar": "Contents",
   "toc_cell": true,
   "toc_position": {
    "height": "calc(100% - 180px)",
    "left": "10px",
    "top": "150px",
    "width": "302.375px"
   },
   "toc_section_display": true,
   "toc_window_display": true
  }
 },
 "nbformat": 4,
 "nbformat_minor": 2
}
